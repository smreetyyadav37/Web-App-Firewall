{
 "cells": [
  {
   "cell_type": "code",
   "execution_count": 1,
   "id": "be808516-d71f-47f0-921e-fabd816d3114",
   "metadata": {},
   "outputs": [
    {
     "name": "stdout",
     "output_type": "stream",
     "text": [
      "Collecting pycaret\n",
      "  Downloading pycaret-3.3.2-py3-none-any.whl.metadata (17 kB)\n",
      "Requirement already satisfied: ipython>=5.5.0 in c:\\users\\hp\\appdata\\roaming\\python\\python311\\site-packages (from pycaret) (8.29.0)\n",
      "Collecting ipywidgets>=7.6.5 (from pycaret)\n",
      "  Downloading ipywidgets-8.1.5-py3-none-any.whl.metadata (2.3 kB)\n",
      "Requirement already satisfied: tqdm>=4.62.0 in c:\\users\\hp\\appdata\\local\\programs\\python\\python311\\lib\\site-packages (from pycaret) (4.66.4)\n",
      "Requirement already satisfied: numpy<1.27,>=1.21 in c:\\users\\hp\\appdata\\local\\programs\\python\\python311\\lib\\site-packages (from pycaret) (1.26.0)\n",
      "Collecting pandas<2.2.0 (from pycaret)\n",
      "  Downloading pandas-2.1.4-cp311-cp311-win_amd64.whl.metadata (18 kB)\n",
      "Requirement already satisfied: jinja2>=3 in c:\\users\\hp\\appdata\\local\\programs\\python\\python311\\lib\\site-packages (from pycaret) (3.1.4)\n",
      "Collecting scipy<=1.11.4,>=1.6.1 (from pycaret)\n",
      "  Downloading scipy-1.11.4-cp311-cp311-win_amd64.whl.metadata (60 kB)\n",
      "     ---------------------------------------- 0.0/60.4 kB ? eta -:--:--\n",
      "     ---------------------------------------- 60.4/60.4 kB 1.1 MB/s eta 0:00:00\n",
      "Collecting joblib<1.4,>=1.2.0 (from pycaret)\n",
      "  Downloading joblib-1.3.2-py3-none-any.whl.metadata (5.4 kB)\n",
      "Requirement already satisfied: scikit-learn>1.4.0 in c:\\users\\hp\\appdata\\local\\programs\\python\\python311\\lib\\site-packages (from pycaret) (1.5.1)\n",
      "Collecting pyod>=1.1.3 (from pycaret)\n",
      "  Downloading pyod-2.0.2.tar.gz (165 kB)\n",
      "     ---------------------------------------- 0.0/165.8 kB ? eta -:--:--\n",
      "     -------------------------------------  163.8/165.8 kB 5.0 MB/s eta 0:00:01\n",
      "     -------------------------------------- 165.8/165.8 kB 3.3 MB/s eta 0:00:00\n",
      "  Preparing metadata (setup.py): started\n",
      "  Preparing metadata (setup.py): finished with status 'done'\n",
      "Collecting imbalanced-learn>=0.12.0 (from pycaret)\n",
      "  Downloading imbalanced_learn-0.12.4-py3-none-any.whl.metadata (8.3 kB)\n",
      "Collecting category-encoders>=2.4.0 (from pycaret)\n",
      "  Downloading category_encoders-2.6.4-py2.py3-none-any.whl.metadata (8.0 kB)\n",
      "Collecting lightgbm>=3.0.0 (from pycaret)\n",
      "  Downloading lightgbm-4.5.0-py3-none-win_amd64.whl.metadata (17 kB)\n",
      "Collecting numba>=0.55.0 (from pycaret)\n",
      "  Downloading numba-0.60.0-cp311-cp311-win_amd64.whl.metadata (2.8 kB)\n",
      "Requirement already satisfied: requests>=2.27.1 in c:\\users\\hp\\appdata\\local\\programs\\python\\python311\\lib\\site-packages (from pycaret) (2.32.3)\n",
      "Requirement already satisfied: psutil>=5.9.0 in c:\\users\\hp\\appdata\\roaming\\python\\python311\\site-packages (from pycaret) (6.1.0)\n",
      "Requirement already satisfied: markupsafe>=2.0.1 in c:\\users\\hp\\appdata\\local\\programs\\python\\python311\\lib\\site-packages (from pycaret) (2.1.5)\n",
      "Collecting importlib-metadata>=4.12.0 (from pycaret)\n",
      "  Downloading importlib_metadata-8.5.0-py3-none-any.whl.metadata (4.8 kB)\n",
      "Collecting nbformat>=4.2.0 (from pycaret)\n",
      "  Downloading nbformat-5.10.4-py3-none-any.whl.metadata (3.6 kB)\n",
      "Collecting cloudpickle (from pycaret)\n",
      "  Downloading cloudpickle-3.1.0-py3-none-any.whl.metadata (7.0 kB)\n",
      "Collecting deprecation>=2.1.0 (from pycaret)\n",
      "  Downloading deprecation-2.1.0-py2.py3-none-any.whl.metadata (4.6 kB)\n",
      "Collecting xxhash (from pycaret)\n",
      "  Downloading xxhash-3.5.0-cp311-cp311-win_amd64.whl.metadata (13 kB)\n",
      "Collecting matplotlib<3.8.0 (from pycaret)\n",
      "  Downloading matplotlib-3.7.5-cp311-cp311-win_amd64.whl.metadata (5.8 kB)\n",
      "Collecting scikit-plot>=0.3.7 (from pycaret)\n",
      "  Downloading scikit_plot-0.3.7-py3-none-any.whl.metadata (7.1 kB)\n",
      "Collecting yellowbrick>=1.4 (from pycaret)\n",
      "  Downloading yellowbrick-1.5-py3-none-any.whl.metadata (7.7 kB)\n",
      "Collecting plotly>=5.14.0 (from pycaret)\n",
      "  Downloading plotly-5.24.1-py3-none-any.whl.metadata (7.3 kB)\n",
      "Collecting kaleido>=0.2.1 (from pycaret)\n",
      "  Downloading kaleido-0.2.1-py2.py3-none-win_amd64.whl.metadata (15 kB)\n",
      "Collecting schemdraw==0.15 (from pycaret)\n",
      "  Downloading schemdraw-0.15-py3-none-any.whl.metadata (2.2 kB)\n",
      "Collecting plotly-resampler>=0.8.3.1 (from pycaret)\n",
      "  Downloading plotly_resampler-0.10.0-py3-none-any.whl.metadata (13 kB)\n",
      "Collecting statsmodels>=0.12.1 (from pycaret)\n",
      "  Downloading statsmodels-0.14.4-cp311-cp311-win_amd64.whl.metadata (9.5 kB)\n",
      "Collecting sktime==0.26.0 (from pycaret)\n",
      "  Downloading sktime-0.26.0-py3-none-any.whl.metadata (29 kB)\n",
      "Collecting tbats>=1.1.3 (from pycaret)\n",
      "  Downloading tbats-1.1.3-py3-none-any.whl.metadata (3.8 kB)\n",
      "Collecting pmdarima>=2.0.4 (from pycaret)\n",
      "  Downloading pmdarima-2.0.4-cp311-cp311-win_amd64.whl.metadata (8.0 kB)\n",
      "Requirement already satisfied: packaging in c:\\users\\hp\\appdata\\local\\programs\\python\\python311\\lib\\site-packages (from sktime==0.26.0->pycaret) (23.1)\n",
      "Collecting scikit-base<0.8.0 (from sktime==0.26.0->pycaret)\n",
      "  Downloading scikit_base-0.7.8-py3-none-any.whl.metadata (8.8 kB)\n",
      "Collecting scikit-learn>1.4.0 (from pycaret)\n",
      "  Downloading scikit_learn-1.4.2-cp311-cp311-win_amd64.whl.metadata (11 kB)\n",
      "Collecting patsy>=0.5.1 (from category-encoders>=2.4.0->pycaret)\n",
      "  Downloading patsy-1.0.1-py2.py3-none-any.whl.metadata (3.3 kB)\n",
      "Requirement already satisfied: threadpoolctl>=2.0.0 in c:\\users\\hp\\appdata\\local\\programs\\python\\python311\\lib\\site-packages (from imbalanced-learn>=0.12.0->pycaret) (3.5.0)\n",
      "Collecting zipp>=3.20 (from importlib-metadata>=4.12.0->pycaret)\n",
      "  Downloading zipp-3.21.0-py3-none-any.whl.metadata (3.7 kB)\n",
      "Requirement already satisfied: decorator in c:\\users\\hp\\appdata\\roaming\\python\\python311\\site-packages (from ipython>=5.5.0->pycaret) (5.1.1)\n",
      "Requirement already satisfied: jedi>=0.16 in c:\\users\\hp\\appdata\\roaming\\python\\python311\\site-packages (from ipython>=5.5.0->pycaret) (0.19.2)\n",
      "Requirement already satisfied: matplotlib-inline in c:\\users\\hp\\appdata\\roaming\\python\\python311\\site-packages (from ipython>=5.5.0->pycaret) (0.1.7)\n",
      "Requirement already satisfied: prompt-toolkit<3.1.0,>=3.0.41 in c:\\users\\hp\\appdata\\roaming\\python\\python311\\site-packages (from ipython>=5.5.0->pycaret) (3.0.48)\n",
      "Requirement already satisfied: pygments>=2.4.0 in c:\\users\\hp\\appdata\\local\\programs\\python\\python311\\lib\\site-packages (from ipython>=5.5.0->pycaret) (2.18.0)\n",
      "Requirement already satisfied: stack-data in c:\\users\\hp\\appdata\\roaming\\python\\python311\\site-packages (from ipython>=5.5.0->pycaret) (0.6.3)\n",
      "Requirement already satisfied: traitlets>=5.13.0 in c:\\users\\hp\\appdata\\roaming\\python\\python311\\site-packages (from ipython>=5.5.0->pycaret) (5.14.3)\n",
      "Requirement already satisfied: typing-extensions>=4.6 in c:\\users\\hp\\appdata\\local\\programs\\python\\python311\\lib\\site-packages (from ipython>=5.5.0->pycaret) (4.12.2)\n",
      "Requirement already satisfied: colorama in c:\\users\\hp\\appdata\\local\\programs\\python\\python311\\lib\\site-packages (from ipython>=5.5.0->pycaret) (0.4.6)\n",
      "Requirement already satisfied: comm>=0.1.3 in c:\\users\\hp\\appdata\\roaming\\python\\python311\\site-packages (from ipywidgets>=7.6.5->pycaret) (0.2.2)\n",
      "Collecting widgetsnbextension~=4.0.12 (from ipywidgets>=7.6.5->pycaret)\n",
      "  Downloading widgetsnbextension-4.0.13-py3-none-any.whl.metadata (1.6 kB)\n",
      "Collecting jupyterlab-widgets~=3.0.12 (from ipywidgets>=7.6.5->pycaret)\n",
      "  Downloading jupyterlab_widgets-3.0.13-py3-none-any.whl.metadata (4.1 kB)\n",
      "Collecting contourpy>=1.0.1 (from matplotlib<3.8.0->pycaret)\n",
      "  Downloading contourpy-1.3.1-cp311-cp311-win_amd64.whl.metadata (5.4 kB)\n",
      "Collecting cycler>=0.10 (from matplotlib<3.8.0->pycaret)\n",
      "  Downloading cycler-0.12.1-py3-none-any.whl.metadata (3.8 kB)\n",
      "Collecting fonttools>=4.22.0 (from matplotlib<3.8.0->pycaret)\n",
      "  Downloading fonttools-4.55.0-cp311-cp311-win_amd64.whl.metadata (167 kB)\n",
      "     ---------------------------------------- 0.0/167.9 kB ? eta -:--:--\n",
      "     -- ------------------------------------- 10.2/167.9 kB ? eta -:--:--\n",
      "     -------------------------------------- 167.9/167.9 kB 2.0 MB/s eta 0:00:00\n",
      "Collecting kiwisolver>=1.0.1 (from matplotlib<3.8.0->pycaret)\n",
      "  Downloading kiwisolver-1.4.7-cp311-cp311-win_amd64.whl.metadata (6.4 kB)\n",
      "Collecting pillow>=6.2.0 (from matplotlib<3.8.0->pycaret)\n",
      "  Downloading pillow-11.0.0-cp311-cp311-win_amd64.whl.metadata (9.3 kB)\n",
      "Collecting pyparsing>=2.3.1 (from matplotlib<3.8.0->pycaret)\n",
      "  Downloading pyparsing-3.2.0-py3-none-any.whl.metadata (5.0 kB)\n",
      "Requirement already satisfied: python-dateutil>=2.7 in c:\\users\\hp\\appdata\\local\\programs\\python\\python311\\lib\\site-packages (from matplotlib<3.8.0->pycaret) (2.9.0.post0)\n",
      "Collecting fastjsonschema>=2.15 (from nbformat>=4.2.0->pycaret)\n",
      "  Downloading fastjsonschema-2.20.0-py3-none-any.whl.metadata (2.1 kB)\n",
      "Collecting jsonschema>=2.6 (from nbformat>=4.2.0->pycaret)\n",
      "  Downloading jsonschema-4.23.0-py3-none-any.whl.metadata (7.9 kB)\n",
      "Requirement already satisfied: jupyter-core!=5.0.*,>=4.12 in c:\\users\\hp\\appdata\\roaming\\python\\python311\\site-packages (from nbformat>=4.2.0->pycaret) (5.7.2)\n",
      "Collecting llvmlite<0.44,>=0.43.0dev0 (from numba>=0.55.0->pycaret)\n",
      "  Downloading llvmlite-0.43.0-cp311-cp311-win_amd64.whl.metadata (4.9 kB)\n",
      "Requirement already satisfied: pytz>=2020.1 in c:\\users\\hp\\appdata\\local\\programs\\python\\python311\\lib\\site-packages (from pandas<2.2.0->pycaret) (2024.1)\n",
      "Requirement already satisfied: tzdata>=2022.1 in c:\\users\\hp\\appdata\\local\\programs\\python\\python311\\lib\\site-packages (from pandas<2.2.0->pycaret) (2024.1)\n",
      "Collecting tenacity>=6.2.0 (from plotly>=5.14.0->pycaret)\n",
      "  Downloading tenacity-9.0.0-py3-none-any.whl.metadata (1.2 kB)\n",
      "Collecting dash>=2.9.0 (from plotly-resampler>=0.8.3.1->pycaret)\n",
      "  Downloading dash-2.18.2-py3-none-any.whl.metadata (10 kB)\n",
      "Collecting orjson<4.0.0,>=3.8.0 (from plotly-resampler>=0.8.3.1->pycaret)\n",
      "  Downloading orjson-3.10.11-cp311-none-win_amd64.whl.metadata (52 kB)\n",
      "     ---------------------------------------- 0.0/52.0 kB ? eta -:--:--\n",
      "     ---------------------------------------- 52.0/52.0 kB 2.6 MB/s eta 0:00:00\n",
      "Collecting tsdownsample>=0.1.3 (from plotly-resampler>=0.8.3.1->pycaret)\n",
      "  Downloading tsdownsample-0.1.3-cp311-none-win_amd64.whl.metadata (8.0 kB)\n",
      "Collecting Cython!=0.29.18,!=0.29.31,>=0.29 (from pmdarima>=2.0.4->pycaret)\n",
      "  Downloading Cython-3.0.11-cp311-cp311-win_amd64.whl.metadata (3.2 kB)\n",
      "Requirement already satisfied: urllib3 in c:\\users\\hp\\appdata\\local\\programs\\python\\python311\\lib\\site-packages (from pmdarima>=2.0.4->pycaret) (2.2.2)\n",
      "Requirement already satisfied: setuptools!=50.0.0,>=38.6.0 in c:\\users\\hp\\appdata\\local\\programs\\python\\python311\\lib\\site-packages (from pmdarima>=2.0.4->pycaret) (65.5.0)\n",
      "Requirement already satisfied: charset-normalizer<4,>=2 in c:\\users\\hp\\appdata\\local\\programs\\python\\python311\\lib\\site-packages (from requests>=2.27.1->pycaret) (3.3.2)\n",
      "Requirement already satisfied: idna<4,>=2.5 in c:\\users\\hp\\appdata\\local\\programs\\python\\python311\\lib\\site-packages (from requests>=2.27.1->pycaret) (3.7)\n",
      "Requirement already satisfied: certifi>=2017.4.17 in c:\\users\\hp\\appdata\\local\\programs\\python\\python311\\lib\\site-packages (from requests>=2.27.1->pycaret) (2024.7.4)\n",
      "Requirement already satisfied: Flask<3.1,>=1.0.4 in c:\\users\\hp\\appdata\\local\\programs\\python\\python311\\lib\\site-packages (from dash>=2.9.0->plotly-resampler>=0.8.3.1->pycaret) (3.0.3)\n",
      "Requirement already satisfied: Werkzeug<3.1 in c:\\users\\hp\\appdata\\local\\programs\\python\\python311\\lib\\site-packages (from dash>=2.9.0->plotly-resampler>=0.8.3.1->pycaret) (3.0.3)\n",
      "Collecting dash-html-components==2.0.0 (from dash>=2.9.0->plotly-resampler>=0.8.3.1->pycaret)\n",
      "  Downloading dash_html_components-2.0.0-py3-none-any.whl.metadata (3.8 kB)\n",
      "Collecting dash-core-components==2.0.0 (from dash>=2.9.0->plotly-resampler>=0.8.3.1->pycaret)\n",
      "  Downloading dash_core_components-2.0.0-py3-none-any.whl.metadata (2.9 kB)\n",
      "Collecting dash-table==5.0.0 (from dash>=2.9.0->plotly-resampler>=0.8.3.1->pycaret)\n",
      "  Downloading dash_table-5.0.0-py3-none-any.whl.metadata (2.4 kB)\n",
      "Collecting retrying (from dash>=2.9.0->plotly-resampler>=0.8.3.1->pycaret)\n",
      "  Downloading retrying-1.3.4-py3-none-any.whl.metadata (6.9 kB)\n",
      "Requirement already satisfied: nest-asyncio in c:\\users\\hp\\appdata\\roaming\\python\\python311\\site-packages (from dash>=2.9.0->plotly-resampler>=0.8.3.1->pycaret) (1.6.0)\n",
      "Requirement already satisfied: parso<0.9.0,>=0.8.4 in c:\\users\\hp\\appdata\\roaming\\python\\python311\\site-packages (from jedi>=0.16->ipython>=5.5.0->pycaret) (0.8.4)\n",
      "Collecting attrs>=22.2.0 (from jsonschema>=2.6->nbformat>=4.2.0->pycaret)\n",
      "  Downloading attrs-24.2.0-py3-none-any.whl.metadata (11 kB)\n",
      "Collecting jsonschema-specifications>=2023.03.6 (from jsonschema>=2.6->nbformat>=4.2.0->pycaret)\n",
      "  Downloading jsonschema_specifications-2024.10.1-py3-none-any.whl.metadata (3.0 kB)\n",
      "Collecting referencing>=0.28.4 (from jsonschema>=2.6->nbformat>=4.2.0->pycaret)\n",
      "  Downloading referencing-0.35.1-py3-none-any.whl.metadata (2.8 kB)\n",
      "Collecting rpds-py>=0.7.1 (from jsonschema>=2.6->nbformat>=4.2.0->pycaret)\n",
      "  Downloading rpds_py-0.21.0-cp311-none-win_amd64.whl.metadata (4.2 kB)\n",
      "Requirement already satisfied: platformdirs>=2.5 in c:\\users\\hp\\appdata\\roaming\\python\\python311\\site-packages (from jupyter-core!=5.0.*,>=4.12->nbformat>=4.2.0->pycaret) (4.3.6)\n",
      "Requirement already satisfied: pywin32>=300 in c:\\users\\hp\\appdata\\roaming\\python\\python311\\site-packages (from jupyter-core!=5.0.*,>=4.12->nbformat>=4.2.0->pycaret) (308)\n",
      "Requirement already satisfied: wcwidth in c:\\users\\hp\\appdata\\roaming\\python\\python311\\site-packages (from prompt-toolkit<3.1.0,>=3.0.41->ipython>=5.5.0->pycaret) (0.2.13)\n",
      "Requirement already satisfied: six>=1.5 in c:\\users\\hp\\appdata\\local\\programs\\python\\python311\\lib\\site-packages (from python-dateutil>=2.7->matplotlib<3.8.0->pycaret) (1.16.0)\n",
      "Requirement already satisfied: executing>=1.2.0 in c:\\users\\hp\\appdata\\roaming\\python\\python311\\site-packages (from stack-data->ipython>=5.5.0->pycaret) (2.1.0)\n",
      "Requirement already satisfied: asttokens>=2.1.0 in c:\\users\\hp\\appdata\\roaming\\python\\python311\\site-packages (from stack-data->ipython>=5.5.0->pycaret) (2.4.1)\n",
      "Requirement already satisfied: pure-eval in c:\\users\\hp\\appdata\\roaming\\python\\python311\\site-packages (from stack-data->ipython>=5.5.0->pycaret) (0.2.3)\n",
      "Requirement already satisfied: itsdangerous>=2.1.2 in c:\\users\\hp\\appdata\\local\\programs\\python\\python311\\lib\\site-packages (from Flask<3.1,>=1.0.4->dash>=2.9.0->plotly-resampler>=0.8.3.1->pycaret) (2.2.0)\n",
      "Requirement already satisfied: click>=8.1.3 in c:\\users\\hp\\appdata\\local\\programs\\python\\python311\\lib\\site-packages (from Flask<3.1,>=1.0.4->dash>=2.9.0->plotly-resampler>=0.8.3.1->pycaret) (8.1.7)\n",
      "Requirement already satisfied: blinker>=1.6.2 in c:\\users\\hp\\appdata\\local\\programs\\python\\python311\\lib\\site-packages (from Flask<3.1,>=1.0.4->dash>=2.9.0->plotly-resampler>=0.8.3.1->pycaret) (1.8.2)\n",
      "Downloading pycaret-3.3.2-py3-none-any.whl (486 kB)\n",
      "   ---------------------------------------- 0.0/486.1 kB ? eta -:--:--\n",
      "   ------------------------ --------------- 297.0/486.1 kB 9.0 MB/s eta 0:00:01\n",
      "   ------------------------------- -------- 378.9/486.1 kB 4.7 MB/s eta 0:00:01\n",
      "   ---------------------------------------  481.3/486.1 kB 4.3 MB/s eta 0:00:01\n",
      "   ---------------------------------------- 486.1/486.1 kB 3.4 MB/s eta 0:00:00\n",
      "Downloading schemdraw-0.15-py3-none-any.whl (106 kB)\n",
      "   ---------------------------------------- 0.0/106.8 kB ? eta -:--:--\n",
      "   ---------------------------------------- 106.8/106.8 kB 3.1 MB/s eta 0:00:00\n",
      "Downloading sktime-0.26.0-py3-none-any.whl (21.8 MB)\n",
      "   ---------------------------------------- 0.0/21.8 MB ? eta -:--:--\n",
      "   ---------------------------------------- 0.2/21.8 MB 4.2 MB/s eta 0:00:06\n",
      "    --------------------------------------- 0.3/21.8 MB 3.3 MB/s eta 0:00:07\n",
      "    --------------------------------------- 0.3/21.8 MB 2.7 MB/s eta 0:00:08\n",
      "    --------------------------------------- 0.5/21.8 MB 3.1 MB/s eta 0:00:07\n",
      "   - -------------------------------------- 0.7/21.8 MB 2.8 MB/s eta 0:00:08\n",
      "   - -------------------------------------- 0.7/21.8 MB 2.7 MB/s eta 0:00:08\n",
      "   - -------------------------------------- 0.8/21.8 MB 2.6 MB/s eta 0:00:09\n",
      "   - -------------------------------------- 1.0/21.8 MB 2.6 MB/s eta 0:00:09\n",
      "   -- ------------------------------------- 1.1/21.8 MB 2.6 MB/s eta 0:00:09\n",
      "   -- ------------------------------------- 1.2/21.8 MB 2.5 MB/s eta 0:00:09\n",
      "   -- ------------------------------------- 1.3/21.8 MB 2.5 MB/s eta 0:00:09\n",
      "   -- ------------------------------------- 1.4/21.8 MB 2.5 MB/s eta 0:00:09\n",
      "   -- ------------------------------------- 1.5/21.8 MB 2.5 MB/s eta 0:00:09\n",
      "   -- ------------------------------------- 1.6/21.8 MB 2.5 MB/s eta 0:00:09\n",
      "   --- ------------------------------------ 1.7/21.8 MB 2.4 MB/s eta 0:00:09\n",
      "   --- ------------------------------------ 1.8/21.8 MB 2.4 MB/s eta 0:00:09\n",
      "   --- ------------------------------------ 1.9/21.8 MB 2.4 MB/s eta 0:00:09\n",
      "   --- ------------------------------------ 2.0/21.8 MB 2.4 MB/s eta 0:00:09\n",
      "   --- ------------------------------------ 2.1/21.8 MB 2.4 MB/s eta 0:00:09\n",
      "   ---- ----------------------------------- 2.2/21.8 MB 2.3 MB/s eta 0:00:09\n",
      "   ---- ----------------------------------- 2.3/21.8 MB 2.4 MB/s eta 0:00:09\n",
      "   ---- ----------------------------------- 2.4/21.8 MB 2.3 MB/s eta 0:00:09\n",
      "   ---- ----------------------------------- 2.5/21.8 MB 2.3 MB/s eta 0:00:09\n",
      "   ---- ----------------------------------- 2.6/21.8 MB 2.3 MB/s eta 0:00:09\n",
      "   ---- ----------------------------------- 2.7/21.8 MB 2.3 MB/s eta 0:00:09\n",
      "   ----- ---------------------------------- 2.9/21.8 MB 2.3 MB/s eta 0:00:09\n",
      "   ----- ---------------------------------- 3.0/21.8 MB 2.3 MB/s eta 0:00:09\n",
      "   ----- ---------------------------------- 3.1/21.8 MB 2.3 MB/s eta 0:00:09\n",
      "   ----- ---------------------------------- 3.2/21.8 MB 2.3 MB/s eta 0:00:09\n",
      "   ----- ---------------------------------- 3.2/21.8 MB 2.3 MB/s eta 0:00:09\n",
      "   ------ --------------------------------- 3.3/21.8 MB 2.2 MB/s eta 0:00:09\n",
      "   ------ --------------------------------- 3.4/21.8 MB 2.2 MB/s eta 0:00:09\n",
      "   ------ --------------------------------- 3.5/21.8 MB 2.2 MB/s eta 0:00:09\n",
      "   ------ --------------------------------- 3.6/21.8 MB 2.2 MB/s eta 0:00:09\n",
      "   ------ --------------------------------- 3.7/21.8 MB 2.2 MB/s eta 0:00:09\n",
      "   ------ --------------------------------- 3.8/21.8 MB 2.2 MB/s eta 0:00:09\n",
      "   ------- -------------------------------- 4.0/21.8 MB 2.2 MB/s eta 0:00:09\n",
      "   ------- -------------------------------- 4.1/21.8 MB 2.3 MB/s eta 0:00:08\n",
      "   ------- -------------------------------- 4.2/21.8 MB 2.3 MB/s eta 0:00:08\n",
      "   ------- -------------------------------- 4.3/21.8 MB 2.3 MB/s eta 0:00:08\n",
      "   -------- ------------------------------- 4.4/21.8 MB 2.3 MB/s eta 0:00:08\n",
      "   -------- ------------------------------- 4.5/21.8 MB 2.3 MB/s eta 0:00:08\n",
      "   -------- ------------------------------- 4.6/21.8 MB 2.3 MB/s eta 0:00:08\n",
      "   -------- ------------------------------- 4.7/21.8 MB 2.3 MB/s eta 0:00:08\n",
      "   -------- ------------------------------- 4.8/21.8 MB 2.2 MB/s eta 0:00:08\n",
      "   --------- ------------------------------ 4.9/21.8 MB 2.2 MB/s eta 0:00:08\n",
      "   --------- ------------------------------ 5.0/21.8 MB 2.2 MB/s eta 0:00:08\n",
      "   --------- ------------------------------ 5.1/21.8 MB 2.2 MB/s eta 0:00:08\n",
      "   --------- ------------------------------ 5.2/21.8 MB 2.2 MB/s eta 0:00:08\n",
      "   --------- ------------------------------ 5.3/21.8 MB 2.2 MB/s eta 0:00:08\n",
      "   --------- ------------------------------ 5.4/21.8 MB 2.2 MB/s eta 0:00:08\n",
      "   ---------- ----------------------------- 5.5/21.8 MB 2.2 MB/s eta 0:00:08\n",
      "   ---------- ----------------------------- 5.5/21.8 MB 2.2 MB/s eta 0:00:08\n",
      "   ---------- ----------------------------- 5.6/21.8 MB 2.2 MB/s eta 0:00:08\n",
      "   ---------- ----------------------------- 5.7/21.8 MB 2.2 MB/s eta 0:00:08\n",
      "   ---------- ----------------------------- 5.8/21.8 MB 2.2 MB/s eta 0:00:08\n",
      "   ---------- ----------------------------- 6.0/21.8 MB 2.2 MB/s eta 0:00:08\n",
      "   ----------- ---------------------------- 6.1/21.8 MB 2.2 MB/s eta 0:00:08\n",
      "   ----------- ---------------------------- 6.2/21.8 MB 2.2 MB/s eta 0:00:08\n",
      "   ----------- ---------------------------- 6.3/21.8 MB 2.2 MB/s eta 0:00:07\n",
      "   ----------- ---------------------------- 6.4/21.8 MB 2.2 MB/s eta 0:00:07\n",
      "   ----------- ---------------------------- 6.5/21.8 MB 2.2 MB/s eta 0:00:07\n",
      "   ------------ --------------------------- 6.6/21.8 MB 2.2 MB/s eta 0:00:07\n",
      "   ------------ --------------------------- 6.7/21.8 MB 2.2 MB/s eta 0:00:07\n",
      "   ------------ --------------------------- 6.8/21.8 MB 2.2 MB/s eta 0:00:07\n",
      "   ------------ --------------------------- 6.9/21.8 MB 2.2 MB/s eta 0:00:07\n",
      "   ------------ --------------------------- 7.0/21.8 MB 2.2 MB/s eta 0:00:07\n",
      "   ------------ --------------------------- 7.1/21.8 MB 2.2 MB/s eta 0:00:07\n",
      "   ------------- -------------------------- 7.2/21.8 MB 2.2 MB/s eta 0:00:07\n",
      "   ------------- -------------------------- 7.3/21.8 MB 2.2 MB/s eta 0:00:07\n",
      "   ------------- -------------------------- 7.4/21.8 MB 2.2 MB/s eta 0:00:07\n",
      "   ------------- -------------------------- 7.5/21.8 MB 2.2 MB/s eta 0:00:07\n",
      "   ------------- -------------------------- 7.6/21.8 MB 2.2 MB/s eta 0:00:07\n",
      "   -------------- ------------------------- 7.7/21.8 MB 2.2 MB/s eta 0:00:07\n",
      "   -------------- ------------------------- 7.8/21.8 MB 2.2 MB/s eta 0:00:07\n",
      "   -------------- ------------------------- 7.9/21.8 MB 2.2 MB/s eta 0:00:07\n",
      "   -------------- ------------------------- 8.0/21.8 MB 2.2 MB/s eta 0:00:07\n",
      "   -------------- ------------------------- 8.1/21.8 MB 2.2 MB/s eta 0:00:07\n",
      "   -------------- ------------------------- 8.2/21.8 MB 2.2 MB/s eta 0:00:07\n",
      "   --------------- ------------------------ 8.3/21.8 MB 2.2 MB/s eta 0:00:07\n",
      "   --------------- ------------------------ 8.4/21.8 MB 2.2 MB/s eta 0:00:07\n",
      "   --------------- ------------------------ 8.4/21.8 MB 2.2 MB/s eta 0:00:07\n",
      "   --------------- ------------------------ 8.6/21.8 MB 2.2 MB/s eta 0:00:07\n",
      "   --------------- ------------------------ 8.7/21.8 MB 2.2 MB/s eta 0:00:06\n",
      "   ---------------- ----------------------- 8.8/21.8 MB 2.2 MB/s eta 0:00:06\n",
      "   ---------------- ----------------------- 8.9/21.8 MB 2.2 MB/s eta 0:00:06\n",
      "   ---------------- ----------------------- 8.9/21.8 MB 2.2 MB/s eta 0:00:06\n",
      "   ---------------- ----------------------- 9.0/21.8 MB 2.2 MB/s eta 0:00:06\n",
      "   ---------------- ----------------------- 9.1/21.8 MB 2.2 MB/s eta 0:00:06\n",
      "   ---------------- ----------------------- 9.2/21.8 MB 2.2 MB/s eta 0:00:06\n",
      "   ----------------- ---------------------- 9.3/21.8 MB 2.2 MB/s eta 0:00:06\n",
      "   ----------------- ---------------------- 9.4/21.8 MB 2.2 MB/s eta 0:00:06\n",
      "   ----------------- ---------------------- 9.5/21.8 MB 2.2 MB/s eta 0:00:06\n",
      "   ----------------- ---------------------- 9.7/21.8 MB 2.2 MB/s eta 0:00:06\n",
      "   ------------------ --------------------- 9.8/21.8 MB 2.2 MB/s eta 0:00:06\n",
      "   ------------------ --------------------- 9.9/21.8 MB 2.2 MB/s eta 0:00:06\n",
      "   ------------------ --------------------- 10.0/21.8 MB 2.2 MB/s eta 0:00:06\n",
      "   ------------------ --------------------- 10.1/21.8 MB 2.2 MB/s eta 0:00:06\n",
      "   ------------------ --------------------- 10.2/21.8 MB 2.2 MB/s eta 0:00:06\n",
      "   ------------------ --------------------- 10.3/21.8 MB 2.2 MB/s eta 0:00:06\n",
      "   ------------------- -------------------- 10.4/21.8 MB 2.2 MB/s eta 0:00:06\n",
      "   ------------------- -------------------- 10.5/21.8 MB 2.2 MB/s eta 0:00:06\n",
      "   ------------------- -------------------- 10.6/21.8 MB 2.2 MB/s eta 0:00:06\n",
      "   ------------------- -------------------- 10.7/21.8 MB 2.2 MB/s eta 0:00:06\n",
      "   ------------------- -------------------- 10.8/21.8 MB 2.2 MB/s eta 0:00:06\n",
      "   -------------------- ------------------- 10.9/21.8 MB 2.2 MB/s eta 0:00:06\n",
      "   -------------------- ------------------- 11.0/21.8 MB 2.2 MB/s eta 0:00:06\n",
      "   -------------------- ------------------- 11.1/21.8 MB 2.2 MB/s eta 0:00:05\n",
      "   -------------------- ------------------- 11.2/21.8 MB 2.2 MB/s eta 0:00:05\n",
      "   -------------------- ------------------- 11.3/21.8 MB 2.2 MB/s eta 0:00:05\n",
      "   -------------------- ------------------- 11.4/21.8 MB 2.2 MB/s eta 0:00:05\n",
      "   --------------------- ------------------ 11.5/21.8 MB 2.2 MB/s eta 0:00:05\n",
      "   --------------------- ------------------ 11.6/21.8 MB 2.2 MB/s eta 0:00:05\n",
      "   --------------------- ------------------ 11.7/21.8 MB 2.2 MB/s eta 0:00:05\n",
      "   --------------------- ------------------ 11.8/21.8 MB 2.2 MB/s eta 0:00:05\n",
      "   --------------------- ------------------ 11.9/21.8 MB 2.1 MB/s eta 0:00:05\n",
      "   --------------------- ------------------ 12.0/21.8 MB 2.2 MB/s eta 0:00:05\n",
      "   ---------------------- ----------------- 12.1/21.8 MB 2.2 MB/s eta 0:00:05\n",
      "   ---------------------- ----------------- 12.2/21.8 MB 2.2 MB/s eta 0:00:05\n",
      "   ---------------------- ----------------- 12.3/21.8 MB 2.2 MB/s eta 0:00:05\n",
      "   ---------------------- ----------------- 12.4/21.8 MB 2.2 MB/s eta 0:00:05\n",
      "   ---------------------- ----------------- 12.5/21.8 MB 2.2 MB/s eta 0:00:05\n",
      "   ---------------------- ----------------- 12.5/21.8 MB 2.1 MB/s eta 0:00:05\n",
      "   ----------------------- ---------------- 12.7/21.8 MB 2.2 MB/s eta 0:00:05\n",
      "   ----------------------- ---------------- 12.7/21.8 MB 2.2 MB/s eta 0:00:05\n",
      "   ----------------------- ---------------- 12.9/21.8 MB 2.2 MB/s eta 0:00:05\n",
      "   ----------------------- ---------------- 13.0/21.8 MB 2.2 MB/s eta 0:00:05\n",
      "   ------------------------ --------------- 13.1/21.8 MB 2.2 MB/s eta 0:00:04\n",
      "   ------------------------ --------------- 13.2/21.8 MB 2.2 MB/s eta 0:00:04\n",
      "   ------------------------ --------------- 13.3/21.8 MB 2.2 MB/s eta 0:00:04\n",
      "   ------------------------ --------------- 13.4/21.8 MB 2.2 MB/s eta 0:00:04\n",
      "   ------------------------ --------------- 13.5/21.8 MB 2.2 MB/s eta 0:00:04\n",
      "   ------------------------ --------------- 13.6/21.8 MB 2.2 MB/s eta 0:00:04\n",
      "   ------------------------- -------------- 13.7/21.8 MB 2.2 MB/s eta 0:00:04\n",
      "   ------------------------- -------------- 13.8/21.8 MB 2.2 MB/s eta 0:00:04\n",
      "   ------------------------- -------------- 13.9/21.8 MB 2.2 MB/s eta 0:00:04\n",
      "   ------------------------- -------------- 14.0/21.8 MB 2.2 MB/s eta 0:00:04\n",
      "   ------------------------- -------------- 14.0/21.8 MB 2.2 MB/s eta 0:00:04\n",
      "   ------------------------- -------------- 14.1/21.8 MB 2.2 MB/s eta 0:00:04\n",
      "   ------------------------- -------------- 14.2/21.8 MB 2.1 MB/s eta 0:00:04\n",
      "   -------------------------- ------------- 14.2/21.8 MB 2.1 MB/s eta 0:00:04\n",
      "   -------------------------- ------------- 14.3/21.8 MB 2.1 MB/s eta 0:00:04\n",
      "   -------------------------- ------------- 14.4/21.8 MB 2.1 MB/s eta 0:00:04\n",
      "   -------------------------- ------------- 14.5/21.8 MB 2.1 MB/s eta 0:00:04\n",
      "   -------------------------- ------------- 14.6/21.8 MB 2.1 MB/s eta 0:00:04\n",
      "   --------------------------- ------------ 14.8/21.8 MB 2.1 MB/s eta 0:00:04\n",
      "   --------------------------- ------------ 14.9/21.8 MB 2.1 MB/s eta 0:00:04\n",
      "   --------------------------- ------------ 15.1/21.8 MB 2.2 MB/s eta 0:00:04\n",
      "   --------------------------- ------------ 15.2/21.8 MB 2.2 MB/s eta 0:00:04\n",
      "   ---------------------------- ----------- 15.3/21.8 MB 2.2 MB/s eta 0:00:04\n",
      "   ---------------------------- ----------- 15.4/21.8 MB 2.2 MB/s eta 0:00:03\n",
      "   ---------------------------- ----------- 15.5/21.8 MB 2.2 MB/s eta 0:00:03\n",
      "   ---------------------------- ----------- 15.6/21.8 MB 2.2 MB/s eta 0:00:03\n",
      "   ---------------------------- ----------- 15.7/21.8 MB 2.1 MB/s eta 0:00:03\n",
      "   ---------------------------- ----------- 15.8/21.8 MB 2.2 MB/s eta 0:00:03\n",
      "   ----------------------------- ---------- 15.9/21.8 MB 2.2 MB/s eta 0:00:03\n",
      "   ----------------------------- ---------- 16.0/21.8 MB 2.2 MB/s eta 0:00:03\n",
      "   ----------------------------- ---------- 16.1/21.8 MB 2.2 MB/s eta 0:00:03\n",
      "   ----------------------------- ---------- 16.2/21.8 MB 2.2 MB/s eta 0:00:03\n",
      "   ----------------------------- ---------- 16.3/21.8 MB 2.2 MB/s eta 0:00:03\n",
      "   ----------------------------- ---------- 16.4/21.8 MB 2.2 MB/s eta 0:00:03\n",
      "   ------------------------------ --------- 16.5/21.8 MB 2.2 MB/s eta 0:00:03\n",
      "   ------------------------------ --------- 16.6/21.8 MB 2.2 MB/s eta 0:00:03\n",
      "   ------------------------------ --------- 16.7/21.8 MB 2.2 MB/s eta 0:00:03\n",
      "   ------------------------------ --------- 16.8/21.8 MB 2.2 MB/s eta 0:00:03\n",
      "   ------------------------------ --------- 16.9/21.8 MB 2.2 MB/s eta 0:00:03\n",
      "   ------------------------------- -------- 17.0/21.8 MB 2.2 MB/s eta 0:00:03\n",
      "   ------------------------------- -------- 17.1/21.8 MB 2.2 MB/s eta 0:00:03\n",
      "   ------------------------------- -------- 17.2/21.8 MB 2.2 MB/s eta 0:00:03\n",
      "   ------------------------------- -------- 17.3/21.8 MB 2.2 MB/s eta 0:00:03\n",
      "   ------------------------------- -------- 17.4/21.8 MB 2.2 MB/s eta 0:00:03\n",
      "   -------------------------------- ------- 17.5/21.8 MB 2.2 MB/s eta 0:00:03\n",
      "   -------------------------------- ------- 17.6/21.8 MB 2.2 MB/s eta 0:00:02\n",
      "   -------------------------------- ------- 17.6/21.8 MB 2.1 MB/s eta 0:00:02\n",
      "   -------------------------------- ------- 17.7/21.8 MB 2.2 MB/s eta 0:00:02\n",
      "   -------------------------------- ------- 17.8/21.8 MB 2.1 MB/s eta 0:00:02\n",
      "   -------------------------------- ------- 17.9/21.8 MB 2.1 MB/s eta 0:00:02\n",
      "   --------------------------------- ------ 18.0/21.8 MB 2.2 MB/s eta 0:00:02\n",
      "   --------------------------------- ------ 18.1/21.8 MB 2.1 MB/s eta 0:00:02\n",
      "   --------------------------------- ------ 18.2/21.8 MB 2.2 MB/s eta 0:00:02\n",
      "   --------------------------------- ------ 18.4/21.8 MB 2.2 MB/s eta 0:00:02\n",
      "   --------------------------------- ------ 18.5/21.8 MB 2.2 MB/s eta 0:00:02\n",
      "   ---------------------------------- ----- 18.6/21.8 MB 2.2 MB/s eta 0:00:02\n",
      "   ---------------------------------- ----- 18.7/21.8 MB 2.2 MB/s eta 0:00:02\n",
      "   ---------------------------------- ----- 18.8/21.8 MB 2.2 MB/s eta 0:00:02\n",
      "   ---------------------------------- ----- 18.9/21.8 MB 2.2 MB/s eta 0:00:02\n",
      "   ---------------------------------- ----- 19.0/21.8 MB 2.2 MB/s eta 0:00:02\n",
      "   ----------------------------------- ---- 19.1/21.8 MB 2.2 MB/s eta 0:00:02\n",
      "   ----------------------------------- ---- 19.1/21.8 MB 2.2 MB/s eta 0:00:02\n",
      "   ----------------------------------- ---- 19.3/21.8 MB 2.2 MB/s eta 0:00:02\n",
      "   ----------------------------------- ---- 19.4/21.8 MB 2.2 MB/s eta 0:00:02\n",
      "   ----------------------------------- ---- 19.5/21.8 MB 2.2 MB/s eta 0:00:02\n",
      "   ------------------------------------ --- 19.6/21.8 MB 2.2 MB/s eta 0:00:01\n",
      "   ------------------------------------ --- 19.7/21.8 MB 2.2 MB/s eta 0:00:01\n",
      "   ------------------------------------ --- 19.9/21.8 MB 2.2 MB/s eta 0:00:01\n",
      "   ------------------------------------ --- 19.9/21.8 MB 2.1 MB/s eta 0:00:01\n",
      "   ------------------------------------ --- 20.1/21.8 MB 2.2 MB/s eta 0:00:01\n",
      "   ------------------------------------- -- 20.2/21.8 MB 2.2 MB/s eta 0:00:01\n",
      "   ------------------------------------- -- 20.3/21.8 MB 2.2 MB/s eta 0:00:01\n",
      "   ------------------------------------- -- 20.4/21.8 MB 2.2 MB/s eta 0:00:01\n",
      "   ------------------------------------- -- 20.5/21.8 MB 2.2 MB/s eta 0:00:01\n",
      "   ------------------------------------- -- 20.6/21.8 MB 2.2 MB/s eta 0:00:01\n",
      "   ------------------------------------- -- 20.7/21.8 MB 2.2 MB/s eta 0:00:01\n",
      "   -------------------------------------- - 20.8/21.8 MB 2.2 MB/s eta 0:00:01\n",
      "   -------------------------------------- - 20.9/21.8 MB 2.2 MB/s eta 0:00:01\n",
      "   -------------------------------------- - 21.0/21.8 MB 2.2 MB/s eta 0:00:01\n",
      "   -------------------------------------- - 21.1/21.8 MB 2.2 MB/s eta 0:00:01\n",
      "   -------------------------------------- - 21.2/21.8 MB 2.2 MB/s eta 0:00:01\n",
      "   ---------------------------------------  21.3/21.8 MB 2.2 MB/s eta 0:00:01\n",
      "   ---------------------------------------  21.4/21.8 MB 2.1 MB/s eta 0:00:01\n",
      "   ---------------------------------------  21.5/21.8 MB 2.2 MB/s eta 0:00:01\n",
      "   ---------------------------------------  21.5/21.8 MB 2.2 MB/s eta 0:00:01\n",
      "   ---------------------------------------  21.6/21.8 MB 2.1 MB/s eta 0:00:01\n",
      "   ---------------------------------------  21.7/21.8 MB 2.2 MB/s eta 0:00:01\n",
      "   ---------------------------------------  21.8/21.8 MB 2.2 MB/s eta 0:00:01\n",
      "   ---------------------------------------  21.8/21.8 MB 2.2 MB/s eta 0:00:01\n",
      "   ---------------------------------------  21.8/21.8 MB 2.2 MB/s eta 0:00:01\n",
      "   ---------------------------------------- 21.8/21.8 MB 2.1 MB/s eta 0:00:00\n",
      "Downloading category_encoders-2.6.4-py2.py3-none-any.whl (82 kB)\n",
      "   ---------------------------------------- 0.0/82.0 kB ? eta -:--:--\n",
      "   ---------------------------------------- 82.0/82.0 kB 2.3 MB/s eta 0:00:00\n",
      "Downloading deprecation-2.1.0-py2.py3-none-any.whl (11 kB)\n",
      "Downloading imbalanced_learn-0.12.4-py3-none-any.whl (258 kB)\n",
      "   ---------------------------------------- 0.0/258.3 kB ? eta -:--:--\n",
      "   ---------------------- ----------------- 143.4/258.3 kB 2.8 MB/s eta 0:00:01\n",
      "   ---------------------------------------  256.0/258.3 kB 3.1 MB/s eta 0:00:01\n",
      "   ---------------------------------------- 258.3/258.3 kB 2.6 MB/s eta 0:00:00\n",
      "Downloading importlib_metadata-8.5.0-py3-none-any.whl (26 kB)\n",
      "Downloading ipywidgets-8.1.5-py3-none-any.whl (139 kB)\n",
      "   ---------------------------------------- 0.0/139.8 kB ? eta -:--:--\n",
      "   -------------------------------------- - 133.1/139.8 kB 4.0 MB/s eta 0:00:01\n",
      "   ---------------------------------------- 139.8/139.8 kB 2.8 MB/s eta 0:00:00\n",
      "Downloading joblib-1.3.2-py3-none-any.whl (302 kB)\n",
      "   ---------------------------------------- 0.0/302.2 kB ? eta -:--:--\n",
      "   ------------------------ --------------- 184.3/302.2 kB 3.7 MB/s eta 0:00:01\n",
      "   ---------------------------------------- 302.2/302.2 kB 3.1 MB/s eta 0:00:00\n",
      "Downloading kaleido-0.2.1-py2.py3-none-win_amd64.whl (65.9 MB)\n",
      "   ---------------------------------------- 0.0/65.9 MB ? eta -:--:--\n",
      "   ---------------------------------------- 0.1/65.9 MB 7.5 MB/s eta 0:00:09\n",
      "   ---------------------------------------- 0.3/65.9 MB 4.3 MB/s eta 0:00:16\n",
      "   ---------------------------------------- 0.5/65.9 MB 3.7 MB/s eta 0:00:18\n",
      "   ---------------------------------------- 0.6/65.9 MB 3.8 MB/s eta 0:00:18\n",
      "   ---------------------------------------- 0.7/65.9 MB 3.1 MB/s eta 0:00:21\n",
      "    --------------------------------------- 0.8/65.9 MB 3.2 MB/s eta 0:00:21\n",
      "    --------------------------------------- 0.9/65.9 MB 2.8 MB/s eta 0:00:24\n",
      "    --------------------------------------- 1.0/65.9 MB 2.9 MB/s eta 0:00:23\n",
      "    --------------------------------------- 1.1/65.9 MB 2.7 MB/s eta 0:00:24\n",
      "    --------------------------------------- 1.2/65.9 MB 2.8 MB/s eta 0:00:24\n",
      "    --------------------------------------- 1.3/65.9 MB 2.7 MB/s eta 0:00:25\n",
      "    --------------------------------------- 1.4/65.9 MB 2.5 MB/s eta 0:00:26\n",
      "    --------------------------------------- 1.5/65.9 MB 2.6 MB/s eta 0:00:25\n",
      "   - -------------------------------------- 1.7/65.9 MB 2.7 MB/s eta 0:00:25\n",
      "   - -------------------------------------- 1.7/65.9 MB 2.6 MB/s eta 0:00:26\n",
      "   - -------------------------------------- 1.8/65.9 MB 2.5 MB/s eta 0:00:26\n",
      "   - -------------------------------------- 1.9/65.9 MB 2.4 MB/s eta 0:00:27\n",
      "   - -------------------------------------- 2.0/65.9 MB 2.4 MB/s eta 0:00:28\n",
      "   - -------------------------------------- 2.1/65.9 MB 2.3 MB/s eta 0:00:28\n",
      "   - -------------------------------------- 2.2/65.9 MB 2.3 MB/s eta 0:00:28\n",
      "   - -------------------------------------- 2.3/65.9 MB 2.4 MB/s eta 0:00:27\n",
      "   - -------------------------------------- 2.5/65.9 MB 2.4 MB/s eta 0:00:27\n",
      "   - -------------------------------------- 2.6/65.9 MB 2.4 MB/s eta 0:00:27\n",
      "   - -------------------------------------- 2.7/65.9 MB 2.4 MB/s eta 0:00:27\n",
      "   - -------------------------------------- 2.8/65.9 MB 2.4 MB/s eta 0:00:27\n",
      "   - -------------------------------------- 2.9/65.9 MB 2.4 MB/s eta 0:00:27\n",
      "   - -------------------------------------- 3.0/65.9 MB 2.4 MB/s eta 0:00:27\n",
      "   - -------------------------------------- 3.1/65.9 MB 2.4 MB/s eta 0:00:27\n",
      "   - -------------------------------------- 3.2/65.9 MB 2.3 MB/s eta 0:00:28\n",
      "   - -------------------------------------- 3.3/65.9 MB 2.3 MB/s eta 0:00:28\n",
      "   -- ------------------------------------- 3.4/65.9 MB 2.3 MB/s eta 0:00:27\n",
      "   -- ------------------------------------- 3.5/65.9 MB 2.3 MB/s eta 0:00:27\n",
      "   -- ------------------------------------- 3.6/65.9 MB 2.3 MB/s eta 0:00:27\n",
      "   -- ------------------------------------- 3.7/65.9 MB 2.3 MB/s eta 0:00:27\n",
      "   -- ------------------------------------- 3.8/65.9 MB 2.3 MB/s eta 0:00:27\n",
      "   -- ------------------------------------- 3.9/65.9 MB 2.3 MB/s eta 0:00:27\n",
      "   -- ------------------------------------- 4.0/65.9 MB 2.3 MB/s eta 0:00:27\n",
      "   -- ------------------------------------- 4.1/65.9 MB 2.3 MB/s eta 0:00:27\n",
      "   -- ------------------------------------- 4.2/65.9 MB 2.3 MB/s eta 0:00:27\n",
      "   -- ------------------------------------- 4.3/65.9 MB 2.3 MB/s eta 0:00:27\n",
      "   -- ------------------------------------- 4.4/65.9 MB 2.3 MB/s eta 0:00:27\n",
      "   -- ------------------------------------- 4.5/65.9 MB 2.3 MB/s eta 0:00:28\n",
      "   -- ------------------------------------- 4.6/65.9 MB 2.3 MB/s eta 0:00:27\n",
      "   -- ------------------------------------- 4.7/65.9 MB 2.3 MB/s eta 0:00:27\n",
      "   -- ------------------------------------- 4.8/65.9 MB 2.3 MB/s eta 0:00:27\n",
      "   -- ------------------------------------- 4.9/65.9 MB 2.3 MB/s eta 0:00:27\n",
      "   --- ------------------------------------ 5.0/65.9 MB 2.3 MB/s eta 0:00:27\n",
      "   --- ------------------------------------ 5.1/65.9 MB 2.3 MB/s eta 0:00:27\n",
      "   --- ------------------------------------ 5.2/65.9 MB 2.3 MB/s eta 0:00:27\n",
      "   --- ------------------------------------ 5.3/65.9 MB 2.3 MB/s eta 0:00:27\n",
      "   --- ------------------------------------ 5.4/65.9 MB 2.3 MB/s eta 0:00:27\n",
      "   --- ------------------------------------ 5.5/65.9 MB 2.3 MB/s eta 0:00:27\n",
      "   --- ------------------------------------ 5.6/65.9 MB 2.2 MB/s eta 0:00:28\n",
      "   --- ------------------------------------ 5.7/65.9 MB 2.2 MB/s eta 0:00:27\n",
      "   --- ------------------------------------ 5.8/65.9 MB 2.2 MB/s eta 0:00:27\n",
      "   --- ------------------------------------ 5.9/65.9 MB 2.2 MB/s eta 0:00:27\n",
      "   --- ------------------------------------ 6.0/65.9 MB 2.2 MB/s eta 0:00:27\n",
      "   --- ------------------------------------ 6.1/65.9 MB 2.3 MB/s eta 0:00:27\n",
      "   --- ------------------------------------ 6.2/65.9 MB 2.3 MB/s eta 0:00:27\n",
      "   --- ------------------------------------ 6.3/65.9 MB 2.3 MB/s eta 0:00:27\n",
      "   --- ------------------------------------ 6.4/65.9 MB 2.2 MB/s eta 0:00:27\n",
      "   --- ------------------------------------ 6.5/65.9 MB 2.2 MB/s eta 0:00:27\n",
      "   --- ------------------------------------ 6.6/65.9 MB 2.2 MB/s eta 0:00:27\n",
      "   ---- ----------------------------------- 6.7/65.9 MB 2.2 MB/s eta 0:00:27\n",
      "   ---- ----------------------------------- 6.8/65.9 MB 2.2 MB/s eta 0:00:27\n",
      "   ---- ----------------------------------- 6.9/65.9 MB 2.2 MB/s eta 0:00:27\n",
      "   ---- ----------------------------------- 7.0/65.9 MB 2.2 MB/s eta 0:00:27\n",
      "   ---- ----------------------------------- 7.1/65.9 MB 2.2 MB/s eta 0:00:27\n",
      "   ---- ----------------------------------- 7.2/65.9 MB 2.2 MB/s eta 0:00:27\n",
      "   ---- ----------------------------------- 7.3/65.9 MB 2.2 MB/s eta 0:00:27\n",
      "   ---- ----------------------------------- 7.4/65.9 MB 2.2 MB/s eta 0:00:27\n",
      "   ---- ----------------------------------- 7.5/65.9 MB 2.2 MB/s eta 0:00:27\n",
      "   ---- ----------------------------------- 7.6/65.9 MB 2.2 MB/s eta 0:00:27\n",
      "   ---- ----------------------------------- 7.6/65.9 MB 2.2 MB/s eta 0:00:27\n",
      "   ---- ----------------------------------- 7.7/65.9 MB 2.2 MB/s eta 0:00:27\n",
      "   ---- ----------------------------------- 7.8/65.9 MB 2.2 MB/s eta 0:00:27\n",
      "   ---- ----------------------------------- 7.9/65.9 MB 2.2 MB/s eta 0:00:27\n",
      "   ---- ----------------------------------- 8.0/65.9 MB 2.2 MB/s eta 0:00:27\n",
      "   ---- ----------------------------------- 8.1/65.9 MB 2.2 MB/s eta 0:00:27\n",
      "   ---- ----------------------------------- 8.2/65.9 MB 2.2 MB/s eta 0:00:27\n",
      "   ----- ---------------------------------- 8.3/65.9 MB 2.2 MB/s eta 0:00:27\n",
      "   ----- ---------------------------------- 8.5/65.9 MB 2.2 MB/s eta 0:00:27\n",
      "   ----- ---------------------------------- 8.6/65.9 MB 2.2 MB/s eta 0:00:27\n",
      "   ----- ---------------------------------- 8.7/65.9 MB 2.2 MB/s eta 0:00:26\n",
      "   ----- ---------------------------------- 8.8/65.9 MB 2.2 MB/s eta 0:00:26\n",
      "   ----- ---------------------------------- 9.0/65.9 MB 2.2 MB/s eta 0:00:26\n",
      "   ----- ---------------------------------- 9.0/65.9 MB 2.2 MB/s eta 0:00:26\n",
      "   ----- ---------------------------------- 9.2/65.9 MB 2.2 MB/s eta 0:00:26\n",
      "   ----- ---------------------------------- 9.3/65.9 MB 2.2 MB/s eta 0:00:26\n",
      "   ----- ---------------------------------- 9.4/65.9 MB 2.2 MB/s eta 0:00:26\n",
      "   ----- ---------------------------------- 9.5/65.9 MB 2.2 MB/s eta 0:00:26\n",
      "   ----- ---------------------------------- 9.6/65.9 MB 2.2 MB/s eta 0:00:26\n",
      "   ----- ---------------------------------- 9.7/65.9 MB 2.2 MB/s eta 0:00:26\n",
      "   ----- ---------------------------------- 9.7/65.9 MB 2.2 MB/s eta 0:00:26\n",
      "   ----- ---------------------------------- 9.8/65.9 MB 2.2 MB/s eta 0:00:26\n",
      "   ------ --------------------------------- 9.9/65.9 MB 2.2 MB/s eta 0:00:26\n",
      "   ------ --------------------------------- 10.0/65.9 MB 2.2 MB/s eta 0:00:26\n",
      "   ------ --------------------------------- 10.1/65.9 MB 2.2 MB/s eta 0:00:26\n",
      "   ------ --------------------------------- 10.3/65.9 MB 2.2 MB/s eta 0:00:26\n",
      "   ------ --------------------------------- 10.4/65.9 MB 2.2 MB/s eta 0:00:26\n",
      "   ------ --------------------------------- 10.5/65.9 MB 2.2 MB/s eta 0:00:26\n",
      "   ------ --------------------------------- 10.6/65.9 MB 2.2 MB/s eta 0:00:26\n",
      "   ------ --------------------------------- 10.6/65.9 MB 2.2 MB/s eta 0:00:26\n",
      "   ------ --------------------------------- 10.8/65.9 MB 2.2 MB/s eta 0:00:26\n",
      "   ------ --------------------------------- 10.9/65.9 MB 2.2 MB/s eta 0:00:26\n",
      "   ------ --------------------------------- 10.9/65.9 MB 2.2 MB/s eta 0:00:26\n",
      "   ------ --------------------------------- 11.0/65.9 MB 2.2 MB/s eta 0:00:26\n",
      "   ------ --------------------------------- 11.1/65.9 MB 2.2 MB/s eta 0:00:26\n",
      "   ------ --------------------------------- 11.2/65.9 MB 2.2 MB/s eta 0:00:26\n",
      "   ------ --------------------------------- 11.3/65.9 MB 2.2 MB/s eta 0:00:26\n",
      "   ------ --------------------------------- 11.4/65.9 MB 2.2 MB/s eta 0:00:26\n",
      "   ------ --------------------------------- 11.5/65.9 MB 2.2 MB/s eta 0:00:26\n",
      "   ------- -------------------------------- 11.6/65.9 MB 2.2 MB/s eta 0:00:26\n",
      "   ------- -------------------------------- 11.7/65.9 MB 2.2 MB/s eta 0:00:26\n",
      "   ------- -------------------------------- 11.8/65.9 MB 2.1 MB/s eta 0:00:26\n",
      "   ------- -------------------------------- 11.9/65.9 MB 2.1 MB/s eta 0:00:26\n",
      "   ------- -------------------------------- 12.0/65.9 MB 2.2 MB/s eta 0:00:26\n",
      "   ------- -------------------------------- 12.1/65.9 MB 2.2 MB/s eta 0:00:25\n",
      "   ------- -------------------------------- 12.3/65.9 MB 2.2 MB/s eta 0:00:25\n",
      "   ------- -------------------------------- 12.4/65.9 MB 2.2 MB/s eta 0:00:25\n",
      "   ------- -------------------------------- 12.5/65.9 MB 2.2 MB/s eta 0:00:25\n",
      "   ------- -------------------------------- 12.6/65.9 MB 2.2 MB/s eta 0:00:25\n",
      "   ------- -------------------------------- 12.7/65.9 MB 2.2 MB/s eta 0:00:25\n",
      "   ------- -------------------------------- 12.8/65.9 MB 2.2 MB/s eta 0:00:25\n",
      "   ------- -------------------------------- 12.9/65.9 MB 2.2 MB/s eta 0:00:25\n",
      "   ------- -------------------------------- 12.9/65.9 MB 2.2 MB/s eta 0:00:25\n",
      "   ------- -------------------------------- 13.0/65.9 MB 2.1 MB/s eta 0:00:25\n",
      "   ------- -------------------------------- 13.0/65.9 MB 2.1 MB/s eta 0:00:25\n",
      "   ------- -------------------------------- 13.1/65.9 MB 2.1 MB/s eta 0:00:25\n",
      "   -------- ------------------------------- 13.3/65.9 MB 2.1 MB/s eta 0:00:25\n",
      "   -------- ------------------------------- 13.4/65.9 MB 2.2 MB/s eta 0:00:25\n",
      "   -------- ------------------------------- 13.5/65.9 MB 2.2 MB/s eta 0:00:25\n",
      "   -------- ------------------------------- 13.7/65.9 MB 2.2 MB/s eta 0:00:25\n",
      "   -------- ------------------------------- 13.8/65.9 MB 2.2 MB/s eta 0:00:25\n",
      "   -------- ------------------------------- 13.9/65.9 MB 2.2 MB/s eta 0:00:25\n",
      "   -------- ------------------------------- 14.0/65.9 MB 2.2 MB/s eta 0:00:24\n",
      "   -------- ------------------------------- 14.1/65.9 MB 2.2 MB/s eta 0:00:24\n",
      "   -------- ------------------------------- 14.2/65.9 MB 2.2 MB/s eta 0:00:24\n",
      "   -------- ------------------------------- 14.3/65.9 MB 2.2 MB/s eta 0:00:24\n",
      "   -------- ------------------------------- 14.4/65.9 MB 2.2 MB/s eta 0:00:24\n",
      "   -------- ------------------------------- 14.5/65.9 MB 2.2 MB/s eta 0:00:24\n",
      "   -------- ------------------------------- 14.6/65.9 MB 2.2 MB/s eta 0:00:24\n",
      "   -------- ------------------------------- 14.7/65.9 MB 2.2 MB/s eta 0:00:24\n",
      "   -------- ------------------------------- 14.8/65.9 MB 2.2 MB/s eta 0:00:24\n",
      "   --------- ------------------------------ 14.9/65.9 MB 2.2 MB/s eta 0:00:24\n",
      "   --------- ------------------------------ 15.0/65.9 MB 2.2 MB/s eta 0:00:24\n",
      "   --------- ------------------------------ 15.1/65.9 MB 2.2 MB/s eta 0:00:24\n",
      "   --------- ------------------------------ 15.2/65.9 MB 2.2 MB/s eta 0:00:24\n",
      "   --------- ------------------------------ 15.3/65.9 MB 2.2 MB/s eta 0:00:24\n",
      "   --------- ------------------------------ 15.4/65.9 MB 2.2 MB/s eta 0:00:24\n",
      "   --------- ------------------------------ 15.5/65.9 MB 2.2 MB/s eta 0:00:24\n",
      "   --------- ------------------------------ 15.6/65.9 MB 2.2 MB/s eta 0:00:24\n",
      "   --------- ------------------------------ 15.7/65.9 MB 2.2 MB/s eta 0:00:24\n",
      "   --------- ------------------------------ 15.8/65.9 MB 2.2 MB/s eta 0:00:24\n",
      "   --------- ------------------------------ 15.9/65.9 MB 2.2 MB/s eta 0:00:24\n",
      "   --------- ------------------------------ 16.0/65.9 MB 2.2 MB/s eta 0:00:24\n",
      "   --------- ------------------------------ 16.1/65.9 MB 2.2 MB/s eta 0:00:24\n",
      "   --------- ------------------------------ 16.2/65.9 MB 2.2 MB/s eta 0:00:23\n",
      "   --------- ------------------------------ 16.3/65.9 MB 2.2 MB/s eta 0:00:23\n",
      "   --------- ------------------------------ 16.4/65.9 MB 2.2 MB/s eta 0:00:24\n",
      "   ---------- ----------------------------- 16.5/65.9 MB 2.2 MB/s eta 0:00:23\n",
      "   ---------- ----------------------------- 16.6/65.9 MB 2.2 MB/s eta 0:00:23\n",
      "   ---------- ----------------------------- 16.7/65.9 MB 2.2 MB/s eta 0:00:23\n",
      "   ---------- ----------------------------- 16.8/65.9 MB 2.2 MB/s eta 0:00:23\n",
      "   ---------- ----------------------------- 16.9/65.9 MB 2.2 MB/s eta 0:00:23\n",
      "   ---------- ----------------------------- 17.0/65.9 MB 2.2 MB/s eta 0:00:23\n",
      "   ---------- ----------------------------- 17.1/65.9 MB 2.2 MB/s eta 0:00:23\n",
      "   ---------- ----------------------------- 17.2/65.9 MB 2.2 MB/s eta 0:00:23\n",
      "   ---------- ----------------------------- 17.3/65.9 MB 2.2 MB/s eta 0:00:23\n",
      "   ---------- ----------------------------- 17.4/65.9 MB 2.2 MB/s eta 0:00:23\n",
      "   ---------- ----------------------------- 17.5/65.9 MB 2.2 MB/s eta 0:00:23\n",
      "   ---------- ----------------------------- 17.6/65.9 MB 2.2 MB/s eta 0:00:23\n",
      "   ---------- ----------------------------- 17.7/65.9 MB 2.2 MB/s eta 0:00:23\n",
      "   ---------- ----------------------------- 17.8/65.9 MB 2.2 MB/s eta 0:00:22\n",
      "   ---------- ----------------------------- 17.9/65.9 MB 2.2 MB/s eta 0:00:23\n",
      "   ---------- ----------------------------- 18.0/65.9 MB 2.2 MB/s eta 0:00:22\n",
      "   ---------- ----------------------------- 18.0/65.9 MB 2.2 MB/s eta 0:00:23\n",
      "   ----------- ---------------------------- 18.2/65.9 MB 2.2 MB/s eta 0:00:22\n",
      "   ----------- ---------------------------- 18.2/65.9 MB 2.2 MB/s eta 0:00:22\n",
      "   ----------- ---------------------------- 18.4/65.9 MB 2.2 MB/s eta 0:00:22\n",
      "   ----------- ---------------------------- 18.5/65.9 MB 2.2 MB/s eta 0:00:22\n",
      "   ----------- ---------------------------- 18.6/65.9 MB 2.2 MB/s eta 0:00:22\n",
      "   ----------- ---------------------------- 18.7/65.9 MB 2.2 MB/s eta 0:00:22\n",
      "   ----------- ---------------------------- 18.8/65.9 MB 2.2 MB/s eta 0:00:22\n",
      "   ----------- ---------------------------- 18.9/65.9 MB 2.2 MB/s eta 0:00:22\n",
      "   ----------- ---------------------------- 19.0/65.9 MB 2.2 MB/s eta 0:00:22\n",
      "   ----------- ---------------------------- 19.1/65.9 MB 2.2 MB/s eta 0:00:22\n",
      "   ----------- ---------------------------- 19.2/65.9 MB 2.1 MB/s eta 0:00:22\n",
      "   ----------- ---------------------------- 19.3/65.9 MB 2.2 MB/s eta 0:00:22\n",
      "   ----------- ---------------------------- 19.4/65.9 MB 2.1 MB/s eta 0:00:22\n",
      "   ----------- ---------------------------- 19.5/65.9 MB 2.1 MB/s eta 0:00:22\n",
      "   ----------- ---------------------------- 19.6/65.9 MB 2.1 MB/s eta 0:00:22\n",
      "   ----------- ---------------------------- 19.7/65.9 MB 2.1 MB/s eta 0:00:22\n",
      "   ------------ --------------------------- 19.8/65.9 MB 2.1 MB/s eta 0:00:22\n",
      "   ------------ --------------------------- 19.9/65.9 MB 2.1 MB/s eta 0:00:22\n",
      "   ------------ --------------------------- 20.0/65.9 MB 2.2 MB/s eta 0:00:22\n",
      "   ------------ --------------------------- 20.1/65.9 MB 2.2 MB/s eta 0:00:22\n",
      "   ------------ --------------------------- 20.2/65.9 MB 2.2 MB/s eta 0:00:22\n",
      "   ------------ --------------------------- 20.3/65.9 MB 2.1 MB/s eta 0:00:22\n",
      "   ------------ --------------------------- 20.4/65.9 MB 2.1 MB/s eta 0:00:22\n",
      "   ------------ --------------------------- 20.5/65.9 MB 2.1 MB/s eta 0:00:22\n",
      "   ------------ --------------------------- 20.6/65.9 MB 2.2 MB/s eta 0:00:22\n",
      "   ------------ --------------------------- 20.7/65.9 MB 2.2 MB/s eta 0:00:21\n",
      "   ------------ --------------------------- 20.8/65.9 MB 2.2 MB/s eta 0:00:21\n",
      "   ------------ --------------------------- 20.9/65.9 MB 2.2 MB/s eta 0:00:21\n",
      "   ------------ --------------------------- 21.0/65.9 MB 2.2 MB/s eta 0:00:21\n",
      "   ------------ --------------------------- 21.1/65.9 MB 2.2 MB/s eta 0:00:21\n",
      "   ------------ --------------------------- 21.2/65.9 MB 2.2 MB/s eta 0:00:21\n",
      "   ------------ --------------------------- 21.3/65.9 MB 2.2 MB/s eta 0:00:21\n",
      "   ------------ --------------------------- 21.4/65.9 MB 2.2 MB/s eta 0:00:21\n",
      "   ------------- -------------------------- 21.5/65.9 MB 2.2 MB/s eta 0:00:21\n",
      "   ------------- -------------------------- 21.6/65.9 MB 2.2 MB/s eta 0:00:21\n",
      "   ------------- -------------------------- 21.7/65.9 MB 2.2 MB/s eta 0:00:21\n",
      "   ------------- -------------------------- 21.8/65.9 MB 2.2 MB/s eta 0:00:21\n",
      "   ------------- -------------------------- 21.9/65.9 MB 2.2 MB/s eta 0:00:21\n",
      "   ------------- -------------------------- 22.0/65.9 MB 2.2 MB/s eta 0:00:21\n",
      "   ------------- -------------------------- 22.1/65.9 MB 2.2 MB/s eta 0:00:21\n",
      "   ------------- -------------------------- 22.2/65.9 MB 2.2 MB/s eta 0:00:21\n",
      "   ------------- -------------------------- 22.3/65.9 MB 2.1 MB/s eta 0:00:21\n",
      "   ------------- -------------------------- 22.4/65.9 MB 2.1 MB/s eta 0:00:21\n",
      "   ------------- -------------------------- 22.5/65.9 MB 2.1 MB/s eta 0:00:21\n",
      "   ------------- -------------------------- 22.6/65.9 MB 2.1 MB/s eta 0:00:21\n",
      "   ------------- -------------------------- 22.7/65.9 MB 2.1 MB/s eta 0:00:21\n",
      "   ------------- -------------------------- 22.8/65.9 MB 2.1 MB/s eta 0:00:21\n",
      "   ------------- -------------------------- 22.9/65.9 MB 2.1 MB/s eta 0:00:21\n",
      "   ------------- -------------------------- 23.0/65.9 MB 2.1 MB/s eta 0:00:21\n",
      "   ------------- -------------------------- 23.1/65.9 MB 2.1 MB/s eta 0:00:21\n",
      "   -------------- ------------------------- 23.1/65.9 MB 2.2 MB/s eta 0:00:20\n",
      "   -------------- ------------------------- 23.3/65.9 MB 2.2 MB/s eta 0:00:20\n",
      "   -------------- ------------------------- 23.3/65.9 MB 2.2 MB/s eta 0:00:20\n",
      "   -------------- ------------------------- 23.4/65.9 MB 2.2 MB/s eta 0:00:20\n",
      "   -------------- ------------------------- 23.6/65.9 MB 2.2 MB/s eta 0:00:20\n",
      "   -------------- ------------------------- 23.7/65.9 MB 2.2 MB/s eta 0:00:20\n",
      "   -------------- ------------------------- 23.8/65.9 MB 2.2 MB/s eta 0:00:20\n",
      "   -------------- ------------------------- 23.9/65.9 MB 2.1 MB/s eta 0:00:20\n",
      "   -------------- ------------------------- 24.0/65.9 MB 2.1 MB/s eta 0:00:20\n",
      "   -------------- ------------------------- 24.1/65.9 MB 2.1 MB/s eta 0:00:20\n",
      "   -------------- ------------------------- 24.2/65.9 MB 2.1 MB/s eta 0:00:20\n",
      "   -------------- ------------------------- 24.2/65.9 MB 2.1 MB/s eta 0:00:20\n",
      "   -------------- ------------------------- 24.3/65.9 MB 2.1 MB/s eta 0:00:20\n",
      "   -------------- ------------------------- 24.5/65.9 MB 2.1 MB/s eta 0:00:20\n",
      "   -------------- ------------------------- 24.6/65.9 MB 2.1 MB/s eta 0:00:20\n",
      "   --------------- ------------------------ 24.7/65.9 MB 2.2 MB/s eta 0:00:20\n",
      "   --------------- ------------------------ 24.8/65.9 MB 2.2 MB/s eta 0:00:20\n",
      "   --------------- ------------------------ 24.9/65.9 MB 2.2 MB/s eta 0:00:20\n",
      "   --------------- ------------------------ 25.0/65.9 MB 2.2 MB/s eta 0:00:20\n",
      "   --------------- ------------------------ 25.1/65.9 MB 2.2 MB/s eta 0:00:19\n",
      "   --------------- ------------------------ 25.2/65.9 MB 2.2 MB/s eta 0:00:19\n",
      "   --------------- ------------------------ 25.3/65.9 MB 2.2 MB/s eta 0:00:19\n",
      "   --------------- ------------------------ 25.4/65.9 MB 2.2 MB/s eta 0:00:19\n",
      "   --------------- ------------------------ 25.5/65.9 MB 2.2 MB/s eta 0:00:19\n",
      "   --------------- ------------------------ 25.6/65.9 MB 2.2 MB/s eta 0:00:19\n",
      "   --------------- ------------------------ 25.7/65.9 MB 2.1 MB/s eta 0:00:19\n",
      "   --------------- ------------------------ 25.7/65.9 MB 2.1 MB/s eta 0:00:19\n",
      "   --------------- ------------------------ 25.8/65.9 MB 2.1 MB/s eta 0:00:19\n",
      "   --------------- ------------------------ 26.0/65.9 MB 2.1 MB/s eta 0:00:19\n",
      "   --------------- ------------------------ 26.1/65.9 MB 2.2 MB/s eta 0:00:19\n",
      "   --------------- ------------------------ 26.2/65.9 MB 2.2 MB/s eta 0:00:19\n",
      "   --------------- ------------------------ 26.3/65.9 MB 2.2 MB/s eta 0:00:19\n",
      "   ---------------- ----------------------- 26.4/65.9 MB 2.2 MB/s eta 0:00:19\n",
      "   ---------------- ----------------------- 26.5/65.9 MB 2.2 MB/s eta 0:00:19\n",
      "   ---------------- ----------------------- 26.6/65.9 MB 2.2 MB/s eta 0:00:19\n",
      "   ---------------- ----------------------- 26.7/65.9 MB 2.1 MB/s eta 0:00:19\n",
      "   ---------------- ----------------------- 26.8/65.9 MB 2.2 MB/s eta 0:00:19\n",
      "   ---------------- ----------------------- 26.9/65.9 MB 2.1 MB/s eta 0:00:19\n",
      "   ---------------- ----------------------- 26.9/65.9 MB 2.1 MB/s eta 0:00:19\n",
      "   ---------------- ----------------------- 27.1/65.9 MB 2.1 MB/s eta 0:00:19\n",
      "   ---------------- ----------------------- 27.2/65.9 MB 2.1 MB/s eta 0:00:19\n",
      "   ---------------- ----------------------- 27.3/65.9 MB 2.1 MB/s eta 0:00:19\n",
      "   ---------------- ----------------------- 27.4/65.9 MB 2.1 MB/s eta 0:00:18\n",
      "   ---------------- ----------------------- 27.5/65.9 MB 2.2 MB/s eta 0:00:18\n",
      "   ---------------- ----------------------- 27.6/65.9 MB 2.2 MB/s eta 0:00:18\n",
      "   ---------------- ----------------------- 27.7/65.9 MB 2.2 MB/s eta 0:00:18\n",
      "   ---------------- ----------------------- 27.8/65.9 MB 2.2 MB/s eta 0:00:18\n",
      "   ---------------- ----------------------- 27.9/65.9 MB 2.2 MB/s eta 0:00:18\n",
      "   ----------------- ---------------------- 28.0/65.9 MB 2.2 MB/s eta 0:00:18\n",
      "   ----------------- ---------------------- 28.1/65.9 MB 2.2 MB/s eta 0:00:18\n",
      "   ----------------- ---------------------- 28.2/65.9 MB 2.2 MB/s eta 0:00:18\n",
      "   ----------------- ---------------------- 28.3/65.9 MB 2.2 MB/s eta 0:00:18\n",
      "   ----------------- ---------------------- 28.4/65.9 MB 2.2 MB/s eta 0:00:18\n",
      "   ----------------- ---------------------- 28.5/65.9 MB 2.2 MB/s eta 0:00:18\n",
      "   ----------------- ---------------------- 28.6/65.9 MB 2.2 MB/s eta 0:00:18\n",
      "   ----------------- ---------------------- 28.7/65.9 MB 2.2 MB/s eta 0:00:18\n",
      "   ----------------- ---------------------- 28.8/65.9 MB 2.2 MB/s eta 0:00:18\n",
      "   ----------------- ---------------------- 28.9/65.9 MB 2.2 MB/s eta 0:00:18\n",
      "   ----------------- ---------------------- 29.0/65.9 MB 2.2 MB/s eta 0:00:18\n",
      "   ----------------- ---------------------- 29.1/65.9 MB 2.2 MB/s eta 0:00:18\n",
      "   ----------------- ---------------------- 29.2/65.9 MB 2.2 MB/s eta 0:00:18\n",
      "   ----------------- ---------------------- 29.3/65.9 MB 2.2 MB/s eta 0:00:17\n",
      "   ----------------- ---------------------- 29.4/65.9 MB 2.2 MB/s eta 0:00:17\n",
      "   ----------------- ---------------------- 29.5/65.9 MB 2.2 MB/s eta 0:00:17\n",
      "   ----------------- ---------------------- 29.6/65.9 MB 2.2 MB/s eta 0:00:17\n",
      "   ------------------ --------------------- 29.7/65.9 MB 2.2 MB/s eta 0:00:17\n",
      "   ------------------ --------------------- 29.8/65.9 MB 2.2 MB/s eta 0:00:17\n",
      "   ------------------ --------------------- 29.9/65.9 MB 2.2 MB/s eta 0:00:17\n",
      "   ------------------ --------------------- 30.0/65.9 MB 2.2 MB/s eta 0:00:17\n",
      "   ------------------ --------------------- 30.1/65.9 MB 2.2 MB/s eta 0:00:17\n",
      "   ------------------ --------------------- 30.2/65.9 MB 2.2 MB/s eta 0:00:17\n",
      "   ------------------ --------------------- 30.3/65.9 MB 2.2 MB/s eta 0:00:17\n",
      "   ------------------ --------------------- 30.4/65.9 MB 2.2 MB/s eta 0:00:17\n",
      "   ------------------ --------------------- 30.5/65.9 MB 2.2 MB/s eta 0:00:17\n",
      "   ------------------ --------------------- 30.6/65.9 MB 2.2 MB/s eta 0:00:17\n",
      "   ------------------ --------------------- 30.7/65.9 MB 2.2 MB/s eta 0:00:17\n",
      "   ------------------ --------------------- 30.8/65.9 MB 2.2 MB/s eta 0:00:17\n",
      "   ------------------ --------------------- 30.9/65.9 MB 2.2 MB/s eta 0:00:17\n",
      "   ------------------ --------------------- 31.0/65.9 MB 2.2 MB/s eta 0:00:17\n",
      "   ------------------ --------------------- 31.1/65.9 MB 2.2 MB/s eta 0:00:17\n",
      "   ------------------ --------------------- 31.2/65.9 MB 2.2 MB/s eta 0:00:17\n",
      "   ------------------ --------------------- 31.3/65.9 MB 2.2 MB/s eta 0:00:17\n",
      "   ------------------- -------------------- 31.4/65.9 MB 2.2 MB/s eta 0:00:17\n",
      "   ------------------- -------------------- 31.5/65.9 MB 2.2 MB/s eta 0:00:16\n",
      "   ------------------- -------------------- 31.6/65.9 MB 2.2 MB/s eta 0:00:16\n",
      "   ------------------- -------------------- 31.7/65.9 MB 2.2 MB/s eta 0:00:16\n",
      "   ------------------- -------------------- 31.8/65.9 MB 2.2 MB/s eta 0:00:16\n",
      "   ------------------- -------------------- 31.9/65.9 MB 2.2 MB/s eta 0:00:16\n",
      "   ------------------- -------------------- 32.1/65.9 MB 2.2 MB/s eta 0:00:16\n",
      "   ------------------- -------------------- 32.1/65.9 MB 2.2 MB/s eta 0:00:16\n",
      "   ------------------- -------------------- 32.2/65.9 MB 2.2 MB/s eta 0:00:16\n",
      "   ------------------- -------------------- 32.3/65.9 MB 2.2 MB/s eta 0:00:16\n",
      "   ------------------- -------------------- 32.4/65.9 MB 2.2 MB/s eta 0:00:16\n",
      "   ------------------- -------------------- 32.5/65.9 MB 2.2 MB/s eta 0:00:16\n",
      "   ------------------- -------------------- 32.6/65.9 MB 2.2 MB/s eta 0:00:16\n",
      "   ------------------- -------------------- 32.7/65.9 MB 2.2 MB/s eta 0:00:16\n",
      "   ------------------- -------------------- 32.8/65.9 MB 2.2 MB/s eta 0:00:16\n",
      "   ------------------- -------------------- 32.9/65.9 MB 2.2 MB/s eta 0:00:16\n",
      "   -------------------- ------------------- 33.0/65.9 MB 2.2 MB/s eta 0:00:16\n",
      "   -------------------- ------------------- 33.1/65.9 MB 2.2 MB/s eta 0:00:16\n",
      "   -------------------- ------------------- 33.2/65.9 MB 2.2 MB/s eta 0:00:16\n",
      "   -------------------- ------------------- 33.3/65.9 MB 2.2 MB/s eta 0:00:16\n",
      "   -------------------- ------------------- 33.4/65.9 MB 2.2 MB/s eta 0:00:16\n",
      "   -------------------- ------------------- 33.5/65.9 MB 2.2 MB/s eta 0:00:15\n",
      "   -------------------- ------------------- 33.6/65.9 MB 2.2 MB/s eta 0:00:15\n",
      "   -------------------- ------------------- 33.7/65.9 MB 2.2 MB/s eta 0:00:15\n",
      "   -------------------- ------------------- 33.8/65.9 MB 2.2 MB/s eta 0:00:15\n",
      "   -------------------- ------------------- 33.9/65.9 MB 2.2 MB/s eta 0:00:15\n",
      "   -------------------- ------------------- 34.0/65.9 MB 2.2 MB/s eta 0:00:15\n",
      "   -------------------- ------------------- 34.1/65.9 MB 2.2 MB/s eta 0:00:15\n",
      "   -------------------- ------------------- 34.2/65.9 MB 2.2 MB/s eta 0:00:15\n",
      "   -------------------- ------------------- 34.3/65.9 MB 2.2 MB/s eta 0:00:15\n",
      "   -------------------- ------------------- 34.4/65.9 MB 2.2 MB/s eta 0:00:15\n",
      "   -------------------- ------------------- 34.5/65.9 MB 2.2 MB/s eta 0:00:15\n",
      "   -------------------- ------------------- 34.6/65.9 MB 2.2 MB/s eta 0:00:15\n",
      "   --------------------- ------------------ 34.7/65.9 MB 2.2 MB/s eta 0:00:15\n",
      "   --------------------- ------------------ 34.8/65.9 MB 2.2 MB/s eta 0:00:15\n",
      "   --------------------- ------------------ 34.9/65.9 MB 2.1 MB/s eta 0:00:15\n",
      "   --------------------- ------------------ 35.0/65.9 MB 2.1 MB/s eta 0:00:15\n",
      "   --------------------- ------------------ 35.1/65.9 MB 2.2 MB/s eta 0:00:15\n",
      "   --------------------- ------------------ 35.2/65.9 MB 2.2 MB/s eta 0:00:15\n",
      "   --------------------- ------------------ 35.3/65.9 MB 2.2 MB/s eta 0:00:15\n",
      "   --------------------- ------------------ 35.4/65.9 MB 2.1 MB/s eta 0:00:15\n",
      "   --------------------- ------------------ 35.5/65.9 MB 2.1 MB/s eta 0:00:15\n",
      "   --------------------- ------------------ 35.6/65.9 MB 2.2 MB/s eta 0:00:15\n",
      "   --------------------- ------------------ 35.7/65.9 MB 2.2 MB/s eta 0:00:15\n",
      "   --------------------- ------------------ 35.8/65.9 MB 2.1 MB/s eta 0:00:15\n",
      "   --------------------- ------------------ 35.9/65.9 MB 2.2 MB/s eta 0:00:14\n",
      "   --------------------- ------------------ 36.0/65.9 MB 2.2 MB/s eta 0:00:14\n",
      "   --------------------- ------------------ 36.1/65.9 MB 2.2 MB/s eta 0:00:14\n",
      "   --------------------- ------------------ 36.2/65.9 MB 2.2 MB/s eta 0:00:14\n",
      "   ---------------------- ----------------- 36.3/65.9 MB 2.2 MB/s eta 0:00:14\n",
      "   ---------------------- ----------------- 36.4/65.9 MB 2.1 MB/s eta 0:00:14\n",
      "   ---------------------- ----------------- 36.5/65.9 MB 2.2 MB/s eta 0:00:14\n",
      "   ---------------------- ----------------- 36.6/65.9 MB 2.1 MB/s eta 0:00:14\n",
      "   ---------------------- ----------------- 36.7/65.9 MB 2.1 MB/s eta 0:00:14\n",
      "   ---------------------- ----------------- 36.8/65.9 MB 2.1 MB/s eta 0:00:14\n",
      "   ---------------------- ----------------- 36.9/65.9 MB 2.1 MB/s eta 0:00:14\n",
      "   ---------------------- ----------------- 37.0/65.9 MB 2.1 MB/s eta 0:00:14\n",
      "   ---------------------- ----------------- 37.0/65.9 MB 2.1 MB/s eta 0:00:14\n",
      "   ---------------------- ----------------- 37.2/65.9 MB 2.2 MB/s eta 0:00:14\n",
      "   ---------------------- ----------------- 37.3/65.9 MB 2.2 MB/s eta 0:00:14\n",
      "   ---------------------- ----------------- 37.4/65.9 MB 2.2 MB/s eta 0:00:14\n",
      "   ---------------------- ----------------- 37.5/65.9 MB 2.1 MB/s eta 0:00:14\n",
      "   ---------------------- ----------------- 37.6/65.9 MB 2.1 MB/s eta 0:00:14\n",
      "   ---------------------- ----------------- 37.7/65.9 MB 2.1 MB/s eta 0:00:14\n",
      "   ---------------------- ----------------- 37.8/65.9 MB 2.1 MB/s eta 0:00:14\n",
      "   ----------------------- ---------------- 37.9/65.9 MB 2.1 MB/s eta 0:00:14\n",
      "   ----------------------- ---------------- 38.1/65.9 MB 2.1 MB/s eta 0:00:14\n",
      "   ----------------------- ---------------- 38.2/65.9 MB 2.2 MB/s eta 0:00:13\n",
      "   ----------------------- ---------------- 38.3/65.9 MB 2.2 MB/s eta 0:00:13\n",
      "   ----------------------- ---------------- 38.4/65.9 MB 2.2 MB/s eta 0:00:13\n",
      "   ----------------------- ---------------- 38.5/65.9 MB 2.1 MB/s eta 0:00:13\n",
      "   ----------------------- ---------------- 38.6/65.9 MB 2.1 MB/s eta 0:00:13\n",
      "   ----------------------- ---------------- 38.7/65.9 MB 2.1 MB/s eta 0:00:13\n",
      "   ----------------------- ---------------- 38.8/65.9 MB 2.2 MB/s eta 0:00:13\n",
      "   ----------------------- ---------------- 38.9/65.9 MB 2.2 MB/s eta 0:00:13\n",
      "   ----------------------- ---------------- 39.0/65.9 MB 2.2 MB/s eta 0:00:13\n",
      "   ----------------------- ---------------- 39.1/65.9 MB 2.2 MB/s eta 0:00:13\n",
      "   ----------------------- ---------------- 39.2/65.9 MB 2.2 MB/s eta 0:00:13\n",
      "   ----------------------- ---------------- 39.3/65.9 MB 2.1 MB/s eta 0:00:13\n",
      "   ----------------------- ---------------- 39.4/65.9 MB 2.2 MB/s eta 0:00:13\n",
      "   ----------------------- ---------------- 39.5/65.9 MB 2.2 MB/s eta 0:00:13\n",
      "   ------------------------ --------------- 39.6/65.9 MB 2.2 MB/s eta 0:00:13\n",
      "   ------------------------ --------------- 39.7/65.9 MB 2.1 MB/s eta 0:00:13\n",
      "   ------------------------ --------------- 39.8/65.9 MB 2.1 MB/s eta 0:00:13\n",
      "   ------------------------ --------------- 39.9/65.9 MB 2.1 MB/s eta 0:00:13\n",
      "   ------------------------ --------------- 40.0/65.9 MB 2.1 MB/s eta 0:00:13\n",
      "   ------------------------ --------------- 40.1/65.9 MB 2.2 MB/s eta 0:00:13\n",
      "   ------------------------ --------------- 40.2/65.9 MB 2.1 MB/s eta 0:00:13\n",
      "   ------------------------ --------------- 40.3/65.9 MB 2.1 MB/s eta 0:00:12\n",
      "   ------------------------ --------------- 40.4/65.9 MB 2.1 MB/s eta 0:00:12\n",
      "   ------------------------ --------------- 40.5/65.9 MB 2.1 MB/s eta 0:00:12\n",
      "   ------------------------ --------------- 40.6/65.9 MB 2.2 MB/s eta 0:00:12\n",
      "   ------------------------ --------------- 40.7/65.9 MB 2.2 MB/s eta 0:00:12\n",
      "   ------------------------ --------------- 40.8/65.9 MB 2.1 MB/s eta 0:00:12\n",
      "   ------------------------ --------------- 40.9/65.9 MB 2.1 MB/s eta 0:00:12\n",
      "   ------------------------ --------------- 41.0/65.9 MB 2.2 MB/s eta 0:00:12\n",
      "   ------------------------ --------------- 41.0/65.9 MB 2.1 MB/s eta 0:00:12\n",
      "   ------------------------ --------------- 41.1/65.9 MB 2.1 MB/s eta 0:00:12\n",
      "   ------------------------- -------------- 41.3/65.9 MB 2.1 MB/s eta 0:00:12\n",
      "   ------------------------- -------------- 41.4/65.9 MB 2.2 MB/s eta 0:00:12\n",
      "   ------------------------- -------------- 41.5/65.9 MB 2.2 MB/s eta 0:00:12\n",
      "   ------------------------- -------------- 41.6/65.9 MB 2.2 MB/s eta 0:00:12\n",
      "   ------------------------- -------------- 41.7/65.9 MB 2.2 MB/s eta 0:00:12\n",
      "   ------------------------- -------------- 41.8/65.9 MB 2.1 MB/s eta 0:00:12\n",
      "   ------------------------- -------------- 41.9/65.9 MB 2.1 MB/s eta 0:00:12\n",
      "   ------------------------- -------------- 42.0/65.9 MB 2.2 MB/s eta 0:00:12\n",
      "   ------------------------- -------------- 42.1/65.9 MB 2.2 MB/s eta 0:00:12\n",
      "   ------------------------- -------------- 42.2/65.9 MB 2.1 MB/s eta 0:00:12\n",
      "   ------------------------- -------------- 42.3/65.9 MB 2.1 MB/s eta 0:00:12\n",
      "   ------------------------- -------------- 42.4/65.9 MB 2.1 MB/s eta 0:00:11\n",
      "   ------------------------- -------------- 42.5/65.9 MB 2.2 MB/s eta 0:00:11\n",
      "   ------------------------- -------------- 42.6/65.9 MB 2.1 MB/s eta 0:00:11\n",
      "   ------------------------- -------------- 42.7/65.9 MB 2.1 MB/s eta 0:00:11\n",
      "   ------------------------- -------------- 42.8/65.9 MB 2.1 MB/s eta 0:00:11\n",
      "   -------------------------- ------------- 42.9/65.9 MB 2.2 MB/s eta 0:00:11\n",
      "   -------------------------- ------------- 43.0/65.9 MB 2.2 MB/s eta 0:00:11\n",
      "   -------------------------- ------------- 43.1/65.9 MB 2.2 MB/s eta 0:00:11\n",
      "   -------------------------- ------------- 43.2/65.9 MB 2.1 MB/s eta 0:00:11\n",
      "   -------------------------- ------------- 43.3/65.9 MB 2.2 MB/s eta 0:00:11\n",
      "   -------------------------- ------------- 43.4/65.9 MB 2.2 MB/s eta 0:00:11\n",
      "   -------------------------- ------------- 43.5/65.9 MB 2.2 MB/s eta 0:00:11\n",
      "   -------------------------- ------------- 43.6/65.9 MB 2.2 MB/s eta 0:00:11\n",
      "   -------------------------- ------------- 43.7/65.9 MB 2.1 MB/s eta 0:00:11\n",
      "   -------------------------- ------------- 43.8/65.9 MB 2.2 MB/s eta 0:00:11\n",
      "   -------------------------- ------------- 43.9/65.9 MB 2.2 MB/s eta 0:00:11\n",
      "   -------------------------- ------------- 44.0/65.9 MB 2.2 MB/s eta 0:00:11\n",
      "   -------------------------- ------------- 44.1/65.9 MB 2.1 MB/s eta 0:00:11\n",
      "   -------------------------- ------------- 44.2/65.9 MB 2.1 MB/s eta 0:00:11\n",
      "   -------------------------- ------------- 44.3/65.9 MB 2.2 MB/s eta 0:00:11\n",
      "   -------------------------- ------------- 44.4/65.9 MB 2.2 MB/s eta 0:00:10\n",
      "   -------------------------- ------------- 44.5/65.9 MB 2.1 MB/s eta 0:00:10\n",
      "   --------------------------- ------------ 44.6/65.9 MB 2.1 MB/s eta 0:00:10\n",
      "   --------------------------- ------------ 44.7/65.9 MB 2.1 MB/s eta 0:00:10\n",
      "   --------------------------- ------------ 44.8/65.9 MB 2.1 MB/s eta 0:00:10\n",
      "   --------------------------- ------------ 44.9/65.9 MB 2.1 MB/s eta 0:00:10\n",
      "   --------------------------- ------------ 45.0/65.9 MB 2.1 MB/s eta 0:00:10\n",
      "   --------------------------- ------------ 45.1/65.9 MB 2.1 MB/s eta 0:00:10\n",
      "   --------------------------- ------------ 45.2/65.9 MB 2.1 MB/s eta 0:00:10\n",
      "   --------------------------- ------------ 45.3/65.9 MB 2.1 MB/s eta 0:00:10\n",
      "   --------------------------- ------------ 45.5/65.9 MB 2.1 MB/s eta 0:00:10\n",
      "   --------------------------- ------------ 45.6/65.9 MB 2.1 MB/s eta 0:00:10\n",
      "   --------------------------- ------------ 45.7/65.9 MB 2.2 MB/s eta 0:00:10\n",
      "   --------------------------- ------------ 45.9/65.9 MB 2.2 MB/s eta 0:00:10\n",
      "   --------------------------- ------------ 45.9/65.9 MB 2.2 MB/s eta 0:00:10\n",
      "   --------------------------- ------------ 46.0/65.9 MB 2.2 MB/s eta 0:00:10\n",
      "   --------------------------- ------------ 46.1/65.9 MB 2.2 MB/s eta 0:00:10\n",
      "   ---------------------------- ----------- 46.2/65.9 MB 2.2 MB/s eta 0:00:10\n",
      "   ---------------------------- ----------- 46.3/65.9 MB 2.2 MB/s eta 0:00:10\n",
      "   ---------------------------- ----------- 46.4/65.9 MB 2.2 MB/s eta 0:00:10\n",
      "   ---------------------------- ----------- 46.5/65.9 MB 2.2 MB/s eta 0:00:09\n",
      "   ---------------------------- ----------- 46.6/65.9 MB 2.2 MB/s eta 0:00:09\n",
      "   ---------------------------- ----------- 46.8/65.9 MB 2.2 MB/s eta 0:00:09\n",
      "   ---------------------------- ----------- 46.8/65.9 MB 2.2 MB/s eta 0:00:09\n",
      "   ---------------------------- ----------- 46.9/65.9 MB 2.2 MB/s eta 0:00:09\n",
      "   ---------------------------- ----------- 47.1/65.9 MB 2.1 MB/s eta 0:00:09\n",
      "   ---------------------------- ----------- 47.2/65.9 MB 2.1 MB/s eta 0:00:09\n",
      "   ---------------------------- ----------- 47.3/65.9 MB 2.1 MB/s eta 0:00:09\n",
      "   ---------------------------- ----------- 47.4/65.9 MB 2.1 MB/s eta 0:00:09\n",
      "   ---------------------------- ----------- 47.5/65.9 MB 2.1 MB/s eta 0:00:09\n",
      "   ---------------------------- ----------- 47.6/65.9 MB 2.1 MB/s eta 0:00:09\n",
      "   ---------------------------- ----------- 47.7/65.9 MB 2.1 MB/s eta 0:00:09\n",
      "   ---------------------------- ----------- 47.7/65.9 MB 2.1 MB/s eta 0:00:09\n",
      "   ---------------------------- ----------- 47.8/65.9 MB 2.1 MB/s eta 0:00:09\n",
      "   ----------------------------- ---------- 47.8/65.9 MB 2.1 MB/s eta 0:00:09\n",
      "   ----------------------------- ---------- 47.9/65.9 MB 2.1 MB/s eta 0:00:09\n",
      "   ----------------------------- ---------- 48.0/65.9 MB 2.1 MB/s eta 0:00:09\n",
      "   ----------------------------- ---------- 48.1/65.9 MB 2.1 MB/s eta 0:00:09\n",
      "   ----------------------------- ---------- 48.2/65.9 MB 2.1 MB/s eta 0:00:09\n",
      "   ----------------------------- ---------- 48.4/65.9 MB 2.1 MB/s eta 0:00:09\n",
      "   ----------------------------- ---------- 48.5/65.9 MB 2.1 MB/s eta 0:00:09\n",
      "   ----------------------------- ---------- 48.7/65.9 MB 2.1 MB/s eta 0:00:09\n",
      "   ----------------------------- ---------- 48.9/65.9 MB 2.2 MB/s eta 0:00:08\n",
      "   ----------------------------- ---------- 48.9/65.9 MB 2.2 MB/s eta 0:00:08\n",
      "   ----------------------------- ---------- 49.0/65.9 MB 2.2 MB/s eta 0:00:08\n",
      "   ----------------------------- ---------- 49.1/65.9 MB 2.1 MB/s eta 0:00:08\n",
      "   ----------------------------- ---------- 49.2/65.9 MB 2.1 MB/s eta 0:00:08\n",
      "   ----------------------------- ---------- 49.3/65.9 MB 2.1 MB/s eta 0:00:08\n",
      "   ----------------------------- ---------- 49.4/65.9 MB 2.1 MB/s eta 0:00:08\n",
      "   ------------------------------ --------- 49.5/65.9 MB 2.1 MB/s eta 0:00:08\n",
      "   ------------------------------ --------- 49.6/65.9 MB 2.1 MB/s eta 0:00:08\n",
      "   ------------------------------ --------- 49.7/65.9 MB 2.1 MB/s eta 0:00:08\n",
      "   ------------------------------ --------- 49.8/65.9 MB 2.1 MB/s eta 0:00:08\n",
      "   ------------------------------ --------- 49.9/65.9 MB 2.1 MB/s eta 0:00:08\n",
      "   ------------------------------ --------- 50.0/65.9 MB 2.1 MB/s eta 0:00:08\n",
      "   ------------------------------ --------- 50.1/65.9 MB 2.1 MB/s eta 0:00:08\n",
      "   ------------------------------ --------- 50.2/65.9 MB 2.1 MB/s eta 0:00:08\n",
      "   ------------------------------ --------- 50.3/65.9 MB 2.1 MB/s eta 0:00:08\n",
      "   ------------------------------ --------- 50.4/65.9 MB 2.1 MB/s eta 0:00:08\n",
      "   ------------------------------ --------- 50.5/65.9 MB 2.1 MB/s eta 0:00:08\n",
      "   ------------------------------ --------- 50.5/65.9 MB 2.1 MB/s eta 0:00:08\n",
      "   ------------------------------ --------- 50.6/65.9 MB 2.1 MB/s eta 0:00:08\n",
      "   ------------------------------ --------- 50.8/65.9 MB 2.1 MB/s eta 0:00:08\n",
      "   ------------------------------ --------- 50.8/65.9 MB 2.1 MB/s eta 0:00:08\n",
      "   ------------------------------ --------- 51.0/65.9 MB 2.1 MB/s eta 0:00:08\n",
      "   ------------------------------ --------- 51.1/65.9 MB 2.1 MB/s eta 0:00:07\n",
      "   ------------------------------- -------- 51.2/65.9 MB 2.2 MB/s eta 0:00:07\n",
      "   ------------------------------- -------- 51.3/65.9 MB 2.2 MB/s eta 0:00:07\n",
      "   ------------------------------- -------- 51.4/65.9 MB 2.1 MB/s eta 0:00:07\n",
      "   ------------------------------- -------- 51.5/65.9 MB 2.1 MB/s eta 0:00:07\n",
      "   ------------------------------- -------- 51.6/65.9 MB 2.1 MB/s eta 0:00:07\n",
      "   ------------------------------- -------- 51.7/65.9 MB 2.1 MB/s eta 0:00:07\n",
      "   ------------------------------- -------- 51.8/65.9 MB 2.1 MB/s eta 0:00:07\n",
      "   ------------------------------- -------- 51.9/65.9 MB 2.1 MB/s eta 0:00:07\n",
      "   ------------------------------- -------- 52.0/65.9 MB 2.1 MB/s eta 0:00:07\n",
      "   ------------------------------- -------- 52.1/65.9 MB 2.1 MB/s eta 0:00:07\n",
      "   ------------------------------- -------- 52.2/65.9 MB 2.1 MB/s eta 0:00:07\n",
      "   ------------------------------- -------- 52.3/65.9 MB 2.1 MB/s eta 0:00:07\n",
      "   ------------------------------- -------- 52.4/65.9 MB 2.1 MB/s eta 0:00:07\n",
      "   ------------------------------- -------- 52.5/65.9 MB 2.1 MB/s eta 0:00:07\n",
      "   ------------------------------- -------- 52.6/65.9 MB 2.1 MB/s eta 0:00:07\n",
      "   ------------------------------- -------- 52.7/65.9 MB 2.1 MB/s eta 0:00:07\n",
      "   -------------------------------- ------- 52.8/65.9 MB 2.1 MB/s eta 0:00:07\n",
      "   -------------------------------- ------- 52.9/65.9 MB 2.1 MB/s eta 0:00:07\n",
      "   -------------------------------- ------- 53.0/65.9 MB 2.1 MB/s eta 0:00:07\n",
      "   -------------------------------- ------- 53.1/65.9 MB 2.1 MB/s eta 0:00:07\n",
      "   -------------------------------- ------- 53.1/65.9 MB 2.1 MB/s eta 0:00:07\n",
      "   -------------------------------- ------- 53.2/65.9 MB 2.1 MB/s eta 0:00:07\n",
      "   -------------------------------- ------- 53.3/65.9 MB 2.1 MB/s eta 0:00:06\n",
      "   -------------------------------- ------- 53.4/65.9 MB 2.1 MB/s eta 0:00:06\n",
      "   -------------------------------- ------- 53.5/65.9 MB 2.1 MB/s eta 0:00:06\n",
      "   -------------------------------- ------- 53.6/65.9 MB 2.1 MB/s eta 0:00:06\n",
      "   -------------------------------- ------- 53.8/65.9 MB 2.1 MB/s eta 0:00:06\n",
      "   -------------------------------- ------- 53.9/65.9 MB 2.1 MB/s eta 0:00:06\n",
      "   -------------------------------- ------- 54.0/65.9 MB 2.1 MB/s eta 0:00:06\n",
      "   -------------------------------- ------- 54.1/65.9 MB 2.1 MB/s eta 0:00:06\n",
      "   -------------------------------- ------- 54.2/65.9 MB 2.1 MB/s eta 0:00:06\n",
      "   -------------------------------- ------- 54.3/65.9 MB 2.1 MB/s eta 0:00:06\n",
      "   --------------------------------- ------ 54.4/65.9 MB 2.2 MB/s eta 0:00:06\n",
      "   --------------------------------- ------ 54.5/65.9 MB 2.1 MB/s eta 0:00:06\n",
      "   --------------------------------- ------ 54.6/65.9 MB 2.1 MB/s eta 0:00:06\n",
      "   --------------------------------- ------ 54.7/65.9 MB 2.2 MB/s eta 0:00:06\n",
      "   --------------------------------- ------ 54.8/65.9 MB 2.2 MB/s eta 0:00:06\n",
      "   --------------------------------- ------ 54.9/65.9 MB 2.2 MB/s eta 0:00:06\n",
      "   --------------------------------- ------ 55.0/65.9 MB 2.2 MB/s eta 0:00:06\n",
      "   --------------------------------- ------ 55.1/65.9 MB 2.2 MB/s eta 0:00:06\n",
      "   --------------------------------- ------ 55.2/65.9 MB 2.2 MB/s eta 0:00:05\n",
      "   --------------------------------- ------ 55.2/65.9 MB 2.2 MB/s eta 0:00:05\n",
      "   --------------------------------- ------ 55.3/65.9 MB 2.2 MB/s eta 0:00:05\n",
      "   --------------------------------- ------ 55.4/65.9 MB 2.2 MB/s eta 0:00:05\n",
      "   --------------------------------- ------ 55.4/65.9 MB 2.2 MB/s eta 0:00:05\n",
      "   --------------------------------- ------ 55.4/65.9 MB 2.1 MB/s eta 0:00:05\n",
      "   --------------------------------- ------ 55.5/65.9 MB 2.1 MB/s eta 0:00:05\n",
      "   --------------------------------- ------ 55.6/65.9 MB 2.1 MB/s eta 0:00:05\n",
      "   --------------------------------- ------ 55.7/65.9 MB 2.1 MB/s eta 0:00:05\n",
      "   --------------------------------- ------ 55.9/65.9 MB 2.1 MB/s eta 0:00:05\n",
      "   --------------------------------- ------ 56.0/65.9 MB 2.1 MB/s eta 0:00:05\n",
      "   ---------------------------------- ----- 56.1/65.9 MB 2.1 MB/s eta 0:00:05\n",
      "   ---------------------------------- ----- 56.3/65.9 MB 2.1 MB/s eta 0:00:05\n",
      "   ---------------------------------- ----- 56.5/65.9 MB 2.1 MB/s eta 0:00:05\n",
      "   ---------------------------------- ----- 56.6/65.9 MB 2.1 MB/s eta 0:00:05\n",
      "   ---------------------------------- ----- 56.7/65.9 MB 2.1 MB/s eta 0:00:05\n",
      "   ---------------------------------- ----- 56.8/65.9 MB 2.1 MB/s eta 0:00:05\n",
      "   ---------------------------------- ----- 56.9/65.9 MB 2.1 MB/s eta 0:00:05\n",
      "   ---------------------------------- ----- 57.0/65.9 MB 2.1 MB/s eta 0:00:05\n",
      "   ---------------------------------- ----- 57.1/65.9 MB 2.1 MB/s eta 0:00:05\n",
      "   ---------------------------------- ----- 57.2/65.9 MB 2.1 MB/s eta 0:00:05\n",
      "   ---------------------------------- ----- 57.3/65.9 MB 2.2 MB/s eta 0:00:05\n",
      "   ---------------------------------- ----- 57.4/65.9 MB 2.2 MB/s eta 0:00:04\n",
      "   ---------------------------------- ----- 57.5/65.9 MB 2.2 MB/s eta 0:00:04\n",
      "   ---------------------------------- ----- 57.6/65.9 MB 2.1 MB/s eta 0:00:04\n",
      "   ---------------------------------- ----- 57.7/65.9 MB 2.1 MB/s eta 0:00:04\n",
      "   ----------------------------------- ---- 57.8/65.9 MB 2.1 MB/s eta 0:00:04\n",
      "   ----------------------------------- ---- 57.9/65.9 MB 2.2 MB/s eta 0:00:04\n",
      "   ----------------------------------- ---- 58.0/65.9 MB 2.2 MB/s eta 0:00:04\n",
      "   ----------------------------------- ---- 58.1/65.9 MB 2.2 MB/s eta 0:00:04\n",
      "   ----------------------------------- ---- 58.1/65.9 MB 2.2 MB/s eta 0:00:04\n",
      "   ----------------------------------- ---- 58.3/65.9 MB 2.2 MB/s eta 0:00:04\n",
      "   ----------------------------------- ---- 58.3/65.9 MB 2.2 MB/s eta 0:00:04\n",
      "   ----------------------------------- ---- 58.4/65.9 MB 2.2 MB/s eta 0:00:04\n",
      "   ----------------------------------- ---- 58.6/65.9 MB 2.2 MB/s eta 0:00:04\n",
      "   ----------------------------------- ---- 58.7/65.9 MB 2.2 MB/s eta 0:00:04\n",
      "   ----------------------------------- ---- 58.8/65.9 MB 2.2 MB/s eta 0:00:04\n",
      "   ----------------------------------- ---- 58.8/65.9 MB 2.1 MB/s eta 0:00:04\n",
      "   ----------------------------------- ---- 59.0/65.9 MB 2.1 MB/s eta 0:00:04\n",
      "   ----------------------------------- ---- 59.1/65.9 MB 2.1 MB/s eta 0:00:04\n",
      "   ----------------------------------- ---- 59.2/65.9 MB 2.1 MB/s eta 0:00:04\n",
      "   ----------------------------------- ---- 59.3/65.9 MB 2.1 MB/s eta 0:00:04\n",
      "   ------------------------------------ --- 59.4/65.9 MB 2.1 MB/s eta 0:00:04\n",
      "   ------------------------------------ --- 59.4/65.9 MB 2.1 MB/s eta 0:00:04\n",
      "   ------------------------------------ --- 59.5/65.9 MB 2.1 MB/s eta 0:00:04\n",
      "   ------------------------------------ --- 59.7/65.9 MB 2.1 MB/s eta 0:00:03\n",
      "   ------------------------------------ --- 59.8/65.9 MB 2.1 MB/s eta 0:00:03\n",
      "   ------------------------------------ --- 59.9/65.9 MB 2.1 MB/s eta 0:00:03\n",
      "   ------------------------------------ --- 59.9/65.9 MB 2.1 MB/s eta 0:00:03\n",
      "   ------------------------------------ --- 60.0/65.9 MB 2.1 MB/s eta 0:00:03\n",
      "   ------------------------------------ --- 60.1/65.9 MB 2.1 MB/s eta 0:00:03\n",
      "   ------------------------------------ --- 60.2/65.9 MB 2.1 MB/s eta 0:00:03\n",
      "   ------------------------------------ --- 60.3/65.9 MB 2.1 MB/s eta 0:00:03\n",
      "   ------------------------------------ --- 60.4/65.9 MB 2.1 MB/s eta 0:00:03\n",
      "   ------------------------------------ --- 60.5/65.9 MB 2.1 MB/s eta 0:00:03\n",
      "   ------------------------------------ --- 60.6/65.9 MB 2.1 MB/s eta 0:00:03\n",
      "   ------------------------------------ --- 60.7/65.9 MB 2.2 MB/s eta 0:00:03\n",
      "   ------------------------------------ --- 60.8/65.9 MB 2.1 MB/s eta 0:00:03\n",
      "   ------------------------------------ --- 60.9/65.9 MB 2.2 MB/s eta 0:00:03\n",
      "   ------------------------------------- -- 61.0/65.9 MB 2.1 MB/s eta 0:00:03\n",
      "   ------------------------------------- -- 61.1/65.9 MB 2.1 MB/s eta 0:00:03\n",
      "   ------------------------------------- -- 61.2/65.9 MB 2.1 MB/s eta 0:00:03\n",
      "   ------------------------------------- -- 61.3/65.9 MB 2.1 MB/s eta 0:00:03\n",
      "   ------------------------------------- -- 61.4/65.9 MB 2.1 MB/s eta 0:00:03\n",
      "   ------------------------------------- -- 61.5/65.9 MB 2.1 MB/s eta 0:00:03\n",
      "   ------------------------------------- -- 61.6/65.9 MB 2.1 MB/s eta 0:00:03\n",
      "   ------------------------------------- -- 61.7/65.9 MB 2.1 MB/s eta 0:00:02\n",
      "   ------------------------------------- -- 61.8/65.9 MB 2.1 MB/s eta 0:00:02\n",
      "   ------------------------------------- -- 62.0/65.9 MB 2.1 MB/s eta 0:00:02\n",
      "   ------------------------------------- -- 62.0/65.9 MB 2.1 MB/s eta 0:00:02\n",
      "   ------------------------------------- -- 62.1/65.9 MB 2.1 MB/s eta 0:00:02\n",
      "   ------------------------------------- -- 62.2/65.9 MB 2.1 MB/s eta 0:00:02\n",
      "   ------------------------------------- -- 62.3/65.9 MB 2.1 MB/s eta 0:00:02\n",
      "   ------------------------------------- -- 62.4/65.9 MB 2.2 MB/s eta 0:00:02\n",
      "   ------------------------------------- -- 62.5/65.9 MB 2.1 MB/s eta 0:00:02\n",
      "   ------------------------------------- -- 62.6/65.9 MB 2.1 MB/s eta 0:00:02\n",
      "   -------------------------------------- - 62.7/65.9 MB 2.1 MB/s eta 0:00:02\n",
      "   -------------------------------------- - 62.7/65.9 MB 2.1 MB/s eta 0:00:02\n",
      "   -------------------------------------- - 62.8/65.9 MB 2.1 MB/s eta 0:00:02\n",
      "   -------------------------------------- - 62.8/65.9 MB 2.1 MB/s eta 0:00:02\n",
      "   -------------------------------------- - 63.0/65.9 MB 2.1 MB/s eta 0:00:02\n",
      "   -------------------------------------- - 63.0/65.9 MB 2.1 MB/s eta 0:00:02\n",
      "   -------------------------------------- - 63.2/65.9 MB 2.1 MB/s eta 0:00:02\n",
      "   -------------------------------------- - 63.3/65.9 MB 2.1 MB/s eta 0:00:02\n",
      "   -------------------------------------- - 63.4/65.9 MB 2.1 MB/s eta 0:00:02\n",
      "   -------------------------------------- - 63.5/65.9 MB 2.1 MB/s eta 0:00:02\n",
      "   -------------------------------------- - 63.7/65.9 MB 2.1 MB/s eta 0:00:02\n",
      "   -------------------------------------- - 63.8/65.9 MB 2.2 MB/s eta 0:00:02\n",
      "   -------------------------------------- - 63.9/65.9 MB 2.1 MB/s eta 0:00:01\n",
      "   -------------------------------------- - 64.0/65.9 MB 2.2 MB/s eta 0:00:01\n",
      "   -------------------------------------- - 64.1/65.9 MB 2.1 MB/s eta 0:00:01\n",
      "   -------------------------------------- - 64.2/65.9 MB 2.1 MB/s eta 0:00:01\n",
      "   ---------------------------------------  64.3/65.9 MB 2.1 MB/s eta 0:00:01\n",
      "   ---------------------------------------  64.4/65.9 MB 2.1 MB/s eta 0:00:01\n",
      "   ---------------------------------------  64.5/65.9 MB 2.1 MB/s eta 0:00:01\n",
      "   ---------------------------------------  64.7/65.9 MB 2.1 MB/s eta 0:00:01\n",
      "   ---------------------------------------  64.8/65.9 MB 2.1 MB/s eta 0:00:01\n",
      "   ---------------------------------------  64.9/65.9 MB 2.2 MB/s eta 0:00:01\n",
      "   ---------------------------------------  65.0/65.9 MB 2.2 MB/s eta 0:00:01\n",
      "   ---------------------------------------  65.1/65.9 MB 2.2 MB/s eta 0:00:01\n",
      "   ---------------------------------------  65.2/65.9 MB 2.2 MB/s eta 0:00:01\n",
      "   ---------------------------------------  65.2/65.9 MB 2.1 MB/s eta 0:00:01\n",
      "   ---------------------------------------  65.4/65.9 MB 2.1 MB/s eta 0:00:01\n",
      "   ---------------------------------------  65.5/65.9 MB 2.2 MB/s eta 0:00:01\n",
      "   ---------------------------------------  65.6/65.9 MB 2.2 MB/s eta 0:00:01\n",
      "   ---------------------------------------  65.7/65.9 MB 2.2 MB/s eta 0:00:01\n",
      "   ---------------------------------------  65.8/65.9 MB 2.2 MB/s eta 0:00:01\n",
      "   ---------------------------------------  65.9/65.9 MB 2.2 MB/s eta 0:00:01\n",
      "   ---------------------------------------  65.9/65.9 MB 2.2 MB/s eta 0:00:01\n",
      "   ---------------------------------------  65.9/65.9 MB 2.2 MB/s eta 0:00:01\n",
      "   ---------------------------------------  65.9/65.9 MB 2.2 MB/s eta 0:00:01\n",
      "   ---------------------------------------  65.9/65.9 MB 2.2 MB/s eta 0:00:01\n",
      "   ---------------------------------------  65.9/65.9 MB 2.2 MB/s eta 0:00:01\n",
      "   ---------------------------------------  65.9/65.9 MB 2.2 MB/s eta 0:00:01\n",
      "   ---------------------------------------  65.9/65.9 MB 2.2 MB/s eta 0:00:01\n",
      "   ---------------------------------------  65.9/65.9 MB 2.2 MB/s eta 0:00:01\n",
      "   ---------------------------------------  65.9/65.9 MB 2.2 MB/s eta 0:00:01\n",
      "   ---------------------------------------  65.9/65.9 MB 2.2 MB/s eta 0:00:01\n",
      "   ---------------------------------------  65.9/65.9 MB 2.2 MB/s eta 0:00:01\n",
      "   ---------------------------------------  65.9/65.9 MB 2.2 MB/s eta 0:00:01\n",
      "   ---------------------------------------  65.9/65.9 MB 2.2 MB/s eta 0:00:01\n",
      "   ---------------------------------------  65.9/65.9 MB 2.2 MB/s eta 0:00:01\n",
      "   ---------------------------------------  65.9/65.9 MB 2.2 MB/s eta 0:00:01\n",
      "   ---------------------------------------  65.9/65.9 MB 2.2 MB/s eta 0:00:01\n",
      "   ---------------------------------------  65.9/65.9 MB 2.2 MB/s eta 0:00:01\n",
      "   ---------------------------------------  65.9/65.9 MB 2.2 MB/s eta 0:00:01\n",
      "   ---------------------------------------  65.9/65.9 MB 2.2 MB/s eta 0:00:01\n",
      "   ---------------------------------------  65.9/65.9 MB 2.2 MB/s eta 0:00:01\n",
      "   ---------------------------------------  65.9/65.9 MB 2.2 MB/s eta 0:00:01\n",
      "   ---------------------------------------  65.9/65.9 MB 2.2 MB/s eta 0:00:01\n",
      "   ---------------------------------------  65.9/65.9 MB 2.2 MB/s eta 0:00:01\n",
      "   ---------------------------------------  65.9/65.9 MB 2.2 MB/s eta 0:00:01\n",
      "   ---------------------------------------- 65.9/65.9 MB 1.8 MB/s eta 0:00:00\n",
      "Downloading lightgbm-4.5.0-py3-none-win_amd64.whl (1.4 MB)\n",
      "   ---------------------------------------- 0.0/1.4 MB ? eta -:--:--\n",
      "   - -------------------------------------- 0.1/1.4 MB 1.6 MB/s eta 0:00:01\n",
      "   ---- ----------------------------------- 0.2/1.4 MB 2.0 MB/s eta 0:00:01\n",
      "   ------- -------------------------------- 0.3/1.4 MB 2.0 MB/s eta 0:00:01\n",
      "   ---------- ----------------------------- 0.4/1.4 MB 2.2 MB/s eta 0:00:01\n",
      "   --------------- ------------------------ 0.5/1.4 MB 2.4 MB/s eta 0:00:01\n",
      "   ------------------ --------------------- 0.7/1.4 MB 2.4 MB/s eta 0:00:01\n",
      "   ---------------------- ----------------- 0.8/1.4 MB 2.6 MB/s eta 0:00:01\n",
      "   --------------------------- ------------ 1.0/1.4 MB 2.7 MB/s eta 0:00:01\n",
      "   ----------------------------- ---------- 1.1/1.4 MB 2.6 MB/s eta 0:00:01\n",
      "   --------------------------------- ------ 1.2/1.4 MB 2.6 MB/s eta 0:00:01\n",
      "   ------------------------------------ --- 1.3/1.4 MB 2.6 MB/s eta 0:00:01\n",
      "   ---------------------------------------  1.4/1.4 MB 2.6 MB/s eta 0:00:01\n",
      "   ---------------------------------------- 1.4/1.4 MB 2.5 MB/s eta 0:00:00\n",
      "Downloading matplotlib-3.7.5-cp311-cp311-win_amd64.whl (7.5 MB)\n",
      "   ---------------------------------------- 0.0/7.5 MB ? eta -:--:--\n",
      "   ---------------------------------------- 0.1/7.5 MB 4.8 MB/s eta 0:00:02\n",
      "   - -------------------------------------- 0.2/7.5 MB 3.0 MB/s eta 0:00:03\n",
      "   -- ------------------------------------- 0.4/7.5 MB 3.4 MB/s eta 0:00:03\n",
      "   -- ------------------------------------- 0.5/7.5 MB 3.0 MB/s eta 0:00:03\n",
      "   --- ------------------------------------ 0.6/7.5 MB 2.8 MB/s eta 0:00:03\n",
      "   --- ------------------------------------ 0.7/7.5 MB 2.7 MB/s eta 0:00:03\n",
      "   ---- ----------------------------------- 0.8/7.5 MB 2.7 MB/s eta 0:00:03\n",
      "   ---- ----------------------------------- 0.9/7.5 MB 2.7 MB/s eta 0:00:03\n",
      "   ----- ---------------------------------- 1.0/7.5 MB 2.5 MB/s eta 0:00:03\n",
      "   ----- ---------------------------------- 1.1/7.5 MB 2.4 MB/s eta 0:00:03\n",
      "   ------ --------------------------------- 1.1/7.5 MB 2.3 MB/s eta 0:00:03\n",
      "   ------ --------------------------------- 1.2/7.5 MB 2.3 MB/s eta 0:00:03\n",
      "   ------- -------------------------------- 1.4/7.5 MB 2.3 MB/s eta 0:00:03\n",
      "   ------- -------------------------------- 1.5/7.5 MB 2.3 MB/s eta 0:00:03\n",
      "   -------- ------------------------------- 1.6/7.5 MB 2.3 MB/s eta 0:00:03\n",
      "   --------- ------------------------------ 1.7/7.5 MB 2.4 MB/s eta 0:00:03\n",
      "   --------- ------------------------------ 1.8/7.5 MB 2.3 MB/s eta 0:00:03\n",
      "   ---------- ----------------------------- 1.9/7.5 MB 2.3 MB/s eta 0:00:03\n",
      "   ---------- ----------------------------- 2.0/7.5 MB 2.3 MB/s eta 0:00:03\n",
      "   ----------- ---------------------------- 2.1/7.5 MB 2.3 MB/s eta 0:00:03\n",
      "   ----------- ---------------------------- 2.2/7.5 MB 2.3 MB/s eta 0:00:03\n",
      "   ------------ --------------------------- 2.3/7.5 MB 2.3 MB/s eta 0:00:03\n",
      "   ------------ --------------------------- 2.4/7.5 MB 2.3 MB/s eta 0:00:03\n",
      "   ------------- -------------------------- 2.5/7.5 MB 2.3 MB/s eta 0:00:03\n",
      "   ------------- -------------------------- 2.6/7.5 MB 2.3 MB/s eta 0:00:03\n",
      "   -------------- ------------------------- 2.7/7.5 MB 2.3 MB/s eta 0:00:03\n",
      "   --------------- ------------------------ 2.8/7.5 MB 2.3 MB/s eta 0:00:03\n",
      "   --------------- ------------------------ 2.9/7.5 MB 2.3 MB/s eta 0:00:03\n",
      "   ---------------- ----------------------- 3.0/7.5 MB 2.2 MB/s eta 0:00:03\n",
      "   ---------------- ----------------------- 3.1/7.5 MB 2.3 MB/s eta 0:00:02\n",
      "   ----------------- ---------------------- 3.2/7.5 MB 2.3 MB/s eta 0:00:02\n",
      "   ----------------- ---------------------- 3.3/7.5 MB 2.2 MB/s eta 0:00:02\n",
      "   ------------------ --------------------- 3.4/7.5 MB 2.2 MB/s eta 0:00:02\n",
      "   ------------------ --------------------- 3.5/7.5 MB 2.2 MB/s eta 0:00:02\n",
      "   ------------------- -------------------- 3.6/7.5 MB 2.2 MB/s eta 0:00:02\n",
      "   ------------------- -------------------- 3.7/7.5 MB 2.2 MB/s eta 0:00:02\n",
      "   -------------------- ------------------- 3.8/7.5 MB 2.2 MB/s eta 0:00:02\n",
      "   -------------------- ------------------- 3.9/7.5 MB 2.2 MB/s eta 0:00:02\n",
      "   -------------------- ------------------- 3.9/7.5 MB 2.2 MB/s eta 0:00:02\n",
      "   --------------------- ------------------ 4.0/7.5 MB 2.2 MB/s eta 0:00:02\n",
      "   --------------------- ------------------ 4.1/7.5 MB 2.1 MB/s eta 0:00:02\n",
      "   ---------------------- ----------------- 4.2/7.5 MB 2.2 MB/s eta 0:00:02\n",
      "   ---------------------- ----------------- 4.3/7.5 MB 2.2 MB/s eta 0:00:02\n",
      "   ----------------------- ---------------- 4.4/7.5 MB 2.2 MB/s eta 0:00:02\n",
      "   ------------------------ --------------- 4.5/7.5 MB 2.2 MB/s eta 0:00:02\n",
      "   ------------------------ --------------- 4.7/7.5 MB 2.2 MB/s eta 0:00:02\n",
      "   ------------------------- -------------- 4.8/7.5 MB 2.2 MB/s eta 0:00:02\n",
      "   ------------------------- -------------- 4.9/7.5 MB 2.2 MB/s eta 0:00:02\n",
      "   -------------------------- ------------- 5.0/7.5 MB 2.2 MB/s eta 0:00:02\n",
      "   -------------------------- ------------- 5.0/7.5 MB 2.2 MB/s eta 0:00:02\n",
      "   --------------------------- ------------ 5.1/7.5 MB 2.2 MB/s eta 0:00:02\n",
      "   --------------------------- ------------ 5.2/7.5 MB 2.2 MB/s eta 0:00:02\n",
      "   ---------------------------- ----------- 5.4/7.5 MB 2.2 MB/s eta 0:00:01\n",
      "   ----------------------------- ---------- 5.4/7.5 MB 2.2 MB/s eta 0:00:01\n",
      "   ----------------------------- ---------- 5.6/7.5 MB 2.2 MB/s eta 0:00:01\n",
      "   ------------------------------ --------- 5.7/7.5 MB 2.2 MB/s eta 0:00:01\n",
      "   ------------------------------ --------- 5.8/7.5 MB 2.2 MB/s eta 0:00:01\n",
      "   ------------------------------- -------- 5.9/7.5 MB 2.2 MB/s eta 0:00:01\n",
      "   ------------------------------- -------- 5.9/7.5 MB 2.2 MB/s eta 0:00:01\n",
      "   -------------------------------- ------- 6.1/7.5 MB 2.2 MB/s eta 0:00:01\n",
      "   -------------------------------- ------- 6.1/7.5 MB 2.2 MB/s eta 0:00:01\n",
      "   --------------------------------- ------ 6.2/7.5 MB 2.2 MB/s eta 0:00:01\n",
      "   --------------------------------- ------ 6.3/7.5 MB 2.2 MB/s eta 0:00:01\n",
      "   ---------------------------------- ----- 6.4/7.5 MB 2.2 MB/s eta 0:00:01\n",
      "   ---------------------------------- ----- 6.5/7.5 MB 2.2 MB/s eta 0:00:01\n",
      "   ----------------------------------- ---- 6.6/7.5 MB 2.2 MB/s eta 0:00:01\n",
      "   ----------------------------------- ---- 6.7/7.5 MB 2.2 MB/s eta 0:00:01\n",
      "   ------------------------------------ --- 6.8/7.5 MB 2.2 MB/s eta 0:00:01\n",
      "   ------------------------------------ --- 6.9/7.5 MB 2.2 MB/s eta 0:00:01\n",
      "   ------------------------------------- -- 7.0/7.5 MB 2.2 MB/s eta 0:00:01\n",
      "   ------------------------------------- -- 7.1/7.5 MB 2.2 MB/s eta 0:00:01\n",
      "   -------------------------------------- - 7.2/7.5 MB 2.2 MB/s eta 0:00:01\n",
      "   ---------------------------------------  7.3/7.5 MB 2.2 MB/s eta 0:00:01\n",
      "   ---------------------------------------  7.4/7.5 MB 2.2 MB/s eta 0:00:01\n",
      "   ---------------------------------------  7.5/7.5 MB 2.2 MB/s eta 0:00:01\n",
      "   ---------------------------------------  7.5/7.5 MB 2.2 MB/s eta 0:00:01\n",
      "   ---------------------------------------  7.5/7.5 MB 2.2 MB/s eta 0:00:01\n",
      "   ---------------------------------------- 7.5/7.5 MB 2.1 MB/s eta 0:00:00\n",
      "Downloading nbformat-5.10.4-py3-none-any.whl (78 kB)\n",
      "   ---------------------------------------- 0.0/78.5 kB ? eta -:--:--\n",
      "   ------------------------------------ --- 71.7/78.5 kB 1.9 MB/s eta 0:00:01\n",
      "   ---------------------------------------- 78.5/78.5 kB 1.1 MB/s eta 0:00:00\n",
      "Downloading numba-0.60.0-cp311-cp311-win_amd64.whl (2.7 MB)\n",
      "   ---------------------------------------- 0.0/2.7 MB ? eta -:--:--\n",
      "   - -------------------------------------- 0.1/2.7 MB 2.0 MB/s eta 0:00:02\n",
      "   --- ------------------------------------ 0.2/2.7 MB 2.3 MB/s eta 0:00:02\n",
      "   ----- ---------------------------------- 0.4/2.7 MB 2.6 MB/s eta 0:00:01\n",
      "   ------- -------------------------------- 0.5/2.7 MB 2.7 MB/s eta 0:00:01\n",
      "   ---------- ----------------------------- 0.7/2.7 MB 3.0 MB/s eta 0:00:01\n",
      "   ----------- ---------------------------- 0.8/2.7 MB 2.9 MB/s eta 0:00:01\n",
      "   -------------- ------------------------- 1.0/2.7 MB 3.1 MB/s eta 0:00:01\n",
      "   --------------- ------------------------ 1.1/2.7 MB 2.9 MB/s eta 0:00:01\n",
      "   ----------------- ---------------------- 1.2/2.7 MB 2.9 MB/s eta 0:00:01\n",
      "   ------------------- -------------------- 1.3/2.7 MB 2.8 MB/s eta 0:00:01\n",
      "   -------------------- ------------------- 1.4/2.7 MB 2.8 MB/s eta 0:00:01\n",
      "   ---------------------- ----------------- 1.5/2.7 MB 2.8 MB/s eta 0:00:01\n",
      "   ----------------------- ---------------- 1.6/2.7 MB 2.6 MB/s eta 0:00:01\n",
      "   ------------------------- -------------- 1.7/2.7 MB 2.6 MB/s eta 0:00:01\n",
      "   -------------------------- ------------- 1.8/2.7 MB 2.6 MB/s eta 0:00:01\n",
      "   ---------------------------- ----------- 1.9/2.7 MB 2.6 MB/s eta 0:00:01\n",
      "   ------------------------------ --------- 2.0/2.7 MB 2.6 MB/s eta 0:00:01\n",
      "   ------------------------------- -------- 2.1/2.7 MB 2.6 MB/s eta 0:00:01\n",
      "   --------------------------------- ------ 2.2/2.7 MB 2.6 MB/s eta 0:00:01\n",
      "   ---------------------------------- ----- 2.3/2.7 MB 2.5 MB/s eta 0:00:01\n",
      "   ------------------------------------ --- 2.4/2.7 MB 2.5 MB/s eta 0:00:01\n",
      "   ------------------------------------- -- 2.5/2.7 MB 2.5 MB/s eta 0:00:01\n",
      "   ---------------------------------------  2.6/2.7 MB 2.5 MB/s eta 0:00:01\n",
      "   ---------------------------------------  2.7/2.7 MB 2.5 MB/s eta 0:00:01\n",
      "   ---------------------------------------- 2.7/2.7 MB 2.4 MB/s eta 0:00:00\n",
      "Downloading pandas-2.1.4-cp311-cp311-win_amd64.whl (10.6 MB)\n",
      "   ---------------------------------------- 0.0/10.6 MB ? eta -:--:--\n",
      "   ---------------------------------------- 0.1/10.6 MB 1.7 MB/s eta 0:00:07\n",
      "    --------------------------------------- 0.1/10.6 MB 1.7 MB/s eta 0:00:07\n",
      "    --------------------------------------- 0.2/10.6 MB 1.7 MB/s eta 0:00:07\n",
      "   - -------------------------------------- 0.3/10.6 MB 2.0 MB/s eta 0:00:06\n",
      "   - -------------------------------------- 0.5/10.6 MB 2.0 MB/s eta 0:00:06\n",
      "   -- ------------------------------------- 0.6/10.6 MB 2.3 MB/s eta 0:00:05\n",
      "   -- ------------------------------------- 0.7/10.6 MB 2.3 MB/s eta 0:00:05\n",
      "   --- ------------------------------------ 0.8/10.6 MB 2.4 MB/s eta 0:00:05\n",
      "   --- ------------------------------------ 1.0/10.6 MB 2.4 MB/s eta 0:00:05\n",
      "   ---- ----------------------------------- 1.1/10.6 MB 2.5 MB/s eta 0:00:04\n",
      "   ---- ----------------------------------- 1.2/10.6 MB 2.5 MB/s eta 0:00:04\n",
      "   ---- ----------------------------------- 1.3/10.6 MB 2.4 MB/s eta 0:00:04\n",
      "   ----- ---------------------------------- 1.4/10.6 MB 2.4 MB/s eta 0:00:04\n",
      "   ----- ---------------------------------- 1.5/10.6 MB 2.3 MB/s eta 0:00:04\n",
      "   ----- ---------------------------------- 1.6/10.6 MB 2.3 MB/s eta 0:00:04\n",
      "   ------ --------------------------------- 1.7/10.6 MB 2.3 MB/s eta 0:00:04\n",
      "   ------ --------------------------------- 1.8/10.6 MB 2.3 MB/s eta 0:00:04\n",
      "   ------- -------------------------------- 1.9/10.6 MB 2.3 MB/s eta 0:00:04\n",
      "   ------- -------------------------------- 2.0/10.6 MB 2.3 MB/s eta 0:00:04\n",
      "   ------- -------------------------------- 2.1/10.6 MB 2.3 MB/s eta 0:00:04\n",
      "   -------- ------------------------------- 2.2/10.6 MB 2.3 MB/s eta 0:00:04\n",
      "   -------- ------------------------------- 2.3/10.6 MB 2.3 MB/s eta 0:00:04\n",
      "   -------- ------------------------------- 2.4/10.6 MB 2.3 MB/s eta 0:00:04\n",
      "   --------- ------------------------------ 2.5/10.6 MB 2.2 MB/s eta 0:00:04\n",
      "   --------- ------------------------------ 2.5/10.6 MB 2.3 MB/s eta 0:00:04\n",
      "   --------- ------------------------------ 2.7/10.6 MB 2.2 MB/s eta 0:00:04\n",
      "   ---------- ----------------------------- 2.8/10.6 MB 2.2 MB/s eta 0:00:04\n",
      "   ---------- ----------------------------- 2.9/10.6 MB 2.2 MB/s eta 0:00:04\n",
      "   ----------- ---------------------------- 3.0/10.6 MB 2.2 MB/s eta 0:00:04\n",
      "   ----------- ---------------------------- 3.1/10.6 MB 2.2 MB/s eta 0:00:04\n",
      "   ----------- ---------------------------- 3.1/10.6 MB 2.2 MB/s eta 0:00:04\n",
      "   ----------- ---------------------------- 3.2/10.6 MB 2.1 MB/s eta 0:00:04\n",
      "   ------------ --------------------------- 3.2/10.6 MB 2.1 MB/s eta 0:00:04\n",
      "   ------------ --------------------------- 3.3/10.6 MB 2.1 MB/s eta 0:00:04\n",
      "   ------------ --------------------------- 3.4/10.6 MB 2.1 MB/s eta 0:00:04\n",
      "   ------------- -------------------------- 3.5/10.6 MB 2.1 MB/s eta 0:00:04\n",
      "   ------------- -------------------------- 3.7/10.6 MB 2.1 MB/s eta 0:00:04\n",
      "   -------------- ------------------------- 3.8/10.6 MB 2.2 MB/s eta 0:00:04\n",
      "   --------------- ------------------------ 4.0/10.6 MB 2.2 MB/s eta 0:00:03\n",
      "   --------------- ------------------------ 4.2/10.6 MB 2.2 MB/s eta 0:00:03\n",
      "   ---------------- ----------------------- 4.3/10.6 MB 2.2 MB/s eta 0:00:03\n",
      "   ---------------- ----------------------- 4.4/10.6 MB 2.2 MB/s eta 0:00:03\n",
      "   ---------------- ----------------------- 4.4/10.6 MB 2.2 MB/s eta 0:00:03\n",
      "   ----------------- ---------------------- 4.5/10.6 MB 2.2 MB/s eta 0:00:03\n",
      "   ----------------- ---------------------- 4.6/10.6 MB 2.2 MB/s eta 0:00:03\n",
      "   ----------------- ---------------------- 4.7/10.6 MB 2.2 MB/s eta 0:00:03\n",
      "   ------------------ --------------------- 4.8/10.6 MB 2.2 MB/s eta 0:00:03\n",
      "   ------------------ --------------------- 4.9/10.6 MB 2.2 MB/s eta 0:00:03\n",
      "   ------------------ --------------------- 5.0/10.6 MB 2.2 MB/s eta 0:00:03\n",
      "   ------------------- -------------------- 5.1/10.6 MB 2.2 MB/s eta 0:00:03\n",
      "   ------------------- -------------------- 5.2/10.6 MB 2.2 MB/s eta 0:00:03\n",
      "   ------------------- -------------------- 5.3/10.6 MB 2.2 MB/s eta 0:00:03\n",
      "   -------------------- ------------------- 5.4/10.6 MB 2.2 MB/s eta 0:00:03\n",
      "   -------------------- ------------------- 5.5/10.6 MB 2.2 MB/s eta 0:00:03\n",
      "   --------------------- ------------------ 5.6/10.6 MB 2.2 MB/s eta 0:00:03\n",
      "   --------------------- ------------------ 5.7/10.6 MB 2.2 MB/s eta 0:00:03\n",
      "   --------------------- ------------------ 5.8/10.6 MB 2.2 MB/s eta 0:00:03\n",
      "   ---------------------- ----------------- 5.9/10.6 MB 2.2 MB/s eta 0:00:03\n",
      "   ---------------------- ----------------- 6.0/10.6 MB 2.2 MB/s eta 0:00:03\n",
      "   ---------------------- ----------------- 6.1/10.6 MB 2.2 MB/s eta 0:00:03\n",
      "   ----------------------- ---------------- 6.2/10.6 MB 2.2 MB/s eta 0:00:03\n",
      "   ----------------------- ---------------- 6.3/10.6 MB 2.2 MB/s eta 0:00:02\n",
      "   ------------------------ --------------- 6.4/10.6 MB 2.2 MB/s eta 0:00:02\n",
      "   ------------------------ --------------- 6.5/10.6 MB 2.2 MB/s eta 0:00:02\n",
      "   ------------------------ --------------- 6.6/10.6 MB 2.2 MB/s eta 0:00:02\n",
      "   ------------------------- -------------- 6.7/10.6 MB 2.2 MB/s eta 0:00:02\n",
      "   ------------------------- -------------- 6.8/10.6 MB 2.2 MB/s eta 0:00:02\n",
      "   ------------------------- -------------- 6.9/10.6 MB 2.2 MB/s eta 0:00:02\n",
      "   -------------------------- ------------- 7.0/10.6 MB 2.2 MB/s eta 0:00:02\n",
      "   -------------------------- ------------- 7.1/10.6 MB 2.2 MB/s eta 0:00:02\n",
      "   --------------------------- ------------ 7.2/10.6 MB 2.2 MB/s eta 0:00:02\n",
      "   --------------------------- ------------ 7.3/10.6 MB 2.2 MB/s eta 0:00:02\n",
      "   --------------------------- ------------ 7.4/10.6 MB 2.2 MB/s eta 0:00:02\n",
      "   ---------------------------- ----------- 7.5/10.6 MB 2.2 MB/s eta 0:00:02\n",
      "   ---------------------------- ----------- 7.6/10.6 MB 2.2 MB/s eta 0:00:02\n",
      "   ----------------------------- ---------- 7.7/10.6 MB 2.2 MB/s eta 0:00:02\n",
      "   ----------------------------- ---------- 7.8/10.6 MB 2.2 MB/s eta 0:00:02\n",
      "   ----------------------------- ---------- 7.9/10.6 MB 2.2 MB/s eta 0:00:02\n",
      "   ------------------------------ --------- 8.0/10.6 MB 2.2 MB/s eta 0:00:02\n",
      "   ------------------------------ --------- 8.1/10.6 MB 2.2 MB/s eta 0:00:02\n",
      "   ------------------------------ --------- 8.2/10.6 MB 2.2 MB/s eta 0:00:02\n",
      "   ------------------------------- -------- 8.3/10.6 MB 2.2 MB/s eta 0:00:02\n",
      "   ------------------------------- -------- 8.4/10.6 MB 2.2 MB/s eta 0:00:02\n",
      "   ------------------------------- -------- 8.5/10.6 MB 2.2 MB/s eta 0:00:01\n",
      "   -------------------------------- ------- 8.6/10.6 MB 2.2 MB/s eta 0:00:01\n",
      "   -------------------------------- ------- 8.6/10.6 MB 2.2 MB/s eta 0:00:01\n",
      "   -------------------------------- ------- 8.6/10.6 MB 2.1 MB/s eta 0:00:01\n",
      "   -------------------------------- ------- 8.7/10.6 MB 2.1 MB/s eta 0:00:01\n",
      "   --------------------------------- ------ 8.8/10.6 MB 2.2 MB/s eta 0:00:01\n",
      "   --------------------------------- ------ 9.0/10.6 MB 2.2 MB/s eta 0:00:01\n",
      "   ---------------------------------- ----- 9.1/10.6 MB 2.2 MB/s eta 0:00:01\n",
      "   ---------------------------------- ----- 9.2/10.6 MB 2.2 MB/s eta 0:00:01\n",
      "   ----------------------------------- ---- 9.4/10.6 MB 2.2 MB/s eta 0:00:01\n",
      "   ----------------------------------- ---- 9.5/10.6 MB 2.2 MB/s eta 0:00:01\n",
      "   ------------------------------------ --- 9.6/10.6 MB 2.2 MB/s eta 0:00:01\n",
      "   ------------------------------------ --- 9.7/10.6 MB 2.2 MB/s eta 0:00:01\n",
      "   ------------------------------------ --- 9.8/10.6 MB 2.2 MB/s eta 0:00:01\n",
      "   ------------------------------------- -- 9.9/10.6 MB 2.2 MB/s eta 0:00:01\n",
      "   ------------------------------------- -- 10.0/10.6 MB 2.2 MB/s eta 0:00:01\n",
      "   -------------------------------------- - 10.1/10.6 MB 2.2 MB/s eta 0:00:01\n",
      "   -------------------------------------- - 10.2/10.6 MB 2.2 MB/s eta 0:00:01\n",
      "   -------------------------------------- - 10.3/10.6 MB 2.2 MB/s eta 0:00:01\n",
      "   ---------------------------------------  10.4/10.6 MB 2.2 MB/s eta 0:00:01\n",
      "   ---------------------------------------  10.5/10.6 MB 2.2 MB/s eta 0:00:01\n",
      "   ---------------------------------------  10.5/10.6 MB 2.2 MB/s eta 0:00:01\n",
      "   ---------------------------------------  10.6/10.6 MB 2.2 MB/s eta 0:00:01\n",
      "   ---------------------------------------  10.6/10.6 MB 2.2 MB/s eta 0:00:01\n",
      "   ---------------------------------------  10.6/10.6 MB 2.2 MB/s eta 0:00:01\n",
      "   ---------------------------------------  10.6/10.6 MB 2.2 MB/s eta 0:00:01\n",
      "   ---------------------------------------- 10.6/10.6 MB 2.1 MB/s eta 0:00:00\n",
      "Downloading plotly-5.24.1-py3-none-any.whl (19.1 MB)\n",
      "   ---------------------------------------- 0.0/19.1 MB ? eta -:--:--\n",
      "   ---------------------------------------- 0.1/19.1 MB 3.3 MB/s eta 0:00:06\n",
      "   ---------------------------------------- 0.2/19.1 MB 2.0 MB/s eta 0:00:10\n",
      "    --------------------------------------- 0.3/19.1 MB 2.2 MB/s eta 0:00:09\n",
      "    --------------------------------------- 0.4/19.1 MB 2.4 MB/s eta 0:00:08\n",
      "   - -------------------------------------- 0.6/19.1 MB 2.7 MB/s eta 0:00:07\n",
      "   - -------------------------------------- 0.7/19.1 MB 2.7 MB/s eta 0:00:07\n",
      "   - -------------------------------------- 0.9/19.1 MB 2.9 MB/s eta 0:00:07\n",
      "   -- ------------------------------------- 1.0/19.1 MB 2.8 MB/s eta 0:00:07\n",
      "   -- ------------------------------------- 1.2/19.1 MB 2.8 MB/s eta 0:00:07\n",
      "   -- ------------------------------------- 1.3/19.1 MB 2.8 MB/s eta 0:00:07\n",
      "   -- ------------------------------------- 1.4/19.1 MB 2.7 MB/s eta 0:00:07\n",
      "   --- ------------------------------------ 1.5/19.1 MB 2.7 MB/s eta 0:00:07\n",
      "   --- ------------------------------------ 1.6/19.1 MB 2.6 MB/s eta 0:00:07\n",
      "   --- ------------------------------------ 1.7/19.1 MB 2.6 MB/s eta 0:00:07\n",
      "   --- ------------------------------------ 1.8/19.1 MB 2.5 MB/s eta 0:00:07\n",
      "   ---- ----------------------------------- 1.9/19.1 MB 2.6 MB/s eta 0:00:07\n",
      "   ---- ----------------------------------- 2.0/19.1 MB 2.6 MB/s eta 0:00:07\n",
      "   ---- ----------------------------------- 2.1/19.1 MB 2.5 MB/s eta 0:00:07\n",
      "   ---- ----------------------------------- 2.2/19.1 MB 2.5 MB/s eta 0:00:07\n",
      "   ---- ----------------------------------- 2.3/19.1 MB 2.5 MB/s eta 0:00:07\n",
      "   ----- ---------------------------------- 2.4/19.1 MB 2.5 MB/s eta 0:00:07\n",
      "   ----- ---------------------------------- 2.5/19.1 MB 2.4 MB/s eta 0:00:07\n",
      "   ----- ---------------------------------- 2.6/19.1 MB 2.4 MB/s eta 0:00:07\n",
      "   ----- ---------------------------------- 2.7/19.1 MB 2.4 MB/s eta 0:00:07\n",
      "   ----- ---------------------------------- 2.8/19.1 MB 2.4 MB/s eta 0:00:07\n",
      "   ----- ---------------------------------- 2.8/19.1 MB 2.4 MB/s eta 0:00:07\n",
      "   ------ --------------------------------- 2.9/19.1 MB 2.3 MB/s eta 0:00:07\n",
      "   ------ --------------------------------- 2.9/19.1 MB 2.3 MB/s eta 0:00:07\n",
      "   ------ --------------------------------- 2.9/19.1 MB 2.3 MB/s eta 0:00:07\n",
      "   ------ --------------------------------- 2.9/19.1 MB 2.1 MB/s eta 0:00:08\n",
      "   ------ --------------------------------- 2.9/19.1 MB 2.1 MB/s eta 0:00:08\n",
      "   ------ --------------------------------- 3.0/19.1 MB 2.0 MB/s eta 0:00:09\n",
      "   ------ --------------------------------- 3.0/19.1 MB 2.0 MB/s eta 0:00:09\n",
      "   ------ --------------------------------- 3.0/19.1 MB 2.0 MB/s eta 0:00:09\n",
      "   ------ --------------------------------- 3.0/19.1 MB 1.9 MB/s eta 0:00:09\n",
      "   ------ --------------------------------- 3.0/19.1 MB 1.8 MB/s eta 0:00:09\n",
      "   ------ --------------------------------- 3.0/19.1 MB 1.8 MB/s eta 0:00:09\n",
      "   ------ --------------------------------- 3.1/19.1 MB 1.8 MB/s eta 0:00:10\n",
      "   ------ --------------------------------- 3.2/19.1 MB 1.8 MB/s eta 0:00:09\n",
      "   ------ --------------------------------- 3.2/19.1 MB 1.8 MB/s eta 0:00:09\n",
      "   ------ --------------------------------- 3.3/19.1 MB 1.7 MB/s eta 0:00:10\n",
      "   ------ --------------------------------- 3.3/19.1 MB 1.7 MB/s eta 0:00:10\n",
      "   ------ --------------------------------- 3.3/19.1 MB 1.7 MB/s eta 0:00:10\n",
      "   ------ --------------------------------- 3.3/19.1 MB 1.6 MB/s eta 0:00:10\n",
      "   ------- -------------------------------- 3.5/19.1 MB 1.7 MB/s eta 0:00:10\n",
      "   ------- -------------------------------- 3.5/19.1 MB 1.7 MB/s eta 0:00:10\n",
      "   ------- -------------------------------- 3.5/19.1 MB 1.7 MB/s eta 0:00:10\n",
      "   ------- -------------------------------- 3.6/19.1 MB 1.6 MB/s eta 0:00:10\n",
      "   ------- -------------------------------- 3.7/19.1 MB 1.6 MB/s eta 0:00:10\n",
      "   -------- ------------------------------- 3.9/19.1 MB 1.7 MB/s eta 0:00:09\n",
      "   -------- ------------------------------- 4.0/19.1 MB 1.7 MB/s eta 0:00:09\n",
      "   -------- ------------------------------- 4.0/19.1 MB 1.7 MB/s eta 0:00:09\n",
      "   -------- ------------------------------- 4.1/19.1 MB 1.7 MB/s eta 0:00:10\n",
      "   -------- ------------------------------- 4.3/19.1 MB 1.7 MB/s eta 0:00:09\n",
      "   --------- ------------------------------ 4.4/19.1 MB 1.7 MB/s eta 0:00:09\n",
      "   --------- ------------------------------ 4.4/19.1 MB 1.7 MB/s eta 0:00:09\n",
      "   --------- ------------------------------ 4.4/19.1 MB 1.7 MB/s eta 0:00:09\n",
      "   --------- ------------------------------ 4.4/19.1 MB 1.7 MB/s eta 0:00:09\n",
      "   --------- ------------------------------ 4.4/19.1 MB 1.6 MB/s eta 0:00:10\n",
      "   --------- ------------------------------ 4.5/19.1 MB 1.6 MB/s eta 0:00:09\n",
      "   --------- ------------------------------ 4.7/19.1 MB 1.7 MB/s eta 0:00:09\n",
      "   ---------- ----------------------------- 4.9/19.1 MB 1.7 MB/s eta 0:00:09\n",
      "   ---------- ----------------------------- 5.0/19.1 MB 1.7 MB/s eta 0:00:09\n",
      "   ---------- ----------------------------- 5.2/19.1 MB 1.7 MB/s eta 0:00:09\n",
      "   ----------- ---------------------------- 5.3/19.1 MB 1.7 MB/s eta 0:00:08\n",
      "   ----------- ---------------------------- 5.3/19.1 MB 1.7 MB/s eta 0:00:08\n",
      "   ----------- ---------------------------- 5.5/19.1 MB 1.8 MB/s eta 0:00:08\n",
      "   ----------- ---------------------------- 5.6/19.1 MB 1.8 MB/s eta 0:00:08\n",
      "   ----------- ---------------------------- 5.7/19.1 MB 1.8 MB/s eta 0:00:08\n",
      "   ------------ --------------------------- 5.8/19.1 MB 1.8 MB/s eta 0:00:08\n",
      "   ------------ --------------------------- 5.9/19.1 MB 1.8 MB/s eta 0:00:08\n",
      "   ------------ --------------------------- 5.9/19.1 MB 1.8 MB/s eta 0:00:08\n",
      "   ------------ --------------------------- 6.1/19.1 MB 1.8 MB/s eta 0:00:08\n",
      "   ------------ --------------------------- 6.2/19.1 MB 1.8 MB/s eta 0:00:08\n",
      "   ------------- -------------------------- 6.2/19.1 MB 1.8 MB/s eta 0:00:08\n",
      "   ------------- -------------------------- 6.2/19.1 MB 1.8 MB/s eta 0:00:08\n",
      "   ------------- -------------------------- 6.3/19.1 MB 1.8 MB/s eta 0:00:08\n",
      "   ------------- -------------------------- 6.3/19.1 MB 1.7 MB/s eta 0:00:08\n",
      "   ------------- -------------------------- 6.3/19.1 MB 1.7 MB/s eta 0:00:08\n",
      "   ------------- -------------------------- 6.4/19.1 MB 1.7 MB/s eta 0:00:08\n",
      "   ------------- -------------------------- 6.4/19.1 MB 1.7 MB/s eta 0:00:08\n",
      "   ------------- -------------------------- 6.4/19.1 MB 1.7 MB/s eta 0:00:08\n",
      "   ------------- -------------------------- 6.5/19.1 MB 1.7 MB/s eta 0:00:08\n",
      "   ------------- -------------------------- 6.5/19.1 MB 1.7 MB/s eta 0:00:08\n",
      "   ------------- -------------------------- 6.5/19.1 MB 1.7 MB/s eta 0:00:08\n",
      "   ------------- -------------------------- 6.5/19.1 MB 1.6 MB/s eta 0:00:08\n",
      "   ------------- -------------------------- 6.6/19.1 MB 1.6 MB/s eta 0:00:08\n",
      "   ------------- -------------------------- 6.6/19.1 MB 1.6 MB/s eta 0:00:08\n",
      "   ------------- -------------------------- 6.6/19.1 MB 1.6 MB/s eta 0:00:08\n",
      "   ------------- -------------------------- 6.7/19.1 MB 1.6 MB/s eta 0:00:08\n",
      "   -------------- ------------------------- 6.7/19.1 MB 1.6 MB/s eta 0:00:08\n",
      "   -------------- ------------------------- 6.7/19.1 MB 1.6 MB/s eta 0:00:08\n",
      "   -------------- ------------------------- 6.8/19.1 MB 1.6 MB/s eta 0:00:08\n",
      "   -------------- ------------------------- 6.8/19.1 MB 1.6 MB/s eta 0:00:08\n",
      "   -------------- ------------------------- 6.8/19.1 MB 1.5 MB/s eta 0:00:08\n",
      "   -------------- ------------------------- 6.9/19.1 MB 1.5 MB/s eta 0:00:08\n",
      "   -------------- ------------------------- 6.9/19.1 MB 1.5 MB/s eta 0:00:08\n",
      "   -------------- ------------------------- 6.9/19.1 MB 1.5 MB/s eta 0:00:08\n",
      "   -------------- ------------------------- 7.0/19.1 MB 1.5 MB/s eta 0:00:08\n",
      "   -------------- ------------------------- 7.0/19.1 MB 1.5 MB/s eta 0:00:08\n",
      "   -------------- ------------------------- 7.1/19.1 MB 1.5 MB/s eta 0:00:08\n",
      "   -------------- ------------------------- 7.1/19.1 MB 1.5 MB/s eta 0:00:08\n",
      "   --------------- ------------------------ 7.2/19.1 MB 1.5 MB/s eta 0:00:08\n",
      "   --------------- ------------------------ 7.2/19.1 MB 1.5 MB/s eta 0:00:08\n",
      "   --------------- ------------------------ 7.3/19.1 MB 1.5 MB/s eta 0:00:08\n",
      "   --------------- ------------------------ 7.3/19.1 MB 1.5 MB/s eta 0:00:08\n",
      "   --------------- ------------------------ 7.4/19.1 MB 1.5 MB/s eta 0:00:08\n",
      "   --------------- ------------------------ 7.4/19.1 MB 1.5 MB/s eta 0:00:08\n",
      "   --------------- ------------------------ 7.4/19.1 MB 1.5 MB/s eta 0:00:08\n",
      "   --------------- ------------------------ 7.5/19.1 MB 1.5 MB/s eta 0:00:08\n",
      "   --------------- ------------------------ 7.5/19.1 MB 1.5 MB/s eta 0:00:08\n",
      "   --------------- ------------------------ 7.5/19.1 MB 1.4 MB/s eta 0:00:08\n",
      "   --------------- ------------------------ 7.6/19.1 MB 1.4 MB/s eta 0:00:08\n",
      "   --------------- ------------------------ 7.6/19.1 MB 1.4 MB/s eta 0:00:08\n",
      "   --------------- ------------------------ 7.6/19.1 MB 1.4 MB/s eta 0:00:09\n",
      "   --------------- ------------------------ 7.6/19.1 MB 1.4 MB/s eta 0:00:09\n",
      "   --------------- ------------------------ 7.6/19.1 MB 1.4 MB/s eta 0:00:09\n",
      "   --------------- ------------------------ 7.6/19.1 MB 1.4 MB/s eta 0:00:09\n",
      "   --------------- ------------------------ 7.6/19.1 MB 1.4 MB/s eta 0:00:09\n",
      "   --------------- ------------------------ 7.6/19.1 MB 1.4 MB/s eta 0:00:09\n",
      "   ---------------- ----------------------- 7.6/19.1 MB 1.4 MB/s eta 0:00:09\n",
      "   ---------------- ----------------------- 7.6/19.1 MB 1.4 MB/s eta 0:00:09\n",
      "   ---------------- ----------------------- 7.7/19.1 MB 1.3 MB/s eta 0:00:09\n",
      "   ---------------- ----------------------- 7.7/19.1 MB 1.3 MB/s eta 0:00:09\n",
      "   ---------------- ----------------------- 7.7/19.1 MB 1.3 MB/s eta 0:00:09\n",
      "   ---------------- ----------------------- 7.7/19.1 MB 1.3 MB/s eta 0:00:09\n",
      "   ---------------- ----------------------- 7.7/19.1 MB 1.3 MB/s eta 0:00:09\n",
      "   ---------------- ----------------------- 7.8/19.1 MB 1.3 MB/s eta 0:00:09\n",
      "   ---------------- ----------------------- 7.8/19.1 MB 1.3 MB/s eta 0:00:09\n",
      "   ---------------- ----------------------- 7.8/19.1 MB 1.3 MB/s eta 0:00:09\n",
      "   ---------------- ----------------------- 7.8/19.1 MB 1.3 MB/s eta 0:00:09\n",
      "   ---------------- ----------------------- 7.9/19.1 MB 1.3 MB/s eta 0:00:09\n",
      "   ---------------- ----------------------- 7.9/19.1 MB 1.3 MB/s eta 0:00:09\n",
      "   ---------------- ----------------------- 8.0/19.1 MB 1.3 MB/s eta 0:00:09\n",
      "   ----------------- ---------------------- 8.1/19.1 MB 1.3 MB/s eta 0:00:09\n",
      "   ----------------- ---------------------- 8.2/19.1 MB 1.3 MB/s eta 0:00:09\n",
      "   ----------------- ---------------------- 8.3/19.1 MB 1.3 MB/s eta 0:00:09\n",
      "   ----------------- ---------------------- 8.4/19.1 MB 1.3 MB/s eta 0:00:09\n",
      "   ----------------- ---------------------- 8.5/19.1 MB 1.3 MB/s eta 0:00:09\n",
      "   ------------------ --------------------- 8.7/19.1 MB 1.3 MB/s eta 0:00:08\n",
      "   ------------------ --------------------- 8.7/19.1 MB 1.3 MB/s eta 0:00:08\n",
      "   ------------------ --------------------- 8.9/19.1 MB 1.3 MB/s eta 0:00:08\n",
      "   ------------------ --------------------- 9.0/19.1 MB 1.3 MB/s eta 0:00:08\n",
      "   ------------------- -------------------- 9.1/19.1 MB 1.4 MB/s eta 0:00:08\n",
      "   ------------------- -------------------- 9.3/19.1 MB 1.4 MB/s eta 0:00:08\n",
      "   ------------------- -------------------- 9.4/19.1 MB 1.4 MB/s eta 0:00:07\n",
      "   ------------------- -------------------- 9.5/19.1 MB 1.4 MB/s eta 0:00:07\n",
      "   -------------------- ------------------- 9.6/19.1 MB 1.4 MB/s eta 0:00:07\n",
      "   -------------------- ------------------- 9.7/19.1 MB 1.4 MB/s eta 0:00:07\n",
      "   -------------------- ------------------- 9.8/19.1 MB 1.4 MB/s eta 0:00:07\n",
      "   -------------------- ------------------- 9.9/19.1 MB 1.4 MB/s eta 0:00:07\n",
      "   -------------------- ------------------- 10.0/19.1 MB 1.4 MB/s eta 0:00:07\n",
      "   --------------------- ------------------ 10.1/19.1 MB 1.4 MB/s eta 0:00:07\n",
      "   --------------------- ------------------ 10.2/19.1 MB 1.4 MB/s eta 0:00:07\n",
      "   --------------------- ------------------ 10.3/19.1 MB 1.4 MB/s eta 0:00:07\n",
      "   --------------------- ------------------ 10.4/19.1 MB 1.4 MB/s eta 0:00:07\n",
      "   --------------------- ------------------ 10.5/19.1 MB 1.4 MB/s eta 0:00:07\n",
      "   ---------------------- ----------------- 10.6/19.1 MB 1.4 MB/s eta 0:00:06\n",
      "   ---------------------- ----------------- 10.7/19.1 MB 1.4 MB/s eta 0:00:06\n",
      "   ---------------------- ----------------- 10.8/19.1 MB 1.4 MB/s eta 0:00:06\n",
      "   ---------------------- ----------------- 10.9/19.1 MB 1.4 MB/s eta 0:00:06\n",
      "   ----------------------- ---------------- 11.0/19.1 MB 1.4 MB/s eta 0:00:06\n",
      "   ----------------------- ---------------- 11.0/19.1 MB 1.4 MB/s eta 0:00:06\n",
      "   ----------------------- ---------------- 11.2/19.1 MB 1.4 MB/s eta 0:00:06\n",
      "   ----------------------- ---------------- 11.3/19.1 MB 1.4 MB/s eta 0:00:06\n",
      "   ----------------------- ---------------- 11.3/19.1 MB 1.4 MB/s eta 0:00:06\n",
      "   ------------------------ --------------- 11.5/19.1 MB 1.4 MB/s eta 0:00:06\n",
      "   ------------------------ --------------- 11.5/19.1 MB 1.4 MB/s eta 0:00:06\n",
      "   ------------------------ --------------- 11.6/19.1 MB 1.4 MB/s eta 0:00:06\n",
      "   ------------------------ --------------- 11.7/19.1 MB 1.4 MB/s eta 0:00:06\n",
      "   ------------------------ --------------- 11.9/19.1 MB 1.4 MB/s eta 0:00:06\n",
      "   ------------------------- -------------- 12.0/19.1 MB 1.4 MB/s eta 0:00:06\n",
      "   ------------------------- -------------- 12.1/19.1 MB 1.4 MB/s eta 0:00:06\n",
      "   ------------------------- -------------- 12.1/19.1 MB 1.4 MB/s eta 0:00:05\n",
      "   ------------------------- -------------- 12.2/19.1 MB 1.4 MB/s eta 0:00:05\n",
      "   ------------------------- -------------- 12.4/19.1 MB 1.4 MB/s eta 0:00:05\n",
      "   -------------------------- ------------- 12.5/19.1 MB 1.4 MB/s eta 0:00:05\n",
      "   -------------------------- ------------- 12.5/19.1 MB 1.4 MB/s eta 0:00:05\n",
      "   -------------------------- ------------- 12.6/19.1 MB 1.4 MB/s eta 0:00:05\n",
      "   -------------------------- ------------- 12.7/19.1 MB 1.4 MB/s eta 0:00:05\n",
      "   -------------------------- ------------- 12.8/19.1 MB 1.4 MB/s eta 0:00:05\n",
      "   --------------------------- ------------ 12.9/19.1 MB 1.4 MB/s eta 0:00:05\n",
      "   --------------------------- ------------ 13.0/19.1 MB 1.4 MB/s eta 0:00:05\n",
      "   --------------------------- ------------ 13.1/19.1 MB 1.4 MB/s eta 0:00:05\n",
      "   --------------------------- ------------ 13.2/19.1 MB 1.5 MB/s eta 0:00:04\n",
      "   --------------------------- ------------ 13.3/19.1 MB 1.5 MB/s eta 0:00:04\n",
      "   ---------------------------- ----------- 13.4/19.1 MB 1.5 MB/s eta 0:00:04\n",
      "   ---------------------------- ----------- 13.5/19.1 MB 1.5 MB/s eta 0:00:04\n",
      "   ---------------------------- ----------- 13.6/19.1 MB 1.5 MB/s eta 0:00:04\n",
      "   ---------------------------- ----------- 13.7/19.1 MB 1.5 MB/s eta 0:00:04\n",
      "   ---------------------------- ----------- 13.7/19.1 MB 1.5 MB/s eta 0:00:04\n",
      "   ---------------------------- ----------- 13.7/19.1 MB 1.5 MB/s eta 0:00:04\n",
      "   ----------------------------- ---------- 13.8/19.1 MB 1.5 MB/s eta 0:00:04\n",
      "   ----------------------------- ---------- 13.9/19.1 MB 1.5 MB/s eta 0:00:04\n",
      "   ----------------------------- ---------- 13.9/19.1 MB 1.5 MB/s eta 0:00:04\n",
      "   ----------------------------- ---------- 14.0/19.1 MB 1.5 MB/s eta 0:00:04\n",
      "   ----------------------------- ---------- 14.0/19.1 MB 1.5 MB/s eta 0:00:04\n",
      "   ----------------------------- ---------- 14.0/19.1 MB 1.5 MB/s eta 0:00:04\n",
      "   ----------------------------- ---------- 14.0/19.1 MB 1.5 MB/s eta 0:00:04\n",
      "   ----------------------------- ---------- 14.0/19.1 MB 1.4 MB/s eta 0:00:04\n",
      "   ----------------------------- ---------- 14.1/19.1 MB 1.4 MB/s eta 0:00:04\n",
      "   ----------------------------- ---------- 14.1/19.1 MB 1.4 MB/s eta 0:00:04\n",
      "   ----------------------------- ---------- 14.2/19.1 MB 1.4 MB/s eta 0:00:04\n",
      "   ------------------------------ --------- 14.3/19.1 MB 1.4 MB/s eta 0:00:04\n",
      "   ------------------------------ --------- 14.4/19.1 MB 1.4 MB/s eta 0:00:04\n",
      "   ------------------------------ --------- 14.4/19.1 MB 1.4 MB/s eta 0:00:04\n",
      "   ------------------------------ --------- 14.5/19.1 MB 1.4 MB/s eta 0:00:04\n",
      "   ------------------------------ --------- 14.6/19.1 MB 1.4 MB/s eta 0:00:04\n",
      "   ------------------------------ --------- 14.7/19.1 MB 1.5 MB/s eta 0:00:03\n",
      "   ------------------------------- -------- 14.8/19.1 MB 1.5 MB/s eta 0:00:03\n",
      "   ------------------------------- -------- 14.8/19.1 MB 1.5 MB/s eta 0:00:03\n",
      "   ------------------------------- -------- 14.9/19.1 MB 1.4 MB/s eta 0:00:03\n",
      "   ------------------------------- -------- 14.9/19.1 MB 1.4 MB/s eta 0:00:03\n",
      "   ------------------------------- -------- 14.9/19.1 MB 1.4 MB/s eta 0:00:03\n",
      "   ------------------------------- -------- 14.9/19.1 MB 1.4 MB/s eta 0:00:03\n",
      "   ------------------------------- -------- 15.0/19.1 MB 1.4 MB/s eta 0:00:03\n",
      "   ------------------------------- -------- 15.0/19.1 MB 1.4 MB/s eta 0:00:03\n",
      "   ------------------------------- -------- 15.0/19.1 MB 1.4 MB/s eta 0:00:03\n",
      "   ------------------------------- -------- 15.1/19.1 MB 1.4 MB/s eta 0:00:03\n",
      "   ------------------------------- -------- 15.2/19.1 MB 1.4 MB/s eta 0:00:03\n",
      "   -------------------------------- ------- 15.3/19.1 MB 1.4 MB/s eta 0:00:03\n",
      "   -------------------------------- ------- 15.6/19.1 MB 1.4 MB/s eta 0:00:03\n",
      "   -------------------------------- ------- 15.7/19.1 MB 1.4 MB/s eta 0:00:03\n",
      "   -------------------------------- ------- 15.7/19.1 MB 1.4 MB/s eta 0:00:03\n",
      "   --------------------------------- ------ 15.8/19.1 MB 1.4 MB/s eta 0:00:03\n",
      "   --------------------------------- ------ 15.8/19.1 MB 1.4 MB/s eta 0:00:03\n",
      "   --------------------------------- ------ 15.9/19.1 MB 1.4 MB/s eta 0:00:03\n",
      "   --------------------------------- ------ 16.0/19.1 MB 1.4 MB/s eta 0:00:03\n",
      "   --------------------------------- ------ 16.0/19.1 MB 1.4 MB/s eta 0:00:03\n",
      "   --------------------------------- ------ 16.1/19.1 MB 1.4 MB/s eta 0:00:03\n",
      "   ---------------------------------- ----- 16.3/19.1 MB 1.4 MB/s eta 0:00:03\n",
      "   ---------------------------------- ----- 16.4/19.1 MB 1.4 MB/s eta 0:00:02\n",
      "   ---------------------------------- ----- 16.5/19.1 MB 1.4 MB/s eta 0:00:02\n",
      "   ---------------------------------- ----- 16.7/19.1 MB 1.4 MB/s eta 0:00:02\n",
      "   ----------------------------------- ---- 16.8/19.1 MB 1.5 MB/s eta 0:00:02\n",
      "   ----------------------------------- ---- 16.9/19.1 MB 1.5 MB/s eta 0:00:02\n",
      "   ----------------------------------- ---- 17.0/19.1 MB 1.5 MB/s eta 0:00:02\n",
      "   ----------------------------------- ---- 17.0/19.1 MB 1.5 MB/s eta 0:00:02\n",
      "   ----------------------------------- ---- 17.1/19.1 MB 1.5 MB/s eta 0:00:02\n",
      "   ------------------------------------ --- 17.2/19.1 MB 1.5 MB/s eta 0:00:02\n",
      "   ------------------------------------ --- 17.3/19.1 MB 1.6 MB/s eta 0:00:02\n",
      "   ------------------------------------ --- 17.4/19.1 MB 1.6 MB/s eta 0:00:02\n",
      "   ------------------------------------ --- 17.5/19.1 MB 1.6 MB/s eta 0:00:01\n",
      "   ------------------------------------ --- 17.6/19.1 MB 1.6 MB/s eta 0:00:01\n",
      "   ------------------------------------- -- 17.7/19.1 MB 1.6 MB/s eta 0:00:01\n",
      "   ------------------------------------- -- 17.8/19.1 MB 1.7 MB/s eta 0:00:01\n",
      "   ------------------------------------- -- 17.9/19.1 MB 1.8 MB/s eta 0:00:01\n",
      "   ------------------------------------- -- 18.0/19.1 MB 1.8 MB/s eta 0:00:01\n",
      "   -------------------------------------- - 18.1/19.1 MB 1.8 MB/s eta 0:00:01\n",
      "   -------------------------------------- - 18.2/19.1 MB 1.9 MB/s eta 0:00:01\n",
      "   -------------------------------------- - 18.3/19.1 MB 1.9 MB/s eta 0:00:01\n",
      "   -------------------------------------- - 18.4/19.1 MB 1.9 MB/s eta 0:00:01\n",
      "   -------------------------------------- - 18.5/19.1 MB 1.9 MB/s eta 0:00:01\n",
      "   ---------------------------------------  18.6/19.1 MB 1.9 MB/s eta 0:00:01\n",
      "   ---------------------------------------  18.7/19.1 MB 1.9 MB/s eta 0:00:01\n",
      "   ---------------------------------------  18.8/19.1 MB 1.9 MB/s eta 0:00:01\n",
      "   ---------------------------------------  18.9/19.1 MB 1.9 MB/s eta 0:00:01\n",
      "   ---------------------------------------  19.0/19.1 MB 1.9 MB/s eta 0:00:01\n",
      "   ---------------------------------------  19.0/19.1 MB 1.9 MB/s eta 0:00:01\n",
      "   ---------------------------------------  19.0/19.1 MB 1.9 MB/s eta 0:00:01\n",
      "   ---------------------------------------  19.0/19.1 MB 1.9 MB/s eta 0:00:01\n",
      "   ---------------------------------------  19.0/19.1 MB 1.9 MB/s eta 0:00:01\n",
      "   ---------------------------------------  19.0/19.1 MB 1.9 MB/s eta 0:00:01\n",
      "   ---------------------------------------  19.0/19.1 MB 1.9 MB/s eta 0:00:01\n",
      "   ---------------------------------------  19.0/19.1 MB 1.9 MB/s eta 0:00:01\n",
      "   ---------------------------------------- 19.1/19.1 MB 1.7 MB/s eta 0:00:00\n",
      "Downloading plotly_resampler-0.10.0-py3-none-any.whl (80 kB)\n",
      "   ---------------------------------------- 0.0/80.7 kB ? eta -:--:--\n",
      "   ----------------------------------- ---- 71.7/80.7 kB 3.8 MB/s eta 0:00:01\n",
      "   ---------------------------------------- 80.7/80.7 kB 2.2 MB/s eta 0:00:00\n",
      "Downloading pmdarima-2.0.4-cp311-cp311-win_amd64.whl (614 kB)\n",
      "   ---------------------------------------- 0.0/614.7 kB ? eta -:--:--\n",
      "   --------- ------------------------------ 153.6/614.7 kB 3.1 MB/s eta 0:00:01\n",
      "   ------------------- -------------------- 297.0/614.7 kB 3.1 MB/s eta 0:00:01\n",
      "   ---------------------------- ----------- 440.3/614.7 kB 3.1 MB/s eta 0:00:01\n",
      "   ---------------------------------------  604.2/614.7 kB 3.2 MB/s eta 0:00:01\n",
      "   ---------------------------------------- 614.7/614.7 kB 2.8 MB/s eta 0:00:00\n",
      "Downloading scikit_learn-1.4.2-cp311-cp311-win_amd64.whl (10.6 MB)\n",
      "   ---------------------------------------- 0.0/10.6 MB ? eta -:--:--\n",
      "    --------------------------------------- 0.2/10.6 MB 5.3 MB/s eta 0:00:02\n",
      "   - -------------------------------------- 0.4/10.6 MB 4.5 MB/s eta 0:00:03\n",
      "   - -------------------------------------- 0.5/10.6 MB 3.7 MB/s eta 0:00:03\n",
      "   -- ------------------------------------- 0.6/10.6 MB 3.5 MB/s eta 0:00:03\n",
      "   -- ------------------------------------- 0.7/10.6 MB 3.3 MB/s eta 0:00:03\n",
      "   --- ------------------------------------ 0.8/10.6 MB 3.1 MB/s eta 0:00:04\n",
      "   --- ------------------------------------ 0.9/10.6 MB 3.0 MB/s eta 0:00:04\n",
      "   --- ------------------------------------ 1.0/10.6 MB 2.9 MB/s eta 0:00:04\n",
      "   ---- ----------------------------------- 1.2/10.6 MB 2.8 MB/s eta 0:00:04\n",
      "   ---- ----------------------------------- 1.3/10.6 MB 2.8 MB/s eta 0:00:04\n",
      "   ----- ---------------------------------- 1.4/10.6 MB 2.7 MB/s eta 0:00:04\n",
      "   ----- ---------------------------------- 1.5/10.6 MB 2.7 MB/s eta 0:00:04\n",
      "   ----- ---------------------------------- 1.6/10.6 MB 2.7 MB/s eta 0:00:04\n",
      "   ------ --------------------------------- 1.7/10.6 MB 2.6 MB/s eta 0:00:04\n",
      "   ------ --------------------------------- 1.8/10.6 MB 2.6 MB/s eta 0:00:04\n",
      "   ------- -------------------------------- 1.9/10.6 MB 2.5 MB/s eta 0:00:04\n",
      "   ------- -------------------------------- 2.0/10.6 MB 2.5 MB/s eta 0:00:04\n",
      "   ------- -------------------------------- 2.1/10.6 MB 2.5 MB/s eta 0:00:04\n",
      "   -------- ------------------------------- 2.2/10.6 MB 2.5 MB/s eta 0:00:04\n",
      "   -------- ------------------------------- 2.2/10.6 MB 2.4 MB/s eta 0:00:04\n",
      "   -------- ------------------------------- 2.4/10.6 MB 2.4 MB/s eta 0:00:04\n",
      "   --------- ------------------------------ 2.5/10.6 MB 2.4 MB/s eta 0:00:04\n",
      "   --------- ------------------------------ 2.5/10.6 MB 2.4 MB/s eta 0:00:04\n",
      "   --------- ------------------------------ 2.6/10.6 MB 2.4 MB/s eta 0:00:04\n",
      "   ---------- ----------------------------- 2.7/10.6 MB 2.4 MB/s eta 0:00:04\n",
      "   ---------- ----------------------------- 2.8/10.6 MB 2.4 MB/s eta 0:00:04\n",
      "   ----------- ---------------------------- 2.9/10.6 MB 2.4 MB/s eta 0:00:04\n",
      "   ----------- ---------------------------- 3.0/10.6 MB 2.4 MB/s eta 0:00:04\n",
      "   ----------- ---------------------------- 3.1/10.6 MB 2.3 MB/s eta 0:00:04\n",
      "   ------------ --------------------------- 3.2/10.6 MB 2.3 MB/s eta 0:00:04\n",
      "   ------------ --------------------------- 3.3/10.6 MB 2.3 MB/s eta 0:00:04\n",
      "   ------------ --------------------------- 3.4/10.6 MB 2.3 MB/s eta 0:00:04\n",
      "   ------------ --------------------------- 3.4/10.6 MB 2.3 MB/s eta 0:00:04\n",
      "   ------------ --------------------------- 3.4/10.6 MB 2.2 MB/s eta 0:00:04\n",
      "   ------------- -------------------------- 3.5/10.6 MB 2.2 MB/s eta 0:00:04\n",
      "   ------------- -------------------------- 3.5/10.6 MB 2.2 MB/s eta 0:00:04\n",
      "   ------------- -------------------------- 3.5/10.6 MB 2.1 MB/s eta 0:00:04\n",
      "   ------------- -------------------------- 3.5/10.6 MB 2.0 MB/s eta 0:00:04\n",
      "   ------------- -------------------------- 3.5/10.6 MB 1.9 MB/s eta 0:00:04\n",
      "   ------------- -------------------------- 3.5/10.6 MB 1.9 MB/s eta 0:00:04\n",
      "   ------------- -------------------------- 3.5/10.6 MB 1.9 MB/s eta 0:00:04\n",
      "   ------------- -------------------------- 3.6/10.6 MB 1.9 MB/s eta 0:00:04\n",
      "   ------------- -------------------------- 3.7/10.6 MB 1.8 MB/s eta 0:00:04\n",
      "   -------------- ------------------------- 3.7/10.6 MB 1.8 MB/s eta 0:00:04\n",
      "   -------------- ------------------------- 3.8/10.6 MB 1.8 MB/s eta 0:00:04\n",
      "   -------------- ------------------------- 3.9/10.6 MB 1.8 MB/s eta 0:00:04\n",
      "   --------------- ------------------------ 4.0/10.6 MB 1.8 MB/s eta 0:00:04\n",
      "   --------------- ------------------------ 4.1/10.6 MB 1.8 MB/s eta 0:00:04\n",
      "   --------------- ------------------------ 4.2/10.6 MB 1.9 MB/s eta 0:00:04\n",
      "   ---------------- ----------------------- 4.4/10.6 MB 1.9 MB/s eta 0:00:04\n",
      "   ----------------- ---------------------- 4.5/10.6 MB 1.9 MB/s eta 0:00:04\n",
      "   ----------------- ---------------------- 4.7/10.6 MB 1.9 MB/s eta 0:00:04\n",
      "   ------------------ --------------------- 4.8/10.6 MB 2.0 MB/s eta 0:00:03\n",
      "   ------------------ --------------------- 4.9/10.6 MB 2.0 MB/s eta 0:00:03\n",
      "   ------------------- -------------------- 5.1/10.6 MB 2.0 MB/s eta 0:00:03\n",
      "   ------------------- -------------------- 5.2/10.6 MB 2.0 MB/s eta 0:00:03\n",
      "   ------------------- -------------------- 5.3/10.6 MB 2.0 MB/s eta 0:00:03\n",
      "   -------------------- ------------------- 5.4/10.6 MB 2.0 MB/s eta 0:00:03\n",
      "   -------------------- ------------------- 5.5/10.6 MB 2.0 MB/s eta 0:00:03\n",
      "   --------------------- ------------------ 5.6/10.6 MB 2.0 MB/s eta 0:00:03\n",
      "   --------------------- ------------------ 5.6/10.6 MB 2.0 MB/s eta 0:00:03\n",
      "   --------------------- ------------------ 5.7/10.6 MB 2.0 MB/s eta 0:00:03\n",
      "   --------------------- ------------------ 5.8/10.6 MB 2.0 MB/s eta 0:00:03\n",
      "   ---------------------- ----------------- 5.9/10.6 MB 2.0 MB/s eta 0:00:03\n",
      "   ---------------------- ----------------- 6.0/10.6 MB 2.0 MB/s eta 0:00:03\n",
      "   ---------------------- ----------------- 6.1/10.6 MB 2.0 MB/s eta 0:00:03\n",
      "   ----------------------- ---------------- 6.2/10.6 MB 2.0 MB/s eta 0:00:03\n",
      "   ----------------------- ---------------- 6.3/10.6 MB 2.0 MB/s eta 0:00:03\n",
      "   ------------------------ --------------- 6.4/10.6 MB 2.0 MB/s eta 0:00:03\n",
      "   ------------------------ --------------- 6.5/10.6 MB 2.0 MB/s eta 0:00:03\n",
      "   ------------------------- -------------- 6.6/10.6 MB 2.0 MB/s eta 0:00:02\n",
      "   ------------------------- -------------- 6.7/10.6 MB 2.0 MB/s eta 0:00:02\n",
      "   ------------------------- -------------- 6.7/10.6 MB 2.0 MB/s eta 0:00:02\n",
      "   ------------------------- -------------- 6.8/10.6 MB 2.0 MB/s eta 0:00:02\n",
      "   ------------------------- -------------- 6.8/10.6 MB 2.0 MB/s eta 0:00:02\n",
      "   -------------------------- ------------- 6.9/10.6 MB 2.0 MB/s eta 0:00:02\n",
      "   -------------------------- ------------- 7.0/10.6 MB 2.0 MB/s eta 0:00:02\n",
      "   -------------------------- ------------- 7.0/10.6 MB 2.0 MB/s eta 0:00:02\n",
      "   -------------------------- ------------- 7.1/10.6 MB 1.9 MB/s eta 0:00:02\n",
      "   -------------------------- ------------- 7.1/10.6 MB 1.9 MB/s eta 0:00:02\n",
      "   --------------------------- ------------ 7.3/10.6 MB 1.9 MB/s eta 0:00:02\n",
      "   --------------------------- ------------ 7.4/10.6 MB 1.9 MB/s eta 0:00:02\n",
      "   --------------------------- ------------ 7.4/10.6 MB 1.9 MB/s eta 0:00:02\n",
      "   ---------------------------- ----------- 7.5/10.6 MB 1.9 MB/s eta 0:00:02\n",
      "   ---------------------------- ----------- 7.6/10.6 MB 1.9 MB/s eta 0:00:02\n",
      "   ----------------------------- ---------- 7.7/10.6 MB 1.9 MB/s eta 0:00:02\n",
      "   ----------------------------- ---------- 7.7/10.6 MB 1.9 MB/s eta 0:00:02\n",
      "   ----------------------------- ---------- 7.9/10.6 MB 1.9 MB/s eta 0:00:02\n",
      "   ------------------------------ --------- 8.0/10.6 MB 2.0 MB/s eta 0:00:02\n",
      "   ------------------------------ --------- 8.0/10.6 MB 1.9 MB/s eta 0:00:02\n",
      "   ------------------------------ --------- 8.2/10.6 MB 1.9 MB/s eta 0:00:02\n",
      "   ------------------------------- -------- 8.4/10.6 MB 2.0 MB/s eta 0:00:02\n",
      "   ------------------------------- -------- 8.5/10.6 MB 2.0 MB/s eta 0:00:02\n",
      "   -------------------------------- ------- 8.5/10.6 MB 2.0 MB/s eta 0:00:02\n",
      "   -------------------------------- ------- 8.5/10.6 MB 2.0 MB/s eta 0:00:02\n",
      "   -------------------------------- ------- 8.5/10.6 MB 2.0 MB/s eta 0:00:02\n",
      "   -------------------------------- ------- 8.6/10.6 MB 1.9 MB/s eta 0:00:02\n",
      "   -------------------------------- ------- 8.6/10.6 MB 1.9 MB/s eta 0:00:02\n",
      "   -------------------------------- ------- 8.6/10.6 MB 1.9 MB/s eta 0:00:02\n",
      "   --------------------------------- ------ 8.8/10.6 MB 1.9 MB/s eta 0:00:01\n",
      "   --------------------------------- ------ 9.0/10.6 MB 1.9 MB/s eta 0:00:01\n",
      "   --------------------------------- ------ 9.0/10.6 MB 1.9 MB/s eta 0:00:01\n",
      "   ---------------------------------- ----- 9.1/10.6 MB 1.9 MB/s eta 0:00:01\n",
      "   ---------------------------------- ----- 9.2/10.6 MB 1.9 MB/s eta 0:00:01\n",
      "   ----------------------------------- ---- 9.4/10.6 MB 1.9 MB/s eta 0:00:01\n",
      "   ------------------------------------ --- 9.6/10.6 MB 2.0 MB/s eta 0:00:01\n",
      "   ------------------------------------ --- 9.7/10.6 MB 2.0 MB/s eta 0:00:01\n",
      "   ------------------------------------- -- 9.8/10.6 MB 2.0 MB/s eta 0:00:01\n",
      "   ------------------------------------- -- 9.9/10.6 MB 2.0 MB/s eta 0:00:01\n",
      "   ------------------------------------- -- 10.0/10.6 MB 2.0 MB/s eta 0:00:01\n",
      "   -------------------------------------- - 10.1/10.6 MB 2.0 MB/s eta 0:00:01\n",
      "   -------------------------------------- - 10.3/10.6 MB 2.0 MB/s eta 0:00:01\n",
      "   ---------------------------------------  10.4/10.6 MB 2.0 MB/s eta 0:00:01\n",
      "   ---------------------------------------  10.5/10.6 MB 2.0 MB/s eta 0:00:01\n",
      "   ---------------------------------------  10.6/10.6 MB 1.9 MB/s eta 0:00:01\n",
      "   ---------------------------------------  10.6/10.6 MB 1.9 MB/s eta 0:00:01\n",
      "   ---------------------------------------  10.6/10.6 MB 1.9 MB/s eta 0:00:01\n",
      "   ---------------------------------------  10.6/10.6 MB 1.9 MB/s eta 0:00:01\n",
      "   ---------------------------------------- 10.6/10.6 MB 1.9 MB/s eta 0:00:00\n",
      "Downloading scikit_plot-0.3.7-py3-none-any.whl (33 kB)\n",
      "Downloading scipy-1.11.4-cp311-cp311-win_amd64.whl (44.1 MB)\n",
      "   ---------------------------------------- 0.0/44.1 MB ? eta -:--:--\n",
      "   ---------------------------------------- 0.1/44.1 MB 3.6 MB/s eta 0:00:13\n",
      "   ---------------------------------------- 0.3/44.1 MB 3.4 MB/s eta 0:00:13\n",
      "   ---------------------------------------- 0.5/44.1 MB 3.5 MB/s eta 0:00:13\n",
      "    --------------------------------------- 0.6/44.1 MB 3.8 MB/s eta 0:00:12\n",
      "    --------------------------------------- 0.7/44.1 MB 3.5 MB/s eta 0:00:13\n",
      "    --------------------------------------- 0.8/44.1 MB 3.1 MB/s eta 0:00:15\n",
      "    --------------------------------------- 0.9/44.1 MB 3.0 MB/s eta 0:00:15\n",
      "    --------------------------------------- 1.0/44.1 MB 2.9 MB/s eta 0:00:15\n",
      "   - -------------------------------------- 1.1/44.1 MB 2.9 MB/s eta 0:00:15\n",
      "   - -------------------------------------- 1.2/44.1 MB 2.7 MB/s eta 0:00:16\n",
      "   - -------------------------------------- 1.4/44.1 MB 2.7 MB/s eta 0:00:16\n",
      "   - -------------------------------------- 1.5/44.1 MB 2.7 MB/s eta 0:00:16\n",
      "   - -------------------------------------- 1.6/44.1 MB 2.7 MB/s eta 0:00:16\n",
      "   - -------------------------------------- 1.7/44.1 MB 2.6 MB/s eta 0:00:17\n",
      "   - -------------------------------------- 1.8/44.1 MB 2.6 MB/s eta 0:00:17\n",
      "   - -------------------------------------- 1.9/44.1 MB 2.6 MB/s eta 0:00:17\n",
      "   - -------------------------------------- 2.0/44.1 MB 2.6 MB/s eta 0:00:17\n",
      "   - -------------------------------------- 2.1/44.1 MB 2.6 MB/s eta 0:00:17\n",
      "   -- ------------------------------------- 2.2/44.1 MB 2.6 MB/s eta 0:00:17\n",
      "   -- ------------------------------------- 2.3/44.1 MB 2.5 MB/s eta 0:00:17\n",
      "   -- ------------------------------------- 2.4/44.1 MB 2.5 MB/s eta 0:00:17\n",
      "   -- ------------------------------------- 2.5/44.1 MB 2.5 MB/s eta 0:00:17\n",
      "   -- ------------------------------------- 2.6/44.1 MB 2.5 MB/s eta 0:00:17\n",
      "   -- ------------------------------------- 2.7/44.1 MB 2.5 MB/s eta 0:00:17\n",
      "   -- ------------------------------------- 2.8/44.1 MB 2.4 MB/s eta 0:00:17\n",
      "   -- ------------------------------------- 2.9/44.1 MB 2.4 MB/s eta 0:00:17\n",
      "   -- ------------------------------------- 3.0/44.1 MB 2.4 MB/s eta 0:00:18\n",
      "   -- ------------------------------------- 3.1/44.1 MB 2.4 MB/s eta 0:00:18\n",
      "   -- ------------------------------------- 3.2/44.1 MB 2.4 MB/s eta 0:00:18\n",
      "   -- ------------------------------------- 3.3/44.1 MB 2.4 MB/s eta 0:00:18\n",
      "   --- ------------------------------------ 3.4/44.1 MB 2.4 MB/s eta 0:00:18\n",
      "   --- ------------------------------------ 3.5/44.1 MB 2.4 MB/s eta 0:00:18\n",
      "   --- ------------------------------------ 3.6/44.1 MB 2.3 MB/s eta 0:00:18\n",
      "   --- ------------------------------------ 3.7/44.1 MB 2.4 MB/s eta 0:00:18\n",
      "   --- ------------------------------------ 3.8/44.1 MB 2.3 MB/s eta 0:00:18\n",
      "   --- ------------------------------------ 3.9/44.1 MB 2.3 MB/s eta 0:00:18\n",
      "   --- ------------------------------------ 4.0/44.1 MB 2.3 MB/s eta 0:00:18\n",
      "   --- ------------------------------------ 4.1/44.1 MB 2.3 MB/s eta 0:00:18\n",
      "   --- ------------------------------------ 4.2/44.1 MB 2.3 MB/s eta 0:00:18\n",
      "   --- ------------------------------------ 4.3/44.1 MB 2.3 MB/s eta 0:00:18\n",
      "   --- ------------------------------------ 4.4/44.1 MB 2.3 MB/s eta 0:00:18\n",
      "   ---- ----------------------------------- 4.5/44.1 MB 2.3 MB/s eta 0:00:18\n",
      "   ---- ----------------------------------- 4.6/44.1 MB 2.3 MB/s eta 0:00:17\n",
      "   ---- ----------------------------------- 4.7/44.1 MB 2.3 MB/s eta 0:00:18\n",
      "   ---- ----------------------------------- 4.8/44.1 MB 2.3 MB/s eta 0:00:17\n",
      "   ---- ----------------------------------- 4.9/44.1 MB 2.3 MB/s eta 0:00:18\n",
      "   ---- ----------------------------------- 5.0/44.1 MB 2.3 MB/s eta 0:00:18\n",
      "   ---- ----------------------------------- 5.1/44.1 MB 2.3 MB/s eta 0:00:17\n",
      "   ---- ----------------------------------- 5.2/44.1 MB 2.3 MB/s eta 0:00:17\n",
      "   ---- ----------------------------------- 5.2/44.1 MB 2.3 MB/s eta 0:00:18\n",
      "   ---- ----------------------------------- 5.4/44.1 MB 2.3 MB/s eta 0:00:17\n",
      "   ---- ----------------------------------- 5.5/44.1 MB 2.3 MB/s eta 0:00:18\n",
      "   ----- ---------------------------------- 5.6/44.1 MB 2.3 MB/s eta 0:00:17\n",
      "   ----- ---------------------------------- 5.7/44.1 MB 2.3 MB/s eta 0:00:17\n",
      "   ----- ---------------------------------- 5.8/44.1 MB 2.3 MB/s eta 0:00:17\n",
      "   ----- ---------------------------------- 5.9/44.1 MB 2.3 MB/s eta 0:00:17\n",
      "   ----- ---------------------------------- 5.9/44.1 MB 2.3 MB/s eta 0:00:17\n",
      "   ----- ---------------------------------- 6.0/44.1 MB 2.2 MB/s eta 0:00:17\n",
      "   ----- ---------------------------------- 6.2/44.1 MB 2.3 MB/s eta 0:00:17\n",
      "   ----- ---------------------------------- 6.3/44.1 MB 2.3 MB/s eta 0:00:17\n",
      "   ----- ---------------------------------- 6.4/44.1 MB 2.3 MB/s eta 0:00:17\n",
      "   ----- ---------------------------------- 6.5/44.1 MB 2.3 MB/s eta 0:00:17\n",
      "   ----- ---------------------------------- 6.6/44.1 MB 2.3 MB/s eta 0:00:17\n",
      "   ------ --------------------------------- 6.7/44.1 MB 2.3 MB/s eta 0:00:17\n",
      "   ------ --------------------------------- 6.8/44.1 MB 2.3 MB/s eta 0:00:17\n",
      "   ------ --------------------------------- 6.9/44.1 MB 2.3 MB/s eta 0:00:17\n",
      "   ------ --------------------------------- 7.0/44.1 MB 2.3 MB/s eta 0:00:17\n",
      "   ------ --------------------------------- 7.1/44.1 MB 2.2 MB/s eta 0:00:17\n",
      "   ------ --------------------------------- 7.2/44.1 MB 2.3 MB/s eta 0:00:17\n",
      "   ------ --------------------------------- 7.3/44.1 MB 2.2 MB/s eta 0:00:17\n",
      "   ------ --------------------------------- 7.4/44.1 MB 2.2 MB/s eta 0:00:17\n",
      "   ------ --------------------------------- 7.5/44.1 MB 2.2 MB/s eta 0:00:17\n",
      "   ------ --------------------------------- 7.5/44.1 MB 2.2 MB/s eta 0:00:17\n",
      "   ------ --------------------------------- 7.6/44.1 MB 2.2 MB/s eta 0:00:17\n",
      "   ------- -------------------------------- 7.7/44.1 MB 2.2 MB/s eta 0:00:17\n",
      "   ------- -------------------------------- 7.8/44.1 MB 2.2 MB/s eta 0:00:17\n",
      "   ------- -------------------------------- 8.0/44.1 MB 2.2 MB/s eta 0:00:17\n",
      "   ------- -------------------------------- 8.1/44.1 MB 2.2 MB/s eta 0:00:17\n",
      "   ------- -------------------------------- 8.2/44.1 MB 2.2 MB/s eta 0:00:17\n",
      "   ------- -------------------------------- 8.3/44.1 MB 2.2 MB/s eta 0:00:16\n",
      "   ------- -------------------------------- 8.4/44.1 MB 2.2 MB/s eta 0:00:16\n",
      "   ------- -------------------------------- 8.5/44.1 MB 2.2 MB/s eta 0:00:16\n",
      "   ------- -------------------------------- 8.5/44.1 MB 2.2 MB/s eta 0:00:16\n",
      "   ------- -------------------------------- 8.7/44.1 MB 2.2 MB/s eta 0:00:16\n",
      "   ------- -------------------------------- 8.7/44.1 MB 2.2 MB/s eta 0:00:16\n",
      "   ------- -------------------------------- 8.8/44.1 MB 2.2 MB/s eta 0:00:16\n",
      "   -------- ------------------------------- 8.9/44.1 MB 2.2 MB/s eta 0:00:16\n",
      "   -------- ------------------------------- 9.1/44.1 MB 2.2 MB/s eta 0:00:16\n",
      "   -------- ------------------------------- 9.1/44.1 MB 2.2 MB/s eta 0:00:16\n",
      "   -------- ------------------------------- 9.3/44.1 MB 2.2 MB/s eta 0:00:16\n",
      "   -------- ------------------------------- 9.4/44.1 MB 2.2 MB/s eta 0:00:16\n",
      "   -------- ------------------------------- 9.5/44.1 MB 2.2 MB/s eta 0:00:16\n",
      "   -------- ------------------------------- 9.6/44.1 MB 2.2 MB/s eta 0:00:16\n",
      "   -------- ------------------------------- 9.7/44.1 MB 2.2 MB/s eta 0:00:16\n",
      "   -------- ------------------------------- 9.7/44.1 MB 2.2 MB/s eta 0:00:16\n",
      "   -------- ------------------------------- 9.8/44.1 MB 2.2 MB/s eta 0:00:16\n",
      "   --------- ------------------------------ 10.0/44.1 MB 2.2 MB/s eta 0:00:16\n",
      "   --------- ------------------------------ 10.0/44.1 MB 2.2 MB/s eta 0:00:16\n",
      "   --------- ------------------------------ 10.2/44.1 MB 2.2 MB/s eta 0:00:16\n",
      "   --------- ------------------------------ 10.2/44.1 MB 2.2 MB/s eta 0:00:16\n",
      "   --------- ------------------------------ 10.3/44.1 MB 2.2 MB/s eta 0:00:16\n",
      "   --------- ------------------------------ 10.4/44.1 MB 2.2 MB/s eta 0:00:16\n",
      "   --------- ------------------------------ 10.5/44.1 MB 2.2 MB/s eta 0:00:16\n",
      "   --------- ------------------------------ 10.6/44.1 MB 2.2 MB/s eta 0:00:16\n",
      "   --------- ------------------------------ 10.7/44.1 MB 2.2 MB/s eta 0:00:16\n",
      "   --------- ------------------------------ 10.8/44.1 MB 2.2 MB/s eta 0:00:16\n",
      "   --------- ------------------------------ 10.9/44.1 MB 2.2 MB/s eta 0:00:16\n",
      "   --------- ------------------------------ 11.0/44.1 MB 2.2 MB/s eta 0:00:16\n",
      "   ---------- ----------------------------- 11.1/44.1 MB 2.2 MB/s eta 0:00:16\n",
      "   ---------- ----------------------------- 11.2/44.1 MB 2.2 MB/s eta 0:00:16\n",
      "   ---------- ----------------------------- 11.3/44.1 MB 2.2 MB/s eta 0:00:16\n",
      "   ---------- ----------------------------- 11.4/44.1 MB 2.1 MB/s eta 0:00:16\n",
      "   ---------- ----------------------------- 11.5/44.1 MB 2.2 MB/s eta 0:00:16\n",
      "   ---------- ----------------------------- 11.6/44.1 MB 2.1 MB/s eta 0:00:16\n",
      "   ---------- ----------------------------- 11.7/44.1 MB 2.1 MB/s eta 0:00:16\n",
      "   ---------- ----------------------------- 11.8/44.1 MB 2.1 MB/s eta 0:00:16\n",
      "   ---------- ----------------------------- 11.9/44.1 MB 2.1 MB/s eta 0:00:16\n",
      "   ---------- ----------------------------- 11.9/44.1 MB 2.1 MB/s eta 0:00:16\n",
      "   ---------- ----------------------------- 12.0/44.1 MB 2.1 MB/s eta 0:00:16\n",
      "   ----------- ---------------------------- 12.2/44.1 MB 2.1 MB/s eta 0:00:15\n",
      "   ----------- ---------------------------- 12.3/44.1 MB 2.1 MB/s eta 0:00:15\n",
      "   ----------- ---------------------------- 12.5/44.1 MB 2.2 MB/s eta 0:00:15\n",
      "   ----------- ---------------------------- 12.5/44.1 MB 2.1 MB/s eta 0:00:15\n",
      "   ----------- ---------------------------- 12.7/44.1 MB 2.2 MB/s eta 0:00:15\n",
      "   ----------- ---------------------------- 12.8/44.1 MB 2.2 MB/s eta 0:00:15\n",
      "   ----------- ---------------------------- 12.8/44.1 MB 2.2 MB/s eta 0:00:15\n",
      "   ----------- ---------------------------- 12.9/44.1 MB 2.1 MB/s eta 0:00:15\n",
      "   ----------- ---------------------------- 13.0/44.1 MB 2.1 MB/s eta 0:00:15\n",
      "   ----------- ---------------------------- 13.1/44.1 MB 2.1 MB/s eta 0:00:15\n",
      "   ----------- ---------------------------- 13.2/44.1 MB 2.1 MB/s eta 0:00:15\n",
      "   ------------ --------------------------- 13.3/44.1 MB 2.2 MB/s eta 0:00:15\n",
      "   ------------ --------------------------- 13.4/44.1 MB 2.2 MB/s eta 0:00:15\n",
      "   ------------ --------------------------- 13.5/44.1 MB 2.2 MB/s eta 0:00:15\n",
      "   ------------ --------------------------- 13.6/44.1 MB 2.1 MB/s eta 0:00:15\n",
      "   ------------ --------------------------- 13.7/44.1 MB 2.2 MB/s eta 0:00:15\n",
      "   ------------ --------------------------- 13.8/44.1 MB 2.1 MB/s eta 0:00:15\n",
      "   ------------ --------------------------- 13.9/44.1 MB 2.2 MB/s eta 0:00:15\n",
      "   ------------ --------------------------- 14.0/44.1 MB 2.1 MB/s eta 0:00:15\n",
      "   ------------ --------------------------- 14.1/44.1 MB 2.1 MB/s eta 0:00:14\n",
      "   ------------ --------------------------- 14.2/44.1 MB 2.1 MB/s eta 0:00:14\n",
      "   ------------ --------------------------- 14.3/44.1 MB 2.2 MB/s eta 0:00:14\n",
      "   ------------- -------------------------- 14.4/44.1 MB 2.2 MB/s eta 0:00:14\n",
      "   ------------- -------------------------- 14.5/44.1 MB 2.2 MB/s eta 0:00:14\n",
      "   ------------- -------------------------- 14.6/44.1 MB 2.1 MB/s eta 0:00:14\n",
      "   ------------- -------------------------- 14.7/44.1 MB 2.1 MB/s eta 0:00:14\n",
      "   ------------- -------------------------- 14.8/44.1 MB 2.1 MB/s eta 0:00:14\n",
      "   ------------- -------------------------- 14.9/44.1 MB 2.1 MB/s eta 0:00:14\n",
      "   ------------- -------------------------- 15.0/44.1 MB 2.2 MB/s eta 0:00:14\n",
      "   ------------- -------------------------- 15.1/44.1 MB 2.2 MB/s eta 0:00:14\n",
      "   ------------- -------------------------- 15.2/44.1 MB 2.2 MB/s eta 0:00:14\n",
      "   ------------- -------------------------- 15.3/44.1 MB 2.1 MB/s eta 0:00:14\n",
      "   ------------- -------------------------- 15.4/44.1 MB 2.1 MB/s eta 0:00:14\n",
      "   -------------- ------------------------- 15.5/44.1 MB 2.2 MB/s eta 0:00:14\n",
      "   -------------- ------------------------- 15.6/44.1 MB 2.2 MB/s eta 0:00:14\n",
      "   -------------- ------------------------- 15.7/44.1 MB 2.1 MB/s eta 0:00:14\n",
      "   -------------- ------------------------- 15.8/44.1 MB 2.1 MB/s eta 0:00:14\n",
      "   -------------- ------------------------- 15.9/44.1 MB 2.2 MB/s eta 0:00:14\n",
      "   -------------- ------------------------- 16.0/44.1 MB 2.1 MB/s eta 0:00:14\n",
      "   -------------- ------------------------- 16.1/44.1 MB 2.2 MB/s eta 0:00:13\n",
      "   -------------- ------------------------- 16.2/44.1 MB 2.2 MB/s eta 0:00:13\n",
      "   -------------- ------------------------- 16.3/44.1 MB 2.2 MB/s eta 0:00:13\n",
      "   -------------- ------------------------- 16.4/44.1 MB 2.2 MB/s eta 0:00:13\n",
      "   -------------- ------------------------- 16.5/44.1 MB 2.1 MB/s eta 0:00:13\n",
      "   --------------- ------------------------ 16.6/44.1 MB 2.1 MB/s eta 0:00:13\n",
      "   --------------- ------------------------ 16.7/44.1 MB 2.1 MB/s eta 0:00:13\n",
      "   --------------- ------------------------ 16.8/44.1 MB 2.2 MB/s eta 0:00:13\n",
      "   --------------- ------------------------ 16.9/44.1 MB 2.2 MB/s eta 0:00:13\n",
      "   --------------- ------------------------ 17.0/44.1 MB 2.1 MB/s eta 0:00:13\n",
      "   --------------- ------------------------ 17.1/44.1 MB 2.1 MB/s eta 0:00:13\n",
      "   --------------- ------------------------ 17.2/44.1 MB 2.1 MB/s eta 0:00:13\n",
      "   --------------- ------------------------ 17.3/44.1 MB 2.1 MB/s eta 0:00:13\n",
      "   --------------- ------------------------ 17.4/44.1 MB 2.1 MB/s eta 0:00:13\n",
      "   --------------- ------------------------ 17.5/44.1 MB 2.2 MB/s eta 0:00:13\n",
      "   --------------- ------------------------ 17.6/44.1 MB 2.1 MB/s eta 0:00:13\n",
      "   ---------------- ----------------------- 17.7/44.1 MB 2.2 MB/s eta 0:00:13\n",
      "   ---------------- ----------------------- 17.8/44.1 MB 2.2 MB/s eta 0:00:13\n",
      "   ---------------- ----------------------- 17.9/44.1 MB 2.2 MB/s eta 0:00:13\n",
      "   ---------------- ----------------------- 18.0/44.1 MB 2.1 MB/s eta 0:00:13\n",
      "   ---------------- ----------------------- 18.1/44.1 MB 2.2 MB/s eta 0:00:13\n",
      "   ---------------- ----------------------- 18.2/44.1 MB 2.1 MB/s eta 0:00:13\n",
      "   ---------------- ----------------------- 18.3/44.1 MB 2.1 MB/s eta 0:00:13\n",
      "   ---------------- ----------------------- 18.4/44.1 MB 2.1 MB/s eta 0:00:13\n",
      "   ---------------- ----------------------- 18.5/44.1 MB 2.1 MB/s eta 0:00:12\n",
      "   ---------------- ----------------------- 18.6/44.1 MB 2.1 MB/s eta 0:00:12\n",
      "   ---------------- ----------------------- 18.7/44.1 MB 2.1 MB/s eta 0:00:12\n",
      "   ----------------- ---------------------- 18.8/44.1 MB 2.2 MB/s eta 0:00:12\n",
      "   ----------------- ---------------------- 18.9/44.1 MB 2.1 MB/s eta 0:00:12\n",
      "   ----------------- ---------------------- 19.0/44.1 MB 2.2 MB/s eta 0:00:12\n",
      "   ----------------- ---------------------- 19.1/44.1 MB 2.1 MB/s eta 0:00:12\n",
      "   ----------------- ---------------------- 19.2/44.1 MB 2.1 MB/s eta 0:00:12\n",
      "   ----------------- ---------------------- 19.3/44.1 MB 2.2 MB/s eta 0:00:12\n",
      "   ----------------- ---------------------- 19.4/44.1 MB 2.1 MB/s eta 0:00:12\n",
      "   ----------------- ---------------------- 19.5/44.1 MB 2.2 MB/s eta 0:00:12\n",
      "   ----------------- ---------------------- 19.6/44.1 MB 2.1 MB/s eta 0:00:12\n",
      "   ----------------- ---------------------- 19.7/44.1 MB 2.1 MB/s eta 0:00:12\n",
      "   ----------------- ---------------------- 19.8/44.1 MB 2.1 MB/s eta 0:00:12\n",
      "   ------------------ --------------------- 19.9/44.1 MB 2.1 MB/s eta 0:00:12\n",
      "   ------------------ --------------------- 20.0/44.1 MB 2.1 MB/s eta 0:00:12\n",
      "   ------------------ --------------------- 20.1/44.1 MB 2.1 MB/s eta 0:00:12\n",
      "   ------------------ --------------------- 20.2/44.1 MB 2.1 MB/s eta 0:00:12\n",
      "   ------------------ --------------------- 20.3/44.1 MB 2.2 MB/s eta 0:00:12\n",
      "   ------------------ --------------------- 20.4/44.1 MB 2.1 MB/s eta 0:00:12\n",
      "   ------------------ --------------------- 20.5/44.1 MB 2.1 MB/s eta 0:00:12\n",
      "   ------------------ --------------------- 20.6/44.1 MB 2.1 MB/s eta 0:00:11\n",
      "   ------------------ --------------------- 20.7/44.1 MB 2.2 MB/s eta 0:00:11\n",
      "   ------------------ --------------------- 20.8/44.1 MB 2.2 MB/s eta 0:00:11\n",
      "   ------------------ --------------------- 20.9/44.1 MB 2.1 MB/s eta 0:00:11\n",
      "   ------------------- -------------------- 21.0/44.1 MB 2.1 MB/s eta 0:00:11\n",
      "   ------------------- -------------------- 21.0/44.1 MB 2.1 MB/s eta 0:00:11\n",
      "   ------------------- -------------------- 21.0/44.1 MB 2.1 MB/s eta 0:00:11\n",
      "   ------------------- -------------------- 21.0/44.1 MB 2.1 MB/s eta 0:00:11\n",
      "   ------------------- -------------------- 21.1/44.1 MB 2.1 MB/s eta 0:00:12\n",
      "   ------------------- -------------------- 21.1/44.1 MB 2.1 MB/s eta 0:00:12\n",
      "   ------------------- -------------------- 21.1/44.1 MB 2.1 MB/s eta 0:00:12\n",
      "   ------------------- -------------------- 21.1/44.1 MB 2.1 MB/s eta 0:00:12\n",
      "   ------------------- -------------------- 21.1/44.1 MB 2.0 MB/s eta 0:00:12\n",
      "   ------------------- -------------------- 21.1/44.1 MB 2.0 MB/s eta 0:00:12\n",
      "   ------------------- -------------------- 21.1/44.1 MB 2.0 MB/s eta 0:00:12\n",
      "   ------------------- -------------------- 21.2/44.1 MB 2.0 MB/s eta 0:00:12\n",
      "   ------------------- -------------------- 21.2/44.1 MB 2.0 MB/s eta 0:00:12\n",
      "   ------------------- -------------------- 21.2/44.1 MB 1.9 MB/s eta 0:00:12\n",
      "   ------------------- -------------------- 21.3/44.1 MB 1.9 MB/s eta 0:00:12\n",
      "   ------------------- -------------------- 21.3/44.1 MB 1.9 MB/s eta 0:00:12\n",
      "   ------------------- -------------------- 21.4/44.1 MB 1.9 MB/s eta 0:00:12\n",
      "   ------------------- -------------------- 21.4/44.1 MB 1.9 MB/s eta 0:00:12\n",
      "   ------------------- -------------------- 21.5/44.1 MB 1.9 MB/s eta 0:00:12\n",
      "   ------------------- -------------------- 21.5/44.1 MB 1.9 MB/s eta 0:00:12\n",
      "   ------------------- -------------------- 21.6/44.1 MB 1.9 MB/s eta 0:00:12\n",
      "   ------------------- -------------------- 21.8/44.1 MB 1.9 MB/s eta 0:00:12\n",
      "   ------------------- -------------------- 21.9/44.1 MB 1.9 MB/s eta 0:00:12\n",
      "   ------------------- -------------------- 22.0/44.1 MB 1.9 MB/s eta 0:00:12\n",
      "   -------------------- ------------------- 22.1/44.1 MB 1.9 MB/s eta 0:00:12\n",
      "   -------------------- ------------------- 22.3/44.1 MB 1.9 MB/s eta 0:00:12\n",
      "   -------------------- ------------------- 22.4/44.1 MB 1.9 MB/s eta 0:00:12\n",
      "   -------------------- ------------------- 22.5/44.1 MB 1.9 MB/s eta 0:00:12\n",
      "   -------------------- ------------------- 22.7/44.1 MB 1.9 MB/s eta 0:00:12\n",
      "   -------------------- ------------------- 22.9/44.1 MB 1.9 MB/s eta 0:00:11\n",
      "   -------------------- ------------------- 23.0/44.1 MB 1.9 MB/s eta 0:00:11\n",
      "   -------------------- ------------------- 23.1/44.1 MB 1.9 MB/s eta 0:00:11\n",
      "   --------------------- ------------------ 23.2/44.1 MB 1.9 MB/s eta 0:00:11\n",
      "   --------------------- ------------------ 23.3/44.1 MB 1.9 MB/s eta 0:00:11\n",
      "   --------------------- ------------------ 23.4/44.1 MB 2.0 MB/s eta 0:00:11\n",
      "   --------------------- ------------------ 23.5/44.1 MB 1.9 MB/s eta 0:00:11\n",
      "   --------------------- ------------------ 23.6/44.1 MB 1.9 MB/s eta 0:00:11\n",
      "   --------------------- ------------------ 23.7/44.1 MB 1.9 MB/s eta 0:00:11\n",
      "   --------------------- ------------------ 23.8/44.1 MB 1.9 MB/s eta 0:00:11\n",
      "   --------------------- ------------------ 23.9/44.1 MB 1.9 MB/s eta 0:00:11\n",
      "   --------------------- ------------------ 24.0/44.1 MB 1.9 MB/s eta 0:00:11\n",
      "   --------------------- ------------------ 24.1/44.1 MB 1.9 MB/s eta 0:00:11\n",
      "   --------------------- ------------------ 24.2/44.1 MB 1.9 MB/s eta 0:00:11\n",
      "   ---------------------- ----------------- 24.3/44.1 MB 1.9 MB/s eta 0:00:11\n",
      "   ---------------------- ----------------- 24.4/44.1 MB 1.9 MB/s eta 0:00:11\n",
      "   ---------------------- ----------------- 24.5/44.1 MB 1.9 MB/s eta 0:00:11\n",
      "   ---------------------- ----------------- 24.5/44.1 MB 1.9 MB/s eta 0:00:11\n",
      "   ---------------------- ----------------- 24.6/44.1 MB 1.9 MB/s eta 0:00:11\n",
      "   ---------------------- ----------------- 24.7/44.1 MB 1.9 MB/s eta 0:00:11\n",
      "   ---------------------- ----------------- 24.8/44.1 MB 1.9 MB/s eta 0:00:10\n",
      "   ---------------------- ----------------- 24.9/44.1 MB 1.9 MB/s eta 0:00:10\n",
      "   ---------------------- ----------------- 25.0/44.1 MB 1.9 MB/s eta 0:00:10\n",
      "   ---------------------- ----------------- 25.1/44.1 MB 1.9 MB/s eta 0:00:10\n",
      "   ---------------------- ----------------- 25.2/44.1 MB 1.9 MB/s eta 0:00:10\n",
      "   ---------------------- ----------------- 25.3/44.1 MB 1.9 MB/s eta 0:00:10\n",
      "   ----------------------- ---------------- 25.4/44.1 MB 1.9 MB/s eta 0:00:10\n",
      "   ----------------------- ---------------- 25.5/44.1 MB 1.9 MB/s eta 0:00:10\n",
      "   ----------------------- ---------------- 25.7/44.1 MB 1.9 MB/s eta 0:00:10\n",
      "   ----------------------- ---------------- 25.9/44.1 MB 1.9 MB/s eta 0:00:10\n",
      "   ----------------------- ---------------- 26.0/44.1 MB 1.9 MB/s eta 0:00:10\n",
      "   ----------------------- ---------------- 26.1/44.1 MB 1.9 MB/s eta 0:00:10\n",
      "   ----------------------- ---------------- 26.1/44.1 MB 1.9 MB/s eta 0:00:10\n",
      "   ----------------------- ---------------- 26.3/44.1 MB 1.9 MB/s eta 0:00:10\n",
      "   ------------------------ --------------- 26.5/44.1 MB 1.9 MB/s eta 0:00:10\n",
      "   ------------------------ --------------- 26.6/44.1 MB 2.0 MB/s eta 0:00:09\n",
      "   ------------------------ --------------- 26.6/44.1 MB 1.9 MB/s eta 0:00:10\n",
      "   ------------------------ --------------- 26.6/44.1 MB 1.9 MB/s eta 0:00:10\n",
      "   ------------------------ --------------- 26.6/44.1 MB 1.9 MB/s eta 0:00:10\n",
      "   ------------------------ --------------- 26.6/44.1 MB 1.9 MB/s eta 0:00:10\n",
      "   ------------------------ --------------- 26.7/44.1 MB 1.9 MB/s eta 0:00:10\n",
      "   ------------------------ --------------- 26.7/44.1 MB 1.9 MB/s eta 0:00:10\n",
      "   ------------------------ --------------- 26.7/44.1 MB 1.9 MB/s eta 0:00:10\n",
      "   ------------------------ --------------- 26.8/44.1 MB 1.8 MB/s eta 0:00:10\n",
      "   ------------------------ --------------- 26.8/44.1 MB 1.8 MB/s eta 0:00:10\n",
      "   ------------------------ --------------- 26.9/44.1 MB 1.8 MB/s eta 0:00:10\n",
      "   ------------------------ --------------- 26.9/44.1 MB 1.8 MB/s eta 0:00:10\n",
      "   ------------------------ --------------- 26.9/44.1 MB 1.8 MB/s eta 0:00:10\n",
      "   ------------------------ --------------- 26.9/44.1 MB 1.8 MB/s eta 0:00:10\n",
      "   ------------------------ --------------- 27.0/44.1 MB 1.8 MB/s eta 0:00:10\n",
      "   ------------------------ --------------- 27.0/44.1 MB 1.8 MB/s eta 0:00:10\n",
      "   ------------------------ --------------- 27.2/44.1 MB 1.8 MB/s eta 0:00:10\n",
      "   ------------------------ --------------- 27.2/44.1 MB 1.8 MB/s eta 0:00:10\n",
      "   ------------------------ --------------- 27.3/44.1 MB 1.8 MB/s eta 0:00:10\n",
      "   ------------------------ --------------- 27.3/44.1 MB 1.8 MB/s eta 0:00:10\n",
      "   ------------------------ --------------- 27.3/44.1 MB 1.8 MB/s eta 0:00:10\n",
      "   ------------------------ --------------- 27.3/44.1 MB 1.8 MB/s eta 0:00:10\n",
      "   ------------------------ --------------- 27.3/44.1 MB 1.7 MB/s eta 0:00:10\n",
      "   ------------------------ --------------- 27.3/44.1 MB 1.7 MB/s eta 0:00:10\n",
      "   ------------------------ --------------- 27.4/44.1 MB 1.7 MB/s eta 0:00:10\n",
      "   ------------------------ --------------- 27.4/44.1 MB 1.7 MB/s eta 0:00:10\n",
      "   ------------------------ --------------- 27.4/44.1 MB 1.7 MB/s eta 0:00:10\n",
      "   ------------------------ --------------- 27.4/44.1 MB 1.7 MB/s eta 0:00:10\n",
      "   ------------------------ --------------- 27.4/44.1 MB 1.7 MB/s eta 0:00:11\n",
      "   ------------------------ --------------- 27.4/44.1 MB 1.7 MB/s eta 0:00:11\n",
      "   ------------------------ --------------- 27.4/44.1 MB 1.7 MB/s eta 0:00:11\n",
      "   ------------------------ --------------- 27.5/44.1 MB 1.6 MB/s eta 0:00:11\n",
      "   ------------------------- -------------- 27.6/44.1 MB 1.6 MB/s eta 0:00:11\n",
      "   ------------------------- -------------- 27.7/44.1 MB 1.6 MB/s eta 0:00:11\n",
      "   ------------------------- -------------- 27.9/44.1 MB 1.6 MB/s eta 0:00:10\n",
      "   ------------------------- -------------- 28.0/44.1 MB 1.6 MB/s eta 0:00:10\n",
      "   ------------------------- -------------- 28.2/44.1 MB 1.7 MB/s eta 0:00:10\n",
      "   ------------------------- -------------- 28.3/44.1 MB 1.7 MB/s eta 0:00:10\n",
      "   ------------------------- -------------- 28.4/44.1 MB 1.6 MB/s eta 0:00:10\n",
      "   ------------------------- -------------- 28.5/44.1 MB 1.6 MB/s eta 0:00:10\n",
      "   ------------------------- -------------- 28.6/44.1 MB 1.6 MB/s eta 0:00:10\n",
      "   ------------------------- -------------- 28.6/44.1 MB 1.6 MB/s eta 0:00:10\n",
      "   -------------------------- ------------- 28.7/44.1 MB 1.6 MB/s eta 0:00:10\n",
      "   -------------------------- ------------- 28.8/44.1 MB 1.6 MB/s eta 0:00:10\n",
      "   -------------------------- ------------- 28.9/44.1 MB 1.6 MB/s eta 0:00:10\n",
      "   -------------------------- ------------- 29.1/44.1 MB 1.6 MB/s eta 0:00:10\n",
      "   -------------------------- ------------- 29.2/44.1 MB 1.6 MB/s eta 0:00:10\n",
      "   -------------------------- ------------- 29.3/44.1 MB 1.7 MB/s eta 0:00:09\n",
      "   -------------------------- ------------- 29.5/44.1 MB 1.7 MB/s eta 0:00:09\n",
      "   -------------------------- ------------- 29.6/44.1 MB 1.7 MB/s eta 0:00:09\n",
      "   -------------------------- ------------- 29.7/44.1 MB 1.7 MB/s eta 0:00:09\n",
      "   --------------------------- ------------ 29.8/44.1 MB 1.7 MB/s eta 0:00:09\n",
      "   --------------------------- ------------ 29.9/44.1 MB 1.7 MB/s eta 0:00:09\n",
      "   --------------------------- ------------ 29.9/44.1 MB 1.7 MB/s eta 0:00:09\n",
      "   --------------------------- ------------ 30.0/44.1 MB 1.7 MB/s eta 0:00:09\n",
      "   --------------------------- ------------ 30.0/44.1 MB 1.6 MB/s eta 0:00:09\n",
      "   --------------------------- ------------ 30.0/44.1 MB 1.6 MB/s eta 0:00:09\n",
      "   --------------------------- ------------ 30.0/44.1 MB 1.6 MB/s eta 0:00:09\n",
      "   --------------------------- ------------ 30.0/44.1 MB 1.6 MB/s eta 0:00:09\n",
      "   --------------------------- ------------ 30.1/44.1 MB 1.6 MB/s eta 0:00:09\n",
      "   --------------------------- ------------ 30.1/44.1 MB 1.6 MB/s eta 0:00:09\n",
      "   --------------------------- ------------ 30.1/44.1 MB 1.6 MB/s eta 0:00:09\n",
      "   --------------------------- ------------ 30.1/44.1 MB 1.6 MB/s eta 0:00:09\n",
      "   --------------------------- ------------ 30.2/44.1 MB 1.6 MB/s eta 0:00:09\n",
      "   --------------------------- ------------ 30.2/44.1 MB 1.6 MB/s eta 0:00:09\n",
      "   --------------------------- ------------ 30.3/44.1 MB 1.6 MB/s eta 0:00:09\n",
      "   --------------------------- ------------ 30.3/44.1 MB 1.6 MB/s eta 0:00:09\n",
      "   --------------------------- ------------ 30.4/44.1 MB 1.5 MB/s eta 0:00:09\n",
      "   --------------------------- ------------ 30.5/44.1 MB 1.5 MB/s eta 0:00:09\n",
      "   --------------------------- ------------ 30.6/44.1 MB 1.5 MB/s eta 0:00:09\n",
      "   --------------------------- ------------ 30.6/44.1 MB 1.5 MB/s eta 0:00:09\n",
      "   --------------------------- ------------ 30.8/44.1 MB 1.5 MB/s eta 0:00:09\n",
      "   ---------------------------- ----------- 30.9/44.1 MB 1.5 MB/s eta 0:00:09\n",
      "   ---------------------------- ----------- 31.0/44.1 MB 1.5 MB/s eta 0:00:09\n",
      "   ---------------------------- ----------- 31.1/44.1 MB 1.5 MB/s eta 0:00:09\n",
      "   ---------------------------- ----------- 31.2/44.1 MB 1.5 MB/s eta 0:00:09\n",
      "   ---------------------------- ----------- 31.3/44.1 MB 1.6 MB/s eta 0:00:09\n",
      "   ---------------------------- ----------- 31.5/44.1 MB 1.7 MB/s eta 0:00:08\n",
      "   ---------------------------- ----------- 31.6/44.1 MB 1.7 MB/s eta 0:00:08\n",
      "   ---------------------------- ----------- 31.8/44.1 MB 1.7 MB/s eta 0:00:08\n",
      "   ---------------------------- ----------- 31.9/44.1 MB 1.7 MB/s eta 0:00:08\n",
      "   ----------------------------- ---------- 32.1/44.1 MB 1.7 MB/s eta 0:00:07\n",
      "   ----------------------------- ---------- 32.2/44.1 MB 1.7 MB/s eta 0:00:07\n",
      "   ----------------------------- ---------- 32.3/44.1 MB 1.7 MB/s eta 0:00:07\n",
      "   ----------------------------- ---------- 32.4/44.1 MB 1.7 MB/s eta 0:00:07\n",
      "   ----------------------------- ---------- 32.5/44.1 MB 1.7 MB/s eta 0:00:07\n",
      "   ----------------------------- ---------- 32.6/44.1 MB 1.7 MB/s eta 0:00:07\n",
      "   ----------------------------- ---------- 32.6/44.1 MB 1.7 MB/s eta 0:00:07\n",
      "   ----------------------------- ---------- 32.7/44.1 MB 1.7 MB/s eta 0:00:07\n",
      "   ----------------------------- ---------- 32.8/44.1 MB 1.7 MB/s eta 0:00:07\n",
      "   ----------------------------- ---------- 33.0/44.1 MB 1.7 MB/s eta 0:00:07\n",
      "   ----------------------------- ---------- 33.0/44.1 MB 1.7 MB/s eta 0:00:07\n",
      "   ------------------------------ --------- 33.1/44.1 MB 1.7 MB/s eta 0:00:07\n",
      "   ------------------------------ --------- 33.1/44.1 MB 1.7 MB/s eta 0:00:07\n",
      "   ------------------------------ --------- 33.3/44.1 MB 1.7 MB/s eta 0:00:07\n",
      "   ------------------------------ --------- 33.4/44.1 MB 1.7 MB/s eta 0:00:07\n",
      "   ------------------------------ --------- 33.6/44.1 MB 1.7 MB/s eta 0:00:07\n",
      "   ------------------------------ --------- 33.7/44.1 MB 1.7 MB/s eta 0:00:07\n",
      "   ------------------------------ --------- 33.8/44.1 MB 1.7 MB/s eta 0:00:07\n",
      "   ------------------------------ --------- 33.9/44.1 MB 1.7 MB/s eta 0:00:07\n",
      "   ------------------------------ --------- 34.0/44.1 MB 1.7 MB/s eta 0:00:06\n",
      "   ------------------------------ --------- 34.1/44.1 MB 1.7 MB/s eta 0:00:06\n",
      "   ------------------------------- -------- 34.2/44.1 MB 1.7 MB/s eta 0:00:06\n",
      "   ------------------------------- -------- 34.3/44.1 MB 1.7 MB/s eta 0:00:06\n",
      "   ------------------------------- -------- 34.4/44.1 MB 1.7 MB/s eta 0:00:06\n",
      "   ------------------------------- -------- 34.5/44.1 MB 1.7 MB/s eta 0:00:06\n",
      "   ------------------------------- -------- 34.6/44.1 MB 1.7 MB/s eta 0:00:06\n",
      "   ------------------------------- -------- 34.7/44.1 MB 1.7 MB/s eta 0:00:06\n",
      "   ------------------------------- -------- 34.8/44.1 MB 1.7 MB/s eta 0:00:06\n",
      "   ------------------------------- -------- 34.9/44.1 MB 1.7 MB/s eta 0:00:06\n",
      "   ------------------------------- -------- 35.0/44.1 MB 1.7 MB/s eta 0:00:06\n",
      "   ------------------------------- -------- 35.1/44.1 MB 1.7 MB/s eta 0:00:06\n",
      "   ------------------------------- -------- 35.2/44.1 MB 1.7 MB/s eta 0:00:06\n",
      "   -------------------------------- ------- 35.3/44.1 MB 1.7 MB/s eta 0:00:06\n",
      "   -------------------------------- ------- 35.4/44.1 MB 1.7 MB/s eta 0:00:06\n",
      "   -------------------------------- ------- 35.5/44.1 MB 1.7 MB/s eta 0:00:06\n",
      "   -------------------------------- ------- 35.6/44.1 MB 1.7 MB/s eta 0:00:05\n",
      "   -------------------------------- ------- 35.7/44.1 MB 1.7 MB/s eta 0:00:05\n",
      "   -------------------------------- ------- 35.8/44.1 MB 1.7 MB/s eta 0:00:05\n",
      "   -------------------------------- ------- 35.9/44.1 MB 1.7 MB/s eta 0:00:05\n",
      "   -------------------------------- ------- 36.0/44.1 MB 1.7 MB/s eta 0:00:05\n",
      "   -------------------------------- ------- 36.1/44.1 MB 1.7 MB/s eta 0:00:05\n",
      "   -------------------------------- ------- 36.2/44.1 MB 1.7 MB/s eta 0:00:05\n",
      "   -------------------------------- ------- 36.3/44.1 MB 1.7 MB/s eta 0:00:05\n",
      "   --------------------------------- ------ 36.4/44.1 MB 1.7 MB/s eta 0:00:05\n",
      "   --------------------------------- ------ 36.5/44.1 MB 1.7 MB/s eta 0:00:05\n",
      "   --------------------------------- ------ 36.6/44.1 MB 1.7 MB/s eta 0:00:05\n",
      "   --------------------------------- ------ 36.7/44.1 MB 1.7 MB/s eta 0:00:05\n",
      "   --------------------------------- ------ 36.8/44.1 MB 1.7 MB/s eta 0:00:05\n",
      "   --------------------------------- ------ 36.9/44.1 MB 1.8 MB/s eta 0:00:05\n",
      "   --------------------------------- ------ 37.0/44.1 MB 1.8 MB/s eta 0:00:05\n",
      "   --------------------------------- ------ 37.1/44.1 MB 1.8 MB/s eta 0:00:04\n",
      "   --------------------------------- ------ 37.1/44.1 MB 1.8 MB/s eta 0:00:04\n",
      "   --------------------------------- ------ 37.2/44.1 MB 1.8 MB/s eta 0:00:04\n",
      "   --------------------------------- ------ 37.3/44.1 MB 1.8 MB/s eta 0:00:04\n",
      "   --------------------------------- ------ 37.4/44.1 MB 1.8 MB/s eta 0:00:04\n",
      "   --------------------------------- ------ 37.5/44.1 MB 1.8 MB/s eta 0:00:04\n",
      "   ---------------------------------- ----- 37.6/44.1 MB 1.9 MB/s eta 0:00:04\n",
      "   ---------------------------------- ----- 37.7/44.1 MB 2.0 MB/s eta 0:00:04\n",
      "   ---------------------------------- ----- 37.8/44.1 MB 2.0 MB/s eta 0:00:04\n",
      "   ---------------------------------- ----- 37.9/44.1 MB 2.0 MB/s eta 0:00:04\n",
      "   ---------------------------------- ----- 38.0/44.1 MB 2.0 MB/s eta 0:00:03\n",
      "   ---------------------------------- ----- 38.2/44.1 MB 2.0 MB/s eta 0:00:03\n",
      "   ---------------------------------- ----- 38.3/44.1 MB 2.0 MB/s eta 0:00:03\n",
      "   ---------------------------------- ----- 38.4/44.1 MB 2.0 MB/s eta 0:00:03\n",
      "   ----------------------------------- ---- 38.6/44.1 MB 2.0 MB/s eta 0:00:03\n",
      "   ----------------------------------- ---- 38.7/44.1 MB 2.0 MB/s eta 0:00:03\n",
      "   ----------------------------------- ---- 38.8/44.1 MB 2.0 MB/s eta 0:00:03\n",
      "   ----------------------------------- ---- 38.9/44.1 MB 2.0 MB/s eta 0:00:03\n",
      "   ----------------------------------- ---- 39.0/44.1 MB 2.0 MB/s eta 0:00:03\n",
      "   ----------------------------------- ---- 39.1/44.1 MB 2.0 MB/s eta 0:00:03\n",
      "   ----------------------------------- ---- 39.2/44.1 MB 2.0 MB/s eta 0:00:03\n",
      "   ----------------------------------- ---- 39.3/44.1 MB 2.0 MB/s eta 0:00:03\n",
      "   ----------------------------------- ---- 39.4/44.1 MB 2.0 MB/s eta 0:00:03\n",
      "   ----------------------------------- ---- 39.6/44.1 MB 2.0 MB/s eta 0:00:03\n",
      "   ------------------------------------ --- 39.7/44.1 MB 2.0 MB/s eta 0:00:03\n",
      "   ------------------------------------ --- 39.7/44.1 MB 2.0 MB/s eta 0:00:03\n",
      "   ------------------------------------ --- 39.7/44.1 MB 2.0 MB/s eta 0:00:03\n",
      "   ------------------------------------ --- 39.7/44.1 MB 2.0 MB/s eta 0:00:03\n",
      "   ------------------------------------ --- 39.8/44.1 MB 1.9 MB/s eta 0:00:03\n",
      "   ------------------------------------ --- 39.8/44.1 MB 1.9 MB/s eta 0:00:03\n",
      "   ------------------------------------ --- 39.8/44.1 MB 1.9 MB/s eta 0:00:03\n",
      "   ------------------------------------ --- 39.8/44.1 MB 1.9 MB/s eta 0:00:03\n",
      "   ------------------------------------ --- 39.8/44.1 MB 1.9 MB/s eta 0:00:03\n",
      "   ------------------------------------ --- 39.8/44.1 MB 1.9 MB/s eta 0:00:03\n",
      "   ------------------------------------ --- 39.9/44.1 MB 1.9 MB/s eta 0:00:03\n",
      "   ------------------------------------ --- 39.9/44.1 MB 1.9 MB/s eta 0:00:03\n",
      "   ------------------------------------ --- 39.9/44.1 MB 1.8 MB/s eta 0:00:03\n",
      "   ------------------------------------ --- 40.0/44.1 MB 1.8 MB/s eta 0:00:03\n",
      "   ------------------------------------ --- 40.0/44.1 MB 1.8 MB/s eta 0:00:03\n",
      "   ------------------------------------ --- 40.1/44.1 MB 1.8 MB/s eta 0:00:03\n",
      "   ------------------------------------ --- 40.1/44.1 MB 1.8 MB/s eta 0:00:03\n",
      "   ------------------------------------ --- 40.1/44.1 MB 1.8 MB/s eta 0:00:03\n",
      "   ------------------------------------ --- 40.1/44.1 MB 1.8 MB/s eta 0:00:03\n",
      "   ------------------------------------ --- 40.1/44.1 MB 1.8 MB/s eta 0:00:03\n",
      "   ------------------------------------ --- 40.1/44.1 MB 1.8 MB/s eta 0:00:03\n",
      "   ------------------------------------ --- 40.1/44.1 MB 1.8 MB/s eta 0:00:03\n",
      "   ------------------------------------ --- 40.2/44.1 MB 1.7 MB/s eta 0:00:03\n",
      "   ------------------------------------ --- 40.2/44.1 MB 1.7 MB/s eta 0:00:03\n",
      "   ------------------------------------ --- 40.2/44.1 MB 1.7 MB/s eta 0:00:03\n",
      "   ------------------------------------ --- 40.2/44.1 MB 1.7 MB/s eta 0:00:03\n",
      "   ------------------------------------ --- 40.2/44.1 MB 1.7 MB/s eta 0:00:03\n",
      "   ------------------------------------ --- 40.2/44.1 MB 1.7 MB/s eta 0:00:03\n",
      "   ------------------------------------ --- 40.3/44.1 MB 1.7 MB/s eta 0:00:03\n",
      "   ------------------------------------ --- 40.4/44.1 MB 1.8 MB/s eta 0:00:03\n",
      "   ------------------------------------ --- 40.4/44.1 MB 1.8 MB/s eta 0:00:03\n",
      "   ------------------------------------ --- 40.4/44.1 MB 1.8 MB/s eta 0:00:03\n",
      "   ------------------------------------ --- 40.4/44.1 MB 1.8 MB/s eta 0:00:03\n",
      "   ------------------------------------ --- 40.4/44.1 MB 1.8 MB/s eta 0:00:03\n",
      "   ------------------------------------ --- 40.5/44.1 MB 1.7 MB/s eta 0:00:03\n",
      "   ------------------------------------ --- 40.6/44.1 MB 1.7 MB/s eta 0:00:03\n",
      "   ------------------------------------ --- 40.7/44.1 MB 1.7 MB/s eta 0:00:02\n",
      "   ------------------------------------ --- 40.7/44.1 MB 1.7 MB/s eta 0:00:02\n",
      "   ------------------------------------ --- 40.8/44.1 MB 1.7 MB/s eta 0:00:02\n",
      "   ------------------------------------- -- 40.8/44.1 MB 1.7 MB/s eta 0:00:02\n",
      "   ------------------------------------- -- 40.8/44.1 MB 1.7 MB/s eta 0:00:02\n",
      "   ------------------------------------- -- 40.8/44.1 MB 1.7 MB/s eta 0:00:02\n",
      "   ------------------------------------- -- 40.9/44.1 MB 1.7 MB/s eta 0:00:02\n",
      "   ------------------------------------- -- 40.9/44.1 MB 1.7 MB/s eta 0:00:02\n",
      "   ------------------------------------- -- 41.0/44.1 MB 1.7 MB/s eta 0:00:02\n",
      "   ------------------------------------- -- 41.0/44.1 MB 1.7 MB/s eta 0:00:02\n",
      "   ------------------------------------- -- 41.1/44.1 MB 1.7 MB/s eta 0:00:02\n",
      "   ------------------------------------- -- 41.2/44.1 MB 1.7 MB/s eta 0:00:02\n",
      "   ------------------------------------- -- 41.3/44.1 MB 1.7 MB/s eta 0:00:02\n",
      "   ------------------------------------- -- 41.4/44.1 MB 1.7 MB/s eta 0:00:02\n",
      "   ------------------------------------- -- 41.5/44.1 MB 1.7 MB/s eta 0:00:02\n",
      "   ------------------------------------- -- 41.6/44.1 MB 1.7 MB/s eta 0:00:02\n",
      "   ------------------------------------- -- 41.7/44.1 MB 1.7 MB/s eta 0:00:02\n",
      "   ------------------------------------- -- 41.9/44.1 MB 1.7 MB/s eta 0:00:02\n",
      "   -------------------------------------- - 42.1/44.1 MB 1.7 MB/s eta 0:00:02\n",
      "   -------------------------------------- - 42.2/44.1 MB 1.7 MB/s eta 0:00:02\n",
      "   -------------------------------------- - 42.3/44.1 MB 1.7 MB/s eta 0:00:02\n",
      "   -------------------------------------- - 42.4/44.1 MB 1.7 MB/s eta 0:00:02\n",
      "   -------------------------------------- - 42.5/44.1 MB 1.7 MB/s eta 0:00:01\n",
      "   -------------------------------------- - 42.6/44.1 MB 1.7 MB/s eta 0:00:01\n",
      "   -------------------------------------- - 42.7/44.1 MB 1.7 MB/s eta 0:00:01\n",
      "   -------------------------------------- - 42.9/44.1 MB 1.7 MB/s eta 0:00:01\n",
      "   -------------------------------------- - 43.0/44.1 MB 1.7 MB/s eta 0:00:01\n",
      "   ---------------------------------------  43.0/44.1 MB 1.7 MB/s eta 0:00:01\n",
      "   ---------------------------------------  43.2/44.1 MB 1.7 MB/s eta 0:00:01\n",
      "   ---------------------------------------  43.3/44.1 MB 1.7 MB/s eta 0:00:01\n",
      "   ---------------------------------------  43.3/44.1 MB 1.7 MB/s eta 0:00:01\n",
      "   ---------------------------------------  43.4/44.1 MB 1.7 MB/s eta 0:00:01\n",
      "   ---------------------------------------  43.5/44.1 MB 1.7 MB/s eta 0:00:01\n",
      "   ---------------------------------------  43.6/44.1 MB 1.7 MB/s eta 0:00:01\n",
      "   ---------------------------------------  43.7/44.1 MB 1.7 MB/s eta 0:00:01\n",
      "   ---------------------------------------  43.8/44.1 MB 1.7 MB/s eta 0:00:01\n",
      "   ---------------------------------------  43.9/44.1 MB 1.7 MB/s eta 0:00:01\n",
      "   ---------------------------------------  44.0/44.1 MB 1.7 MB/s eta 0:00:01\n",
      "   ---------------------------------------  44.1/44.1 MB 1.7 MB/s eta 0:00:01\n",
      "   ---------------------------------------  44.1/44.1 MB 1.7 MB/s eta 0:00:01\n",
      "   ---------------------------------------  44.1/44.1 MB 1.7 MB/s eta 0:00:01\n",
      "   ---------------------------------------  44.1/44.1 MB 1.7 MB/s eta 0:00:01\n",
      "   ---------------------------------------  44.1/44.1 MB 1.7 MB/s eta 0:00:01\n",
      "   ---------------------------------------  44.1/44.1 MB 1.7 MB/s eta 0:00:01\n",
      "   ---------------------------------------  44.1/44.1 MB 1.7 MB/s eta 0:00:01\n",
      "   ---------------------------------------  44.1/44.1 MB 1.7 MB/s eta 0:00:01\n",
      "   ---------------------------------------  44.1/44.1 MB 1.7 MB/s eta 0:00:01\n",
      "   ---------------------------------------  44.1/44.1 MB 1.7 MB/s eta 0:00:01\n",
      "   ---------------------------------------  44.1/44.1 MB 1.7 MB/s eta 0:00:01\n",
      "   ---------------------------------------  44.1/44.1 MB 1.7 MB/s eta 0:00:01\n",
      "   ---------------------------------------  44.1/44.1 MB 1.7 MB/s eta 0:00:01\n",
      "   ---------------------------------------  44.1/44.1 MB 1.7 MB/s eta 0:00:01\n",
      "   ---------------------------------------  44.1/44.1 MB 1.7 MB/s eta 0:00:01\n",
      "   ---------------------------------------- 44.1/44.1 MB 1.5 MB/s eta 0:00:00\n",
      "Downloading statsmodels-0.14.4-cp311-cp311-win_amd64.whl (9.9 MB)\n",
      "   ---------------------------------------- 0.0/9.9 MB ? eta -:--:--\n",
      "   ---------------------------------------- 0.1/9.9 MB 2.0 MB/s eta 0:00:05\n",
      "    --------------------------------------- 0.2/9.9 MB 2.2 MB/s eta 0:00:05\n",
      "   - -------------------------------------- 0.3/9.9 MB 2.3 MB/s eta 0:00:05\n",
      "   - -------------------------------------- 0.4/9.9 MB 2.3 MB/s eta 0:00:05\n",
      "   -- ------------------------------------- 0.6/9.9 MB 2.5 MB/s eta 0:00:04\n",
      "   -- ------------------------------------- 0.7/9.9 MB 2.7 MB/s eta 0:00:04\n",
      "   --- ------------------------------------ 0.8/9.9 MB 2.7 MB/s eta 0:00:04\n",
      "   --- ------------------------------------ 0.9/9.9 MB 2.5 MB/s eta 0:00:04\n",
      "   --- ------------------------------------ 0.9/9.9 MB 2.3 MB/s eta 0:00:04\n",
      "   --- ------------------------------------ 1.0/9.9 MB 2.2 MB/s eta 0:00:04\n",
      "   ---- ----------------------------------- 1.1/9.9 MB 2.2 MB/s eta 0:00:05\n",
      "   ----- ---------------------------------- 1.2/9.9 MB 2.3 MB/s eta 0:00:04\n",
      "   ----- ---------------------------------- 1.4/9.9 MB 2.4 MB/s eta 0:00:04\n",
      "   ------ --------------------------------- 1.6/9.9 MB 2.5 MB/s eta 0:00:04\n",
      "   ------ --------------------------------- 1.7/9.9 MB 2.6 MB/s eta 0:00:04\n",
      "   ------- -------------------------------- 1.9/9.9 MB 2.6 MB/s eta 0:00:04\n",
      "   ------- -------------------------------- 2.0/9.9 MB 2.5 MB/s eta 0:00:04\n",
      "   -------- ------------------------------- 2.1/9.9 MB 2.5 MB/s eta 0:00:04\n",
      "   -------- ------------------------------- 2.2/9.9 MB 2.5 MB/s eta 0:00:04\n",
      "   --------- ------------------------------ 2.2/9.9 MB 2.5 MB/s eta 0:00:04\n",
      "   --------- ------------------------------ 2.3/9.9 MB 2.4 MB/s eta 0:00:04\n",
      "   --------- ------------------------------ 2.4/9.9 MB 2.4 MB/s eta 0:00:04\n",
      "   ---------- ----------------------------- 2.5/9.9 MB 2.4 MB/s eta 0:00:04\n",
      "   ---------- ----------------------------- 2.6/9.9 MB 2.4 MB/s eta 0:00:04\n",
      "   ----------- ---------------------------- 2.8/9.9 MB 2.4 MB/s eta 0:00:03\n",
      "   ----------- ---------------------------- 2.8/9.9 MB 2.4 MB/s eta 0:00:03\n",
      "   ----------- ---------------------------- 2.9/9.9 MB 2.4 MB/s eta 0:00:03\n",
      "   ------------ --------------------------- 3.0/9.9 MB 2.3 MB/s eta 0:00:03\n",
      "   ------------ --------------------------- 3.1/9.9 MB 2.3 MB/s eta 0:00:03\n",
      "   ------------ --------------------------- 3.1/9.9 MB 2.3 MB/s eta 0:00:03\n",
      "   ------------- -------------------------- 3.2/9.9 MB 2.3 MB/s eta 0:00:03\n",
      "   ------------- -------------------------- 3.3/9.9 MB 2.3 MB/s eta 0:00:03\n",
      "   -------------- ------------------------- 3.5/9.9 MB 2.3 MB/s eta 0:00:03\n",
      "   -------------- ------------------------- 3.6/9.9 MB 2.3 MB/s eta 0:00:03\n",
      "   --------------- ------------------------ 3.7/9.9 MB 2.3 MB/s eta 0:00:03\n",
      "   --------------- ------------------------ 3.8/9.9 MB 2.3 MB/s eta 0:00:03\n",
      "   --------------- ------------------------ 3.9/9.9 MB 2.3 MB/s eta 0:00:03\n",
      "   ---------------- ----------------------- 4.0/9.9 MB 2.3 MB/s eta 0:00:03\n",
      "   ---------------- ----------------------- 4.1/9.9 MB 2.3 MB/s eta 0:00:03\n",
      "   ----------------- ---------------------- 4.2/9.9 MB 2.3 MB/s eta 0:00:03\n",
      "   ----------------- ---------------------- 4.3/9.9 MB 2.3 MB/s eta 0:00:03\n",
      "   ----------------- ---------------------- 4.3/9.9 MB 2.3 MB/s eta 0:00:03\n",
      "   ----------------- ---------------------- 4.4/9.9 MB 2.2 MB/s eta 0:00:03\n",
      "   ------------------ --------------------- 4.5/9.9 MB 2.2 MB/s eta 0:00:03\n",
      "   ------------------ --------------------- 4.7/9.9 MB 2.2 MB/s eta 0:00:03\n",
      "   ------------------- -------------------- 4.7/9.9 MB 2.2 MB/s eta 0:00:03\n",
      "   ------------------- -------------------- 4.9/9.9 MB 2.3 MB/s eta 0:00:03\n",
      "   -------------------- ------------------- 5.0/9.9 MB 2.2 MB/s eta 0:00:03\n",
      "   -------------------- ------------------- 5.1/9.9 MB 2.3 MB/s eta 0:00:03\n",
      "   --------------------- ------------------ 5.2/9.9 MB 2.3 MB/s eta 0:00:03\n",
      "   --------------------- ------------------ 5.4/9.9 MB 2.3 MB/s eta 0:00:02\n",
      "   ---------------------- ----------------- 5.5/9.9 MB 2.3 MB/s eta 0:00:02\n",
      "   ---------------------- ----------------- 5.6/9.9 MB 2.3 MB/s eta 0:00:02\n",
      "   ---------------------- ----------------- 5.7/9.9 MB 2.3 MB/s eta 0:00:02\n",
      "   ----------------------- ---------------- 5.8/9.9 MB 2.3 MB/s eta 0:00:02\n",
      "   ----------------------- ---------------- 5.8/9.9 MB 2.3 MB/s eta 0:00:02\n",
      "   ------------------------ --------------- 5.9/9.9 MB 2.3 MB/s eta 0:00:02\n",
      "   ------------------------ --------------- 6.1/9.9 MB 2.3 MB/s eta 0:00:02\n",
      "   ------------------------- -------------- 6.2/9.9 MB 2.3 MB/s eta 0:00:02\n",
      "   ------------------------- -------------- 6.2/9.9 MB 2.3 MB/s eta 0:00:02\n",
      "   ------------------------- -------------- 6.3/9.9 MB 2.3 MB/s eta 0:00:02\n",
      "   -------------------------- ------------- 6.4/9.9 MB 2.2 MB/s eta 0:00:02\n",
      "   -------------------------- ------------- 6.5/9.9 MB 2.2 MB/s eta 0:00:02\n",
      "   -------------------------- ------------- 6.6/9.9 MB 2.3 MB/s eta 0:00:02\n",
      "   --------------------------- ------------ 6.7/9.9 MB 2.2 MB/s eta 0:00:02\n",
      "   --------------------------- ------------ 6.8/9.9 MB 2.2 MB/s eta 0:00:02\n",
      "   --------------------------- ------------ 6.9/9.9 MB 2.2 MB/s eta 0:00:02\n",
      "   ---------------------------- ----------- 7.0/9.9 MB 2.2 MB/s eta 0:00:02\n",
      "   ---------------------------- ----------- 7.1/9.9 MB 2.2 MB/s eta 0:00:02\n",
      "   ---------------------------- ----------- 7.1/9.9 MB 2.2 MB/s eta 0:00:02\n",
      "   ----------------------------- ---------- 7.3/9.9 MB 2.2 MB/s eta 0:00:02\n",
      "   ----------------------------- ---------- 7.4/9.9 MB 2.2 MB/s eta 0:00:02\n",
      "   ------------------------------ --------- 7.4/9.9 MB 2.2 MB/s eta 0:00:02\n",
      "   ------------------------------ --------- 7.4/9.9 MB 2.2 MB/s eta 0:00:02\n",
      "   ------------------------------ --------- 7.5/9.9 MB 2.2 MB/s eta 0:00:02\n",
      "   ------------------------------- -------- 7.7/9.9 MB 2.2 MB/s eta 0:00:02\n",
      "   ------------------------------- -------- 7.8/9.9 MB 2.2 MB/s eta 0:00:01\n",
      "   ------------------------------- -------- 7.8/9.9 MB 2.2 MB/s eta 0:00:01\n",
      "   ------------------------------- -------- 7.9/9.9 MB 2.2 MB/s eta 0:00:01\n",
      "   -------------------------------- ------- 8.0/9.9 MB 2.2 MB/s eta 0:00:01\n",
      "   --------------------------------- ------ 8.2/9.9 MB 2.2 MB/s eta 0:00:01\n",
      "   --------------------------------- ------ 8.3/9.9 MB 2.2 MB/s eta 0:00:01\n",
      "   --------------------------------- ------ 8.3/9.9 MB 2.2 MB/s eta 0:00:01\n",
      "   --------------------------------- ------ 8.3/9.9 MB 2.2 MB/s eta 0:00:01\n",
      "   ---------------------------------- ----- 8.4/9.9 MB 2.1 MB/s eta 0:00:01\n",
      "   ---------------------------------- ----- 8.5/9.9 MB 2.1 MB/s eta 0:00:01\n",
      "   ---------------------------------- ----- 8.5/9.9 MB 2.1 MB/s eta 0:00:01\n",
      "   ---------------------------------- ----- 8.6/9.9 MB 2.1 MB/s eta 0:00:01\n",
      "   ---------------------------------- ----- 8.6/9.9 MB 2.1 MB/s eta 0:00:01\n",
      "   ---------------------------------- ----- 8.6/9.9 MB 2.1 MB/s eta 0:00:01\n",
      "   ---------------------------------- ----- 8.6/9.9 MB 2.0 MB/s eta 0:00:01\n",
      "   ---------------------------------- ----- 8.6/9.9 MB 2.0 MB/s eta 0:00:01\n",
      "   ---------------------------------- ----- 8.6/9.9 MB 2.0 MB/s eta 0:00:01\n",
      "   ----------------------------------- ---- 8.6/9.9 MB 2.0 MB/s eta 0:00:01\n",
      "   ----------------------------------- ---- 8.7/9.9 MB 2.0 MB/s eta 0:00:01\n",
      "   ----------------------------------- ---- 8.8/9.9 MB 2.0 MB/s eta 0:00:01\n",
      "   ------------------------------------ --- 9.0/9.9 MB 2.0 MB/s eta 0:00:01\n",
      "   ------------------------------------ --- 9.0/9.9 MB 2.0 MB/s eta 0:00:01\n",
      "   ------------------------------------ --- 9.1/9.9 MB 2.0 MB/s eta 0:00:01\n",
      "   ------------------------------------- -- 9.1/9.9 MB 2.0 MB/s eta 0:00:01\n",
      "   ------------------------------------- -- 9.3/9.9 MB 2.0 MB/s eta 0:00:01\n",
      "   ------------------------------------- -- 9.3/9.9 MB 2.0 MB/s eta 0:00:01\n",
      "   -------------------------------------- - 9.4/9.9 MB 2.0 MB/s eta 0:00:01\n",
      "   -------------------------------------- - 9.6/9.9 MB 2.0 MB/s eta 0:00:01\n",
      "   ---------------------------------------  9.7/9.9 MB 2.0 MB/s eta 0:00:01\n",
      "   ---------------------------------------  9.9/9.9 MB 2.0 MB/s eta 0:00:01\n",
      "   ---------------------------------------  9.9/9.9 MB 2.0 MB/s eta 0:00:01\n",
      "   ---------------------------------------  9.9/9.9 MB 2.0 MB/s eta 0:00:01\n",
      "   ---------------------------------------- 9.9/9.9 MB 2.0 MB/s eta 0:00:00\n",
      "Downloading tbats-1.1.3-py3-none-any.whl (44 kB)\n",
      "   ---------------------------------------- 0.0/44.0 kB ? eta -:--:--\n",
      "   ---------------------------------------- 44.0/44.0 kB 2.1 MB/s eta 0:00:00\n",
      "Downloading yellowbrick-1.5-py3-none-any.whl (282 kB)\n",
      "   ---------------------------------------- 0.0/282.6 kB ? eta -:--:--\n",
      "   ---------------------------- ----------- 204.8/282.6 kB 6.3 MB/s eta 0:00:01\n",
      "   ------------------------------- -------- 225.3/282.6 kB 6.9 MB/s eta 0:00:01\n",
      "   ---------------------------------------- 282.6/282.6 kB 2.2 MB/s eta 0:00:00\n",
      "Downloading cloudpickle-3.1.0-py3-none-any.whl (22 kB)\n",
      "Downloading xxhash-3.5.0-cp311-cp311-win_amd64.whl (30 kB)\n",
      "Downloading contourpy-1.3.1-cp311-cp311-win_amd64.whl (219 kB)\n",
      "   ---------------------------------------- 0.0/219.8 kB ? eta -:--:--\n",
      "   ---------------- ----------------------- 92.2/219.8 kB 1.7 MB/s eta 0:00:01\n",
      "   ----------------------------- ---------- 163.8/219.8 kB 2.0 MB/s eta 0:00:01\n",
      "   ---------------------------------------  215.0/219.8 kB 1.9 MB/s eta 0:00:01\n",
      "   ---------------------------------------- 219.8/219.8 kB 1.3 MB/s eta 0:00:00\n",
      "Downloading cycler-0.12.1-py3-none-any.whl (8.3 kB)\n",
      "Downloading Cython-3.0.11-cp311-cp311-win_amd64.whl (2.8 MB)\n",
      "   ---------------------------------------- 0.0/2.8 MB ? eta -:--:--\n",
      "   - -------------------------------------- 0.1/2.8 MB 2.2 MB/s eta 0:00:02\n",
      "   --- ------------------------------------ 0.2/2.8 MB 2.9 MB/s eta 0:00:01\n",
      "   ---- ----------------------------------- 0.3/2.8 MB 2.5 MB/s eta 0:00:01\n",
      "   ------- -------------------------------- 0.5/2.8 MB 2.8 MB/s eta 0:00:01\n",
      "   --------- ------------------------------ 0.6/2.8 MB 2.7 MB/s eta 0:00:01\n",
      "   ----------- ---------------------------- 0.8/2.8 MB 2.9 MB/s eta 0:00:01\n",
      "   ------------- -------------------------- 1.0/2.8 MB 2.9 MB/s eta 0:00:01\n",
      "   --------------- ------------------------ 1.1/2.8 MB 2.9 MB/s eta 0:00:01\n",
      "   ----------------- ---------------------- 1.2/2.8 MB 2.8 MB/s eta 0:00:01\n",
      "   ------------------ --------------------- 1.3/2.8 MB 2.8 MB/s eta 0:00:01\n",
      "   -------------------- ------------------- 1.4/2.8 MB 2.7 MB/s eta 0:00:01\n",
      "   --------------------- ------------------ 1.5/2.8 MB 2.6 MB/s eta 0:00:01\n",
      "   ---------------------- ----------------- 1.6/2.8 MB 2.6 MB/s eta 0:00:01\n",
      "   ----------------------- ---------------- 1.7/2.8 MB 2.6 MB/s eta 0:00:01\n",
      "   ------------------------- -------------- 1.8/2.8 MB 2.6 MB/s eta 0:00:01\n",
      "   --------------------------- ------------ 1.9/2.8 MB 2.6 MB/s eta 0:00:01\n",
      "   ---------------------------- ----------- 2.0/2.8 MB 2.5 MB/s eta 0:00:01\n",
      "   ----------------------------- ---------- 2.1/2.8 MB 2.5 MB/s eta 0:00:01\n",
      "   ------------------------------ --------- 2.2/2.8 MB 2.4 MB/s eta 0:00:01\n",
      "   -------------------------------- ------- 2.2/2.8 MB 2.4 MB/s eta 0:00:01\n",
      "   --------------------------------- ------ 2.3/2.8 MB 2.4 MB/s eta 0:00:01\n",
      "   ----------------------------------- ---- 2.4/2.8 MB 2.4 MB/s eta 0:00:01\n",
      "   ------------------------------------ --- 2.5/2.8 MB 2.4 MB/s eta 0:00:01\n",
      "   -------------------------------------- - 2.7/2.8 MB 2.4 MB/s eta 0:00:01\n",
      "   ---------------------------------------  2.8/2.8 MB 2.4 MB/s eta 0:00:01\n",
      "   ---------------------------------------- 2.8/2.8 MB 2.3 MB/s eta 0:00:00\n",
      "Downloading dash-2.18.2-py3-none-any.whl (7.8 MB)\n",
      "   ---------------------------------------- 0.0/7.8 MB ? eta -:--:--\n",
      "    --------------------------------------- 0.2/7.8 MB 1.6 MB/s eta 0:00:05\n",
      "   - -------------------------------------- 0.2/7.8 MB 1.5 MB/s eta 0:00:05\n",
      "   - -------------------------------------- 0.4/7.8 MB 1.9 MB/s eta 0:00:04\n",
      "   -- ------------------------------------- 0.5/7.8 MB 2.2 MB/s eta 0:00:04\n",
      "   -- ------------------------------------- 0.6/7.8 MB 2.3 MB/s eta 0:00:04\n",
      "   -- ------------------------------------- 0.6/7.8 MB 1.9 MB/s eta 0:00:04\n",
      "   --- ------------------------------------ 0.7/7.8 MB 1.7 MB/s eta 0:00:05\n",
      "   ---- ----------------------------------- 0.8/7.8 MB 2.0 MB/s eta 0:00:04\n",
      "   ----- ---------------------------------- 1.0/7.8 MB 2.1 MB/s eta 0:00:04\n",
      "   ----- ---------------------------------- 1.1/7.8 MB 2.3 MB/s eta 0:00:03\n",
      "   ------ --------------------------------- 1.3/7.8 MB 2.4 MB/s eta 0:00:03\n",
      "   ------- -------------------------------- 1.4/7.8 MB 2.4 MB/s eta 0:00:03\n",
      "   ------- -------------------------------- 1.5/7.8 MB 2.4 MB/s eta 0:00:03\n",
      "   -------- ------------------------------- 1.6/7.8 MB 2.3 MB/s eta 0:00:03\n",
      "   -------- ------------------------------- 1.6/7.8 MB 2.1 MB/s eta 0:00:03\n",
      "   -------- ------------------------------- 1.7/7.8 MB 2.0 MB/s eta 0:00:03\n",
      "   --------- ------------------------------ 1.8/7.8 MB 2.1 MB/s eta 0:00:03\n",
      "   --------- ------------------------------ 1.9/7.8 MB 2.1 MB/s eta 0:00:03\n",
      "   ---------- ----------------------------- 2.0/7.8 MB 2.1 MB/s eta 0:00:03\n",
      "   ----------- ---------------------------- 2.2/7.8 MB 2.2 MB/s eta 0:00:03\n",
      "   ----------- ---------------------------- 2.3/7.8 MB 2.2 MB/s eta 0:00:03\n",
      "   ------------ --------------------------- 2.5/7.8 MB 2.2 MB/s eta 0:00:03\n",
      "   ------------- -------------------------- 2.6/7.8 MB 2.3 MB/s eta 0:00:03\n",
      "   ------------- -------------------------- 2.7/7.8 MB 2.2 MB/s eta 0:00:03\n",
      "   -------------- ------------------------- 2.8/7.8 MB 2.2 MB/s eta 0:00:03\n",
      "   -------------- ------------------------- 2.9/7.8 MB 2.2 MB/s eta 0:00:03\n",
      "   --------------- ------------------------ 2.9/7.8 MB 2.2 MB/s eta 0:00:03\n",
      "   --------------- ------------------------ 3.0/7.8 MB 2.2 MB/s eta 0:00:03\n",
      "   ---------------- ----------------------- 3.2/7.8 MB 2.2 MB/s eta 0:00:03\n",
      "   ---------------- ----------------------- 3.3/7.8 MB 2.2 MB/s eta 0:00:03\n",
      "   ----------------- ---------------------- 3.4/7.8 MB 2.2 MB/s eta 0:00:02\n",
      "   ----------------- ---------------------- 3.5/7.8 MB 2.2 MB/s eta 0:00:02\n",
      "   ------------------ --------------------- 3.5/7.8 MB 2.2 MB/s eta 0:00:02\n",
      "   ------------------ --------------------- 3.6/7.8 MB 2.2 MB/s eta 0:00:02\n",
      "   ------------------- -------------------- 3.7/7.8 MB 2.2 MB/s eta 0:00:02\n",
      "   ------------------- -------------------- 3.8/7.8 MB 2.2 MB/s eta 0:00:02\n",
      "   ------------------- -------------------- 3.9/7.8 MB 2.2 MB/s eta 0:00:02\n",
      "   -------------------- ------------------- 4.0/7.8 MB 2.1 MB/s eta 0:00:02\n",
      "   -------------------- ------------------- 4.1/7.8 MB 2.2 MB/s eta 0:00:02\n",
      "   --------------------- ------------------ 4.2/7.8 MB 2.1 MB/s eta 0:00:02\n",
      "   --------------------- ------------------ 4.2/7.8 MB 2.1 MB/s eta 0:00:02\n",
      "   --------------------- ------------------ 4.2/7.8 MB 2.1 MB/s eta 0:00:02\n",
      "   --------------------- ------------------ 4.3/7.8 MB 2.1 MB/s eta 0:00:02\n",
      "   ---------------------- ----------------- 4.3/7.8 MB 2.0 MB/s eta 0:00:02\n",
      "   ---------------------- ----------------- 4.4/7.8 MB 2.0 MB/s eta 0:00:02\n",
      "   ---------------------- ----------------- 4.4/7.8 MB 2.0 MB/s eta 0:00:02\n",
      "   ---------------------- ----------------- 4.4/7.8 MB 2.0 MB/s eta 0:00:02\n",
      "   ----------------------- ---------------- 4.5/7.8 MB 2.0 MB/s eta 0:00:02\n",
      "   ----------------------- ---------------- 4.5/7.8 MB 1.9 MB/s eta 0:00:02\n",
      "   ----------------------- ---------------- 4.6/7.8 MB 1.9 MB/s eta 0:00:02\n",
      "   ----------------------- ---------------- 4.6/7.8 MB 1.9 MB/s eta 0:00:02\n",
      "   ------------------------ --------------- 4.7/7.8 MB 1.9 MB/s eta 0:00:02\n",
      "   ------------------------ --------------- 4.7/7.8 MB 1.9 MB/s eta 0:00:02\n",
      "   ------------------------ --------------- 4.8/7.8 MB 1.8 MB/s eta 0:00:02\n",
      "   ------------------------ --------------- 4.8/7.8 MB 1.8 MB/s eta 0:00:02\n",
      "   ------------------------- -------------- 4.9/7.8 MB 1.8 MB/s eta 0:00:02\n",
      "   ------------------------- -------------- 4.9/7.8 MB 1.8 MB/s eta 0:00:02\n",
      "   ------------------------- -------------- 5.0/7.8 MB 1.8 MB/s eta 0:00:02\n",
      "   ------------------------- -------------- 5.1/7.8 MB 1.8 MB/s eta 0:00:02\n",
      "   -------------------------- ------------- 5.1/7.8 MB 1.8 MB/s eta 0:00:02\n",
      "   -------------------------- ------------- 5.2/7.8 MB 1.8 MB/s eta 0:00:02\n",
      "   --------------------------- ------------ 5.3/7.8 MB 1.8 MB/s eta 0:00:02\n",
      "   ---------------------------- ----------- 5.5/7.8 MB 1.8 MB/s eta 0:00:02\n",
      "   ----------------------------- ---------- 5.7/7.8 MB 1.9 MB/s eta 0:00:02\n",
      "   ------------------------------ --------- 5.9/7.8 MB 1.9 MB/s eta 0:00:02\n",
      "   ------------------------------ --------- 5.9/7.8 MB 1.9 MB/s eta 0:00:01\n",
      "   ------------------------------- -------- 6.1/7.8 MB 1.9 MB/s eta 0:00:01\n",
      "   ------------------------------- -------- 6.2/7.8 MB 1.9 MB/s eta 0:00:01\n",
      "   -------------------------------- ------- 6.2/7.8 MB 1.9 MB/s eta 0:00:01\n",
      "   -------------------------------- ------- 6.3/7.8 MB 1.9 MB/s eta 0:00:01\n",
      "   --------------------------------- ------ 6.5/7.8 MB 1.9 MB/s eta 0:00:01\n",
      "   --------------------------------- ------ 6.5/7.8 MB 1.9 MB/s eta 0:00:01\n",
      "   --------------------------------- ------ 6.6/7.8 MB 1.9 MB/s eta 0:00:01\n",
      "   ---------------------------------- ----- 6.6/7.8 MB 1.9 MB/s eta 0:00:01\n",
      "   ---------------------------------- ----- 6.7/7.8 MB 1.9 MB/s eta 0:00:01\n",
      "   ---------------------------------- ----- 6.7/7.8 MB 1.9 MB/s eta 0:00:01\n",
      "   ---------------------------------- ----- 6.8/7.8 MB 1.9 MB/s eta 0:00:01\n",
      "   ----------------------------------- ---- 6.9/7.8 MB 1.9 MB/s eta 0:00:01\n",
      "   ----------------------------------- ---- 6.9/7.8 MB 1.8 MB/s eta 0:00:01\n",
      "   ----------------------------------- ---- 7.0/7.8 MB 1.8 MB/s eta 0:00:01\n",
      "   ------------------------------------ --- 7.0/7.8 MB 1.8 MB/s eta 0:00:01\n",
      "   ------------------------------------ --- 7.1/7.8 MB 1.8 MB/s eta 0:00:01\n",
      "   ------------------------------------ --- 7.1/7.8 MB 1.8 MB/s eta 0:00:01\n",
      "   ------------------------------------ --- 7.2/7.8 MB 1.8 MB/s eta 0:00:01\n",
      "   ------------------------------------ --- 7.2/7.8 MB 1.8 MB/s eta 0:00:01\n",
      "   ------------------------------------ --- 7.2/7.8 MB 1.8 MB/s eta 0:00:01\n",
      "   ------------------------------------ --- 7.2/7.8 MB 1.8 MB/s eta 0:00:01\n",
      "   ------------------------------------ --- 7.2/7.8 MB 1.8 MB/s eta 0:00:01\n",
      "   ------------------------------------- -- 7.3/7.8 MB 1.7 MB/s eta 0:00:01\n",
      "   ------------------------------------- -- 7.3/7.8 MB 1.7 MB/s eta 0:00:01\n",
      "   ------------------------------------- -- 7.3/7.8 MB 1.7 MB/s eta 0:00:01\n",
      "   ------------------------------------- -- 7.3/7.8 MB 1.7 MB/s eta 0:00:01\n",
      "   ------------------------------------- -- 7.3/7.8 MB 1.7 MB/s eta 0:00:01\n",
      "   ------------------------------------- -- 7.3/7.8 MB 1.7 MB/s eta 0:00:01\n",
      "   ------------------------------------- -- 7.3/7.8 MB 1.7 MB/s eta 0:00:01\n",
      "   ------------------------------------- -- 7.4/7.8 MB 1.6 MB/s eta 0:00:01\n",
      "   ------------------------------------- -- 7.4/7.8 MB 1.6 MB/s eta 0:00:01\n",
      "   ------------------------------------- -- 7.4/7.8 MB 1.6 MB/s eta 0:00:01\n",
      "   -------------------------------------- - 7.4/7.8 MB 1.6 MB/s eta 0:00:01\n",
      "   -------------------------------------- - 7.5/7.8 MB 1.6 MB/s eta 0:00:01\n",
      "   -------------------------------------- - 7.5/7.8 MB 1.6 MB/s eta 0:00:01\n",
      "   -------------------------------------- - 7.5/7.8 MB 1.6 MB/s eta 0:00:01\n",
      "   -------------------------------------- - 7.6/7.8 MB 1.6 MB/s eta 0:00:01\n",
      "   ---------------------------------------  7.6/7.8 MB 1.6 MB/s eta 0:00:01\n",
      "   ---------------------------------------  7.6/7.8 MB 1.6 MB/s eta 0:00:01\n",
      "   ---------------------------------------  7.7/7.8 MB 1.5 MB/s eta 0:00:01\n",
      "   ---------------------------------------  7.7/7.8 MB 1.5 MB/s eta 0:00:01\n",
      "   ---------------------------------------  7.8/7.8 MB 1.5 MB/s eta 0:00:01\n",
      "   ---------------------------------------  7.8/7.8 MB 1.5 MB/s eta 0:00:01\n",
      "   ---------------------------------------- 7.8/7.8 MB 1.5 MB/s eta 0:00:00\n",
      "Downloading dash_core_components-2.0.0-py3-none-any.whl (3.8 kB)\n",
      "Downloading dash_html_components-2.0.0-py3-none-any.whl (4.1 kB)\n",
      "Downloading dash_table-5.0.0-py3-none-any.whl (3.9 kB)\n",
      "Downloading fastjsonschema-2.20.0-py3-none-any.whl (23 kB)\n",
      "Downloading fonttools-4.55.0-cp311-cp311-win_amd64.whl (2.2 MB)\n",
      "   ---------------------------------------- 0.0/2.2 MB ? eta -:--:--\n",
      "   - -------------------------------------- 0.1/2.2 MB 1.7 MB/s eta 0:00:02\n",
      "   -- ------------------------------------- 0.2/2.2 MB 1.8 MB/s eta 0:00:02\n",
      "   --- ------------------------------------ 0.2/2.2 MB 1.7 MB/s eta 0:00:02\n",
      "   ---- ----------------------------------- 0.3/2.2 MB 1.4 MB/s eta 0:00:02\n",
      "   ------ --------------------------------- 0.3/2.2 MB 1.5 MB/s eta 0:00:02\n",
      "   ------- -------------------------------- 0.4/2.2 MB 1.4 MB/s eta 0:00:02\n",
      "   -------- ------------------------------- 0.5/2.2 MB 1.4 MB/s eta 0:00:02\n",
      "   --------- ------------------------------ 0.6/2.2 MB 1.5 MB/s eta 0:00:02\n",
      "   ----------- ---------------------------- 0.6/2.2 MB 1.6 MB/s eta 0:00:02\n",
      "   ------------- -------------------------- 0.7/2.2 MB 1.6 MB/s eta 0:00:01\n",
      "   -------------- ------------------------- 0.8/2.2 MB 1.6 MB/s eta 0:00:01\n",
      "   --------------- ------------------------ 0.9/2.2 MB 1.6 MB/s eta 0:00:01\n",
      "   ----------------- ---------------------- 1.0/2.2 MB 1.7 MB/s eta 0:00:01\n",
      "   ------------------- -------------------- 1.1/2.2 MB 1.7 MB/s eta 0:00:01\n",
      "   --------------------- ------------------ 1.2/2.2 MB 1.7 MB/s eta 0:00:01\n",
      "   ----------------------- ---------------- 1.3/2.2 MB 1.8 MB/s eta 0:00:01\n",
      "   ------------------------- -------------- 1.4/2.2 MB 1.8 MB/s eta 0:00:01\n",
      "   -------------------------- ------------- 1.5/2.2 MB 1.8 MB/s eta 0:00:01\n",
      "   ---------------------------- ----------- 1.6/2.2 MB 1.8 MB/s eta 0:00:01\n",
      "   ------------------------------ --------- 1.7/2.2 MB 1.8 MB/s eta 0:00:01\n",
      "   ------------------------------- -------- 1.8/2.2 MB 1.8 MB/s eta 0:00:01\n",
      "   ---------------------------------- ----- 1.9/2.2 MB 1.9 MB/s eta 0:00:01\n",
      "   ------------------------------------ --- 2.0/2.2 MB 1.9 MB/s eta 0:00:01\n",
      "   ---------------------------------------  2.2/2.2 MB 1.9 MB/s eta 0:00:01\n",
      "   ---------------------------------------  2.2/2.2 MB 1.9 MB/s eta 0:00:01\n",
      "   ---------------------------------------- 2.2/2.2 MB 1.9 MB/s eta 0:00:00\n",
      "Downloading jsonschema-4.23.0-py3-none-any.whl (88 kB)\n",
      "   ---------------------------------------- 0.0/88.5 kB ? eta -:--:--\n",
      "   ------------------------------------- -- 81.9/88.5 kB 4.8 MB/s eta 0:00:01\n",
      "   ---------------------------------------- 88.5/88.5 kB 1.7 MB/s eta 0:00:00\n",
      "Downloading jupyterlab_widgets-3.0.13-py3-none-any.whl (214 kB)\n",
      "   ---------------------------------------- 0.0/214.4 kB ? eta -:--:--\n",
      "   --------------------- ------------------ 112.6/214.4 kB 3.3 MB/s eta 0:00:01\n",
      "   ---------------------------------------- 214.4/214.4 kB 2.6 MB/s eta 0:00:00\n",
      "Downloading kiwisolver-1.4.7-cp311-cp311-win_amd64.whl (56 kB)\n",
      "   ---------------------------------------- 0.0/56.0 kB ? eta -:--:--\n",
      "   ---------------------------------------- 56.0/56.0 kB 1.5 MB/s eta 0:00:00\n",
      "Downloading llvmlite-0.43.0-cp311-cp311-win_amd64.whl (28.1 MB)\n",
      "   ---------------------------------------- 0.0/28.1 MB ? eta -:--:--\n",
      "   ---------------------------------------- 0.1/28.1 MB 5.8 MB/s eta 0:00:05\n",
      "   ---------------------------------------- 0.2/28.1 MB 2.1 MB/s eta 0:00:14\n",
      "   ---------------------------------------- 0.2/28.1 MB 2.0 MB/s eta 0:00:14\n",
      "    --------------------------------------- 0.4/28.1 MB 2.1 MB/s eta 0:00:14\n",
      "    --------------------------------------- 0.4/28.1 MB 2.1 MB/s eta 0:00:14\n",
      "    --------------------------------------- 0.5/28.1 MB 1.9 MB/s eta 0:00:15\n",
      "    --------------------------------------- 0.6/28.1 MB 1.9 MB/s eta 0:00:15\n",
      "    --------------------------------------- 0.7/28.1 MB 1.9 MB/s eta 0:00:15\n",
      "   - -------------------------------------- 0.7/28.1 MB 1.9 MB/s eta 0:00:15\n",
      "   - -------------------------------------- 0.8/28.1 MB 1.8 MB/s eta 0:00:15\n",
      "   - -------------------------------------- 0.9/28.1 MB 1.8 MB/s eta 0:00:15\n",
      "   - -------------------------------------- 1.0/28.1 MB 1.8 MB/s eta 0:00:15\n",
      "   - -------------------------------------- 1.1/28.1 MB 1.8 MB/s eta 0:00:16\n",
      "   - -------------------------------------- 1.1/28.1 MB 1.7 MB/s eta 0:00:16\n",
      "   - -------------------------------------- 1.1/28.1 MB 1.7 MB/s eta 0:00:16\n",
      "   - -------------------------------------- 1.2/28.1 MB 1.7 MB/s eta 0:00:17\n",
      "   - -------------------------------------- 1.3/28.1 MB 1.7 MB/s eta 0:00:17\n",
      "   - -------------------------------------- 1.3/28.1 MB 1.6 MB/s eta 0:00:17\n",
      "   - -------------------------------------- 1.3/28.1 MB 1.6 MB/s eta 0:00:17\n",
      "   - -------------------------------------- 1.3/28.1 MB 1.6 MB/s eta 0:00:17\n",
      "   -- ------------------------------------- 1.4/28.1 MB 1.5 MB/s eta 0:00:19\n",
      "   -- ------------------------------------- 1.5/28.1 MB 1.5 MB/s eta 0:00:19\n",
      "   -- ------------------------------------- 1.5/28.1 MB 1.4 MB/s eta 0:00:19\n",
      "   -- ------------------------------------- 1.6/28.1 MB 1.4 MB/s eta 0:00:19\n",
      "   -- ------------------------------------- 1.6/28.1 MB 1.4 MB/s eta 0:00:20\n",
      "   -- ------------------------------------- 1.6/28.1 MB 1.4 MB/s eta 0:00:20\n",
      "   -- ------------------------------------- 1.7/28.1 MB 1.3 MB/s eta 0:00:20\n",
      "   -- ------------------------------------- 1.7/28.1 MB 1.3 MB/s eta 0:00:21\n",
      "   -- ------------------------------------- 1.8/28.1 MB 1.3 MB/s eta 0:00:21\n",
      "   -- ------------------------------------- 1.8/28.1 MB 1.3 MB/s eta 0:00:21\n",
      "   -- ------------------------------------- 1.8/28.1 MB 1.3 MB/s eta 0:00:21\n",
      "   -- ------------------------------------- 1.9/28.1 MB 1.2 MB/s eta 0:00:22\n",
      "   -- ------------------------------------- 1.9/28.1 MB 1.2 MB/s eta 0:00:22\n",
      "   -- ------------------------------------- 1.9/28.1 MB 1.2 MB/s eta 0:00:22\n",
      "   -- ------------------------------------- 1.9/28.1 MB 1.2 MB/s eta 0:00:23\n",
      "   -- ------------------------------------- 1.9/28.1 MB 1.2 MB/s eta 0:00:23\n",
      "   -- ------------------------------------- 1.9/28.1 MB 1.1 MB/s eta 0:00:23\n",
      "   -- ------------------------------------- 2.0/28.1 MB 1.1 MB/s eta 0:00:24\n",
      "   -- ------------------------------------- 2.0/28.1 MB 1.1 MB/s eta 0:00:25\n",
      "   -- ------------------------------------- 2.0/28.1 MB 1.1 MB/s eta 0:00:25\n",
      "   -- ------------------------------------- 2.0/28.1 MB 1.1 MB/s eta 0:00:25\n",
      "   -- ------------------------------------- 2.0/28.1 MB 1.1 MB/s eta 0:00:25\n",
      "   -- ------------------------------------- 2.0/28.1 MB 1.0 MB/s eta 0:00:26\n",
      "   -- ------------------------------------- 2.0/28.1 MB 1.0 MB/s eta 0:00:26\n",
      "   -- ------------------------------------- 2.0/28.1 MB 977.8 kB/s eta 0:00:27\n",
      "   -- ------------------------------------- 2.0/28.1 MB 977.8 kB/s eta 0:00:27\n",
      "   -- ------------------------------------- 2.0/28.1 MB 977.8 kB/s eta 0:00:27\n",
      "   -- ------------------------------------- 2.0/28.1 MB 931.3 kB/s eta 0:00:28\n",
      "   -- ------------------------------------- 2.1/28.1 MB 916.3 kB/s eta 0:00:29\n",
      "   -- ------------------------------------- 2.1/28.1 MB 900.5 kB/s eta 0:00:29\n",
      "   -- ------------------------------------- 2.1/28.1 MB 900.5 kB/s eta 0:00:29\n",
      "   -- ------------------------------------- 2.1/28.1 MB 879.6 kB/s eta 0:00:30\n",
      "   --- ------------------------------------ 2.1/28.1 MB 866.7 kB/s eta 0:00:30\n",
      "   --- ------------------------------------ 2.1/28.1 MB 852.0 kB/s eta 0:00:31\n",
      "   --- ------------------------------------ 2.1/28.1 MB 852.0 kB/s eta 0:00:31\n",
      "   --- ------------------------------------ 2.2/28.1 MB 839.0 kB/s eta 0:00:31\n",
      "   --- ------------------------------------ 2.2/28.1 MB 825.9 kB/s eta 0:00:32\n",
      "   --- ------------------------------------ 2.2/28.1 MB 819.0 kB/s eta 0:00:32\n",
      "   --- ------------------------------------ 2.2/28.1 MB 813.5 kB/s eta 0:00:32\n",
      "   --- ------------------------------------ 2.2/28.1 MB 807.1 kB/s eta 0:00:33\n",
      "   --- ------------------------------------ 2.3/28.1 MB 801.8 kB/s eta 0:00:33\n",
      "   --- ------------------------------------ 2.3/28.1 MB 794.3 kB/s eta 0:00:33\n",
      "   --- ------------------------------------ 2.3/28.1 MB 796.1 kB/s eta 0:00:33\n",
      "   --- ------------------------------------ 2.4/28.1 MB 796.7 kB/s eta 0:00:33\n",
      "   --- ------------------------------------ 2.4/28.1 MB 797.9 kB/s eta 0:00:33\n",
      "   --- ------------------------------------ 2.5/28.1 MB 803.2 kB/s eta 0:00:32\n",
      "   --- ------------------------------------ 2.5/28.1 MB 804.2 kB/s eta 0:00:32\n",
      "   --- ------------------------------------ 2.6/28.1 MB 810.9 kB/s eta 0:00:32\n",
      "   --- ------------------------------------ 2.6/28.1 MB 808.6 kB/s eta 0:00:32\n",
      "   --- ------------------------------------ 2.6/28.1 MB 807.2 kB/s eta 0:00:32\n",
      "   --- ------------------------------------ 2.7/28.1 MB 808.1 kB/s eta 0:00:32\n",
      "   --- ------------------------------------ 2.7/28.1 MB 809.0 kB/s eta 0:00:32\n",
      "   --- ------------------------------------ 2.7/28.1 MB 807.1 kB/s eta 0:00:32\n",
      "   --- ------------------------------------ 2.8/28.1 MB 807.2 kB/s eta 0:00:32\n",
      "   ---- ----------------------------------- 2.8/28.1 MB 808.8 kB/s eta 0:00:32\n",
      "   ---- ----------------------------------- 2.9/28.1 MB 817.6 kB/s eta 0:00:31\n",
      "   ---- ----------------------------------- 3.0/28.1 MB 829.7 kB/s eta 0:00:31\n",
      "   ---- ----------------------------------- 3.1/28.1 MB 845.3 kB/s eta 0:00:30\n",
      "   ---- ----------------------------------- 3.1/28.1 MB 856.8 kB/s eta 0:00:30\n",
      "   ---- ----------------------------------- 3.2/28.1 MB 867.3 kB/s eta 0:00:29\n",
      "   ---- ----------------------------------- 3.3/28.1 MB 871.1 kB/s eta 0:00:29\n",
      "   ---- ----------------------------------- 3.3/28.1 MB 871.1 kB/s eta 0:00:29\n",
      "   ---- ----------------------------------- 3.4/28.1 MB 873.8 kB/s eta 0:00:29\n",
      "   ---- ----------------------------------- 3.4/28.1 MB 878.0 kB/s eta 0:00:29\n",
      "   ----- ---------------------------------- 3.5/28.1 MB 888.3 kB/s eta 0:00:28\n",
      "   ----- ---------------------------------- 3.6/28.1 MB 901.9 kB/s eta 0:00:28\n",
      "   ----- ---------------------------------- 3.7/28.1 MB 910.9 kB/s eta 0:00:27\n",
      "   ----- ---------------------------------- 3.8/28.1 MB 920.4 kB/s eta 0:00:27\n",
      "   ----- ---------------------------------- 3.9/28.1 MB 927.3 kB/s eta 0:00:27\n",
      "   ----- ---------------------------------- 3.9/28.1 MB 931.6 kB/s eta 0:00:26\n",
      "   ----- ---------------------------------- 3.9/28.1 MB 931.6 kB/s eta 0:00:26\n",
      "   ----- ---------------------------------- 4.0/28.1 MB 935.0 kB/s eta 0:00:26\n",
      "   ----- ---------------------------------- 4.1/28.1 MB 942.6 kB/s eta 0:00:26\n",
      "   ----- ---------------------------------- 4.2/28.1 MB 952.6 kB/s eta 0:00:26\n",
      "   ------ --------------------------------- 4.2/28.1 MB 955.0 kB/s eta 0:00:26\n",
      "   ------ --------------------------------- 4.2/28.1 MB 955.0 kB/s eta 0:00:26\n",
      "   ------ --------------------------------- 4.3/28.1 MB 951.2 kB/s eta 0:00:26\n",
      "   ------ --------------------------------- 4.4/28.1 MB 958.2 kB/s eta 0:00:25\n",
      "   ------ --------------------------------- 4.5/28.1 MB 975.1 kB/s eta 0:00:25\n",
      "   ------ --------------------------------- 4.5/28.1 MB 978.6 kB/s eta 0:00:25\n",
      "   ------ --------------------------------- 4.5/28.1 MB 978.6 kB/s eta 0:00:25\n",
      "   ------ --------------------------------- 4.6/28.1 MB 968.9 kB/s eta 0:00:25\n",
      "   ------ --------------------------------- 4.6/28.1 MB 968.9 kB/s eta 0:00:25\n",
      "   ------ --------------------------------- 4.6/28.1 MB 968.9 kB/s eta 0:00:25\n",
      "   ------ --------------------------------- 4.6/28.1 MB 944.2 kB/s eta 0:00:25\n",
      "   ------ --------------------------------- 4.6/28.1 MB 945.3 kB/s eta 0:00:25\n",
      "   ------ --------------------------------- 4.6/28.1 MB 945.3 kB/s eta 0:00:25\n",
      "   ------ --------------------------------- 4.7/28.1 MB 927.9 kB/s eta 0:00:26\n",
      "   ------ --------------------------------- 4.7/28.1 MB 925.4 kB/s eta 0:00:26\n",
      "   ------ --------------------------------- 4.7/28.1 MB 925.4 kB/s eta 0:00:26\n",
      "   ------ --------------------------------- 4.7/28.1 MB 925.4 kB/s eta 0:00:26\n",
      "   ------ --------------------------------- 4.8/28.1 MB 917.0 kB/s eta 0:00:26\n",
      "   ------ --------------------------------- 4.8/28.1 MB 917.0 kB/s eta 0:00:26\n",
      "   ------ --------------------------------- 4.8/28.1 MB 917.0 kB/s eta 0:00:26\n",
      "   ------ --------------------------------- 4.8/28.1 MB 894.9 kB/s eta 0:00:27\n",
      "   ------ --------------------------------- 4.8/28.1 MB 894.9 kB/s eta 0:00:27\n",
      "   ------ --------------------------------- 4.9/28.1 MB 891.8 kB/s eta 0:00:27\n",
      "   ------- -------------------------------- 5.0/28.1 MB 899.3 kB/s eta 0:00:26\n",
      "   ------- -------------------------------- 5.0/28.1 MB 904.6 kB/s eta 0:00:26\n",
      "   ------- -------------------------------- 5.0/28.1 MB 904.6 kB/s eta 0:00:26\n",
      "   ------- -------------------------------- 5.1/28.1 MB 905.4 kB/s eta 0:00:26\n",
      "   ------- -------------------------------- 5.1/28.1 MB 905.4 kB/s eta 0:00:26\n",
      "   ------- -------------------------------- 5.1/28.1 MB 905.4 kB/s eta 0:00:26\n",
      "   ------- -------------------------------- 5.1/28.1 MB 886.2 kB/s eta 0:00:26\n",
      "   ------- -------------------------------- 5.1/28.1 MB 886.2 kB/s eta 0:00:26\n",
      "   ------- -------------------------------- 5.2/28.1 MB 879.0 kB/s eta 0:00:27\n",
      "   ------- -------------------------------- 5.2/28.1 MB 880.1 kB/s eta 0:00:27\n",
      "   ------- -------------------------------- 5.3/28.1 MB 886.9 kB/s eta 0:00:26\n",
      "   ------- -------------------------------- 5.4/28.1 MB 892.6 kB/s eta 0:00:26\n",
      "   ------- -------------------------------- 5.5/28.1 MB 900.2 kB/s eta 0:00:26\n",
      "   ------- -------------------------------- 5.6/28.1 MB 906.7 kB/s eta 0:00:25\n",
      "   -------- ------------------------------- 5.6/28.1 MB 913.1 kB/s eta 0:00:25\n",
      "   -------- ------------------------------- 5.7/28.1 MB 916.8 kB/s eta 0:00:25\n",
      "   -------- ------------------------------- 5.7/28.1 MB 919.7 kB/s eta 0:00:25\n",
      "   -------- ------------------------------- 5.8/28.1 MB 925.9 kB/s eta 0:00:25\n",
      "   -------- ------------------------------- 5.8/28.1 MB 924.6 kB/s eta 0:00:25\n",
      "   -------- ------------------------------- 5.9/28.1 MB 930.6 kB/s eta 0:00:24\n",
      "   -------- ------------------------------- 6.0/28.1 MB 929.6 kB/s eta 0:00:24\n",
      "   -------- ------------------------------- 6.0/28.1 MB 932.3 kB/s eta 0:00:24\n",
      "   -------- ------------------------------- 6.1/28.1 MB 930.3 kB/s eta 0:00:24\n",
      "   -------- ------------------------------- 6.1/28.1 MB 934.6 kB/s eta 0:00:24\n",
      "   -------- ------------------------------- 6.2/28.1 MB 937.2 kB/s eta 0:00:24\n",
      "   -------- ------------------------------- 6.3/28.1 MB 940.6 kB/s eta 0:00:24\n",
      "   -------- ------------------------------- 6.3/28.1 MB 938.6 kB/s eta 0:00:24\n",
      "   --------- ------------------------------ 6.4/28.1 MB 940.7 kB/s eta 0:00:24\n",
      "   --------- ------------------------------ 6.5/28.1 MB 943.2 kB/s eta 0:00:23\n",
      "   --------- ------------------------------ 6.5/28.1 MB 939.9 kB/s eta 0:00:23\n",
      "   --------- ------------------------------ 6.6/28.1 MB 944.6 kB/s eta 0:00:23\n",
      "   --------- ------------------------------ 6.6/28.1 MB 945.8 kB/s eta 0:00:23\n",
      "   --------- ------------------------------ 6.7/28.1 MB 944.6 kB/s eta 0:00:23\n",
      "   --------- ------------------------------ 6.7/28.1 MB 947.7 kB/s eta 0:00:23\n",
      "   --------- ------------------------------ 6.8/28.1 MB 948.0 kB/s eta 0:00:23\n",
      "   --------- ------------------------------ 6.8/28.1 MB 948.1 kB/s eta 0:00:23\n",
      "   --------- ------------------------------ 6.8/28.1 MB 948.1 kB/s eta 0:00:23\n",
      "   --------- ------------------------------ 6.9/28.1 MB 945.8 kB/s eta 0:00:23\n",
      "   --------- ------------------------------ 6.9/28.1 MB 945.9 kB/s eta 0:00:23\n",
      "   --------- ------------------------------ 7.0/28.1 MB 944.2 kB/s eta 0:00:23\n",
      "   --------- ------------------------------ 7.0/28.1 MB 944.2 kB/s eta 0:00:23\n",
      "   --------- ------------------------------ 7.0/28.1 MB 934.4 kB/s eta 0:00:23\n",
      "   ---------- ----------------------------- 7.0/28.1 MB 936.0 kB/s eta 0:00:23\n",
      "   ---------- ----------------------------- 7.1/28.1 MB 936.2 kB/s eta 0:00:23\n",
      "   ---------- ----------------------------- 7.1/28.1 MB 932.5 kB/s eta 0:00:23\n",
      "   ---------- ----------------------------- 7.1/28.1 MB 930.8 kB/s eta 0:00:23\n",
      "   ---------- ----------------------------- 7.2/28.1 MB 929.1 kB/s eta 0:00:23\n",
      "   ---------- ----------------------------- 7.2/28.1 MB 928.3 kB/s eta 0:00:23\n",
      "   ---------- ----------------------------- 7.2/28.1 MB 928.5 kB/s eta 0:00:23\n",
      "   ---------- ----------------------------- 7.3/28.1 MB 928.2 kB/s eta 0:00:23\n",
      "   ---------- ----------------------------- 7.3/28.1 MB 927.8 kB/s eta 0:00:23\n",
      "   ---------- ----------------------------- 7.4/28.1 MB 927.5 kB/s eta 0:00:23\n",
      "   ---------- ----------------------------- 7.4/28.1 MB 926.9 kB/s eta 0:00:23\n",
      "   ---------- ----------------------------- 7.4/28.1 MB 924.2 kB/s eta 0:00:23\n",
      "   ---------- ----------------------------- 7.4/28.1 MB 918.9 kB/s eta 0:00:23\n",
      "   ---------- ----------------------------- 7.5/28.1 MB 921.7 kB/s eta 0:00:23\n",
      "   ---------- ----------------------------- 7.5/28.1 MB 922.7 kB/s eta 0:00:23\n",
      "   ---------- ----------------------------- 7.6/28.1 MB 923.0 kB/s eta 0:00:23\n",
      "   ---------- ----------------------------- 7.6/28.1 MB 920.4 kB/s eta 0:00:23\n",
      "   ---------- ----------------------------- 7.6/28.1 MB 920.4 kB/s eta 0:00:23\n",
      "   ---------- ----------------------------- 7.6/28.1 MB 914.7 kB/s eta 0:00:23\n",
      "   ---------- ----------------------------- 7.6/28.1 MB 912.1 kB/s eta 0:00:23\n",
      "   ---------- ----------------------------- 7.7/28.1 MB 908.2 kB/s eta 0:00:23\n",
      "   ---------- ----------------------------- 7.7/28.1 MB 908.2 kB/s eta 0:00:23\n",
      "   ---------- ----------------------------- 7.7/28.1 MB 900.6 kB/s eta 0:00:23\n",
      "   ---------- ----------------------------- 7.7/28.1 MB 900.6 kB/s eta 0:00:23\n",
      "   ---------- ----------------------------- 7.7/28.1 MB 893.2 kB/s eta 0:00:23\n",
      "   ---------- ----------------------------- 7.7/28.1 MB 888.0 kB/s eta 0:00:23\n",
      "   ---------- ----------------------------- 7.7/28.1 MB 888.0 kB/s eta 0:00:23\n",
      "   ----------- ---------------------------- 7.7/28.1 MB 883.9 kB/s eta 0:00:24\n",
      "   ----------- ---------------------------- 7.7/28.1 MB 883.9 kB/s eta 0:00:24\n",
      "   ----------- ---------------------------- 7.7/28.1 MB 875.7 kB/s eta 0:00:24\n",
      "   ----------- ---------------------------- 7.8/28.1 MB 872.6 kB/s eta 0:00:24\n",
      "   ----------- ---------------------------- 7.8/28.1 MB 869.2 kB/s eta 0:00:24\n",
      "   ----------- ---------------------------- 7.8/28.1 MB 867.0 kB/s eta 0:00:24\n",
      "   ----------- ---------------------------- 7.8/28.1 MB 865.0 kB/s eta 0:00:24\n",
      "   ----------- ---------------------------- 7.9/28.1 MB 863.7 kB/s eta 0:00:24\n",
      "   ----------- ---------------------------- 7.9/28.1 MB 860.3 kB/s eta 0:00:24\n",
      "   ----------- ---------------------------- 7.9/28.1 MB 859.7 kB/s eta 0:00:24\n",
      "   ----------- ---------------------------- 7.9/28.1 MB 857.1 kB/s eta 0:00:24\n",
      "   ----------- ---------------------------- 7.9/28.1 MB 856.5 kB/s eta 0:00:24\n",
      "   ----------- ---------------------------- 8.0/28.1 MB 854.0 kB/s eta 0:00:24\n",
      "   ----------- ---------------------------- 8.0/28.1 MB 852.2 kB/s eta 0:00:24\n",
      "   ----------- ---------------------------- 8.0/28.1 MB 852.3 kB/s eta 0:00:24\n",
      "   ----------- ---------------------------- 8.0/28.1 MB 850.6 kB/s eta 0:00:24\n",
      "   ----------- ---------------------------- 8.1/28.1 MB 848.3 kB/s eta 0:00:24\n",
      "   ----------- ---------------------------- 8.1/28.1 MB 848.4 kB/s eta 0:00:24\n",
      "   ----------- ---------------------------- 8.1/28.1 MB 846.1 kB/s eta 0:00:24\n",
      "   ----------- ---------------------------- 8.2/28.1 MB 845.8 kB/s eta 0:00:24\n",
      "   ----------- ---------------------------- 8.2/28.1 MB 844.5 kB/s eta 0:00:24\n",
      "   ----------- ---------------------------- 8.2/28.1 MB 842.3 kB/s eta 0:00:24\n",
      "   ----------- ---------------------------- 8.3/28.1 MB 843.5 kB/s eta 0:00:24\n",
      "   ----------- ---------------------------- 8.3/28.1 MB 842.6 kB/s eta 0:00:24\n",
      "   ----------- ---------------------------- 8.4/28.1 MB 843.8 kB/s eta 0:00:24\n",
      "   ----------- ---------------------------- 8.4/28.1 MB 843.9 kB/s eta 0:00:24\n",
      "   ----------- ---------------------------- 8.4/28.1 MB 843.3 kB/s eta 0:00:24\n",
      "   ------------ --------------------------- 8.5/28.1 MB 843.1 kB/s eta 0:00:24\n",
      "   ------------ --------------------------- 8.5/28.1 MB 843.6 kB/s eta 0:00:24\n",
      "   ------------ --------------------------- 8.5/28.1 MB 842.7 kB/s eta 0:00:24\n",
      "   ------------ --------------------------- 8.6/28.1 MB 843.8 kB/s eta 0:00:24\n",
      "   ------------ --------------------------- 8.6/28.1 MB 843.0 kB/s eta 0:00:24\n",
      "   ------------ --------------------------- 8.6/28.1 MB 842.2 kB/s eta 0:00:24\n",
      "   ------------ --------------------------- 8.7/28.1 MB 843.3 kB/s eta 0:00:24\n",
      "   ------------ --------------------------- 8.8/28.1 MB 845.1 kB/s eta 0:00:23\n",
      "   ------------ --------------------------- 8.8/28.1 MB 845.5 kB/s eta 0:00:23\n",
      "   ------------ --------------------------- 8.8/28.1 MB 846.6 kB/s eta 0:00:23\n",
      "   ------------ --------------------------- 8.9/28.1 MB 848.7 kB/s eta 0:00:23\n",
      "   ------------ --------------------------- 9.0/28.1 MB 852.7 kB/s eta 0:00:23\n",
      "   ------------ --------------------------- 9.1/28.1 MB 854.7 kB/s eta 0:00:23\n",
      "   ------------ --------------------------- 9.1/28.1 MB 856.5 kB/s eta 0:00:23\n",
      "   ------------- -------------------------- 9.2/28.1 MB 859.7 kB/s eta 0:00:23\n",
      "   ------------- -------------------------- 9.2/28.1 MB 860.7 kB/s eta 0:00:22\n",
      "   ------------- -------------------------- 9.3/28.1 MB 862.7 kB/s eta 0:00:22\n",
      "   ------------- -------------------------- 9.4/28.1 MB 864.3 kB/s eta 0:00:22\n",
      "   ------------- -------------------------- 9.4/28.1 MB 866.5 kB/s eta 0:00:22\n",
      "   ------------- -------------------------- 9.5/28.1 MB 868.4 kB/s eta 0:00:22\n",
      "   ------------- -------------------------- 9.5/28.1 MB 869.1 kB/s eta 0:00:22\n",
      "   ------------- -------------------------- 9.6/28.1 MB 871.3 kB/s eta 0:00:22\n",
      "   ------------- -------------------------- 9.7/28.1 MB 873.2 kB/s eta 0:00:22\n",
      "   ------------- -------------------------- 9.7/28.1 MB 876.2 kB/s eta 0:00:21\n",
      "   ------------- -------------------------- 9.8/28.1 MB 877.8 kB/s eta 0:00:21\n",
      "   -------------- ------------------------- 9.9/28.1 MB 881.4 kB/s eta 0:00:21\n",
      "   -------------- ------------------------- 9.9/28.1 MB 883.2 kB/s eta 0:00:21\n",
      "   -------------- ------------------------- 10.0/28.1 MB 889.5 kB/s eta 0:00:21\n",
      "   -------------- ------------------------- 10.1/28.1 MB 893.4 kB/s eta 0:00:21\n",
      "   -------------- ------------------------- 10.2/28.1 MB 893.9 kB/s eta 0:00:21\n",
      "   -------------- ------------------------- 10.3/28.1 MB 895.6 kB/s eta 0:00:20\n",
      "   -------------- ------------------------- 10.3/28.1 MB 893.2 kB/s eta 0:00:20\n",
      "   -------------- ------------------------- 10.4/28.1 MB 894.4 kB/s eta 0:00:20\n",
      "   -------------- ------------------------- 10.5/28.1 MB 894.4 kB/s eta 0:00:20\n",
      "   --------------- ------------------------ 10.6/28.1 MB 893.2 kB/s eta 0:00:20\n",
      "   --------------- ------------------------ 10.6/28.1 MB 891.9 kB/s eta 0:00:20\n",
      "   --------------- ------------------------ 10.7/28.1 MB 893.1 kB/s eta 0:00:20\n",
      "   --------------- ------------------------ 10.8/28.1 MB 894.4 kB/s eta 0:00:20\n",
      "   --------------- ------------------------ 10.9/28.1 MB 894.4 kB/s eta 0:00:20\n",
      "   --------------- ------------------------ 10.9/28.1 MB 893.2 kB/s eta 0:00:20\n",
      "   --------------- ------------------------ 11.0/28.1 MB 893.2 kB/s eta 0:00:20\n",
      "   --------------- ------------------------ 11.2/28.1 MB 894.4 kB/s eta 0:00:19\n",
      "   --------------- ------------------------ 11.2/28.1 MB 894.4 kB/s eta 0:00:19\n",
      "   ---------------- ----------------------- 11.3/28.1 MB 893.2 kB/s eta 0:00:19\n",
      "   ---------------- ----------------------- 11.4/28.1 MB 899.3 kB/s eta 0:00:19\n",
      "   ---------------- ----------------------- 11.5/28.1 MB 900.5 kB/s eta 0:00:19\n",
      "   ---------------- ----------------------- 11.6/28.1 MB 911.9 kB/s eta 0:00:19\n",
      "   ---------------- ----------------------- 11.7/28.1 MB 915.7 kB/s eta 0:00:18\n",
      "   ---------------- ----------------------- 11.9/28.1 MB 927.4 kB/s eta 0:00:18\n",
      "   ----------------- ---------------------- 12.0/28.1 MB 936.6 kB/s eta 0:00:18\n",
      "   ----------------- ---------------------- 12.2/28.1 MB 958.6 kB/s eta 0:00:17\n",
      "   ----------------- ---------------------- 12.3/28.1 MB 1.0 MB/s eta 0:00:16\n",
      "   ----------------- ---------------------- 12.5/28.1 MB 1.1 MB/s eta 0:00:15\n",
      "   ----------------- ---------------------- 12.5/28.1 MB 1.1 MB/s eta 0:00:15\n",
      "   ------------------ --------------------- 12.7/28.1 MB 1.1 MB/s eta 0:00:15\n",
      "   ------------------ --------------------- 12.8/28.1 MB 1.1 MB/s eta 0:00:15\n",
      "   ------------------ --------------------- 12.9/28.1 MB 1.1 MB/s eta 0:00:15\n",
      "   ------------------ --------------------- 12.9/28.1 MB 1.1 MB/s eta 0:00:14\n",
      "   ------------------ --------------------- 13.0/28.1 MB 1.1 MB/s eta 0:00:14\n",
      "   ------------------ --------------------- 13.2/28.1 MB 1.1 MB/s eta 0:00:14\n",
      "   ------------------ --------------------- 13.3/28.1 MB 1.1 MB/s eta 0:00:14\n",
      "   ------------------- -------------------- 13.4/28.1 MB 1.1 MB/s eta 0:00:14\n",
      "   ------------------- -------------------- 13.5/28.1 MB 1.1 MB/s eta 0:00:14\n",
      "   ------------------- -------------------- 13.6/28.1 MB 1.1 MB/s eta 0:00:14\n",
      "   ------------------- -------------------- 13.7/28.1 MB 1.1 MB/s eta 0:00:13\n",
      "   ------------------- -------------------- 13.8/28.1 MB 1.1 MB/s eta 0:00:13\n",
      "   ------------------- -------------------- 13.8/28.1 MB 1.1 MB/s eta 0:00:13\n",
      "   ------------------- -------------------- 13.9/28.1 MB 1.1 MB/s eta 0:00:13\n",
      "   ------------------- -------------------- 14.0/28.1 MB 1.1 MB/s eta 0:00:13\n",
      "   -------------------- ------------------- 14.2/28.1 MB 1.1 MB/s eta 0:00:13\n",
      "   -------------------- ------------------- 14.3/28.1 MB 1.1 MB/s eta 0:00:13\n",
      "   -------------------- ------------------- 14.3/28.1 MB 1.1 MB/s eta 0:00:13\n",
      "   -------------------- ------------------- 14.5/28.1 MB 1.2 MB/s eta 0:00:12\n",
      "   -------------------- ------------------- 14.5/28.1 MB 1.2 MB/s eta 0:00:12\n",
      "   -------------------- ------------------- 14.6/28.1 MB 1.2 MB/s eta 0:00:12\n",
      "   -------------------- ------------------- 14.7/28.1 MB 1.1 MB/s eta 0:00:12\n",
      "   --------------------- ------------------ 14.8/28.1 MB 1.2 MB/s eta 0:00:12\n",
      "   --------------------- ------------------ 15.0/28.1 MB 1.2 MB/s eta 0:00:11\n",
      "   --------------------- ------------------ 15.1/28.1 MB 1.2 MB/s eta 0:00:11\n",
      "   --------------------- ------------------ 15.2/28.1 MB 1.2 MB/s eta 0:00:11\n",
      "   --------------------- ------------------ 15.3/28.1 MB 1.2 MB/s eta 0:00:11\n",
      "   --------------------- ------------------ 15.4/28.1 MB 1.3 MB/s eta 0:00:10\n",
      "   --------------------- ------------------ 15.5/28.1 MB 1.3 MB/s eta 0:00:10\n",
      "   ---------------------- ----------------- 15.6/28.1 MB 1.3 MB/s eta 0:00:10\n",
      "   ---------------------- ----------------- 15.7/28.1 MB 1.3 MB/s eta 0:00:10\n",
      "   ---------------------- ----------------- 15.8/28.1 MB 1.3 MB/s eta 0:00:10\n",
      "   ---------------------- ----------------- 15.9/28.1 MB 1.3 MB/s eta 0:00:10\n",
      "   ---------------------- ----------------- 15.9/28.1 MB 1.3 MB/s eta 0:00:10\n",
      "   ---------------------- ----------------- 16.0/28.1 MB 1.3 MB/s eta 0:00:10\n",
      "   ---------------------- ----------------- 16.1/28.1 MB 1.3 MB/s eta 0:00:10\n",
      "   ----------------------- ---------------- 16.2/28.1 MB 1.3 MB/s eta 0:00:10\n",
      "   ----------------------- ---------------- 16.3/28.1 MB 1.3 MB/s eta 0:00:09\n",
      "   ----------------------- ---------------- 16.5/28.1 MB 1.3 MB/s eta 0:00:09\n",
      "   ----------------------- ---------------- 16.6/28.1 MB 1.3 MB/s eta 0:00:09\n",
      "   ----------------------- ---------------- 16.7/28.1 MB 1.4 MB/s eta 0:00:09\n",
      "   ----------------------- ---------------- 16.8/28.1 MB 1.4 MB/s eta 0:00:09\n",
      "   ------------------------ --------------- 16.9/28.1 MB 1.4 MB/s eta 0:00:09\n",
      "   ------------------------ --------------- 17.0/28.1 MB 1.4 MB/s eta 0:00:09\n",
      "   ------------------------ --------------- 17.1/28.1 MB 1.4 MB/s eta 0:00:08\n",
      "   ------------------------ --------------- 17.2/28.1 MB 1.4 MB/s eta 0:00:08\n",
      "   ------------------------ --------------- 17.3/28.1 MB 1.4 MB/s eta 0:00:08\n",
      "   ------------------------ --------------- 17.4/28.1 MB 1.5 MB/s eta 0:00:08\n",
      "   ------------------------ --------------- 17.5/28.1 MB 1.5 MB/s eta 0:00:08\n",
      "   ------------------------- -------------- 17.6/28.1 MB 1.5 MB/s eta 0:00:08\n",
      "   ------------------------- -------------- 17.7/28.1 MB 1.5 MB/s eta 0:00:07\n",
      "   ------------------------- -------------- 17.8/28.1 MB 1.5 MB/s eta 0:00:07\n",
      "   ------------------------- -------------- 17.9/28.1 MB 1.6 MB/s eta 0:00:07\n",
      "   ------------------------- -------------- 18.0/28.1 MB 1.7 MB/s eta 0:00:07\n",
      "   ------------------------- -------------- 18.1/28.1 MB 1.7 MB/s eta 0:00:06\n",
      "   ------------------------- -------------- 18.2/28.1 MB 1.8 MB/s eta 0:00:06\n",
      "   ------------------------- -------------- 18.3/28.1 MB 1.8 MB/s eta 0:00:06\n",
      "   -------------------------- ------------- 18.4/28.1 MB 1.8 MB/s eta 0:00:06\n",
      "   -------------------------- ------------- 18.5/28.1 MB 1.9 MB/s eta 0:00:06\n",
      "   -------------------------- ------------- 18.5/28.1 MB 1.9 MB/s eta 0:00:06\n",
      "   -------------------------- ------------- 18.6/28.1 MB 1.9 MB/s eta 0:00:06\n",
      "   -------------------------- ------------- 18.7/28.1 MB 1.9 MB/s eta 0:00:05\n",
      "   -------------------------- ------------- 18.8/28.1 MB 1.9 MB/s eta 0:00:05\n",
      "   -------------------------- ------------- 18.9/28.1 MB 2.0 MB/s eta 0:00:05\n",
      "   --------------------------- ------------ 19.1/28.1 MB 2.0 MB/s eta 0:00:05\n",
      "   --------------------------- ------------ 19.2/28.1 MB 2.0 MB/s eta 0:00:05\n",
      "   --------------------------- ------------ 19.3/28.1 MB 2.0 MB/s eta 0:00:05\n",
      "   --------------------------- ------------ 19.4/28.1 MB 2.1 MB/s eta 0:00:05\n",
      "   --------------------------- ------------ 19.5/28.1 MB 2.1 MB/s eta 0:00:05\n",
      "   --------------------------- ------------ 19.6/28.1 MB 2.1 MB/s eta 0:00:05\n",
      "   ---------------------------- ----------- 19.7/28.1 MB 2.1 MB/s eta 0:00:05\n",
      "   ---------------------------- ----------- 19.8/28.1 MB 2.1 MB/s eta 0:00:04\n",
      "   ---------------------------- ----------- 19.8/28.1 MB 2.1 MB/s eta 0:00:04\n",
      "   ---------------------------- ----------- 19.8/28.1 MB 2.1 MB/s eta 0:00:04\n",
      "   ---------------------------- ----------- 19.8/28.1 MB 2.0 MB/s eta 0:00:05\n",
      "   ---------------------------- ----------- 19.8/28.1 MB 2.0 MB/s eta 0:00:05\n",
      "   ---------------------------- ----------- 19.8/28.1 MB 2.0 MB/s eta 0:00:05\n",
      "   ---------------------------- ----------- 19.9/28.1 MB 2.0 MB/s eta 0:00:05\n",
      "   ---------------------------- ----------- 19.9/28.1 MB 2.0 MB/s eta 0:00:05\n",
      "   ---------------------------- ----------- 19.9/28.1 MB 2.0 MB/s eta 0:00:05\n",
      "   ---------------------------- ----------- 19.9/28.1 MB 2.0 MB/s eta 0:00:05\n",
      "   ---------------------------- ----------- 19.9/28.1 MB 2.0 MB/s eta 0:00:05\n",
      "   ---------------------------- ----------- 20.0/28.1 MB 1.9 MB/s eta 0:00:05\n",
      "   ---------------------------- ----------- 20.0/28.1 MB 1.9 MB/s eta 0:00:05\n",
      "   ---------------------------- ----------- 20.1/28.1 MB 1.9 MB/s eta 0:00:05\n",
      "   ---------------------------- ----------- 20.1/28.1 MB 1.9 MB/s eta 0:00:05\n",
      "   ---------------------------- ----------- 20.2/28.1 MB 1.9 MB/s eta 0:00:05\n",
      "   ---------------------------- ----------- 20.3/28.1 MB 1.9 MB/s eta 0:00:05\n",
      "   ---------------------------- ----------- 20.3/28.1 MB 1.9 MB/s eta 0:00:05\n",
      "   ----------------------------- ---------- 20.4/28.1 MB 1.9 MB/s eta 0:00:04\n",
      "   ----------------------------- ---------- 20.5/28.1 MB 1.9 MB/s eta 0:00:04\n",
      "   ----------------------------- ---------- 20.6/28.1 MB 1.9 MB/s eta 0:00:04\n",
      "   ----------------------------- ---------- 20.7/28.1 MB 2.0 MB/s eta 0:00:04\n",
      "   ----------------------------- ---------- 20.9/28.1 MB 2.0 MB/s eta 0:00:04\n",
      "   ----------------------------- ---------- 21.0/28.1 MB 2.0 MB/s eta 0:00:04\n",
      "   ------------------------------ --------- 21.2/28.1 MB 2.0 MB/s eta 0:00:04\n",
      "   ------------------------------ --------- 21.4/28.1 MB 2.0 MB/s eta 0:00:04\n",
      "   ------------------------------ --------- 21.5/28.1 MB 2.0 MB/s eta 0:00:04\n",
      "   ------------------------------ --------- 21.6/28.1 MB 2.0 MB/s eta 0:00:04\n",
      "   ------------------------------ --------- 21.7/28.1 MB 2.0 MB/s eta 0:00:04\n",
      "   ------------------------------- -------- 21.8/28.1 MB 2.0 MB/s eta 0:00:04\n",
      "   ------------------------------- -------- 21.9/28.1 MB 2.0 MB/s eta 0:00:04\n",
      "   ------------------------------- -------- 22.0/28.1 MB 2.0 MB/s eta 0:00:04\n",
      "   ------------------------------- -------- 22.1/28.1 MB 2.0 MB/s eta 0:00:03\n",
      "   ------------------------------- -------- 22.2/28.1 MB 2.0 MB/s eta 0:00:03\n",
      "   ------------------------------- -------- 22.3/28.1 MB 2.0 MB/s eta 0:00:03\n",
      "   ------------------------------- -------- 22.4/28.1 MB 2.0 MB/s eta 0:00:03\n",
      "   -------------------------------- ------- 22.5/28.1 MB 2.0 MB/s eta 0:00:03\n",
      "   -------------------------------- ------- 22.6/28.1 MB 2.0 MB/s eta 0:00:03\n",
      "   -------------------------------- ------- 22.7/28.1 MB 2.0 MB/s eta 0:00:03\n",
      "   -------------------------------- ------- 22.8/28.1 MB 2.0 MB/s eta 0:00:03\n",
      "   -------------------------------- ------- 22.9/28.1 MB 2.0 MB/s eta 0:00:03\n",
      "   -------------------------------- ------- 23.0/28.1 MB 2.0 MB/s eta 0:00:03\n",
      "   -------------------------------- ------- 23.1/28.1 MB 2.0 MB/s eta 0:00:03\n",
      "   --------------------------------- ------ 23.2/28.1 MB 2.0 MB/s eta 0:00:03\n",
      "   --------------------------------- ------ 23.3/28.1 MB 2.0 MB/s eta 0:00:03\n",
      "   --------------------------------- ------ 23.4/28.1 MB 2.0 MB/s eta 0:00:03\n",
      "   --------------------------------- ------ 23.5/28.1 MB 2.0 MB/s eta 0:00:03\n",
      "   --------------------------------- ------ 23.6/28.1 MB 2.0 MB/s eta 0:00:03\n",
      "   --------------------------------- ------ 23.7/28.1 MB 2.0 MB/s eta 0:00:03\n",
      "   --------------------------------- ------ 23.8/28.1 MB 2.0 MB/s eta 0:00:03\n",
      "   --------------------------------- ------ 23.9/28.1 MB 2.0 MB/s eta 0:00:03\n",
      "   ---------------------------------- ----- 24.0/28.1 MB 2.0 MB/s eta 0:00:03\n",
      "   ---------------------------------- ----- 24.1/28.1 MB 2.0 MB/s eta 0:00:03\n",
      "   ---------------------------------- ----- 24.2/28.1 MB 2.0 MB/s eta 0:00:02\n",
      "   ---------------------------------- ----- 24.3/28.1 MB 2.0 MB/s eta 0:00:02\n",
      "   ---------------------------------- ----- 24.4/28.1 MB 2.0 MB/s eta 0:00:02\n",
      "   ---------------------------------- ----- 24.5/28.1 MB 2.0 MB/s eta 0:00:02\n",
      "   ----------------------------------- ---- 24.6/28.1 MB 2.0 MB/s eta 0:00:02\n",
      "   ----------------------------------- ---- 24.7/28.1 MB 2.0 MB/s eta 0:00:02\n",
      "   ----------------------------------- ---- 24.9/28.1 MB 2.0 MB/s eta 0:00:02\n",
      "   ----------------------------------- ---- 25.0/28.1 MB 2.0 MB/s eta 0:00:02\n",
      "   ----------------------------------- ---- 25.0/28.1 MB 2.0 MB/s eta 0:00:02\n",
      "   ----------------------------------- ---- 25.1/28.1 MB 2.0 MB/s eta 0:00:02\n",
      "   ----------------------------------- ---- 25.3/28.1 MB 2.0 MB/s eta 0:00:02\n",
      "   ------------------------------------ --- 25.3/28.1 MB 2.0 MB/s eta 0:00:02\n",
      "   ------------------------------------ --- 25.4/28.1 MB 2.0 MB/s eta 0:00:02\n",
      "   ------------------------------------ --- 25.5/28.1 MB 2.0 MB/s eta 0:00:02\n",
      "   ------------------------------------ --- 25.6/28.1 MB 2.0 MB/s eta 0:00:02\n",
      "   ------------------------------------ --- 25.8/28.1 MB 2.0 MB/s eta 0:00:02\n",
      "   ------------------------------------ --- 25.8/28.1 MB 2.0 MB/s eta 0:00:02\n",
      "   ------------------------------------ --- 25.9/28.1 MB 2.0 MB/s eta 0:00:02\n",
      "   ------------------------------------ --- 25.9/28.1 MB 2.0 MB/s eta 0:00:02\n",
      "   ------------------------------------- -- 26.0/28.1 MB 2.0 MB/s eta 0:00:02\n",
      "   ------------------------------------- -- 26.1/28.1 MB 2.0 MB/s eta 0:00:01\n",
      "   ------------------------------------- -- 26.2/28.1 MB 2.0 MB/s eta 0:00:01\n",
      "   ------------------------------------- -- 26.3/28.1 MB 2.0 MB/s eta 0:00:01\n",
      "   ------------------------------------- -- 26.5/28.1 MB 2.0 MB/s eta 0:00:01\n",
      "   ------------------------------------- -- 26.6/28.1 MB 2.0 MB/s eta 0:00:01\n",
      "   -------------------------------------- - 26.7/28.1 MB 2.0 MB/s eta 0:00:01\n",
      "   -------------------------------------- - 26.8/28.1 MB 2.0 MB/s eta 0:00:01\n",
      "   -------------------------------------- - 27.0/28.1 MB 2.0 MB/s eta 0:00:01\n",
      "   -------------------------------------- - 27.0/28.1 MB 2.0 MB/s eta 0:00:01\n",
      "   -------------------------------------- - 27.1/28.1 MB 2.0 MB/s eta 0:00:01\n",
      "   -------------------------------------- - 27.2/28.1 MB 2.0 MB/s eta 0:00:01\n",
      "   -------------------------------------- - 27.3/28.1 MB 2.0 MB/s eta 0:00:01\n",
      "   ---------------------------------------  27.4/28.1 MB 2.0 MB/s eta 0:00:01\n",
      "   ---------------------------------------  27.5/28.1 MB 2.0 MB/s eta 0:00:01\n",
      "   ---------------------------------------  27.6/28.1 MB 2.0 MB/s eta 0:00:01\n",
      "   ---------------------------------------  27.7/28.1 MB 2.0 MB/s eta 0:00:01\n",
      "   ---------------------------------------  27.8/28.1 MB 2.0 MB/s eta 0:00:01\n",
      "   ---------------------------------------  27.9/28.1 MB 2.0 MB/s eta 0:00:01\n",
      "   ---------------------------------------  28.0/28.1 MB 2.0 MB/s eta 0:00:01\n",
      "   ---------------------------------------  28.1/28.1 MB 2.0 MB/s eta 0:00:01\n",
      "   ---------------------------------------  28.1/28.1 MB 2.0 MB/s eta 0:00:01\n",
      "   ---------------------------------------  28.1/28.1 MB 2.0 MB/s eta 0:00:01\n",
      "   ---------------------------------------  28.1/28.1 MB 2.0 MB/s eta 0:00:01\n",
      "   ---------------------------------------- 28.1/28.1 MB 1.9 MB/s eta 0:00:00\n",
      "Downloading orjson-3.10.11-cp311-none-win_amd64.whl (136 kB)\n",
      "   ---------------------------------------- 0.0/136.4 kB ? eta -:--:--\n",
      "   --------------------------------- ------ 112.6/136.4 kB 3.3 MB/s eta 0:00:01\n",
      "   ---------------------------------------- 136.4/136.4 kB 2.0 MB/s eta 0:00:00\n",
      "Downloading patsy-1.0.1-py2.py3-none-any.whl (232 kB)\n",
      "   ---------------------------------------- 0.0/232.9 kB ? eta -:--:--\n",
      "   --------------------- ------------------ 122.9/232.9 kB 2.4 MB/s eta 0:00:01\n",
      "   -------------------------------------- - 225.3/232.9 kB 2.3 MB/s eta 0:00:01\n",
      "   ---------------------------------------- 232.9/232.9 kB 2.0 MB/s eta 0:00:00\n",
      "Downloading pillow-11.0.0-cp311-cp311-win_amd64.whl (2.6 MB)\n",
      "   ---------------------------------------- 0.0/2.6 MB ? eta -:--:--\n",
      "   - -------------------------------------- 0.1/2.6 MB 2.2 MB/s eta 0:00:02\n",
      "   --- ------------------------------------ 0.2/2.6 MB 2.8 MB/s eta 0:00:01\n",
      "   ----- ---------------------------------- 0.3/2.6 MB 2.5 MB/s eta 0:00:01\n",
      "   ------- -------------------------------- 0.5/2.6 MB 2.7 MB/s eta 0:00:01\n",
      "   --------- ------------------------------ 0.6/2.6 MB 2.9 MB/s eta 0:00:01\n",
      "   ----------- ---------------------------- 0.7/2.6 MB 2.8 MB/s eta 0:00:01\n",
      "   ------------ --------------------------- 0.8/2.6 MB 2.8 MB/s eta 0:00:01\n",
      "   ------------- -------------------------- 0.9/2.6 MB 2.4 MB/s eta 0:00:01\n",
      "   ------------- -------------------------- 0.9/2.6 MB 2.2 MB/s eta 0:00:01\n",
      "   -------------- ------------------------- 0.9/2.6 MB 2.0 MB/s eta 0:00:01\n",
      "   -------------- ------------------------- 1.0/2.6 MB 1.9 MB/s eta 0:00:01\n",
      "   --------------- ------------------------ 1.0/2.6 MB 1.8 MB/s eta 0:00:01\n",
      "   ---------------- ----------------------- 1.0/2.6 MB 1.8 MB/s eta 0:00:01\n",
      "   ----------------- ---------------------- 1.1/2.6 MB 1.7 MB/s eta 0:00:01\n",
      "   ------------------ --------------------- 1.2/2.6 MB 1.7 MB/s eta 0:00:01\n",
      "   ------------------- -------------------- 1.2/2.6 MB 1.7 MB/s eta 0:00:01\n",
      "   --------------------- ------------------ 1.4/2.6 MB 1.7 MB/s eta 0:00:01\n",
      "   --------------------- ------------------ 1.4/2.6 MB 1.7 MB/s eta 0:00:01\n",
      "   ---------------------- ----------------- 1.4/2.6 MB 1.6 MB/s eta 0:00:01\n",
      "   ----------------------- ---------------- 1.5/2.6 MB 1.6 MB/s eta 0:00:01\n",
      "   ------------------------ --------------- 1.6/2.6 MB 1.6 MB/s eta 0:00:01\n",
      "   -------------------------- ------------- 1.7/2.6 MB 1.6 MB/s eta 0:00:01\n",
      "   --------------------------- ------------ 1.8/2.6 MB 1.7 MB/s eta 0:00:01\n",
      "   ----------------------------- ---------- 1.9/2.6 MB 1.7 MB/s eta 0:00:01\n",
      "   ------------------------------- -------- 2.0/2.6 MB 1.7 MB/s eta 0:00:01\n",
      "   -------------------------------- ------- 2.1/2.6 MB 1.8 MB/s eta 0:00:01\n",
      "   ----------------------------------- ---- 2.3/2.6 MB 1.8 MB/s eta 0:00:01\n",
      "   ------------------------------------- -- 2.4/2.6 MB 1.9 MB/s eta 0:00:01\n",
      "   ---------------------------------------  2.6/2.6 MB 1.9 MB/s eta 0:00:01\n",
      "   ---------------------------------------- 2.6/2.6 MB 1.9 MB/s eta 0:00:00\n",
      "Downloading pyparsing-3.2.0-py3-none-any.whl (106 kB)\n",
      "   ---------------------------------------- 0.0/106.9 kB ? eta -:--:--\n",
      "   ---------------------------------------- 106.9/106.9 kB 3.1 MB/s eta 0:00:00\n",
      "Downloading scikit_base-0.7.8-py3-none-any.whl (130 kB)\n",
      "   ---------------------------------------- 0.0/130.1 kB ? eta -:--:--\n",
      "   ------------------------------------- -- 122.9/130.1 kB 3.6 MB/s eta 0:00:01\n",
      "   ---------------------------------------- 130.1/130.1 kB 2.6 MB/s eta 0:00:00\n",
      "Downloading tenacity-9.0.0-py3-none-any.whl (28 kB)\n",
      "Downloading tsdownsample-0.1.3-cp311-none-win_amd64.whl (923 kB)\n",
      "   ---------------------------------------- 0.0/923.7 kB ? eta -:--:--\n",
      "   ------- -------------------------------- 163.8/923.7 kB 5.0 MB/s eta 0:00:01\n",
      "   --------------- ------------------------ 358.4/923.7 kB 4.5 MB/s eta 0:00:01\n",
      "   ----------------------- ---------------- 532.5/923.7 kB 4.2 MB/s eta 0:00:01\n",
      "   --------------------------- ------------ 624.6/923.7 kB 3.6 MB/s eta 0:00:01\n",
      "   ------------------------------- -------- 716.8/923.7 kB 3.2 MB/s eta 0:00:01\n",
      "   ----------------------------------- ---- 819.2/923.7 kB 3.0 MB/s eta 0:00:01\n",
      "   ---------------------------------------  901.1/923.7 kB 3.0 MB/s eta 0:00:01\n",
      "   ---------------------------------------- 923.7/923.7 kB 2.5 MB/s eta 0:00:00\n",
      "Downloading widgetsnbextension-4.0.13-py3-none-any.whl (2.3 MB)\n",
      "   ---------------------------------------- 0.0/2.3 MB ? eta -:--:--\n",
      "   - -------------------------------------- 0.1/2.3 MB 1.7 MB/s eta 0:00:02\n",
      "   --- ------------------------------------ 0.2/2.3 MB 2.3 MB/s eta 0:00:01\n",
      "   ------ --------------------------------- 0.4/2.3 MB 2.8 MB/s eta 0:00:01\n",
      "   --------- ------------------------------ 0.5/2.3 MB 2.8 MB/s eta 0:00:01\n",
      "   ---------- ----------------------------- 0.6/2.3 MB 2.6 MB/s eta 0:00:01\n",
      "   ----------- ---------------------------- 0.7/2.3 MB 2.6 MB/s eta 0:00:01\n",
      "   ------------- -------------------------- 0.8/2.3 MB 2.6 MB/s eta 0:00:01\n",
      "   --------------- ------------------------ 0.9/2.3 MB 2.4 MB/s eta 0:00:01\n",
      "   ---------------- ----------------------- 1.0/2.3 MB 2.5 MB/s eta 0:00:01\n",
      "   ------------------ --------------------- 1.1/2.3 MB 2.4 MB/s eta 0:00:01\n",
      "   -------------------- ------------------- 1.2/2.3 MB 2.3 MB/s eta 0:00:01\n",
      "   ---------------------- ----------------- 1.3/2.3 MB 2.4 MB/s eta 0:00:01\n",
      "   ----------------------- ---------------- 1.4/2.3 MB 2.3 MB/s eta 0:00:01\n",
      "   ------------------------- -------------- 1.5/2.3 MB 2.3 MB/s eta 0:00:01\n",
      "   --------------------------- ------------ 1.6/2.3 MB 2.3 MB/s eta 0:00:01\n",
      "   ----------------------------- ---------- 1.7/2.3 MB 2.3 MB/s eta 0:00:01\n",
      "   ------------------------------ --------- 1.8/2.3 MB 2.2 MB/s eta 0:00:01\n",
      "   ------------------------------- -------- 1.9/2.3 MB 2.2 MB/s eta 0:00:01\n",
      "   --------------------------------- ------ 2.0/2.3 MB 2.2 MB/s eta 0:00:01\n",
      "   ----------------------------------- ---- 2.1/2.3 MB 2.2 MB/s eta 0:00:01\n",
      "   ------------------------------------- -- 2.2/2.3 MB 2.3 MB/s eta 0:00:01\n",
      "   ---------------------------------------  2.3/2.3 MB 2.3 MB/s eta 0:00:01\n",
      "   ---------------------------------------  2.3/2.3 MB 2.2 MB/s eta 0:00:01\n",
      "   ---------------------------------------- 2.3/2.3 MB 2.2 MB/s eta 0:00:00\n",
      "Downloading zipp-3.21.0-py3-none-any.whl (9.6 kB)\n",
      "Downloading attrs-24.2.0-py3-none-any.whl (63 kB)\n",
      "   ---------------------------------------- 0.0/63.0 kB ? eta -:--:--\n",
      "   ---------------------------------------- 63.0/63.0 kB 1.1 MB/s eta 0:00:00\n",
      "Downloading jsonschema_specifications-2024.10.1-py3-none-any.whl (18 kB)\n",
      "Downloading referencing-0.35.1-py3-none-any.whl (26 kB)\n",
      "Downloading rpds_py-0.21.0-cp311-none-win_amd64.whl (218 kB)\n",
      "   ---------------------------------------- 0.0/218.5 kB ? eta -:--:--\n",
      "   ------------- -------------------------- 71.7/218.5 kB 2.0 MB/s eta 0:00:01\n",
      "   ---------------------------- ----------- 153.6/218.5 kB 2.3 MB/s eta 0:00:01\n",
      "   ----------------------------------- ---- 194.6/218.5 kB 1.7 MB/s eta 0:00:01\n",
      "   ---------------------------------------- 218.5/218.5 kB 1.3 MB/s eta 0:00:00\n",
      "Downloading retrying-1.3.4-py3-none-any.whl (11 kB)\n",
      "Building wheels for collected packages: pyod\n",
      "  Building wheel for pyod (setup.py): started\n",
      "  Building wheel for pyod (setup.py): finished with status 'done'\n",
      "  Created wheel for pyod: filename=pyod-2.0.2-py3-none-any.whl size=198549 sha256=6b653149ac651b13ca2482ddcb5fc54412faa8f8f05a6f4f95148944457d2e19\n",
      "  Stored in directory: c:\\users\\hp\\appdata\\local\\pip\\cache\\wheels\\40\\e5\\64\\2f9b23ceda271f09455d14d70bf03423b63473e29385bbc4f4\n",
      "Successfully built pyod\n",
      "Installing collected packages: kaleido, fastjsonschema, dash-table, dash-html-components, dash-core-components, zipp, xxhash, widgetsnbextension, tsdownsample, tenacity, scipy, scikit-base, schemdraw, rpds-py, retrying, pyparsing, pillow, patsy, orjson, llvmlite, kiwisolver, jupyterlab-widgets, joblib, fonttools, deprecation, Cython, cycler, contourpy, cloudpickle, attrs, scikit-learn, referencing, plotly, pandas, numba, matplotlib, lightgbm, importlib-metadata, yellowbrick, statsmodels, sktime, scikit-plot, pyod, jsonschema-specifications, imbalanced-learn, dash, pmdarima, plotly-resampler, jsonschema, ipywidgets, category-encoders, tbats, nbformat, pycaret\n",
      "  Attempting uninstall: scipy\n",
      "    Found existing installation: scipy 1.14.0\n",
      "    Uninstalling scipy-1.14.0:\n",
      "      Successfully uninstalled scipy-1.14.0\n",
      "  Attempting uninstall: joblib\n",
      "    Found existing installation: joblib 1.4.2\n",
      "    Uninstalling joblib-1.4.2:\n",
      "      Successfully uninstalled joblib-1.4.2\n",
      "  Attempting uninstall: scikit-learn\n",
      "    Found existing installation: scikit-learn 1.5.1\n",
      "    Uninstalling scikit-learn-1.5.1:\n",
      "      Successfully uninstalled scikit-learn-1.5.1\n",
      "  Attempting uninstall: pandas\n",
      "    Found existing installation: pandas 2.2.2\n",
      "    Uninstalling pandas-2.2.2:\n",
      "      Successfully uninstalled pandas-2.2.2\n",
      "Successfully installed Cython-3.0.11 attrs-24.2.0 category-encoders-2.6.4 cloudpickle-3.1.0 contourpy-1.3.1 cycler-0.12.1 dash-2.18.2 dash-core-components-2.0.0 dash-html-components-2.0.0 dash-table-5.0.0 deprecation-2.1.0 fastjsonschema-2.20.0 fonttools-4.55.0 imbalanced-learn-0.12.4 importlib-metadata-8.5.0 ipywidgets-8.1.5 joblib-1.3.2 jsonschema-4.23.0 jsonschema-specifications-2024.10.1 jupyterlab-widgets-3.0.13 kaleido-0.2.1 kiwisolver-1.4.7 lightgbm-4.5.0 llvmlite-0.43.0 matplotlib-3.7.5 nbformat-5.10.4 numba-0.60.0 orjson-3.10.11 pandas-2.1.4 patsy-1.0.1 pillow-11.0.0 plotly-5.24.1 plotly-resampler-0.10.0 pmdarima-2.0.4 pycaret-3.3.2 pyod-2.0.2 pyparsing-3.2.0 referencing-0.35.1 retrying-1.3.4 rpds-py-0.21.0 schemdraw-0.15 scikit-base-0.7.8 scikit-learn-1.4.2 scikit-plot-0.3.7 scipy-1.11.4 sktime-0.26.0 statsmodels-0.14.4 tbats-1.1.3 tenacity-9.0.0 tsdownsample-0.1.3 widgetsnbextension-4.0.13 xxhash-3.5.0 yellowbrick-1.5 zipp-3.21.0\n",
      "Note: you may need to restart the kernel to use updated packages.\n"
     ]
    },
    {
     "name": "stderr",
     "output_type": "stream",
     "text": [
      "\n",
      "[notice] A new release of pip is available: 24.1.2 -> 24.3.1\n",
      "[notice] To update, run: python.exe -m pip install --upgrade pip\n"
     ]
    }
   ],
   "source": [
    "pip install pycaret"
   ]
  },
  {
   "cell_type": "code",
   "execution_count": 2,
   "id": "88e22b58-78b3-4597-800c-a6b130661e02",
   "metadata": {},
   "outputs": [],
   "source": [
    "import pandas as pd"
   ]
  },
  {
   "cell_type": "code",
   "execution_count": 6,
   "id": "8347ea07-8aef-4921-a508-8b45469a8495",
   "metadata": {},
   "outputs": [],
   "source": [
    "http = pd.read_csv(r\"traininglog.csv\")"
   ]
  },
  {
   "cell_type": "code",
   "execution_count": 12,
   "id": "5410f76f-cb11-4558-904f-0591537c9d88",
   "metadata": {},
   "outputs": [
    {
     "data": {
      "text/html": [
       "<style type=\"text/css\">\n",
       "#T_7e247_row7_col1, #T_7e247_row13_col1 {\n",
       "  background-color: lightgreen;\n",
       "}\n",
       "</style>\n",
       "<table id=\"T_7e247\">\n",
       "  <thead>\n",
       "    <tr>\n",
       "      <th class=\"blank level0\" >&nbsp;</th>\n",
       "      <th id=\"T_7e247_level0_col0\" class=\"col_heading level0 col0\" >Description</th>\n",
       "      <th id=\"T_7e247_level0_col1\" class=\"col_heading level0 col1\" >Value</th>\n",
       "    </tr>\n",
       "  </thead>\n",
       "  <tbody>\n",
       "    <tr>\n",
       "      <th id=\"T_7e247_level0_row0\" class=\"row_heading level0 row0\" >0</th>\n",
       "      <td id=\"T_7e247_row0_col0\" class=\"data row0 col0\" >Session id</td>\n",
       "      <td id=\"T_7e247_row0_col1\" class=\"data row0 col1\" >3747</td>\n",
       "    </tr>\n",
       "    <tr>\n",
       "      <th id=\"T_7e247_level0_row1\" class=\"row_heading level0 row1\" >1</th>\n",
       "      <td id=\"T_7e247_row1_col0\" class=\"data row1 col0\" >Original data shape</td>\n",
       "      <td id=\"T_7e247_row1_col1\" class=\"data row1 col1\" >(328, 10)</td>\n",
       "    </tr>\n",
       "    <tr>\n",
       "      <th id=\"T_7e247_level0_row2\" class=\"row_heading level0 row2\" >2</th>\n",
       "      <td id=\"T_7e247_row2_col0\" class=\"data row2 col0\" >Transformed data shape</td>\n",
       "      <td id=\"T_7e247_row2_col1\" class=\"data row2 col1\" >(328, 70)</td>\n",
       "    </tr>\n",
       "    <tr>\n",
       "      <th id=\"T_7e247_level0_row3\" class=\"row_heading level0 row3\" >3</th>\n",
       "      <td id=\"T_7e247_row3_col0\" class=\"data row3 col0\" >Ignore features</td>\n",
       "      <td id=\"T_7e247_row3_col1\" class=\"data row3 col1\" >3</td>\n",
       "    </tr>\n",
       "    <tr>\n",
       "      <th id=\"T_7e247_level0_row4\" class=\"row_heading level0 row4\" >4</th>\n",
       "      <td id=\"T_7e247_row4_col0\" class=\"data row4 col0\" >Numeric features</td>\n",
       "      <td id=\"T_7e247_row4_col1\" class=\"data row4 col1\" >6</td>\n",
       "    </tr>\n",
       "    <tr>\n",
       "      <th id=\"T_7e247_level0_row5\" class=\"row_heading level0 row5\" >5</th>\n",
       "      <td id=\"T_7e247_row5_col0\" class=\"data row5 col0\" >Categorical features</td>\n",
       "      <td id=\"T_7e247_row5_col1\" class=\"data row5 col1\" >1</td>\n",
       "    </tr>\n",
       "    <tr>\n",
       "      <th id=\"T_7e247_level0_row6\" class=\"row_heading level0 row6\" >6</th>\n",
       "      <td id=\"T_7e247_row6_col0\" class=\"data row6 col0\" >Rows with missing values</td>\n",
       "      <td id=\"T_7e247_row6_col1\" class=\"data row6 col1\" >80.5%</td>\n",
       "    </tr>\n",
       "    <tr>\n",
       "      <th id=\"T_7e247_level0_row7\" class=\"row_heading level0 row7\" >7</th>\n",
       "      <td id=\"T_7e247_row7_col0\" class=\"data row7 col0\" >Preprocess</td>\n",
       "      <td id=\"T_7e247_row7_col1\" class=\"data row7 col1\" >True</td>\n",
       "    </tr>\n",
       "    <tr>\n",
       "      <th id=\"T_7e247_level0_row8\" class=\"row_heading level0 row8\" >8</th>\n",
       "      <td id=\"T_7e247_row8_col0\" class=\"data row8 col0\" >Imputation type</td>\n",
       "      <td id=\"T_7e247_row8_col1\" class=\"data row8 col1\" >simple</td>\n",
       "    </tr>\n",
       "    <tr>\n",
       "      <th id=\"T_7e247_level0_row9\" class=\"row_heading level0 row9\" >9</th>\n",
       "      <td id=\"T_7e247_row9_col0\" class=\"data row9 col0\" >Numeric imputation</td>\n",
       "      <td id=\"T_7e247_row9_col1\" class=\"data row9 col1\" >mean</td>\n",
       "    </tr>\n",
       "    <tr>\n",
       "      <th id=\"T_7e247_level0_row10\" class=\"row_heading level0 row10\" >10</th>\n",
       "      <td id=\"T_7e247_row10_col0\" class=\"data row10 col0\" >Categorical imputation</td>\n",
       "      <td id=\"T_7e247_row10_col1\" class=\"data row10 col1\" >mode</td>\n",
       "    </tr>\n",
       "    <tr>\n",
       "      <th id=\"T_7e247_level0_row11\" class=\"row_heading level0 row11\" >11</th>\n",
       "      <td id=\"T_7e247_row11_col0\" class=\"data row11 col0\" >Maximum one-hot encoding</td>\n",
       "      <td id=\"T_7e247_row11_col1\" class=\"data row11 col1\" >-1</td>\n",
       "    </tr>\n",
       "    <tr>\n",
       "      <th id=\"T_7e247_level0_row12\" class=\"row_heading level0 row12\" >12</th>\n",
       "      <td id=\"T_7e247_row12_col0\" class=\"data row12 col0\" >Encoding method</td>\n",
       "      <td id=\"T_7e247_row12_col1\" class=\"data row12 col1\" >None</td>\n",
       "    </tr>\n",
       "    <tr>\n",
       "      <th id=\"T_7e247_level0_row13\" class=\"row_heading level0 row13\" >13</th>\n",
       "      <td id=\"T_7e247_row13_col0\" class=\"data row13 col0\" >Normalize</td>\n",
       "      <td id=\"T_7e247_row13_col1\" class=\"data row13 col1\" >True</td>\n",
       "    </tr>\n",
       "    <tr>\n",
       "      <th id=\"T_7e247_level0_row14\" class=\"row_heading level0 row14\" >14</th>\n",
       "      <td id=\"T_7e247_row14_col0\" class=\"data row14 col0\" >Normalize method</td>\n",
       "      <td id=\"T_7e247_row14_col1\" class=\"data row14 col1\" >zscore</td>\n",
       "    </tr>\n",
       "    <tr>\n",
       "      <th id=\"T_7e247_level0_row15\" class=\"row_heading level0 row15\" >15</th>\n",
       "      <td id=\"T_7e247_row15_col0\" class=\"data row15 col0\" >CPU Jobs</td>\n",
       "      <td id=\"T_7e247_row15_col1\" class=\"data row15 col1\" >-1</td>\n",
       "    </tr>\n",
       "    <tr>\n",
       "      <th id=\"T_7e247_level0_row16\" class=\"row_heading level0 row16\" >16</th>\n",
       "      <td id=\"T_7e247_row16_col0\" class=\"data row16 col0\" >Use GPU</td>\n",
       "      <td id=\"T_7e247_row16_col1\" class=\"data row16 col1\" >False</td>\n",
       "    </tr>\n",
       "    <tr>\n",
       "      <th id=\"T_7e247_level0_row17\" class=\"row_heading level0 row17\" >17</th>\n",
       "      <td id=\"T_7e247_row17_col0\" class=\"data row17 col0\" >Log Experiment</td>\n",
       "      <td id=\"T_7e247_row17_col1\" class=\"data row17 col1\" >False</td>\n",
       "    </tr>\n",
       "    <tr>\n",
       "      <th id=\"T_7e247_level0_row18\" class=\"row_heading level0 row18\" >18</th>\n",
       "      <td id=\"T_7e247_row18_col0\" class=\"data row18 col0\" >Experiment Name</td>\n",
       "      <td id=\"T_7e247_row18_col1\" class=\"data row18 col1\" >cluster-default-name</td>\n",
       "    </tr>\n",
       "    <tr>\n",
       "      <th id=\"T_7e247_level0_row19\" class=\"row_heading level0 row19\" >19</th>\n",
       "      <td id=\"T_7e247_row19_col0\" class=\"data row19 col0\" >USI</td>\n",
       "      <td id=\"T_7e247_row19_col1\" class=\"data row19 col1\" >ac0a</td>\n",
       "    </tr>\n",
       "  </tbody>\n",
       "</table>\n"
      ],
      "text/plain": [
       "<pandas.io.formats.style.Styler at 0x1607f134dd0>"
      ]
     },
     "metadata": {},
     "output_type": "display_data"
    }
   ],
   "source": [
    "from pycaret.clustering import *\n",
    "clu1 = setup(data = http,normalize = True,numeric_features = ['single_q','double_q','dashes','braces','spaces', 'badwords_count'],ignore_features = ['method','path','class'])"
   ]
  },
  {
   "cell_type": "code",
   "execution_count": 13,
   "id": "acc08b0b",
   "metadata": {},
   "outputs": [
    {
     "data": {
      "text/html": [],
      "text/plain": [
       "<IPython.core.display.HTML object>"
      ]
     },
     "metadata": {},
     "output_type": "display_data"
    },
    {
     "data": {
      "text/html": [
       "<style type=\"text/css\">\n",
       "</style>\n",
       "<table id=\"T_9ccc5\">\n",
       "  <thead>\n",
       "    <tr>\n",
       "      <th class=\"blank level0\" >&nbsp;</th>\n",
       "      <th id=\"T_9ccc5_level0_col0\" class=\"col_heading level0 col0\" >Silhouette</th>\n",
       "      <th id=\"T_9ccc5_level0_col1\" class=\"col_heading level0 col1\" >Calinski-Harabasz</th>\n",
       "      <th id=\"T_9ccc5_level0_col2\" class=\"col_heading level0 col2\" >Davies-Bouldin</th>\n",
       "      <th id=\"T_9ccc5_level0_col3\" class=\"col_heading level0 col3\" >Homogeneity</th>\n",
       "      <th id=\"T_9ccc5_level0_col4\" class=\"col_heading level0 col4\" >Rand Index</th>\n",
       "      <th id=\"T_9ccc5_level0_col5\" class=\"col_heading level0 col5\" >Completeness</th>\n",
       "    </tr>\n",
       "  </thead>\n",
       "  <tbody>\n",
       "    <tr>\n",
       "      <th id=\"T_9ccc5_level0_row0\" class=\"row_heading level0 row0\" >0</th>\n",
       "      <td id=\"T_9ccc5_row0_col0\" class=\"data row0 col0\" >0.6711</td>\n",
       "      <td id=\"T_9ccc5_row0_col1\" class=\"data row0 col1\" >4.9934</td>\n",
       "      <td id=\"T_9ccc5_row0_col2\" class=\"data row0 col2\" >0.2367</td>\n",
       "      <td id=\"T_9ccc5_row0_col3\" class=\"data row0 col3\" >0</td>\n",
       "      <td id=\"T_9ccc5_row0_col4\" class=\"data row0 col4\" >0</td>\n",
       "      <td id=\"T_9ccc5_row0_col5\" class=\"data row0 col5\" >0</td>\n",
       "    </tr>\n",
       "  </tbody>\n",
       "</table>\n"
      ],
      "text/plain": [
       "<pandas.io.formats.style.Styler at 0x1607f11ba10>"
      ]
     },
     "metadata": {},
     "output_type": "display_data"
    },
    {
     "data": {
      "text/html": [],
      "text/plain": [
       "<IPython.core.display.HTML object>"
      ]
     },
     "metadata": {},
     "output_type": "display_data"
    }
   ],
   "source": [
    "kmeans = create_model('kmeans', num_clusters= 2)"
   ]
  },
  {
   "cell_type": "code",
   "execution_count": 14,
   "id": "03f02891",
   "metadata": {},
   "outputs": [
    {
     "data": {
      "text/html": [
       "<style>#sk-container-id-1 {\n",
       "  /* Definition of color scheme common for light and dark mode */\n",
       "  --sklearn-color-text: black;\n",
       "  --sklearn-color-line: gray;\n",
       "  /* Definition of color scheme for unfitted estimators */\n",
       "  --sklearn-color-unfitted-level-0: #fff5e6;\n",
       "  --sklearn-color-unfitted-level-1: #f6e4d2;\n",
       "  --sklearn-color-unfitted-level-2: #ffe0b3;\n",
       "  --sklearn-color-unfitted-level-3: chocolate;\n",
       "  /* Definition of color scheme for fitted estimators */\n",
       "  --sklearn-color-fitted-level-0: #f0f8ff;\n",
       "  --sklearn-color-fitted-level-1: #d4ebff;\n",
       "  --sklearn-color-fitted-level-2: #b3dbfd;\n",
       "  --sklearn-color-fitted-level-3: cornflowerblue;\n",
       "\n",
       "  /* Specific color for light theme */\n",
       "  --sklearn-color-text-on-default-background: var(--sg-text-color, var(--theme-code-foreground, var(--jp-content-font-color1, black)));\n",
       "  --sklearn-color-background: var(--sg-background-color, var(--theme-background, var(--jp-layout-color0, white)));\n",
       "  --sklearn-color-border-box: var(--sg-text-color, var(--theme-code-foreground, var(--jp-content-font-color1, black)));\n",
       "  --sklearn-color-icon: #696969;\n",
       "\n",
       "  @media (prefers-color-scheme: dark) {\n",
       "    /* Redefinition of color scheme for dark theme */\n",
       "    --sklearn-color-text-on-default-background: var(--sg-text-color, var(--theme-code-foreground, var(--jp-content-font-color1, white)));\n",
       "    --sklearn-color-background: var(--sg-background-color, var(--theme-background, var(--jp-layout-color0, #111)));\n",
       "    --sklearn-color-border-box: var(--sg-text-color, var(--theme-code-foreground, var(--jp-content-font-color1, white)));\n",
       "    --sklearn-color-icon: #878787;\n",
       "  }\n",
       "}\n",
       "\n",
       "#sk-container-id-1 {\n",
       "  color: var(--sklearn-color-text);\n",
       "}\n",
       "\n",
       "#sk-container-id-1 pre {\n",
       "  padding: 0;\n",
       "}\n",
       "\n",
       "#sk-container-id-1 input.sk-hidden--visually {\n",
       "  border: 0;\n",
       "  clip: rect(1px 1px 1px 1px);\n",
       "  clip: rect(1px, 1px, 1px, 1px);\n",
       "  height: 1px;\n",
       "  margin: -1px;\n",
       "  overflow: hidden;\n",
       "  padding: 0;\n",
       "  position: absolute;\n",
       "  width: 1px;\n",
       "}\n",
       "\n",
       "#sk-container-id-1 div.sk-dashed-wrapped {\n",
       "  border: 1px dashed var(--sklearn-color-line);\n",
       "  margin: 0 0.4em 0.5em 0.4em;\n",
       "  box-sizing: border-box;\n",
       "  padding-bottom: 0.4em;\n",
       "  background-color: var(--sklearn-color-background);\n",
       "}\n",
       "\n",
       "#sk-container-id-1 div.sk-container {\n",
       "  /* jupyter's `normalize.less` sets `[hidden] { display: none; }`\n",
       "     but bootstrap.min.css set `[hidden] { display: none !important; }`\n",
       "     so we also need the `!important` here to be able to override the\n",
       "     default hidden behavior on the sphinx rendered scikit-learn.org.\n",
       "     See: https://github.com/scikit-learn/scikit-learn/issues/21755 */\n",
       "  display: inline-block !important;\n",
       "  position: relative;\n",
       "}\n",
       "\n",
       "#sk-container-id-1 div.sk-text-repr-fallback {\n",
       "  display: none;\n",
       "}\n",
       "\n",
       "div.sk-parallel-item,\n",
       "div.sk-serial,\n",
       "div.sk-item {\n",
       "  /* draw centered vertical line to link estimators */\n",
       "  background-image: linear-gradient(var(--sklearn-color-text-on-default-background), var(--sklearn-color-text-on-default-background));\n",
       "  background-size: 2px 100%;\n",
       "  background-repeat: no-repeat;\n",
       "  background-position: center center;\n",
       "}\n",
       "\n",
       "/* Parallel-specific style estimator block */\n",
       "\n",
       "#sk-container-id-1 div.sk-parallel-item::after {\n",
       "  content: \"\";\n",
       "  width: 100%;\n",
       "  border-bottom: 2px solid var(--sklearn-color-text-on-default-background);\n",
       "  flex-grow: 1;\n",
       "}\n",
       "\n",
       "#sk-container-id-1 div.sk-parallel {\n",
       "  display: flex;\n",
       "  align-items: stretch;\n",
       "  justify-content: center;\n",
       "  background-color: var(--sklearn-color-background);\n",
       "  position: relative;\n",
       "}\n",
       "\n",
       "#sk-container-id-1 div.sk-parallel-item {\n",
       "  display: flex;\n",
       "  flex-direction: column;\n",
       "}\n",
       "\n",
       "#sk-container-id-1 div.sk-parallel-item:first-child::after {\n",
       "  align-self: flex-end;\n",
       "  width: 50%;\n",
       "}\n",
       "\n",
       "#sk-container-id-1 div.sk-parallel-item:last-child::after {\n",
       "  align-self: flex-start;\n",
       "  width: 50%;\n",
       "}\n",
       "\n",
       "#sk-container-id-1 div.sk-parallel-item:only-child::after {\n",
       "  width: 0;\n",
       "}\n",
       "\n",
       "/* Serial-specific style estimator block */\n",
       "\n",
       "#sk-container-id-1 div.sk-serial {\n",
       "  display: flex;\n",
       "  flex-direction: column;\n",
       "  align-items: center;\n",
       "  background-color: var(--sklearn-color-background);\n",
       "  padding-right: 1em;\n",
       "  padding-left: 1em;\n",
       "}\n",
       "\n",
       "\n",
       "/* Toggleable style: style used for estimator/Pipeline/ColumnTransformer box that is\n",
       "clickable and can be expanded/collapsed.\n",
       "- Pipeline and ColumnTransformer use this feature and define the default style\n",
       "- Estimators will overwrite some part of the style using the `sk-estimator` class\n",
       "*/\n",
       "\n",
       "/* Pipeline and ColumnTransformer style (default) */\n",
       "\n",
       "#sk-container-id-1 div.sk-toggleable {\n",
       "  /* Default theme specific background. It is overwritten whether we have a\n",
       "  specific estimator or a Pipeline/ColumnTransformer */\n",
       "  background-color: var(--sklearn-color-background);\n",
       "}\n",
       "\n",
       "/* Toggleable label */\n",
       "#sk-container-id-1 label.sk-toggleable__label {\n",
       "  cursor: pointer;\n",
       "  display: block;\n",
       "  width: 100%;\n",
       "  margin-bottom: 0;\n",
       "  padding: 0.5em;\n",
       "  box-sizing: border-box;\n",
       "  text-align: center;\n",
       "}\n",
       "\n",
       "#sk-container-id-1 label.sk-toggleable__label-arrow:before {\n",
       "  /* Arrow on the left of the label */\n",
       "  content: \"▸\";\n",
       "  float: left;\n",
       "  margin-right: 0.25em;\n",
       "  color: var(--sklearn-color-icon);\n",
       "}\n",
       "\n",
       "#sk-container-id-1 label.sk-toggleable__label-arrow:hover:before {\n",
       "  color: var(--sklearn-color-text);\n",
       "}\n",
       "\n",
       "/* Toggleable content - dropdown */\n",
       "\n",
       "#sk-container-id-1 div.sk-toggleable__content {\n",
       "  max-height: 0;\n",
       "  max-width: 0;\n",
       "  overflow: hidden;\n",
       "  text-align: left;\n",
       "  /* unfitted */\n",
       "  background-color: var(--sklearn-color-unfitted-level-0);\n",
       "}\n",
       "\n",
       "#sk-container-id-1 div.sk-toggleable__content.fitted {\n",
       "  /* fitted */\n",
       "  background-color: var(--sklearn-color-fitted-level-0);\n",
       "}\n",
       "\n",
       "#sk-container-id-1 div.sk-toggleable__content pre {\n",
       "  margin: 0.2em;\n",
       "  border-radius: 0.25em;\n",
       "  color: var(--sklearn-color-text);\n",
       "  /* unfitted */\n",
       "  background-color: var(--sklearn-color-unfitted-level-0);\n",
       "}\n",
       "\n",
       "#sk-container-id-1 div.sk-toggleable__content.fitted pre {\n",
       "  /* unfitted */\n",
       "  background-color: var(--sklearn-color-fitted-level-0);\n",
       "}\n",
       "\n",
       "#sk-container-id-1 input.sk-toggleable__control:checked~div.sk-toggleable__content {\n",
       "  /* Expand drop-down */\n",
       "  max-height: 200px;\n",
       "  max-width: 100%;\n",
       "  overflow: auto;\n",
       "}\n",
       "\n",
       "#sk-container-id-1 input.sk-toggleable__control:checked~label.sk-toggleable__label-arrow:before {\n",
       "  content: \"▾\";\n",
       "}\n",
       "\n",
       "/* Pipeline/ColumnTransformer-specific style */\n",
       "\n",
       "#sk-container-id-1 div.sk-label input.sk-toggleable__control:checked~label.sk-toggleable__label {\n",
       "  color: var(--sklearn-color-text);\n",
       "  background-color: var(--sklearn-color-unfitted-level-2);\n",
       "}\n",
       "\n",
       "#sk-container-id-1 div.sk-label.fitted input.sk-toggleable__control:checked~label.sk-toggleable__label {\n",
       "  background-color: var(--sklearn-color-fitted-level-2);\n",
       "}\n",
       "\n",
       "/* Estimator-specific style */\n",
       "\n",
       "/* Colorize estimator box */\n",
       "#sk-container-id-1 div.sk-estimator input.sk-toggleable__control:checked~label.sk-toggleable__label {\n",
       "  /* unfitted */\n",
       "  background-color: var(--sklearn-color-unfitted-level-2);\n",
       "}\n",
       "\n",
       "#sk-container-id-1 div.sk-estimator.fitted input.sk-toggleable__control:checked~label.sk-toggleable__label {\n",
       "  /* fitted */\n",
       "  background-color: var(--sklearn-color-fitted-level-2);\n",
       "}\n",
       "\n",
       "#sk-container-id-1 div.sk-label label.sk-toggleable__label,\n",
       "#sk-container-id-1 div.sk-label label {\n",
       "  /* The background is the default theme color */\n",
       "  color: var(--sklearn-color-text-on-default-background);\n",
       "}\n",
       "\n",
       "/* On hover, darken the color of the background */\n",
       "#sk-container-id-1 div.sk-label:hover label.sk-toggleable__label {\n",
       "  color: var(--sklearn-color-text);\n",
       "  background-color: var(--sklearn-color-unfitted-level-2);\n",
       "}\n",
       "\n",
       "/* Label box, darken color on hover, fitted */\n",
       "#sk-container-id-1 div.sk-label.fitted:hover label.sk-toggleable__label.fitted {\n",
       "  color: var(--sklearn-color-text);\n",
       "  background-color: var(--sklearn-color-fitted-level-2);\n",
       "}\n",
       "\n",
       "/* Estimator label */\n",
       "\n",
       "#sk-container-id-1 div.sk-label label {\n",
       "  font-family: monospace;\n",
       "  font-weight: bold;\n",
       "  display: inline-block;\n",
       "  line-height: 1.2em;\n",
       "}\n",
       "\n",
       "#sk-container-id-1 div.sk-label-container {\n",
       "  text-align: center;\n",
       "}\n",
       "\n",
       "/* Estimator-specific */\n",
       "#sk-container-id-1 div.sk-estimator {\n",
       "  font-family: monospace;\n",
       "  border: 1px dotted var(--sklearn-color-border-box);\n",
       "  border-radius: 0.25em;\n",
       "  box-sizing: border-box;\n",
       "  margin-bottom: 0.5em;\n",
       "  /* unfitted */\n",
       "  background-color: var(--sklearn-color-unfitted-level-0);\n",
       "}\n",
       "\n",
       "#sk-container-id-1 div.sk-estimator.fitted {\n",
       "  /* fitted */\n",
       "  background-color: var(--sklearn-color-fitted-level-0);\n",
       "}\n",
       "\n",
       "/* on hover */\n",
       "#sk-container-id-1 div.sk-estimator:hover {\n",
       "  /* unfitted */\n",
       "  background-color: var(--sklearn-color-unfitted-level-2);\n",
       "}\n",
       "\n",
       "#sk-container-id-1 div.sk-estimator.fitted:hover {\n",
       "  /* fitted */\n",
       "  background-color: var(--sklearn-color-fitted-level-2);\n",
       "}\n",
       "\n",
       "/* Specification for estimator info (e.g. \"i\" and \"?\") */\n",
       "\n",
       "/* Common style for \"i\" and \"?\" */\n",
       "\n",
       ".sk-estimator-doc-link,\n",
       "a:link.sk-estimator-doc-link,\n",
       "a:visited.sk-estimator-doc-link {\n",
       "  float: right;\n",
       "  font-size: smaller;\n",
       "  line-height: 1em;\n",
       "  font-family: monospace;\n",
       "  background-color: var(--sklearn-color-background);\n",
       "  border-radius: 1em;\n",
       "  height: 1em;\n",
       "  width: 1em;\n",
       "  text-decoration: none !important;\n",
       "  margin-left: 1ex;\n",
       "  /* unfitted */\n",
       "  border: var(--sklearn-color-unfitted-level-1) 1pt solid;\n",
       "  color: var(--sklearn-color-unfitted-level-1);\n",
       "}\n",
       "\n",
       ".sk-estimator-doc-link.fitted,\n",
       "a:link.sk-estimator-doc-link.fitted,\n",
       "a:visited.sk-estimator-doc-link.fitted {\n",
       "  /* fitted */\n",
       "  border: var(--sklearn-color-fitted-level-1) 1pt solid;\n",
       "  color: var(--sklearn-color-fitted-level-1);\n",
       "}\n",
       "\n",
       "/* On hover */\n",
       "div.sk-estimator:hover .sk-estimator-doc-link:hover,\n",
       ".sk-estimator-doc-link:hover,\n",
       "div.sk-label-container:hover .sk-estimator-doc-link:hover,\n",
       ".sk-estimator-doc-link:hover {\n",
       "  /* unfitted */\n",
       "  background-color: var(--sklearn-color-unfitted-level-3);\n",
       "  color: var(--sklearn-color-background);\n",
       "  text-decoration: none;\n",
       "}\n",
       "\n",
       "div.sk-estimator.fitted:hover .sk-estimator-doc-link.fitted:hover,\n",
       ".sk-estimator-doc-link.fitted:hover,\n",
       "div.sk-label-container:hover .sk-estimator-doc-link.fitted:hover,\n",
       ".sk-estimator-doc-link.fitted:hover {\n",
       "  /* fitted */\n",
       "  background-color: var(--sklearn-color-fitted-level-3);\n",
       "  color: var(--sklearn-color-background);\n",
       "  text-decoration: none;\n",
       "}\n",
       "\n",
       "/* Span, style for the box shown on hovering the info icon */\n",
       ".sk-estimator-doc-link span {\n",
       "  display: none;\n",
       "  z-index: 9999;\n",
       "  position: relative;\n",
       "  font-weight: normal;\n",
       "  right: .2ex;\n",
       "  padding: .5ex;\n",
       "  margin: .5ex;\n",
       "  width: min-content;\n",
       "  min-width: 20ex;\n",
       "  max-width: 50ex;\n",
       "  color: var(--sklearn-color-text);\n",
       "  box-shadow: 2pt 2pt 4pt #999;\n",
       "  /* unfitted */\n",
       "  background: var(--sklearn-color-unfitted-level-0);\n",
       "  border: .5pt solid var(--sklearn-color-unfitted-level-3);\n",
       "}\n",
       "\n",
       ".sk-estimator-doc-link.fitted span {\n",
       "  /* fitted */\n",
       "  background: var(--sklearn-color-fitted-level-0);\n",
       "  border: var(--sklearn-color-fitted-level-3);\n",
       "}\n",
       "\n",
       ".sk-estimator-doc-link:hover span {\n",
       "  display: block;\n",
       "}\n",
       "\n",
       "/* \"?\"-specific style due to the `<a>` HTML tag */\n",
       "\n",
       "#sk-container-id-1 a.estimator_doc_link {\n",
       "  float: right;\n",
       "  font-size: 1rem;\n",
       "  line-height: 1em;\n",
       "  font-family: monospace;\n",
       "  background-color: var(--sklearn-color-background);\n",
       "  border-radius: 1rem;\n",
       "  height: 1rem;\n",
       "  width: 1rem;\n",
       "  text-decoration: none;\n",
       "  /* unfitted */\n",
       "  color: var(--sklearn-color-unfitted-level-1);\n",
       "  border: var(--sklearn-color-unfitted-level-1) 1pt solid;\n",
       "}\n",
       "\n",
       "#sk-container-id-1 a.estimator_doc_link.fitted {\n",
       "  /* fitted */\n",
       "  border: var(--sklearn-color-fitted-level-1) 1pt solid;\n",
       "  color: var(--sklearn-color-fitted-level-1);\n",
       "}\n",
       "\n",
       "/* On hover */\n",
       "#sk-container-id-1 a.estimator_doc_link:hover {\n",
       "  /* unfitted */\n",
       "  background-color: var(--sklearn-color-unfitted-level-3);\n",
       "  color: var(--sklearn-color-background);\n",
       "  text-decoration: none;\n",
       "}\n",
       "\n",
       "#sk-container-id-1 a.estimator_doc_link.fitted:hover {\n",
       "  /* fitted */\n",
       "  background-color: var(--sklearn-color-fitted-level-3);\n",
       "}\n",
       "</style><div id=\"sk-container-id-1\" class=\"sk-top-container\"><div class=\"sk-text-repr-fallback\"><pre>KMeans(n_clusters=2, random_state=3747)</pre><b>In a Jupyter environment, please rerun this cell to show the HTML representation or trust the notebook. <br />On GitHub, the HTML representation is unable to render, please try loading this page with nbviewer.org.</b></div><div class=\"sk-container\" hidden><div class=\"sk-item\"><div class=\"sk-estimator fitted sk-toggleable\"><input class=\"sk-toggleable__control sk-hidden--visually\" id=\"sk-estimator-id-1\" type=\"checkbox\" checked><label for=\"sk-estimator-id-1\" class=\"sk-toggleable__label fitted sk-toggleable__label-arrow fitted\">&nbsp;&nbsp;KMeans<a class=\"sk-estimator-doc-link fitted\" rel=\"noreferrer\" target=\"_blank\" href=\"https://scikit-learn.org/1.4/modules/generated/sklearn.cluster.KMeans.html\">?<span>Documentation for KMeans</span></a><span class=\"sk-estimator-doc-link fitted\">i<span>Fitted</span></span></label><div class=\"sk-toggleable__content fitted\"><pre>KMeans(n_clusters=2, random_state=3747)</pre></div> </div></div></div></div>"
      ],
      "text/plain": [
       "KMeans(n_clusters=2, random_state=3747)"
      ]
     },
     "execution_count": 14,
     "metadata": {},
     "output_type": "execute_result"
    }
   ],
   "source": [
    "kmeans"
   ]
  },
  {
   "cell_type": "code",
   "execution_count": 16,
   "id": "e754695c",
   "metadata": {},
   "outputs": [
    {
     "data": {
      "text/html": [],
      "text/plain": [
       "<IPython.core.display.HTML object>"
      ]
     },
     "metadata": {},
     "output_type": "display_data"
    },
    {
     "data": {
      "application/vnd.plotly.v1+json": {
       "config": {
        "plotlyServerURL": "https://plot.ly"
       },
       "data": [
        {
         "customdata": [
          [
           "POST"
          ]
         ],
         "hovertemplate": "Cluster=Cluster 0<br>PCA1=%{x}<br>PCA2=%{y}<br>Feature=%{customdata[0]}<extra></extra>",
         "legendgroup": "Cluster 0",
         "marker": {
          "color": "#636efa",
          "opacity": 0.5,
          "symbol": "circle"
         },
         "mode": "markers",
         "name": "Cluster 0",
         "orientation": "v",
         "showlegend": true,
         "textposition": "top center",
         "type": "scatter",
         "x": [
          3.9917793709876634
         ],
         "xaxis": "x",
         "y": [
          0.5986364022433021
         ],
         "yaxis": "y"
        },
        {
         "customdata": [
          [
           "GET"
          ],
          [
           "GET"
          ],
          [
           "GET"
          ],
          [
           "GET"
          ],
          [
           "GET"
          ],
          [
           "GET"
          ],
          [
           "GET"
          ],
          [
           "GET"
          ],
          [
           "POST"
          ],
          [
           "POST"
          ],
          [
           "GET"
          ],
          [
           "GET"
          ],
          [
           "GET"
          ],
          [
           "GET"
          ],
          [
           "GET"
          ],
          [
           "GET"
          ],
          [
           "POST"
          ],
          [
           "GET"
          ],
          [
           "GET"
          ],
          [
           "OPTIONS"
          ],
          [
           "POST"
          ],
          [
           "POST"
          ],
          [
           "POST"
          ],
          [
           "POST"
          ],
          [
           "GET"
          ],
          [
           "GET"
          ],
          [
           "GET"
          ],
          [
           "GET"
          ],
          [
           "GET"
          ],
          [
           "GET"
          ],
          [
           "GET"
          ],
          [
           "GET"
          ],
          [
           "GET"
          ],
          [
           "GET"
          ],
          [
           "GET"
          ],
          [
           "GET"
          ],
          [
           "GET"
          ],
          [
           "GET"
          ],
          [
           "OPTIONS"
          ],
          [
           "GET"
          ],
          [
           "GET"
          ],
          [
           "GET"
          ],
          [
           "GET"
          ],
          [
           "GET"
          ],
          [
           "GET"
          ],
          [
           "GET"
          ],
          [
           "GET"
          ],
          [
           "GET"
          ],
          [
           "GET"
          ],
          [
           "GET"
          ],
          [
           "GET"
          ],
          [
           "GET"
          ],
          [
           "GET"
          ],
          [
           "GET"
          ],
          [
           "GET"
          ],
          [
           "GET"
          ],
          [
           "GET"
          ],
          [
           "GET"
          ],
          [
           "GET"
          ],
          [
           "GET"
          ],
          [
           "GET"
          ],
          [
           "GET"
          ],
          [
           "GET"
          ],
          [
           "GET"
          ],
          [
           "GET"
          ],
          [
           "GET"
          ],
          [
           "GET"
          ],
          [
           "GET"
          ],
          [
           "GET"
          ],
          [
           "GET"
          ],
          [
           "GET"
          ],
          [
           "GET"
          ],
          [
           "GET"
          ],
          [
           "POST"
          ],
          [
           "POST"
          ],
          [
           "POST"
          ],
          [
           "POST"
          ],
          [
           "GET"
          ],
          [
           "GET"
          ],
          [
           "GET"
          ],
          [
           "POST"
          ],
          [
           "POST"
          ],
          [
           "GET"
          ],
          [
           "GET"
          ],
          [
           "GET"
          ],
          [
           "GET"
          ],
          [
           "GET"
          ],
          [
           "GET"
          ],
          [
           "GET"
          ],
          [
           "GET"
          ],
          [
           "GET"
          ],
          [
           "GET"
          ],
          [
           "GET"
          ],
          [
           "GET"
          ],
          [
           "GET"
          ],
          [
           "GET"
          ],
          [
           "GET"
          ],
          [
           "GET"
          ],
          [
           "GET"
          ],
          [
           "GET"
          ],
          [
           "GET"
          ],
          [
           "GET"
          ],
          [
           "GET"
          ],
          [
           "GET"
          ],
          [
           "GET"
          ],
          [
           "GET"
          ],
          [
           "GET"
          ],
          [
           "GET"
          ],
          [
           "GET"
          ],
          [
           "GET"
          ],
          [
           "OPTIONS"
          ],
          [
           "POST"
          ],
          [
           "GET"
          ],
          [
           "GET"
          ],
          [
           "GET"
          ],
          [
           "GET"
          ],
          [
           "GET"
          ],
          [
           "GET"
          ],
          [
           "GET"
          ],
          [
           "GET"
          ],
          [
           "POST"
          ],
          [
           "GET"
          ],
          [
           "POST"
          ],
          [
           "POST"
          ],
          [
           "POST"
          ],
          [
           "GET"
          ],
          [
           "GET"
          ],
          [
           "GET"
          ],
          [
           "GET"
          ],
          [
           "GET"
          ],
          [
           "GET"
          ],
          [
           "GET"
          ],
          [
           "GET"
          ],
          [
           "GET"
          ],
          [
           "POST"
          ],
          [
           "GET"
          ],
          [
           "GET"
          ],
          [
           "GET"
          ],
          [
           "GET"
          ],
          [
           "GET"
          ],
          [
           "GET"
          ],
          [
           "GET"
          ],
          [
           "GET"
          ],
          [
           "POST"
          ],
          [
           "POST"
          ],
          [
           "GET"
          ],
          [
           "POST"
          ],
          [
           "POST"
          ],
          [
           "GET"
          ],
          [
           "POST"
          ],
          [
           "GET"
          ],
          [
           "POST"
          ],
          [
           "POST"
          ],
          [
           "POST"
          ],
          [
           "POST"
          ],
          [
           "POST"
          ],
          [
           "POST"
          ],
          [
           "POST"
          ],
          [
           "POST"
          ],
          [
           "POST"
          ],
          [
           "POST"
          ],
          [
           "POST"
          ],
          [
           "GET"
          ],
          [
           "GET"
          ],
          [
           "GET"
          ],
          [
           "GET"
          ],
          [
           "GET"
          ],
          [
           "GET"
          ],
          [
           "GET"
          ],
          [
           "GET"
          ],
          [
           "GET"
          ],
          [
           "GET"
          ],
          [
           "GET"
          ],
          [
           "GET"
          ],
          [
           "GET"
          ],
          [
           "POST"
          ],
          [
           "OPTIONS"
          ],
          [
           "POST"
          ],
          [
           "POST"
          ],
          [
           "POST"
          ],
          [
           "POST"
          ],
          [
           "POST"
          ],
          [
           "GET"
          ],
          [
           "GET"
          ],
          [
           "GET"
          ],
          [
           "GET"
          ],
          [
           "GET"
          ],
          [
           "GET"
          ],
          [
           "GET"
          ],
          [
           "GET"
          ],
          [
           "POST"
          ],
          [
           "POST"
          ],
          [
           "POST"
          ],
          [
           "POST"
          ],
          [
           "GET"
          ],
          [
           "POST"
          ],
          [
           "POST"
          ],
          [
           "POST"
          ],
          [
           "GET"
          ],
          [
           "GET"
          ],
          [
           "GET"
          ],
          [
           "GET"
          ],
          [
           "POST"
          ],
          [
           "GET"
          ],
          [
           "POST"
          ],
          [
           "POST"
          ],
          [
           "GET"
          ],
          [
           "GET"
          ],
          [
           "POST"
          ],
          [
           "POST"
          ],
          [
           "POST"
          ],
          [
           "POST"
          ],
          [
           "POST"
          ],
          [
           "GET"
          ],
          [
           "POST"
          ],
          [
           "GET"
          ],
          [
           "GET"
          ],
          [
           "GET"
          ],
          [
           "GET"
          ],
          [
           "GET"
          ],
          [
           "GET"
          ],
          [
           "GET"
          ],
          [
           "POST"
          ],
          [
           "GET"
          ],
          [
           "GET"
          ],
          [
           "GET"
          ],
          [
           "OPTIONS"
          ],
          [
           "POST"
          ],
          [
           "POST"
          ],
          [
           "POST"
          ],
          [
           "POST"
          ],
          [
           "HEAD"
          ],
          [
           "POST"
          ],
          [
           "POST"
          ],
          [
           "GET"
          ],
          [
           "GET"
          ],
          [
           "GET"
          ],
          [
           "GET"
          ],
          [
           "GET"
          ],
          [
           "GET"
          ],
          [
           "GET"
          ],
          [
           "GET"
          ],
          [
           "GET"
          ],
          [
           "POST"
          ],
          [
           "GET"
          ],
          [
           "GET"
          ],
          [
           "OPTIONS"
          ],
          [
           "GET"
          ],
          [
           "GET"
          ],
          [
           "GET"
          ],
          [
           "GET"
          ],
          [
           "GET"
          ],
          [
           "GET"
          ],
          [
           "GET"
          ],
          [
           "GET"
          ],
          [
           "GET"
          ],
          [
           "GET"
          ],
          [
           "GET"
          ],
          [
           "GET"
          ],
          [
           "GET"
          ],
          [
           "GET"
          ],
          [
           "GET"
          ],
          [
           "GET"
          ],
          [
           "GET"
          ],
          [
           "GET"
          ],
          [
           "GET"
          ],
          [
           "GET"
          ],
          [
           "GET"
          ],
          [
           "GET"
          ],
          [
           "GET"
          ],
          [
           "GET"
          ],
          [
           "GET"
          ],
          [
           "GET"
          ],
          [
           "GET"
          ],
          [
           "GET"
          ],
          [
           "GET"
          ],
          [
           "GET"
          ],
          [
           "GET"
          ],
          [
           "GET"
          ],
          [
           "GET"
          ],
          [
           "GET"
          ],
          [
           "GET"
          ],
          [
           "GET"
          ],
          [
           "GET"
          ],
          [
           "GET"
          ],
          [
           "POST"
          ],
          [
           "POST"
          ],
          [
           "GET"
          ],
          [
           "POST"
          ],
          [
           "GET"
          ],
          [
           "GET"
          ],
          [
           "GET"
          ],
          [
           "GET"
          ],
          [
           "GET"
          ],
          [
           "GET"
          ],
          [
           "GET"
          ],
          [
           "GET"
          ],
          [
           "GET"
          ],
          [
           "GET"
          ],
          [
           "GET"
          ],
          [
           "GET"
          ],
          [
           "GET"
          ],
          [
           "GET"
          ],
          [
           "GET"
          ],
          [
           "GET"
          ],
          [
           "GET"
          ],
          [
           "GET"
          ],
          [
           "GET"
          ],
          [
           "GET"
          ],
          [
           "GET"
          ],
          [
           "GET"
          ],
          [
           "GET"
          ],
          [
           "GET"
          ],
          [
           "GET"
          ],
          [
           "GET"
          ],
          [
           "GET"
          ],
          [
           "POST"
          ],
          [
           "POST"
          ],
          [
           "POST"
          ],
          [
           "POST"
          ],
          [
           "GET"
          ],
          [
           "GET"
          ],
          [
           "GET"
          ],
          [
           "POST"
          ],
          [
           "GET"
          ],
          [
           "GET"
          ],
          [
           "GET"
          ]
         ],
         "hovertemplate": "Cluster=Cluster 1<br>PCA1=%{x}<br>PCA2=%{y}<br>Feature=%{customdata[0]}<extra></extra>",
         "legendgroup": "Cluster 1",
         "marker": {
          "color": "#EF553B",
          "opacity": 0.5,
          "symbol": "circle"
         },
         "mode": "markers",
         "name": "Cluster 1",
         "orientation": "v",
         "showlegend": true,
         "textposition": "top center",
         "type": "scatter",
         "x": [
          -0.6710532112608877,
          -0.4053110932562831,
          -0.4053110932562831,
          -0.4053110932562831,
          -0.671053211260912,
          -0.671053211260912,
          -0.671053211260912,
          -0.671053211260912,
          0.2529792765937346,
          4.330340061514809,
          -0.671053211260912,
          -0.30362820683276687,
          -0.671053211260912,
          -0.671053211260912,
          -0.671053211260912,
          -0.671053211260912,
          -0.6596642956487028,
          -0.4053110932562831,
          -0.4053110932562831,
          -0.671053211260912,
          0.9289844607753408,
          3.6091036197383453,
          3.609103619738345,
          3.609103619738343,
          -0.671053211260912,
          -0.671053211260912,
          -0.671053211260912,
          -0.671053211260912,
          -0.671053211260912,
          -0.671053211260912,
          -0.671053211260912,
          0.5541224217430374,
          -0.671053211260912,
          -0.671053211260912,
          -0.671053211260912,
          0.4035713732389305,
          0.036146368810785534,
          -0.671053211260912,
          -0.671053211260912,
          -0.671053211260912,
          -0.671053211260912,
          -0.671053211260912,
          -0.671053211260912,
          -0.30362820683276687,
          0.06379679759537789,
          -0.671053211260912,
          -0.671053211260912,
          -0.671053211260912,
          -0.671053211260912,
          -0.671053211260912,
          -0.671053211260912,
          -0.671053211260912,
          -0.671053211260912,
          -0.671053211260912,
          -0.671053211260912,
          -0.671053211260912,
          -0.671053211260912,
          -0.671053211260912,
          -0.671053211260912,
          -0.671053211260912,
          -0.671053211260912,
          -0.30362820683276687,
          -0.671053211260912,
          -0.671053211260912,
          -0.671053211260912,
          -0.671053211260912,
          -0.671053211260912,
          -0.671053211260912,
          -0.671053211260912,
          -0.6356932322573272,
          -0.4588933372394028,
          -0.6356932322573272,
          -0.671053211260912,
          4.3083231603640675,
          4.3083231603640675,
          4.308323160364068,
          4.402681308152954,
          -0.671053211260912,
          -0.671053211260912,
          -0.671053211260912,
          0.7603372500487284,
          0.798080509164282,
          -0.671053211260912,
          -0.671053211260912,
          -0.671053211260912,
          -0.671053211260912,
          -0.671053211260912,
          -0.671053211260912,
          -0.671053211260912,
          -0.671053211260912,
          -0.671053211260912,
          -0.671053211260912,
          -0.671053211260912,
          -0.671053211260912,
          -0.671053211260912,
          -0.671053211260912,
          -0.671053211260912,
          -0.671053211260912,
          -0.671053211260912,
          -0.671053211260912,
          -0.671053211260912,
          -0.671053211260912,
          -0.671053211260912,
          -0.30362820683276687,
          -0.30362820683276687,
          -0.671053211260912,
          -0.30362820683276687,
          -0.30362820683276687,
          1.3752411197660823,
          -0.30362820683276687,
          -0.671053211260912,
          0.21523601747818213,
          -0.671053211260912,
          -0.671053211260912,
          -0.671053211260912,
          -0.671053211260912,
          -0.671053211260912,
          -0.671053211260912,
          -0.671053211260912,
          -0.671053211260912,
          3.3923130238749057,
          -0.671053211260912,
          3.392313023874905,
          0.1658713255784991,
          0.267970377503298,
          -0.671053211260912,
          -0.671053211260912,
          -0.671053211260912,
          -0.671053211260912,
          -0.671053211260912,
          -0.671053211260912,
          -0.5626954911277156,
          -0.671053211260912,
          -0.671053211260912,
          -0.671053211260912,
          -0.671053211260912,
          -0.6003332532537423,
          -0.671053211260912,
          -0.671053211260912,
          -0.671053211260912,
          -0.671053211260912,
          -0.6596642956487028,
          -0.6596642956487028,
          0.17120221517670123,
          2.327108401207053,
          -0.6573865125262608,
          0.25297927659373504,
          0.3273103114479566,
          -0.6482753800364934,
          -0.6174709672777924,
          0.1638109048790017,
          0.1638109048790017,
          -0.6596642956487028,
          0.17120221517670237,
          0.1712022151767016,
          0.1712022151767019,
          0.17120221517670178,
          0.17120221517670228,
          0.1712022151767029,
          0.17120221517670203,
          0.17120221517670112,
          3.3923130238749053,
          -0.671053211260912,
          -0.671053211260912,
          -0.671053211260912,
          -0.494253316242988,
          0.06379679759537808,
          -0.671053211260912,
          -0.6710532112609119,
          -0.6710532112609116,
          -0.6710532112609111,
          -0.6710532112609118,
          -0.6710532112609127,
          -0.6710532112609117,
          -0.6710532112609113,
          0.19321911632743852,
          -0.6710532112609116,
          0.8851788667792592,
          3.794080029011823,
          0.46371247332224114,
          0.22152656066410653,
          -0.6710532112609121,
          -0.6710532112609126,
          -0.671053211260912,
          -0.6710532112609126,
          -0.671053211260912,
          -0.671053211260912,
          0.06379679759537789,
          -0.30362820683276687,
          -0.30362820683276687,
          2.133695416977182,
          1.653516246346009,
          1.6535162463460074,
          1.6535162463460071,
          -0.671053211260912,
          1.8925568874111824,
          1.892556887411183,
          1.892556887411183,
          -0.30362820683276737,
          -0.6710532112609121,
          -0.6710532112609119,
          -0.6710532112609111,
          0.542344263146314,
          -0.671053211260912,
          1.223520671324626,
          24.86958263089229,
          -0.671053211260912,
          -0.6710532112609122,
          3.9917793709876688,
          4.120735506299141,
          3.9917793709876683,
          4.645836467799069,
          4.025248716997415,
          -0.3036282068327687,
          4.025248716997414,
          0.43122180202352467,
          0.7986468064516671,
          0.7986468064516665,
          -0.30362820683276615,
          -0.6710532112609144,
          0.4312218020235208,
          -0.3036282068327753,
          4.02524871699742,
          -0.30362820683276975,
          -0.3036282068327656,
          -0.19657240007799878,
          -0.6710532112609116,
          0.274996177744474,
          0.47943883128705345,
          0.4794388312870575,
          0.22152656066410456,
          -0.6710532112609118,
          0.30959416526706185,
          10.110703445410296,
          -0.3036282068327675,
          -0.3036282068327675,
          -0.30362820683276665,
          -0.3036282068327666,
          -0.3036282068327665,
          -0.30362820683276726,
          -0.23301693003706933,
          -0.23301693003706883,
          -0.23301693003706833,
          0.2749961777444739,
          -0.671053211260912,
          -0.671053211260912,
          -0.671053211260912,
          -0.6356932322573272,
          -0.671053211260912,
          -0.671053211260912,
          -0.671053211260912,
          -0.671053211260912,
          -0.671053211260912,
          -0.671053211260912,
          -0.671053211260912,
          -0.671053211260912,
          -0.671053211260912,
          -0.671053211260912,
          -0.671053211260912,
          -0.671053211260912,
          -0.671053211260912,
          -0.671053211260912,
          -0.671053211260912,
          -0.671053211260912,
          -0.671053211260912,
          -0.671053211260912,
          -0.671053211260912,
          -0.671053211260912,
          -0.671053211260912,
          -0.671053211260912,
          -0.671053211260912,
          -0.671053211260912,
          -0.671053211260912,
          -0.671053211260912,
          -0.671053211260912,
          -0.671053211260912,
          -0.671053211260912,
          -0.671053211260912,
          -0.671053211260912,
          -0.671053211260912,
          -0.671053211260912,
          -0.671053211260912,
          -0.671053211260912,
          -0.671053211260912,
          -0.671053211260912,
          4.270579901248513,
          -0.671053211260912,
          -0.6003332532537423,
          -0.671053211260912,
          -0.671053211260912,
          -0.671053211260912,
          -0.671053211260912,
          -0.671053211260912,
          -0.30362820683276687,
          0.06379679759537789,
          -0.671053211260912,
          0.06379679759537789,
          -0.30362820683276687,
          -0.30362820683276687,
          -0.671053211260912,
          -0.671053211260912,
          -0.671053211260912,
          -0.671053211260912,
          -0.671053211260912,
          0.06379679759537789,
          -0.671053211260912,
          -0.671053211260912,
          -0.671053211260912,
          -0.671053211260912,
          -0.6356932322573272,
          -0.671053211260912,
          -0.671053211260912,
          -0.671053211260912,
          -0.671053211260912,
          -0.671053211260912,
          -0.671053211260912,
          0.5490850229359606,
          0.22152656066410273,
          0.22152656066410517,
          0.22152656066410464,
          -0.671053211260912,
          -0.671053211260912,
          -0.671053211260912,
          0.036146368810785534,
          -0.671053211260912,
          -0.671053211260912,
          -0.30362820683276687
         ],
         "xaxis": "x",
         "y": [
          -0.21465066410272465,
          -0.25741558329586317,
          -0.25741558329586317,
          -0.25741558329586317,
          -0.2146506641027297,
          -0.2146506641027297,
          -0.2146506641027297,
          -0.2146506641027297,
          0.6545322879439863,
          0.6216986261118322,
          -0.2146506641027297,
          -0.21641667454676,
          -0.2146506641027297,
          -0.2146506641027297,
          -0.2146506641027297,
          -0.2146506641027297,
          -0.21697681510433,
          -0.25741558329586317,
          -0.25741558329586317,
          -0.2146506641027297,
          0.6180562194782541,
          0.6875973249652847,
          0.6875973249652851,
          0.6875973249652845,
          -0.2146506641027297,
          -0.2146506641027297,
          -0.2146506641027297,
          -0.2146506641027297,
          -0.2146506641027297,
          -0.2146506641027297,
          -0.2146506641027297,
          -0.35213957565857623,
          -0.2146506641027297,
          -0.2146506641027297,
          -0.2146506641027297,
          -0.32796832480554,
          -0.3262023143615097,
          -0.2146506641027297,
          -0.2146506641027297,
          -0.2146506641027297,
          -0.2146506641027297,
          -0.2146506641027297,
          -0.2146506641027297,
          -0.21641667454676,
          -0.21818268499079033,
          -0.2146506641027297,
          -0.2146506641027297,
          -0.2146506641027297,
          -0.2146506641027297,
          -0.2146506641027297,
          -0.2146506641027297,
          -0.2146506641027297,
          -0.2146506641027297,
          -0.2146506641027297,
          -0.2146506641027297,
          -0.2146506641027297,
          -0.2146506641027297,
          -0.2146506641027297,
          -0.2146506641027297,
          -0.2146506641027297,
          -0.2146506641027297,
          -0.21641667454676,
          -0.2146506641027297,
          -0.2146506641027297,
          -0.2146506641027297,
          -0.2146506641027297,
          -0.2146506641027297,
          -0.2146506641027297,
          -0.2146506641027297,
          -0.22022824661566873,
          -0.24811615918036373,
          -0.22022824661566873,
          -0.2146506641027297,
          0.6281236489387271,
          0.6281236489387273,
          0.6281236489387267,
          0.6005878368234688,
          -0.2146506641027297,
          -0.2146506641027297,
          -0.2146506641027297,
          0.6510480965517867,
          0.6400337717056823,
          -0.2146506641027297,
          -0.2146506641027297,
          -0.2146506641027297,
          -0.2146506641027297,
          -0.2146506641027297,
          -0.2146506641027297,
          -0.2146506641027297,
          -0.2146506641027297,
          -0.2146506641027297,
          -0.2146506641027297,
          -0.2146506641027297,
          -0.2146506641027297,
          -0.2146506641027297,
          -0.2146506641027297,
          -0.2146506641027297,
          -0.2146506641027297,
          -0.2146506641027297,
          -0.2146506641027297,
          -0.2146506641027297,
          -0.2146506641027297,
          -0.2146506641027297,
          -0.21641667454675997,
          -0.21641667454675997,
          -0.21465066410272968,
          -0.21641667454675997,
          -0.21641667454675997,
          -0.1309343046077425,
          -0.21641667454676,
          -0.2146506641027297,
          0.6655466127900925,
          -0.2146506641027297,
          -0.2146506641027297,
          -0.2146506641027297,
          -0.2146506641027297,
          -0.2146506641027297,
          -0.2146506641027297,
          -0.2146506641027297,
          -0.2146506641027297,
          0.6168220921282782,
          -0.2146506641027297,
          0.6168220921282789,
          -0.3559874069637968,
          -0.02041041089169464,
          -0.2146506641027297,
          -0.2146506641027297,
          -0.2146506641027297,
          -0.2146506641027297,
          -0.2146506641027297,
          -0.2146506641027297,
          -0.2318486418418667,
          -0.2146506641027297,
          -0.2146506641027297,
          -0.2146506641027297,
          -0.2146506641027297,
          -0.2258058291286077,
          -0.2146506641027297,
          -0.2146506641027297,
          -0.2146506641027297,
          -0.2146506641027297,
          -0.21697681510433,
          -0.21697681510433,
          0.6783966584438774,
          0.8782024048257802,
          -0.21744204530465008,
          0.6545322879439882,
          24.70956576387127,
          -0.21930296610593025,
          -0.22395008821822915,
          -0.34898823439538923,
          -0.34898823439538923,
          -0.21697681510433,
          0.6783966584438769,
          0.6783966584438774,
          0.6783966584438775,
          0.6783966584438772,
          0.6783966584438784,
          0.6783966584438763,
          0.6783966584438782,
          0.6783966584438753,
          0.6168220921282784,
          -0.2146506641027297,
          -0.2146506641027297,
          -0.2146506641027297,
          -0.24253857666742468,
          -0.21818268499078802,
          -0.21465066410273034,
          -0.21465066410272976,
          -0.2146506641027297,
          -0.2146506641027285,
          -0.21465066410272932,
          -0.2146506641027297,
          -0.21465066410272873,
          -0.21465066410272787,
          0.671971635616981,
          -0.21465066410272882,
          0.4700423467717535,
          0.48860519578375544,
          0.5930356408865738,
          0.6637108919824053,
          -0.2146506641027297,
          -0.21465066410272976,
          -0.21465066410272976,
          -0.21465066410272968,
          -0.2146506641027297,
          -0.2146506641027297,
          -0.21818268499079033,
          -0.21641667454676,
          -0.21641667454676,
          0.44027052679268147,
          0.5576851220337621,
          0.5576851220337616,
          0.5576851220337606,
          -0.2146506641027297,
          0.48792773134177403,
          0.4879277313417742,
          0.4879277313417758,
          -0.21641667454676,
          -0.21465066410272957,
          -0.21465066410272976,
          -0.2146506641027297,
          0.5700891307905285,
          -0.2146506641027297,
          0.3810405460779481,
          -4.459993507674954,
          -0.2146506641027284,
          -0.21465066410273012,
          0.5986364022433036,
          0.5610041256857823,
          0.5986364022433079,
          0.6742039193539792,
          0.7107310852844997,
          -0.21641667454675997,
          0.7107310852845005,
          -0.21994869543481946,
          -0.22171470587885028,
          -0.22171470587884998,
          -0.21641667454675964,
          -0.2146506641027298,
          -0.2199486954348207,
          -0.21641667454675662,
          0.7107310852845041,
          -0.2164166745467608,
          -0.2164166745467597,
          -0.23828249396180198,
          -0.21465066410272926,
          0.64810726511709,
          0.5884463388673643,
          0.5884463388673667,
          0.6637108919824043,
          -0.21465066410272862,
          0.6380108006748283,
          0.30685044373321774,
          -0.21641667454675992,
          -0.21641667454675947,
          -0.21641667454675903,
          -0.21641667454675817,
          -0.2164166745467593,
          -0.21641667454675947,
          -0.2308388107566812,
          -0.23083881075668067,
          -0.23083881075668053,
          0.6481072651170916,
          -0.21465066410272968,
          -0.2146506641027297,
          -0.2146506641027297,
          -0.22022824661566873,
          -0.2146506641027297,
          -0.2146506641027297,
          -0.2146506641027297,
          -0.2146506641027297,
          -0.2146506641027297,
          -0.2146506641027297,
          -0.2146506641027297,
          -0.2146506641027297,
          -0.2146506641027297,
          -0.2146506641027297,
          -0.2146506641027297,
          -0.2146506641027297,
          -0.2146506641027297,
          -0.2146506641027297,
          -0.2146506641027297,
          -0.2146506641027297,
          -0.2146506641027297,
          -0.2146506641027297,
          -0.2146506641027297,
          -0.2146506641027297,
          -0.2146506641027297,
          -0.2146506641027297,
          -0.2146506641027297,
          -0.2146506641027297,
          -0.2146506641027297,
          -0.2146506641027297,
          -0.2146506641027297,
          -0.2146506641027297,
          -0.2146506641027297,
          -0.2146506641027297,
          -0.2146506641027297,
          -0.2146506641027297,
          -0.2146506641027297,
          -0.2146506641027297,
          -0.2146506641027297,
          -0.2146506641027297,
          -0.2146506641027297,
          0.6391379737848282,
          -0.2146506641027297,
          -0.2258058291286077,
          -0.2146506641027297,
          -0.2146506641027297,
          -0.2146506641027297,
          -0.2146506641027297,
          -0.2146506641027297,
          -0.21641667454676,
          -0.21818268499079033,
          -0.2146506641027297,
          -0.21818268499079033,
          -0.21641667454676,
          -0.21641667454676,
          -0.2146506641027297,
          -0.2146506641027297,
          -0.2146506641027297,
          -0.2146506641027297,
          -0.2146506641027297,
          -0.21818268499079033,
          -0.2146506641027297,
          -0.2146506641027297,
          -0.2146506641027297,
          -0.2146506641027297,
          -0.22022824661566873,
          -0.2146506641027297,
          -0.2146506641027297,
          -0.2146506641027297,
          -0.2146506641027297,
          -0.2146506641027297,
          -0.2146506641027297,
          0.5875897954212564,
          0.6637108919824046,
          0.6637108919824048,
          0.6637108919824046,
          -0.2146506641027297,
          -0.2146506641027297,
          -0.2146506641027297,
          -0.3262023143615097,
          -0.2146506641027297,
          -0.2146506641027297,
          -0.21641667454675997
         ],
         "yaxis": "y"
        }
       ],
       "layout": {
        "height": 600,
        "legend": {
         "title": {
          "text": "Cluster"
         },
         "tracegroupgap": 0
        },
        "margin": {
         "t": 60
        },
        "plot_bgcolor": "rgb(240,240,240)",
        "template": {
         "data": {
          "bar": [
           {
            "error_x": {
             "color": "#2a3f5f"
            },
            "error_y": {
             "color": "#2a3f5f"
            },
            "marker": {
             "line": {
              "color": "#E5ECF6",
              "width": 0.5
             },
             "pattern": {
              "fillmode": "overlay",
              "size": 10,
              "solidity": 0.2
             }
            },
            "type": "bar"
           }
          ],
          "barpolar": [
           {
            "marker": {
             "line": {
              "color": "#E5ECF6",
              "width": 0.5
             },
             "pattern": {
              "fillmode": "overlay",
              "size": 10,
              "solidity": 0.2
             }
            },
            "type": "barpolar"
           }
          ],
          "carpet": [
           {
            "aaxis": {
             "endlinecolor": "#2a3f5f",
             "gridcolor": "white",
             "linecolor": "white",
             "minorgridcolor": "white",
             "startlinecolor": "#2a3f5f"
            },
            "baxis": {
             "endlinecolor": "#2a3f5f",
             "gridcolor": "white",
             "linecolor": "white",
             "minorgridcolor": "white",
             "startlinecolor": "#2a3f5f"
            },
            "type": "carpet"
           }
          ],
          "choropleth": [
           {
            "colorbar": {
             "outlinewidth": 0,
             "ticks": ""
            },
            "type": "choropleth"
           }
          ],
          "contour": [
           {
            "colorbar": {
             "outlinewidth": 0,
             "ticks": ""
            },
            "colorscale": [
             [
              0,
              "#0d0887"
             ],
             [
              0.1111111111111111,
              "#46039f"
             ],
             [
              0.2222222222222222,
              "#7201a8"
             ],
             [
              0.3333333333333333,
              "#9c179e"
             ],
             [
              0.4444444444444444,
              "#bd3786"
             ],
             [
              0.5555555555555556,
              "#d8576b"
             ],
             [
              0.6666666666666666,
              "#ed7953"
             ],
             [
              0.7777777777777778,
              "#fb9f3a"
             ],
             [
              0.8888888888888888,
              "#fdca26"
             ],
             [
              1,
              "#f0f921"
             ]
            ],
            "type": "contour"
           }
          ],
          "contourcarpet": [
           {
            "colorbar": {
             "outlinewidth": 0,
             "ticks": ""
            },
            "type": "contourcarpet"
           }
          ],
          "heatmap": [
           {
            "colorbar": {
             "outlinewidth": 0,
             "ticks": ""
            },
            "colorscale": [
             [
              0,
              "#0d0887"
             ],
             [
              0.1111111111111111,
              "#46039f"
             ],
             [
              0.2222222222222222,
              "#7201a8"
             ],
             [
              0.3333333333333333,
              "#9c179e"
             ],
             [
              0.4444444444444444,
              "#bd3786"
             ],
             [
              0.5555555555555556,
              "#d8576b"
             ],
             [
              0.6666666666666666,
              "#ed7953"
             ],
             [
              0.7777777777777778,
              "#fb9f3a"
             ],
             [
              0.8888888888888888,
              "#fdca26"
             ],
             [
              1,
              "#f0f921"
             ]
            ],
            "type": "heatmap"
           }
          ],
          "heatmapgl": [
           {
            "colorbar": {
             "outlinewidth": 0,
             "ticks": ""
            },
            "colorscale": [
             [
              0,
              "#0d0887"
             ],
             [
              0.1111111111111111,
              "#46039f"
             ],
             [
              0.2222222222222222,
              "#7201a8"
             ],
             [
              0.3333333333333333,
              "#9c179e"
             ],
             [
              0.4444444444444444,
              "#bd3786"
             ],
             [
              0.5555555555555556,
              "#d8576b"
             ],
             [
              0.6666666666666666,
              "#ed7953"
             ],
             [
              0.7777777777777778,
              "#fb9f3a"
             ],
             [
              0.8888888888888888,
              "#fdca26"
             ],
             [
              1,
              "#f0f921"
             ]
            ],
            "type": "heatmapgl"
           }
          ],
          "histogram": [
           {
            "marker": {
             "pattern": {
              "fillmode": "overlay",
              "size": 10,
              "solidity": 0.2
             }
            },
            "type": "histogram"
           }
          ],
          "histogram2d": [
           {
            "colorbar": {
             "outlinewidth": 0,
             "ticks": ""
            },
            "colorscale": [
             [
              0,
              "#0d0887"
             ],
             [
              0.1111111111111111,
              "#46039f"
             ],
             [
              0.2222222222222222,
              "#7201a8"
             ],
             [
              0.3333333333333333,
              "#9c179e"
             ],
             [
              0.4444444444444444,
              "#bd3786"
             ],
             [
              0.5555555555555556,
              "#d8576b"
             ],
             [
              0.6666666666666666,
              "#ed7953"
             ],
             [
              0.7777777777777778,
              "#fb9f3a"
             ],
             [
              0.8888888888888888,
              "#fdca26"
             ],
             [
              1,
              "#f0f921"
             ]
            ],
            "type": "histogram2d"
           }
          ],
          "histogram2dcontour": [
           {
            "colorbar": {
             "outlinewidth": 0,
             "ticks": ""
            },
            "colorscale": [
             [
              0,
              "#0d0887"
             ],
             [
              0.1111111111111111,
              "#46039f"
             ],
             [
              0.2222222222222222,
              "#7201a8"
             ],
             [
              0.3333333333333333,
              "#9c179e"
             ],
             [
              0.4444444444444444,
              "#bd3786"
             ],
             [
              0.5555555555555556,
              "#d8576b"
             ],
             [
              0.6666666666666666,
              "#ed7953"
             ],
             [
              0.7777777777777778,
              "#fb9f3a"
             ],
             [
              0.8888888888888888,
              "#fdca26"
             ],
             [
              1,
              "#f0f921"
             ]
            ],
            "type": "histogram2dcontour"
           }
          ],
          "mesh3d": [
           {
            "colorbar": {
             "outlinewidth": 0,
             "ticks": ""
            },
            "type": "mesh3d"
           }
          ],
          "parcoords": [
           {
            "line": {
             "colorbar": {
              "outlinewidth": 0,
              "ticks": ""
             }
            },
            "type": "parcoords"
           }
          ],
          "pie": [
           {
            "automargin": true,
            "type": "pie"
           }
          ],
          "scatter": [
           {
            "fillpattern": {
             "fillmode": "overlay",
             "size": 10,
             "solidity": 0.2
            },
            "type": "scatter"
           }
          ],
          "scatter3d": [
           {
            "line": {
             "colorbar": {
              "outlinewidth": 0,
              "ticks": ""
             }
            },
            "marker": {
             "colorbar": {
              "outlinewidth": 0,
              "ticks": ""
             }
            },
            "type": "scatter3d"
           }
          ],
          "scattercarpet": [
           {
            "marker": {
             "colorbar": {
              "outlinewidth": 0,
              "ticks": ""
             }
            },
            "type": "scattercarpet"
           }
          ],
          "scattergeo": [
           {
            "marker": {
             "colorbar": {
              "outlinewidth": 0,
              "ticks": ""
             }
            },
            "type": "scattergeo"
           }
          ],
          "scattergl": [
           {
            "marker": {
             "colorbar": {
              "outlinewidth": 0,
              "ticks": ""
             }
            },
            "type": "scattergl"
           }
          ],
          "scattermapbox": [
           {
            "marker": {
             "colorbar": {
              "outlinewidth": 0,
              "ticks": ""
             }
            },
            "type": "scattermapbox"
           }
          ],
          "scatterpolar": [
           {
            "marker": {
             "colorbar": {
              "outlinewidth": 0,
              "ticks": ""
             }
            },
            "type": "scatterpolar"
           }
          ],
          "scatterpolargl": [
           {
            "marker": {
             "colorbar": {
              "outlinewidth": 0,
              "ticks": ""
             }
            },
            "type": "scatterpolargl"
           }
          ],
          "scatterternary": [
           {
            "marker": {
             "colorbar": {
              "outlinewidth": 0,
              "ticks": ""
             }
            },
            "type": "scatterternary"
           }
          ],
          "surface": [
           {
            "colorbar": {
             "outlinewidth": 0,
             "ticks": ""
            },
            "colorscale": [
             [
              0,
              "#0d0887"
             ],
             [
              0.1111111111111111,
              "#46039f"
             ],
             [
              0.2222222222222222,
              "#7201a8"
             ],
             [
              0.3333333333333333,
              "#9c179e"
             ],
             [
              0.4444444444444444,
              "#bd3786"
             ],
             [
              0.5555555555555556,
              "#d8576b"
             ],
             [
              0.6666666666666666,
              "#ed7953"
             ],
             [
              0.7777777777777778,
              "#fb9f3a"
             ],
             [
              0.8888888888888888,
              "#fdca26"
             ],
             [
              1,
              "#f0f921"
             ]
            ],
            "type": "surface"
           }
          ],
          "table": [
           {
            "cells": {
             "fill": {
              "color": "#EBF0F8"
             },
             "line": {
              "color": "white"
             }
            },
            "header": {
             "fill": {
              "color": "#C8D4E3"
             },
             "line": {
              "color": "white"
             }
            },
            "type": "table"
           }
          ]
         },
         "layout": {
          "annotationdefaults": {
           "arrowcolor": "#2a3f5f",
           "arrowhead": 0,
           "arrowwidth": 1
          },
          "autotypenumbers": "strict",
          "coloraxis": {
           "colorbar": {
            "outlinewidth": 0,
            "ticks": ""
           }
          },
          "colorscale": {
           "diverging": [
            [
             0,
             "#8e0152"
            ],
            [
             0.1,
             "#c51b7d"
            ],
            [
             0.2,
             "#de77ae"
            ],
            [
             0.3,
             "#f1b6da"
            ],
            [
             0.4,
             "#fde0ef"
            ],
            [
             0.5,
             "#f7f7f7"
            ],
            [
             0.6,
             "#e6f5d0"
            ],
            [
             0.7,
             "#b8e186"
            ],
            [
             0.8,
             "#7fbc41"
            ],
            [
             0.9,
             "#4d9221"
            ],
            [
             1,
             "#276419"
            ]
           ],
           "sequential": [
            [
             0,
             "#0d0887"
            ],
            [
             0.1111111111111111,
             "#46039f"
            ],
            [
             0.2222222222222222,
             "#7201a8"
            ],
            [
             0.3333333333333333,
             "#9c179e"
            ],
            [
             0.4444444444444444,
             "#bd3786"
            ],
            [
             0.5555555555555556,
             "#d8576b"
            ],
            [
             0.6666666666666666,
             "#ed7953"
            ],
            [
             0.7777777777777778,
             "#fb9f3a"
            ],
            [
             0.8888888888888888,
             "#fdca26"
            ],
            [
             1,
             "#f0f921"
            ]
           ],
           "sequentialminus": [
            [
             0,
             "#0d0887"
            ],
            [
             0.1111111111111111,
             "#46039f"
            ],
            [
             0.2222222222222222,
             "#7201a8"
            ],
            [
             0.3333333333333333,
             "#9c179e"
            ],
            [
             0.4444444444444444,
             "#bd3786"
            ],
            [
             0.5555555555555556,
             "#d8576b"
            ],
            [
             0.6666666666666666,
             "#ed7953"
            ],
            [
             0.7777777777777778,
             "#fb9f3a"
            ],
            [
             0.8888888888888888,
             "#fdca26"
            ],
            [
             1,
             "#f0f921"
            ]
           ]
          },
          "colorway": [
           "#636efa",
           "#EF553B",
           "#00cc96",
           "#ab63fa",
           "#FFA15A",
           "#19d3f3",
           "#FF6692",
           "#B6E880",
           "#FF97FF",
           "#FECB52"
          ],
          "font": {
           "color": "#2a3f5f"
          },
          "geo": {
           "bgcolor": "white",
           "lakecolor": "white",
           "landcolor": "#E5ECF6",
           "showlakes": true,
           "showland": true,
           "subunitcolor": "white"
          },
          "hoverlabel": {
           "align": "left"
          },
          "hovermode": "closest",
          "mapbox": {
           "style": "light"
          },
          "paper_bgcolor": "white",
          "plot_bgcolor": "#E5ECF6",
          "polar": {
           "angularaxis": {
            "gridcolor": "white",
            "linecolor": "white",
            "ticks": ""
           },
           "bgcolor": "#E5ECF6",
           "radialaxis": {
            "gridcolor": "white",
            "linecolor": "white",
            "ticks": ""
           }
          },
          "scene": {
           "xaxis": {
            "backgroundcolor": "#E5ECF6",
            "gridcolor": "white",
            "gridwidth": 2,
            "linecolor": "white",
            "showbackground": true,
            "ticks": "",
            "zerolinecolor": "white"
           },
           "yaxis": {
            "backgroundcolor": "#E5ECF6",
            "gridcolor": "white",
            "gridwidth": 2,
            "linecolor": "white",
            "showbackground": true,
            "ticks": "",
            "zerolinecolor": "white"
           },
           "zaxis": {
            "backgroundcolor": "#E5ECF6",
            "gridcolor": "white",
            "gridwidth": 2,
            "linecolor": "white",
            "showbackground": true,
            "ticks": "",
            "zerolinecolor": "white"
           }
          },
          "shapedefaults": {
           "line": {
            "color": "#2a3f5f"
           }
          },
          "ternary": {
           "aaxis": {
            "gridcolor": "white",
            "linecolor": "white",
            "ticks": ""
           },
           "baxis": {
            "gridcolor": "white",
            "linecolor": "white",
            "ticks": ""
           },
           "bgcolor": "#E5ECF6",
           "caxis": {
            "gridcolor": "white",
            "linecolor": "white",
            "ticks": ""
           }
          },
          "title": {
           "x": 0.05
          },
          "xaxis": {
           "automargin": true,
           "gridcolor": "white",
           "linecolor": "white",
           "ticks": "",
           "title": {
            "standoff": 15
           },
           "zerolinecolor": "white",
           "zerolinewidth": 2
          },
          "yaxis": {
           "automargin": true,
           "gridcolor": "white",
           "linecolor": "white",
           "ticks": "",
           "title": {
            "standoff": 15
           },
           "zerolinecolor": "white",
           "zerolinewidth": 2
          }
         }
        },
        "title": {
         "text": "2D Cluster PCA Plot"
        },
        "xaxis": {
         "anchor": "y",
         "domain": [
          0,
          1
         ],
         "title": {
          "text": "PCA1"
         }
        },
        "yaxis": {
         "anchor": "x",
         "domain": [
          0,
          1
         ],
         "title": {
          "text": "PCA2"
         }
        }
       }
      }
     },
     "metadata": {},
     "output_type": "display_data"
    }
   ],
   "source": [
    "plot_model(kmeans)"
   ]
  },
  {
   "cell_type": "code",
   "execution_count": 18,
   "id": "5ce00efa",
   "metadata": {},
   "outputs": [
    {
     "data": {
      "text/html": [],
      "text/plain": [
       "<IPython.core.display.HTML object>"
      ]
     },
     "metadata": {},
     "output_type": "display_data"
    },
    {
     "data": {
      "application/vnd.plotly.v1+json": {
       "config": {
        "plotlyServerURL": "https://plot.ly"
       },
       "data": [
        {
         "customdata": [
          [
           "POST"
          ]
         ],
         "hovertemplate": "Cluster=Cluster 0<br>0=%{x}<br>1=%{y}<br>2=%{z}<br>Feature=%{customdata[0]}<extra></extra>",
         "legendgroup": "Cluster 0",
         "marker": {
          "color": "#636efa",
          "opacity": 0.7,
          "symbol": "circle"
         },
         "mode": "markers",
         "name": "Cluster 0",
         "scene": "scene",
         "showlegend": true,
         "type": "scatter3d",
         "x": [
          -16.705957
         ],
         "y": [
          6.349883
         ],
         "z": [
          52.645355
         ]
        },
        {
         "customdata": [
          [
           "GET"
          ],
          [
           "GET"
          ],
          [
           "GET"
          ],
          [
           "GET"
          ],
          [
           "GET"
          ],
          [
           "GET"
          ],
          [
           "GET"
          ],
          [
           "GET"
          ],
          [
           "POST"
          ],
          [
           "POST"
          ],
          [
           "GET"
          ],
          [
           "GET"
          ],
          [
           "GET"
          ],
          [
           "GET"
          ],
          [
           "GET"
          ],
          [
           "GET"
          ],
          [
           "POST"
          ],
          [
           "GET"
          ],
          [
           "GET"
          ],
          [
           "OPTIONS"
          ],
          [
           "POST"
          ],
          [
           "POST"
          ],
          [
           "POST"
          ],
          [
           "POST"
          ],
          [
           "GET"
          ],
          [
           "GET"
          ],
          [
           "GET"
          ],
          [
           "GET"
          ],
          [
           "GET"
          ],
          [
           "GET"
          ],
          [
           "GET"
          ],
          [
           "GET"
          ],
          [
           "GET"
          ],
          [
           "GET"
          ],
          [
           "GET"
          ],
          [
           "GET"
          ],
          [
           "GET"
          ],
          [
           "GET"
          ],
          [
           "OPTIONS"
          ],
          [
           "GET"
          ],
          [
           "GET"
          ],
          [
           "GET"
          ],
          [
           "GET"
          ],
          [
           "GET"
          ],
          [
           "GET"
          ],
          [
           "GET"
          ],
          [
           "GET"
          ],
          [
           "GET"
          ],
          [
           "GET"
          ],
          [
           "GET"
          ],
          [
           "GET"
          ],
          [
           "GET"
          ],
          [
           "GET"
          ],
          [
           "GET"
          ],
          [
           "GET"
          ],
          [
           "GET"
          ],
          [
           "GET"
          ],
          [
           "GET"
          ],
          [
           "GET"
          ],
          [
           "GET"
          ],
          [
           "GET"
          ],
          [
           "GET"
          ],
          [
           "GET"
          ],
          [
           "GET"
          ],
          [
           "GET"
          ],
          [
           "GET"
          ],
          [
           "GET"
          ],
          [
           "GET"
          ],
          [
           "GET"
          ],
          [
           "GET"
          ],
          [
           "GET"
          ],
          [
           "GET"
          ],
          [
           "GET"
          ],
          [
           "POST"
          ],
          [
           "POST"
          ],
          [
           "POST"
          ],
          [
           "POST"
          ],
          [
           "GET"
          ],
          [
           "GET"
          ],
          [
           "GET"
          ],
          [
           "POST"
          ],
          [
           "POST"
          ],
          [
           "GET"
          ],
          [
           "GET"
          ],
          [
           "GET"
          ],
          [
           "GET"
          ],
          [
           "GET"
          ],
          [
           "GET"
          ],
          [
           "GET"
          ],
          [
           "GET"
          ],
          [
           "GET"
          ],
          [
           "GET"
          ],
          [
           "GET"
          ],
          [
           "GET"
          ],
          [
           "GET"
          ],
          [
           "GET"
          ],
          [
           "GET"
          ],
          [
           "GET"
          ],
          [
           "GET"
          ],
          [
           "GET"
          ],
          [
           "GET"
          ],
          [
           "GET"
          ],
          [
           "GET"
          ],
          [
           "GET"
          ],
          [
           "GET"
          ],
          [
           "GET"
          ],
          [
           "GET"
          ],
          [
           "GET"
          ],
          [
           "GET"
          ],
          [
           "GET"
          ],
          [
           "OPTIONS"
          ],
          [
           "POST"
          ],
          [
           "GET"
          ],
          [
           "GET"
          ],
          [
           "GET"
          ],
          [
           "GET"
          ],
          [
           "GET"
          ],
          [
           "GET"
          ],
          [
           "GET"
          ],
          [
           "GET"
          ],
          [
           "POST"
          ],
          [
           "GET"
          ],
          [
           "POST"
          ],
          [
           "POST"
          ],
          [
           "POST"
          ],
          [
           "GET"
          ],
          [
           "GET"
          ],
          [
           "GET"
          ],
          [
           "GET"
          ],
          [
           "GET"
          ],
          [
           "GET"
          ],
          [
           "GET"
          ],
          [
           "GET"
          ],
          [
           "GET"
          ],
          [
           "POST"
          ],
          [
           "GET"
          ],
          [
           "GET"
          ],
          [
           "GET"
          ],
          [
           "GET"
          ],
          [
           "GET"
          ],
          [
           "GET"
          ],
          [
           "GET"
          ],
          [
           "GET"
          ],
          [
           "POST"
          ],
          [
           "POST"
          ],
          [
           "GET"
          ],
          [
           "POST"
          ],
          [
           "POST"
          ],
          [
           "GET"
          ],
          [
           "POST"
          ],
          [
           "GET"
          ],
          [
           "POST"
          ],
          [
           "POST"
          ],
          [
           "POST"
          ],
          [
           "POST"
          ],
          [
           "POST"
          ],
          [
           "POST"
          ],
          [
           "POST"
          ],
          [
           "POST"
          ],
          [
           "POST"
          ],
          [
           "POST"
          ],
          [
           "POST"
          ],
          [
           "GET"
          ],
          [
           "GET"
          ],
          [
           "GET"
          ],
          [
           "GET"
          ],
          [
           "GET"
          ],
          [
           "GET"
          ],
          [
           "GET"
          ],
          [
           "GET"
          ],
          [
           "GET"
          ],
          [
           "GET"
          ],
          [
           "GET"
          ],
          [
           "GET"
          ],
          [
           "GET"
          ],
          [
           "POST"
          ],
          [
           "OPTIONS"
          ],
          [
           "POST"
          ],
          [
           "POST"
          ],
          [
           "POST"
          ],
          [
           "POST"
          ],
          [
           "POST"
          ],
          [
           "GET"
          ],
          [
           "GET"
          ],
          [
           "GET"
          ],
          [
           "GET"
          ],
          [
           "GET"
          ],
          [
           "GET"
          ],
          [
           "GET"
          ],
          [
           "GET"
          ],
          [
           "POST"
          ],
          [
           "POST"
          ],
          [
           "POST"
          ],
          [
           "POST"
          ],
          [
           "GET"
          ],
          [
           "POST"
          ],
          [
           "POST"
          ],
          [
           "POST"
          ],
          [
           "GET"
          ],
          [
           "GET"
          ],
          [
           "GET"
          ],
          [
           "GET"
          ],
          [
           "POST"
          ],
          [
           "GET"
          ],
          [
           "POST"
          ],
          [
           "POST"
          ],
          [
           "GET"
          ],
          [
           "GET"
          ],
          [
           "POST"
          ],
          [
           "POST"
          ],
          [
           "POST"
          ],
          [
           "POST"
          ],
          [
           "POST"
          ],
          [
           "GET"
          ],
          [
           "POST"
          ],
          [
           "GET"
          ],
          [
           "GET"
          ],
          [
           "GET"
          ],
          [
           "GET"
          ],
          [
           "GET"
          ],
          [
           "GET"
          ],
          [
           "GET"
          ],
          [
           "POST"
          ],
          [
           "GET"
          ],
          [
           "GET"
          ],
          [
           "GET"
          ],
          [
           "OPTIONS"
          ],
          [
           "POST"
          ],
          [
           "POST"
          ],
          [
           "POST"
          ],
          [
           "POST"
          ],
          [
           "HEAD"
          ],
          [
           "POST"
          ],
          [
           "POST"
          ],
          [
           "GET"
          ],
          [
           "GET"
          ],
          [
           "GET"
          ],
          [
           "GET"
          ],
          [
           "GET"
          ],
          [
           "GET"
          ],
          [
           "GET"
          ],
          [
           "GET"
          ],
          [
           "GET"
          ],
          [
           "POST"
          ],
          [
           "GET"
          ],
          [
           "GET"
          ],
          [
           "OPTIONS"
          ],
          [
           "GET"
          ],
          [
           "GET"
          ],
          [
           "GET"
          ],
          [
           "GET"
          ],
          [
           "GET"
          ],
          [
           "GET"
          ],
          [
           "GET"
          ],
          [
           "GET"
          ],
          [
           "GET"
          ],
          [
           "GET"
          ],
          [
           "GET"
          ],
          [
           "GET"
          ],
          [
           "GET"
          ],
          [
           "GET"
          ],
          [
           "GET"
          ],
          [
           "GET"
          ],
          [
           "GET"
          ],
          [
           "GET"
          ],
          [
           "GET"
          ],
          [
           "GET"
          ],
          [
           "GET"
          ],
          [
           "GET"
          ],
          [
           "GET"
          ],
          [
           "GET"
          ],
          [
           "GET"
          ],
          [
           "GET"
          ],
          [
           "GET"
          ],
          [
           "GET"
          ],
          [
           "GET"
          ],
          [
           "GET"
          ],
          [
           "GET"
          ],
          [
           "GET"
          ],
          [
           "GET"
          ],
          [
           "GET"
          ],
          [
           "GET"
          ],
          [
           "GET"
          ],
          [
           "GET"
          ],
          [
           "GET"
          ],
          [
           "POST"
          ],
          [
           "POST"
          ],
          [
           "GET"
          ],
          [
           "POST"
          ],
          [
           "GET"
          ],
          [
           "GET"
          ],
          [
           "GET"
          ],
          [
           "GET"
          ],
          [
           "GET"
          ],
          [
           "GET"
          ],
          [
           "GET"
          ],
          [
           "GET"
          ],
          [
           "GET"
          ],
          [
           "GET"
          ],
          [
           "GET"
          ],
          [
           "GET"
          ],
          [
           "GET"
          ],
          [
           "GET"
          ],
          [
           "GET"
          ],
          [
           "GET"
          ],
          [
           "GET"
          ],
          [
           "GET"
          ],
          [
           "GET"
          ],
          [
           "GET"
          ],
          [
           "GET"
          ],
          [
           "GET"
          ],
          [
           "GET"
          ],
          [
           "GET"
          ],
          [
           "GET"
          ],
          [
           "GET"
          ],
          [
           "GET"
          ],
          [
           "POST"
          ],
          [
           "POST"
          ],
          [
           "POST"
          ],
          [
           "POST"
          ],
          [
           "GET"
          ],
          [
           "GET"
          ],
          [
           "GET"
          ],
          [
           "POST"
          ],
          [
           "GET"
          ],
          [
           "GET"
          ],
          [
           "GET"
          ]
         ],
         "hovertemplate": "Cluster=Cluster 1<br>0=%{x}<br>1=%{y}<br>2=%{z}<br>Feature=%{customdata[0]}<extra></extra>",
         "legendgroup": "Cluster 1",
         "marker": {
          "color": "#EF553B",
          "opacity": 0.7,
          "symbol": "circle"
         },
         "mode": "markers",
         "name": "Cluster 1",
         "scene": "scene",
         "showlegend": true,
         "type": "scatter3d",
         "x": [
          28.867134,
          -45.687378,
          -45.687378,
          -45.687378,
          33.07535,
          33.07535,
          33.07535,
          33.07535,
          -20.978542,
          -3.7108493,
          33.07535,
          -46.24706,
          33.07535,
          33.07535,
          33.07535,
          33.07535,
          -6.40759,
          -45.687378,
          -45.687378,
          33.07535,
          -59.138687,
          -64.89221,
          -64.89221,
          -64.89221,
          33.07535,
          33.07535,
          33.07535,
          33.07535,
          33.07535,
          33.07535,
          33.07535,
          -70.38669,
          33.07535,
          33.07535,
          33.07535,
          -67.21163,
          -56.55082,
          33.07535,
          33.07535,
          33.07535,
          33.07535,
          33.07535,
          33.07535,
          -46.24706,
          -53.0285,
          33.07535,
          33.07535,
          33.07535,
          33.07535,
          33.07535,
          33.07535,
          33.07535,
          33.07535,
          33.07535,
          33.07535,
          33.07535,
          33.07535,
          33.07535,
          33.07535,
          33.07535,
          33.07535,
          -46.24706,
          33.07535,
          33.07535,
          33.07535,
          33.07535,
          33.07535,
          33.07535,
          33.07535,
          -36.059307,
          -31.049706,
          -36.059307,
          33.07535,
          -47.482304,
          -47.482304,
          -47.482304,
          -20.644445,
          33.07535,
          33.07535,
          33.07535,
          -53.514973,
          -36.200577,
          33.07535,
          33.07535,
          33.07535,
          33.07535,
          33.07535,
          33.07535,
          33.07535,
          33.07535,
          33.07535,
          33.07535,
          33.07535,
          33.07535,
          33.07535,
          33.07535,
          33.07535,
          33.07535,
          33.07535,
          33.07535,
          33.07535,
          33.07535,
          33.07535,
          -46.24706,
          -46.24706,
          33.07535,
          -46.24706,
          -46.24706,
          -22.610775,
          -46.24706,
          33.07535,
          -16.567198,
          33.07535,
          33.07535,
          33.07535,
          33.07535,
          33.07535,
          33.07535,
          33.07535,
          33.07535,
          -32.753193,
          33.07535,
          -32.753193,
          -54.309746,
          -36.161133,
          33.07535,
          33.07535,
          33.07535,
          33.07535,
          33.07535,
          33.07535,
          -38.017796,
          33.07535,
          33.07535,
          33.07535,
          33.07535,
          -40.118614,
          33.07535,
          33.07535,
          33.07535,
          33.07535,
          -6.40759,
          -6.40759,
          -4.2051888,
          2.1417298,
          -18.238674,
          -20.978542,
          -10.096769,
          -20.057573,
          -29.055132,
          -46.96588,
          -46.96588,
          -6.40759,
          -4.2051888,
          -4.2051888,
          -4.2051888,
          -4.2051888,
          -4.2051888,
          -4.2051888,
          -4.2051888,
          -4.2051888,
          -32.753193,
          33.07535,
          33.07535,
          33.07535,
          -37.99555,
          -63.544662,
          -5.198069,
          -5.198069,
          -5.198069,
          23.75836,
          4.2876244,
          -4.8141603,
          -5.198069,
          -5.198069,
          10.910982,
          4.6304517,
          24.948687,
          -85.82327,
          24.948687,
          0.4401607,
          -5.198069,
          1.9376266,
          -5.198069,
          21.307116,
          -5.198069,
          -5.198069,
          -65.24631,
          -46.24706,
          -46.24706,
          -78.687546,
          -66.18574,
          -46.971584,
          -46.971584,
          -3.7299356,
          -52.05976,
          -52.05976,
          -52.05976,
          -46.24706,
          -5.198069,
          -5.198069,
          -5.198069,
          24.948687,
          10.452076,
          -16.169708,
          -64.160065,
          9.790465,
          9.790465,
          -16.705957,
          -30.135105,
          -16.705957,
          -51.549686,
          -24.716078,
          -46.24706,
          -24.716078,
          -80.329544,
          -82.754776,
          -82.754776,
          -46.24706,
          10.062019,
          -80.329544,
          -46.24706,
          -24.716078,
          -46.24706,
          -46.24706,
          -37.176052,
          4.2876244,
          -20.978542,
          24.948687,
          24.948687,
          0.4401607,
          1.1307861,
          24.948687,
          -24.443436,
          -46.24706,
          -46.24706,
          -46.24706,
          -46.24706,
          -46.24706,
          -46.24706,
          -31.784924,
          -31.784924,
          -31.784924,
          -20.978542,
          33.07535,
          -17.668827,
          -5.198069,
          -36.059307,
          27.565092,
          -1.455273,
          18.52283,
          25.0242,
          62.783707,
          42.01196,
          -1.455273,
          70.15103,
          45.059772,
          25.249676,
          61.82453,
          11.890788,
          29.975674,
          31.305614,
          46.042957,
          6.758472,
          -1.455273,
          -1.455273,
          -1.455273,
          23.75836,
          23.99347,
          26.400953,
          26.400953,
          26.400953,
          42.349644,
          -16.382729,
          22.988499,
          60.154434,
          57.08772,
          3.566569,
          7.628528,
          7.7501545,
          13.778143,
          42.299995,
          28.63591,
          -1.455273,
          40.483532,
          -37.015007,
          -7.7759333,
          -36.917736,
          50.103046,
          52.17289,
          46.983643,
          52.485283,
          41.903587,
          -46.24706,
          -75.680855,
          -13.078426,
          -64.430504,
          -46.24706,
          -46.24706,
          -1.455273,
          21.950748,
          -5.198069,
          -5.198069,
          59.32948,
          -64.863106,
          48.14761,
          -10.440936,
          33.537632,
          9.92924,
          -36.059307,
          7.8154736,
          45.851048,
          8.655859,
          38.059986,
          13.955853,
          -7.6408515,
          -12.737192,
          0.4401607,
          0.4401607,
          0.4401607,
          24.845499,
          7.9624,
          -9.314817,
          -56.55082,
          16.124979,
          -7.463113,
          -46.24706
         ],
         "y": [
          45.379627,
          44.791473,
          44.791473,
          44.791473,
          5.911842,
          5.911842,
          5.911842,
          5.911842,
          -47.97878,
          -15.546158,
          5.911842,
          -4.382583,
          5.911842,
          5.911842,
          5.911842,
          5.911842,
          -55.17596,
          44.791473,
          44.791473,
          5.911842,
          14.323665,
          29.30412,
          29.30412,
          29.30412,
          5.911842,
          5.911842,
          5.911842,
          5.911842,
          5.911842,
          5.911842,
          5.911842,
          14.785436,
          5.911842,
          5.911842,
          5.911842,
          4.471701,
          38.98102,
          5.911842,
          5.911842,
          5.911842,
          5.911842,
          5.911842,
          5.911842,
          -4.382583,
          -33.749344,
          5.911842,
          5.911842,
          5.911842,
          5.911842,
          5.911842,
          5.911842,
          5.911842,
          5.911842,
          5.911842,
          5.911842,
          5.911842,
          5.911842,
          5.911842,
          5.911842,
          5.911842,
          5.911842,
          -4.382583,
          5.911842,
          5.911842,
          5.911842,
          5.911842,
          5.911842,
          5.911842,
          5.911842,
          -16.240559,
          40.834587,
          -16.240559,
          5.911842,
          -59.29649,
          -59.29649,
          -59.29649,
          -7.0990396,
          5.911842,
          5.911842,
          5.911842,
          6.0485897,
          22.896833,
          5.911842,
          5.911842,
          5.911842,
          5.911842,
          5.911842,
          5.911842,
          5.911842,
          5.911842,
          5.911842,
          5.911842,
          5.911842,
          5.911842,
          5.911842,
          5.911842,
          5.911842,
          5.911842,
          5.911842,
          5.911842,
          5.911842,
          5.911842,
          5.911842,
          -4.382583,
          -4.382583,
          5.911842,
          -4.382583,
          -4.382583,
          -5.913486,
          -4.382583,
          5.911842,
          10.336504,
          5.911842,
          5.911842,
          5.911842,
          5.911842,
          5.911842,
          5.911842,
          5.911842,
          5.911842,
          51.659332,
          5.911842,
          51.659332,
          26.567736,
          48.50044,
          5.911842,
          5.911842,
          5.911842,
          5.911842,
          5.911842,
          5.911842,
          11.855772,
          5.911842,
          5.911842,
          5.911842,
          5.911842,
          -2.6074855,
          5.911842,
          5.911842,
          5.911842,
          5.911842,
          -55.17596,
          -55.17596,
          -68.14579,
          4.19028,
          -58.64477,
          -47.97878,
          42.0576,
          -41.05302,
          -30.559391,
          28.196993,
          28.196993,
          -55.17596,
          -68.14579,
          -68.14579,
          -68.14579,
          -68.14579,
          -68.14579,
          -68.14579,
          -68.14579,
          -68.14579,
          51.659332,
          5.911842,
          5.911842,
          5.911842,
          28.898993,
          -29.70557,
          13.511743,
          13.511743,
          13.511743,
          -6.0085373,
          -20.98803,
          24.253197,
          13.511743,
          13.511743,
          65.349464,
          -31.413021,
          -51.72345,
          1.6310654,
          -51.72345,
          65.40765,
          13.511743,
          37.89883,
          13.511743,
          32.54393,
          13.511743,
          13.511743,
          -22.915102,
          -4.382583,
          -4.382583,
          -26.933533,
          -34.631916,
          -45.09486,
          -45.09486,
          -3.1077025,
          -25.683174,
          -25.683174,
          -25.683174,
          -4.382583,
          13.511743,
          13.511743,
          13.511743,
          -51.72345,
          24.929213,
          -47.836723,
          12.467479,
          -26.530285,
          -26.530285,
          6.349883,
          26.56874,
          6.349883,
          -19.130054,
          -20.371449,
          -4.382583,
          -20.371449,
          -19.038563,
          -7.1571765,
          -7.1571765,
          -4.382583,
          34.31682,
          -19.038563,
          -4.382583,
          -20.371449,
          -4.382583,
          -4.382583,
          -10.396317,
          -20.98803,
          -47.97878,
          -51.72345,
          -51.72345,
          65.40765,
          -16.981522,
          -51.72345,
          58.780746,
          -4.382583,
          -4.382583,
          -4.382583,
          -4.382583,
          -4.382583,
          -4.382583,
          -23.00541,
          -23.00541,
          -23.00541,
          -47.97878,
          5.911842,
          -11.739681,
          13.511743,
          -16.240559,
          32.112415,
          -2.786123,
          48.009773,
          -23.738272,
          28.700836,
          5.68709,
          -2.786123,
          2.370906,
          -22.445904,
          15.842308,
          12.699193,
          37.794285,
          30.049383,
          12.311571,
          43.69226,
          -19.273788,
          -2.786123,
          -2.786123,
          -2.786123,
          -6.0085373,
          -6.1010537,
          45.473648,
          45.473648,
          45.473648,
          -24.701485,
          19.092426,
          -24.404371,
          -21.749035,
          -9.125719,
          21.94499,
          2.0925572,
          53.016293,
          27.445095,
          -33.759377,
          6.003247,
          -2.786123,
          22.998323,
          0.20525172,
          41.152294,
          4.4957595,
          42.454144,
          17.64467,
          26.500065,
          2.1905715,
          -15.272558,
          -4.382583,
          -34.28538,
          6.444064,
          -44.133205,
          -4.382583,
          -4.382583,
          -2.786123,
          -31.947287,
          13.511743,
          13.511743,
          -21.683836,
          -38.35587,
          36.414356,
          -12.944476,
          -35.70441,
          15.054264,
          -16.240559,
          -9.8182535,
          -3.7882035,
          37.26036,
          43.72374,
          14.034432,
          18.524658,
          -25.703655,
          65.40765,
          65.40765,
          65.40765,
          -26.261248,
          5.4682403,
          36.59043,
          38.98102,
          -10.533289,
          38.302036,
          -4.382583
         ],
         "z": [
          -26.646261,
          -10.659165,
          -10.659165,
          -10.659165,
          -9.74713,
          -9.74713,
          -9.74713,
          -9.74713,
          -26.859816,
          59.157387,
          -9.74713,
          27.64652,
          -9.74713,
          -9.74713,
          -9.74713,
          -9.74713,
          -16.467169,
          -10.659165,
          -10.659165,
          -9.74713,
          46.812473,
          14.197039,
          14.197039,
          14.197039,
          -9.74713,
          -9.74713,
          -9.74713,
          -9.74713,
          -9.74713,
          -9.74713,
          -9.74713,
          -23.097208,
          -9.74713,
          -9.74713,
          -9.74713,
          -18.880247,
          -36.806217,
          -9.74713,
          -9.74713,
          -9.74713,
          -9.74713,
          -9.74713,
          -9.74713,
          27.64652,
          12.319373,
          -9.74713,
          -9.74713,
          -9.74713,
          -9.74713,
          -9.74713,
          -9.74713,
          -9.74713,
          -9.74713,
          -9.74713,
          -9.74713,
          -9.74713,
          -9.74713,
          -9.74713,
          -9.74713,
          -9.74713,
          -9.74713,
          27.64652,
          -9.74713,
          -9.74713,
          -9.74713,
          -9.74713,
          -9.74713,
          -9.74713,
          -9.74713,
          -39.7883,
          -16.843124,
          -39.7883,
          -9.74713,
          1.4115517,
          1.4115517,
          1.4115517,
          73.32793,
          -9.74713,
          -9.74713,
          -9.74713,
          1.6479647,
          28.42318,
          -9.74713,
          -9.74713,
          -9.74713,
          -9.74713,
          -9.74713,
          -9.74713,
          -9.74713,
          -9.74713,
          -9.74713,
          -9.74713,
          -9.74713,
          -9.74713,
          -9.74713,
          -9.74713,
          -9.74713,
          -9.74713,
          -9.74713,
          -9.74713,
          -9.74713,
          -9.74713,
          -9.74713,
          27.64652,
          27.64652,
          -9.74713,
          27.64652,
          27.64652,
          56.90437,
          27.64652,
          -9.74713,
          -69.702156,
          -9.74713,
          -9.74713,
          -9.74713,
          -9.74713,
          -9.74713,
          -9.74713,
          -9.74713,
          -9.74713,
          20.554789,
          -9.74713,
          20.554789,
          -27.428734,
          7.9277415,
          -9.74713,
          -9.74713,
          -9.74713,
          -9.74713,
          -9.74713,
          -9.74713,
          -20.198566,
          -9.74713,
          -9.74713,
          -9.74713,
          -9.74713,
          -23.289549,
          -9.74713,
          -9.74713,
          -9.74713,
          -9.74713,
          -16.467169,
          -16.467169,
          -5.9362006,
          69.134605,
          -8.531357,
          -26.859816,
          -57.98077,
          -9.65448,
          -33.573784,
          -41.097107,
          -41.097107,
          -16.467169,
          -5.9362006,
          -5.9362006,
          -5.9362006,
          -5.9362006,
          -5.9362006,
          -5.9362006,
          -5.9362006,
          -5.9362006,
          20.554789,
          -9.74713,
          -9.74713,
          -9.74713,
          -9.22231,
          23.144928,
          -0.24020311,
          -0.24020311,
          -0.24020311,
          24.63463,
          23.530384,
          -42.920242,
          -0.24020311,
          -0.24020311,
          -38.470097,
          3.7859104,
          21.627691,
          26.272354,
          21.627691,
          9.503871,
          -0.24020311,
          31.667747,
          -0.24020311,
          36.826633,
          -0.24020311,
          -0.24020311,
          8.654644,
          27.64652,
          27.64652,
          -8.122248,
          41.09492,
          28.765015,
          28.765015,
          33.134895,
          -6.548783,
          -6.548783,
          -6.548783,
          27.64652,
          -0.24020311,
          -0.24020311,
          -0.24020311,
          21.627691,
          19.083805,
          16.492521,
          -39.12776,
          -23.13831,
          -23.13831,
          52.645355,
          56.64636,
          52.645355,
          61.41269,
          53.723755,
          27.64652,
          53.723755,
          23.502346,
          11.123875,
          11.123875,
          27.64652,
          -14.554064,
          23.502346,
          27.64652,
          53.723755,
          27.64652,
          27.64652,
          6.2736216,
          23.530384,
          -26.859816,
          21.627691,
          21.627691,
          9.503871,
          -7.3382726,
          21.627691,
          -36.62917,
          27.64652,
          27.64652,
          27.64652,
          27.64652,
          27.64652,
          27.64652,
          23.72108,
          23.72108,
          23.72108,
          -26.859816,
          -9.74713,
          -11.055763,
          -0.24020311,
          -39.7883,
          14.937091,
          -27.657536,
          20.003853,
          -37.73549,
          2.5890396,
          25.770267,
          -27.657536,
          1.0409852,
          -36.25314,
          25.722446,
          20.029171,
          -34.94135,
          -40.571827,
          -52.063374,
          8.385301,
          -45.944035,
          -27.657536,
          -27.657536,
          -27.657536,
          24.63463,
          -46.184322,
          -4.116941,
          -4.116941,
          -4.116941,
          15.108368,
          -25.468187,
          10.464659,
          2.1612043,
          19.281702,
          -26.118498,
          -54.995728,
          -17.675653,
          -54.340748,
          -3.9428315,
          43.886787,
          -27.657536,
          38.729404,
          62.686382,
          -6.5383153,
          -33.64136,
          -11.913213,
          -41.95177,
          19.887182,
          40.864613,
          33.677467,
          27.64652,
          12.886162,
          -46.885635,
          17.924707,
          27.64652,
          27.64652,
          -27.657536,
          -7.0461965,
          -0.24020311,
          -0.24020311,
          -20.112825,
          2.7264593,
          -31.316652,
          8.221471,
          -23.019371,
          39.16964,
          -39.7883,
          8.474686,
          -46.388596,
          5.03604,
          28.13612,
          -40.32756,
          27.282314,
          -59.55097,
          9.503871,
          9.503871,
          9.503871,
          31.649464,
          21.450268,
          14.604737,
          -36.806217,
          43.562923,
          -26.345945,
          27.64652
         ]
        }
       ],
       "layout": {
        "height": 800,
        "legend": {
         "title": {
          "text": "Cluster"
         },
         "tracegroupgap": 0
        },
        "scene": {
         "domain": {
          "x": [
           0,
           1
          ],
          "y": [
           0,
           1
          ]
         },
         "xaxis": {
          "title": {
           "text": "0"
          }
         },
         "yaxis": {
          "title": {
           "text": "1"
          }
         },
         "zaxis": {
          "title": {
           "text": "2"
          }
         }
        },
        "template": {
         "data": {
          "bar": [
           {
            "error_x": {
             "color": "#2a3f5f"
            },
            "error_y": {
             "color": "#2a3f5f"
            },
            "marker": {
             "line": {
              "color": "#E5ECF6",
              "width": 0.5
             },
             "pattern": {
              "fillmode": "overlay",
              "size": 10,
              "solidity": 0.2
             }
            },
            "type": "bar"
           }
          ],
          "barpolar": [
           {
            "marker": {
             "line": {
              "color": "#E5ECF6",
              "width": 0.5
             },
             "pattern": {
              "fillmode": "overlay",
              "size": 10,
              "solidity": 0.2
             }
            },
            "type": "barpolar"
           }
          ],
          "carpet": [
           {
            "aaxis": {
             "endlinecolor": "#2a3f5f",
             "gridcolor": "white",
             "linecolor": "white",
             "minorgridcolor": "white",
             "startlinecolor": "#2a3f5f"
            },
            "baxis": {
             "endlinecolor": "#2a3f5f",
             "gridcolor": "white",
             "linecolor": "white",
             "minorgridcolor": "white",
             "startlinecolor": "#2a3f5f"
            },
            "type": "carpet"
           }
          ],
          "choropleth": [
           {
            "colorbar": {
             "outlinewidth": 0,
             "ticks": ""
            },
            "type": "choropleth"
           }
          ],
          "contour": [
           {
            "colorbar": {
             "outlinewidth": 0,
             "ticks": ""
            },
            "colorscale": [
             [
              0,
              "#0d0887"
             ],
             [
              0.1111111111111111,
              "#46039f"
             ],
             [
              0.2222222222222222,
              "#7201a8"
             ],
             [
              0.3333333333333333,
              "#9c179e"
             ],
             [
              0.4444444444444444,
              "#bd3786"
             ],
             [
              0.5555555555555556,
              "#d8576b"
             ],
             [
              0.6666666666666666,
              "#ed7953"
             ],
             [
              0.7777777777777778,
              "#fb9f3a"
             ],
             [
              0.8888888888888888,
              "#fdca26"
             ],
             [
              1,
              "#f0f921"
             ]
            ],
            "type": "contour"
           }
          ],
          "contourcarpet": [
           {
            "colorbar": {
             "outlinewidth": 0,
             "ticks": ""
            },
            "type": "contourcarpet"
           }
          ],
          "heatmap": [
           {
            "colorbar": {
             "outlinewidth": 0,
             "ticks": ""
            },
            "colorscale": [
             [
              0,
              "#0d0887"
             ],
             [
              0.1111111111111111,
              "#46039f"
             ],
             [
              0.2222222222222222,
              "#7201a8"
             ],
             [
              0.3333333333333333,
              "#9c179e"
             ],
             [
              0.4444444444444444,
              "#bd3786"
             ],
             [
              0.5555555555555556,
              "#d8576b"
             ],
             [
              0.6666666666666666,
              "#ed7953"
             ],
             [
              0.7777777777777778,
              "#fb9f3a"
             ],
             [
              0.8888888888888888,
              "#fdca26"
             ],
             [
              1,
              "#f0f921"
             ]
            ],
            "type": "heatmap"
           }
          ],
          "heatmapgl": [
           {
            "colorbar": {
             "outlinewidth": 0,
             "ticks": ""
            },
            "colorscale": [
             [
              0,
              "#0d0887"
             ],
             [
              0.1111111111111111,
              "#46039f"
             ],
             [
              0.2222222222222222,
              "#7201a8"
             ],
             [
              0.3333333333333333,
              "#9c179e"
             ],
             [
              0.4444444444444444,
              "#bd3786"
             ],
             [
              0.5555555555555556,
              "#d8576b"
             ],
             [
              0.6666666666666666,
              "#ed7953"
             ],
             [
              0.7777777777777778,
              "#fb9f3a"
             ],
             [
              0.8888888888888888,
              "#fdca26"
             ],
             [
              1,
              "#f0f921"
             ]
            ],
            "type": "heatmapgl"
           }
          ],
          "histogram": [
           {
            "marker": {
             "pattern": {
              "fillmode": "overlay",
              "size": 10,
              "solidity": 0.2
             }
            },
            "type": "histogram"
           }
          ],
          "histogram2d": [
           {
            "colorbar": {
             "outlinewidth": 0,
             "ticks": ""
            },
            "colorscale": [
             [
              0,
              "#0d0887"
             ],
             [
              0.1111111111111111,
              "#46039f"
             ],
             [
              0.2222222222222222,
              "#7201a8"
             ],
             [
              0.3333333333333333,
              "#9c179e"
             ],
             [
              0.4444444444444444,
              "#bd3786"
             ],
             [
              0.5555555555555556,
              "#d8576b"
             ],
             [
              0.6666666666666666,
              "#ed7953"
             ],
             [
              0.7777777777777778,
              "#fb9f3a"
             ],
             [
              0.8888888888888888,
              "#fdca26"
             ],
             [
              1,
              "#f0f921"
             ]
            ],
            "type": "histogram2d"
           }
          ],
          "histogram2dcontour": [
           {
            "colorbar": {
             "outlinewidth": 0,
             "ticks": ""
            },
            "colorscale": [
             [
              0,
              "#0d0887"
             ],
             [
              0.1111111111111111,
              "#46039f"
             ],
             [
              0.2222222222222222,
              "#7201a8"
             ],
             [
              0.3333333333333333,
              "#9c179e"
             ],
             [
              0.4444444444444444,
              "#bd3786"
             ],
             [
              0.5555555555555556,
              "#d8576b"
             ],
             [
              0.6666666666666666,
              "#ed7953"
             ],
             [
              0.7777777777777778,
              "#fb9f3a"
             ],
             [
              0.8888888888888888,
              "#fdca26"
             ],
             [
              1,
              "#f0f921"
             ]
            ],
            "type": "histogram2dcontour"
           }
          ],
          "mesh3d": [
           {
            "colorbar": {
             "outlinewidth": 0,
             "ticks": ""
            },
            "type": "mesh3d"
           }
          ],
          "parcoords": [
           {
            "line": {
             "colorbar": {
              "outlinewidth": 0,
              "ticks": ""
             }
            },
            "type": "parcoords"
           }
          ],
          "pie": [
           {
            "automargin": true,
            "type": "pie"
           }
          ],
          "scatter": [
           {
            "fillpattern": {
             "fillmode": "overlay",
             "size": 10,
             "solidity": 0.2
            },
            "type": "scatter"
           }
          ],
          "scatter3d": [
           {
            "line": {
             "colorbar": {
              "outlinewidth": 0,
              "ticks": ""
             }
            },
            "marker": {
             "colorbar": {
              "outlinewidth": 0,
              "ticks": ""
             }
            },
            "type": "scatter3d"
           }
          ],
          "scattercarpet": [
           {
            "marker": {
             "colorbar": {
              "outlinewidth": 0,
              "ticks": ""
             }
            },
            "type": "scattercarpet"
           }
          ],
          "scattergeo": [
           {
            "marker": {
             "colorbar": {
              "outlinewidth": 0,
              "ticks": ""
             }
            },
            "type": "scattergeo"
           }
          ],
          "scattergl": [
           {
            "marker": {
             "colorbar": {
              "outlinewidth": 0,
              "ticks": ""
             }
            },
            "type": "scattergl"
           }
          ],
          "scattermapbox": [
           {
            "marker": {
             "colorbar": {
              "outlinewidth": 0,
              "ticks": ""
             }
            },
            "type": "scattermapbox"
           }
          ],
          "scatterpolar": [
           {
            "marker": {
             "colorbar": {
              "outlinewidth": 0,
              "ticks": ""
             }
            },
            "type": "scatterpolar"
           }
          ],
          "scatterpolargl": [
           {
            "marker": {
             "colorbar": {
              "outlinewidth": 0,
              "ticks": ""
             }
            },
            "type": "scatterpolargl"
           }
          ],
          "scatterternary": [
           {
            "marker": {
             "colorbar": {
              "outlinewidth": 0,
              "ticks": ""
             }
            },
            "type": "scatterternary"
           }
          ],
          "surface": [
           {
            "colorbar": {
             "outlinewidth": 0,
             "ticks": ""
            },
            "colorscale": [
             [
              0,
              "#0d0887"
             ],
             [
              0.1111111111111111,
              "#46039f"
             ],
             [
              0.2222222222222222,
              "#7201a8"
             ],
             [
              0.3333333333333333,
              "#9c179e"
             ],
             [
              0.4444444444444444,
              "#bd3786"
             ],
             [
              0.5555555555555556,
              "#d8576b"
             ],
             [
              0.6666666666666666,
              "#ed7953"
             ],
             [
              0.7777777777777778,
              "#fb9f3a"
             ],
             [
              0.8888888888888888,
              "#fdca26"
             ],
             [
              1,
              "#f0f921"
             ]
            ],
            "type": "surface"
           }
          ],
          "table": [
           {
            "cells": {
             "fill": {
              "color": "#EBF0F8"
             },
             "line": {
              "color": "white"
             }
            },
            "header": {
             "fill": {
              "color": "#C8D4E3"
             },
             "line": {
              "color": "white"
             }
            },
            "type": "table"
           }
          ]
         },
         "layout": {
          "annotationdefaults": {
           "arrowcolor": "#2a3f5f",
           "arrowhead": 0,
           "arrowwidth": 1
          },
          "autotypenumbers": "strict",
          "coloraxis": {
           "colorbar": {
            "outlinewidth": 0,
            "ticks": ""
           }
          },
          "colorscale": {
           "diverging": [
            [
             0,
             "#8e0152"
            ],
            [
             0.1,
             "#c51b7d"
            ],
            [
             0.2,
             "#de77ae"
            ],
            [
             0.3,
             "#f1b6da"
            ],
            [
             0.4,
             "#fde0ef"
            ],
            [
             0.5,
             "#f7f7f7"
            ],
            [
             0.6,
             "#e6f5d0"
            ],
            [
             0.7,
             "#b8e186"
            ],
            [
             0.8,
             "#7fbc41"
            ],
            [
             0.9,
             "#4d9221"
            ],
            [
             1,
             "#276419"
            ]
           ],
           "sequential": [
            [
             0,
             "#0d0887"
            ],
            [
             0.1111111111111111,
             "#46039f"
            ],
            [
             0.2222222222222222,
             "#7201a8"
            ],
            [
             0.3333333333333333,
             "#9c179e"
            ],
            [
             0.4444444444444444,
             "#bd3786"
            ],
            [
             0.5555555555555556,
             "#d8576b"
            ],
            [
             0.6666666666666666,
             "#ed7953"
            ],
            [
             0.7777777777777778,
             "#fb9f3a"
            ],
            [
             0.8888888888888888,
             "#fdca26"
            ],
            [
             1,
             "#f0f921"
            ]
           ],
           "sequentialminus": [
            [
             0,
             "#0d0887"
            ],
            [
             0.1111111111111111,
             "#46039f"
            ],
            [
             0.2222222222222222,
             "#7201a8"
            ],
            [
             0.3333333333333333,
             "#9c179e"
            ],
            [
             0.4444444444444444,
             "#bd3786"
            ],
            [
             0.5555555555555556,
             "#d8576b"
            ],
            [
             0.6666666666666666,
             "#ed7953"
            ],
            [
             0.7777777777777778,
             "#fb9f3a"
            ],
            [
             0.8888888888888888,
             "#fdca26"
            ],
            [
             1,
             "#f0f921"
            ]
           ]
          },
          "colorway": [
           "#636efa",
           "#EF553B",
           "#00cc96",
           "#ab63fa",
           "#FFA15A",
           "#19d3f3",
           "#FF6692",
           "#B6E880",
           "#FF97FF",
           "#FECB52"
          ],
          "font": {
           "color": "#2a3f5f"
          },
          "geo": {
           "bgcolor": "white",
           "lakecolor": "white",
           "landcolor": "#E5ECF6",
           "showlakes": true,
           "showland": true,
           "subunitcolor": "white"
          },
          "hoverlabel": {
           "align": "left"
          },
          "hovermode": "closest",
          "mapbox": {
           "style": "light"
          },
          "paper_bgcolor": "white",
          "plot_bgcolor": "#E5ECF6",
          "polar": {
           "angularaxis": {
            "gridcolor": "white",
            "linecolor": "white",
            "ticks": ""
           },
           "bgcolor": "#E5ECF6",
           "radialaxis": {
            "gridcolor": "white",
            "linecolor": "white",
            "ticks": ""
           }
          },
          "scene": {
           "xaxis": {
            "backgroundcolor": "#E5ECF6",
            "gridcolor": "white",
            "gridwidth": 2,
            "linecolor": "white",
            "showbackground": true,
            "ticks": "",
            "zerolinecolor": "white"
           },
           "yaxis": {
            "backgroundcolor": "#E5ECF6",
            "gridcolor": "white",
            "gridwidth": 2,
            "linecolor": "white",
            "showbackground": true,
            "ticks": "",
            "zerolinecolor": "white"
           },
           "zaxis": {
            "backgroundcolor": "#E5ECF6",
            "gridcolor": "white",
            "gridwidth": 2,
            "linecolor": "white",
            "showbackground": true,
            "ticks": "",
            "zerolinecolor": "white"
           }
          },
          "shapedefaults": {
           "line": {
            "color": "#2a3f5f"
           }
          },
          "ternary": {
           "aaxis": {
            "gridcolor": "white",
            "linecolor": "white",
            "ticks": ""
           },
           "baxis": {
            "gridcolor": "white",
            "linecolor": "white",
            "ticks": ""
           },
           "bgcolor": "#E5ECF6",
           "caxis": {
            "gridcolor": "white",
            "linecolor": "white",
            "ticks": ""
           }
          },
          "title": {
           "x": 0.05
          },
          "xaxis": {
           "automargin": true,
           "gridcolor": "white",
           "linecolor": "white",
           "ticks": "",
           "title": {
            "standoff": 15
           },
           "zerolinecolor": "white",
           "zerolinewidth": 2
          },
          "yaxis": {
           "automargin": true,
           "gridcolor": "white",
           "linecolor": "white",
           "ticks": "",
           "title": {
            "standoff": 15
           },
           "zerolinecolor": "white",
           "zerolinewidth": 2
          }
         }
        },
        "title": {
         "text": "3d TSNE Plot for Clusters"
        },
        "width": 900
       }
      }
     },
     "metadata": {},
     "output_type": "display_data"
    }
   ],
   "source": [
    "plot_model(kmeans, plot='tsne')"
   ]
  },
  {
   "cell_type": "code",
   "execution_count": 20,
   "id": "f54c57d2",
   "metadata": {},
   "outputs": [],
   "source": [
    "kmeans_result = assign_model(kmeans)\n",
    "kmeans_result.to_csv(r'C:\\Users\\HP\\Desktop\\Web-App-Firewall\\kmeans_result.csv')"
   ]
  },
  {
   "cell_type": "code",
   "execution_count": 21,
   "id": "f7b19941",
   "metadata": {},
   "outputs": [
    {
     "data": {
      "text/html": [
       "<div>\n",
       "<style scoped>\n",
       "    .dataframe tbody tr th:only-of-type {\n",
       "        vertical-align: middle;\n",
       "    }\n",
       "\n",
       "    .dataframe tbody tr th {\n",
       "        vertical-align: top;\n",
       "    }\n",
       "\n",
       "    .dataframe thead th {\n",
       "        text-align: right;\n",
       "    }\n",
       "</style>\n",
       "<table border=\"1\" class=\"dataframe\">\n",
       "  <thead>\n",
       "    <tr style=\"text-align: right;\">\n",
       "      <th></th>\n",
       "      <th>method</th>\n",
       "      <th>path</th>\n",
       "      <th>body</th>\n",
       "      <th>single_q</th>\n",
       "      <th>double_q</th>\n",
       "      <th>dashes</th>\n",
       "      <th>braces</th>\n",
       "      <th>spaces</th>\n",
       "      <th>badwords_count</th>\n",
       "      <th>class</th>\n",
       "    </tr>\n",
       "  </thead>\n",
       "  <tbody>\n",
       "    <tr>\n",
       "      <th>0</th>\n",
       "      <td>GET</td>\n",
       "      <td>/1e1blrqe7yth</td>\n",
       "      <td>NaN</td>\n",
       "      <td>0</td>\n",
       "      <td>0</td>\n",
       "      <td>0</td>\n",
       "      <td>0</td>\n",
       "      <td>0</td>\n",
       "      <td>0</td>\n",
       "      <td>l</td>\n",
       "    </tr>\n",
       "    <tr>\n",
       "      <th>1</th>\n",
       "      <td>GET</td>\n",
       "      <td>/swish?id=1e1blrqe7yth</td>\n",
       "      <td>NaN</td>\n",
       "      <td>0</td>\n",
       "      <td>0</td>\n",
       "      <td>0</td>\n",
       "      <td>0</td>\n",
       "      <td>0</td>\n",
       "      <td>0</td>\n",
       "      <td>l</td>\n",
       "    </tr>\n",
       "    <tr>\n",
       "      <th>2</th>\n",
       "      <td>GET</td>\n",
       "      <td>/swish.js</td>\n",
       "      <td>NaN</td>\n",
       "      <td>0</td>\n",
       "      <td>0</td>\n",
       "      <td>0</td>\n",
       "      <td>0</td>\n",
       "      <td>0</td>\n",
       "      <td>0</td>\n",
       "      <td>l</td>\n",
       "    </tr>\n",
       "    <tr>\n",
       "      <th>3</th>\n",
       "      <td>GET</td>\n",
       "      <td>/embed/tt5012320</td>\n",
       "      <td>NaN</td>\n",
       "      <td>0</td>\n",
       "      <td>0</td>\n",
       "      <td>0</td>\n",
       "      <td>0</td>\n",
       "      <td>0</td>\n",
       "      <td>0</td>\n",
       "      <td>l</td>\n",
       "    </tr>\n",
       "    <tr>\n",
       "      <th>4</th>\n",
       "      <td>GET</td>\n",
       "      <td>/images/share-button.svg</td>\n",
       "      <td>NaN</td>\n",
       "      <td>0</td>\n",
       "      <td>0</td>\n",
       "      <td>0</td>\n",
       "      <td>0</td>\n",
       "      <td>0</td>\n",
       "      <td>0</td>\n",
       "      <td>l</td>\n",
       "    </tr>\n",
       "  </tbody>\n",
       "</table>\n",
       "</div>"
      ],
      "text/plain": [
       "  method                      path body  single_q  double_q  dashes  braces  \\\n",
       "0    GET             /1e1blrqe7yth  NaN         0         0       0       0   \n",
       "1    GET    /swish?id=1e1blrqe7yth  NaN         0         0       0       0   \n",
       "2    GET                 /swish.js  NaN         0         0       0       0   \n",
       "3    GET          /embed/tt5012320  NaN         0         0       0       0   \n",
       "4    GET  /images/share-button.svg  NaN         0         0       0       0   \n",
       "\n",
       "   spaces  badwords_count class  \n",
       "0       0               0     l  \n",
       "1       0               0     l  \n",
       "2       0               0     l  \n",
       "3       0               0     l  \n",
       "4       0               0     l  "
      ]
     },
     "execution_count": 21,
     "metadata": {},
     "output_type": "execute_result"
    }
   ],
   "source": [
    "test_http = pd.read_csv(r'C:\\Users\\HP\\Desktop\\Web-App-Firewall\\testinglog.csv')\n",
    "test_http.head()"
   ]
  },
  {
   "cell_type": "code",
   "execution_count": 22,
   "id": "28d75c83",
   "metadata": {},
   "outputs": [
    {
     "data": {
      "text/html": [
       "<div>\n",
       "<style scoped>\n",
       "    .dataframe tbody tr th:only-of-type {\n",
       "        vertical-align: middle;\n",
       "    }\n",
       "\n",
       "    .dataframe tbody tr th {\n",
       "        vertical-align: top;\n",
       "    }\n",
       "\n",
       "    .dataframe thead th {\n",
       "        text-align: right;\n",
       "    }\n",
       "</style>\n",
       "<table border=\"1\" class=\"dataframe\">\n",
       "  <thead>\n",
       "    <tr style=\"text-align: right;\">\n",
       "      <th></th>\n",
       "      <th>body_[1,\"\",1,\"en\",\"co.in\",0,null,0,0,\"\",\"\",1,0,null,89978449,null,[1]]</th>\n",
       "      <th>body_{\"tags\":[{\"sizes\":[{\"width\":300,\"height\":250},{\"width\":250,\"height\":250}],\"primary_size\":{\"width\":300,\"height\":250},\"ad_types\":[\"banner\"],\"uuid\":\"783358b34eb5fb6\",\"id\":33893102,\"allow_smaller_sizes\":true,\"use_pmt_rule\":false,\"prebid\":true,\"disable_psa\":true,\"reserve\":0.55,\"position\":2,\"supply_type\":\"web\",\"gpid\":\"/7176/TOI/TOI_Tech/TOI_Tech_BTF_300\",\"hb_source\":1}],\"user\":{},\"sdk\":{\"source\":\"pbjs\",\"version\":\"9.11.0\"},\"device\":{\"useragent\":\"Mozilla/5.0 (Windows NT 10.0; Win64; x64) AppleWebKit/537.36 (KHTML, like Gecko) Chrome/130.0.6723.70 Safari/537.36\",\"w\":1600,\"h\":900},\"keywords\":[{\"key\":\"zepto vs swiggy\"},{\"key\":\"zepto ceo aadit palicha\"},{\"key\":\"zepto ceo\"},{\"key\":\"Zepto\"},{\"key\":\"Aadit Palicha\"}],\"referrer_detection\":{\"rd_ref\":\"https://timesofindia.indiatimes.com/technology/tech-news/zepto-is-not-an-amazon-or-walmart-but-an-indian-company-with-zepto-ceo-aadit-palicha/articleshow/115540600.cms\",\"rd_top\":true,\"rd_ifs\":0,\"rd_stk\":\"https://timesofindia.indiatimes.com/technology/tech-news/zepto-is-not-an-amazon-or-walmart-but-an-indian-company-with-zepto-ceo-aadit-palicha/articleshow/115540600.cms\",\"rd_can\":\"https://timesofindia.indiatimes.com/technology/tech-news/zepto-is-not-an-amazon-or-walmart-but-an-indian-company-with-zepto-ceo-aadit-palicha/articleshow/115540600.cms\"},\"eids\":[{\"source\":\"pubcid.org\",\"id\":\"9b105281-63da-4fc4-a467-f85f19e64465\"}]}</th>\n",
       "      <th>body_{\"tags\":[{\"sizes\":[{\"width\":300,\"height\":250},{\"width\":250,\"height\":250}],\"primary_size\":{\"width\":300,\"height\":250},\"ad_types\":[\"banner\"],\"uuid\":\"529c5055f992868\",\"id\":33893102,\"allow_smaller_sizes\":true,\"use_pmt_rule\":false,\"prebid\":true,\"disable_psa\":true,\"reserve\":0.55,\"position\":2,\"supply_type\":\"web\",\"gpid\":\"/7176/TOI/TOI_Tech/TOI_Tech_MTF_300\",\"hb_source\":1}],\"user\":{},\"sdk\":{\"source\":\"pbjs\",\"version\":\"9.11.0\"},\"device\":{\"useragent\":\"Mozilla/5.0 (Windows NT 10.0; Win64; x64) AppleWebKit/537.36 (KHTML, like Gecko) Chrome/130.0.6723.70 Safari/537.36\",\"w\":1600,\"h\":900},\"keywords\":[{\"key\":\"zepto vs swiggy\"},{\"key\":\"zepto ceo aadit palicha\"},{\"key\":\"zepto ceo\"},{\"key\":\"Zepto\"},{\"key\":\"Aadit Palicha\"}],\"referrer_detection\":{\"rd_ref\":\"https://timesofindia.indiatimes.com/technology/tech-news/zepto-is-not-an-amazon-or-walmart-but-an-indian-company-with-zepto-ceo-aadit-palicha/articleshow/115540600.cms\",\"rd_top\":true,\"rd_ifs\":0,\"rd_stk\":\"https://timesofindia.indiatimes.com/technology/tech-news/zepto-is-not-an-amazon-or-walmart-but-an-indian-company-with-zepto-ceo-aadit-palicha/articleshow/115540600.cms\",\"rd_can\":\"https://timesofindia.indiatimes.com/technology/tech-news/zepto-is-not-an-amazon-or-walmart-but-an-indian-company-with-zepto-ceo-aadit-palicha/articleshow/115540600.cms\"},\"eids\":[{\"source\":\"pubcid.org\",\"id\":\"9b105281-63da-4fc4-a467-f85f19e64465\"}]}</th>\n",
       "      <th>body_{\"tags\":[{\"sizes\":[{\"width\":300,\"height\":250},{\"width\":250,\"height\":250}],\"primary_size\":{\"width\":300,\"height\":250},\"ad_types\":[\"banner\"],\"uuid\":\"126aa668b6656dae\",\"id\":33893102,\"allow_smaller_sizes\":true,\"use_pmt_rule\":false,\"prebid\":true,\"disable_psa\":true,\"reserve\":0.55,\"position\":2,\"supply_type\":\"web\",\"gpid\":\"/7176/TOI/TOI_Tech/TOI_Tech_BTF_INF_300\",\"hb_source\":1}],\"user\":{},\"sdk\":{\"source\":\"pbjs\",\"version\":\"9.11.0\"},\"device\":{\"useragent\":\"Mozilla/5.0 (Windows NT 10.0; Win64; x64) AppleWebKit/537.36 (KHTML, like Gecko) Chrome/130.0.6723.70 Safari/537.36\",\"w\":1600,\"h\":900},\"keywords\":[{\"key\":\"zepto vs swiggy\"},{\"key\":\"zepto ceo aadit palicha\"},{\"key\":\"zepto ceo\"},{\"key\":\"Zepto\"},{\"key\":\"Aadit Palicha\"}],\"referrer_detection\":{\"rd_ref\":\"https://timesofindia.indiatimes.com/technology/tech-news/zepto-is-not-an-amazon-or-walmart-but-an-indian-company-with-zepto-ceo-aadit-palicha/articleshow/115540600.cms\",\"rd_top\":true,\"rd_ifs\":0,\"rd_stk\":\"https://timesofindia.indiatimes.com/technology/tech-news/zepto-is-not-an-amazon-or-walmart-but-an-indian-company-with-zepto-ceo-aadit-palicha/articleshow/115540600.cms\",\"rd_can\":\"https://timesofindia.indiatimes.com/technology/tech-news/zepto-is-not-an-amazon-or-walmart-but-an-indian-company-with-zepto-ceo-aadit-palicha/articleshow/115540600.cms\"},\"eids\":[{\"source\":\"pubcid.org\",\"id\":\"9b105281-63da-4fc4-a467-f85f19e64465\"}]}</th>\n",
       "      <th>body_{\"tags\":[{\"sizes\":[{\"width\":980,\"height\":200},{\"width\":970,\"height\":250},{\"width\":728,\"height\":90},{\"width\":750,\"height\":200},{\"width\":930,\"height\":180},{\"width\":950,\"height\":90},{\"width\":980,\"height\":120},{\"width\":970,\"height\":90}],\"primary_size\":{\"width\":980,\"height\":200},\"ad_types\":[\"banner\"],\"uuid\":\"21aff7294cde39b\",\"id\":33893102,\"allow_smaller_sizes\":true,\"use_pmt_rule\":false,\"prebid\":true,\"disable_psa\":true,\"reserve\":0.55,\"position\":1,\"supply_type\":\"web\",\"gpid\":\"/7176/TOI/TOI_Tech/TOI_Tech_ATF_728\",\"hb_source\":1},{\"sizes\":[{\"width\":300,\"height\":250},{\"width\":250,\"height\":250}],\"primary_size\":{\"width\":300,\"height\":250},\"ad_types\":[\"banner\"],\"uuid\":\"22e750dc3680f5c\",\"id\":33893102,\"allow_smaller_sizes\":true,\"use_pmt_rule\":false,\"prebid\":true,\"disable_psa\":true,\"reserve\":0.55,\"position\":1,\"supply_type\":\"web\",\"gpid\":\"/7176/TOI/TOI_Tech/TOI_Tech_ATF_300\",\"hb_source\":1}],\"user\":{},\"sdk\":{\"source\":\"pbjs\",\"version\":\"9.11.0\"},\"device\":{\"useragent\":\"Mozilla/5.0 (Windows NT 10.0; Win64; x64) AppleWebKit/537.36 (KHTML, like Gecko) Chrome/130.0.6723.70 Safari/537.36\",\"w\":1600,\"h\":900},\"keywords\":[{\"key\":\"zepto vs swiggy\"},{\"key\":\"zepto ceo aadit palicha\"},{\"key\":\"zepto ceo\"},{\"key\":\"Zepto\"},{\"key\":\"Aadit Palicha\"}],\"referrer_detection\":{\"rd_ref\":\"https://timesofindia.indiatimes.com/technology/tech-news/zepto-is-not-an-amazon-or-walmart-but-an-indian-company-with-zepto-ceo-aadit-palicha/articleshow/115540600.cms\",\"rd_top\":true,\"rd_ifs\":0,\"rd_stk\":\"https://timesofindia.indiatimes.com/technology/tech-news/zepto-is-not-an-amazon-or-walmart-but-an-indian-company-with-zepto-ceo-aadit-palicha/articleshow/115540600.cms\",\"rd_can\":\"https://timesofindia.indiatimes.com/technology/tech-news/zepto-is-not-an-amazon-or-walmart-but-an-indian-company-with-zepto-ceo-aadit-palicha/articleshow/115540600.cms\"},\"eids\":[{\"source\":\"pubcid.org\",\"id\":\"9b105281-63da-4fc4-a467-f85f19e64465\"}]}</th>\n",
       "      <th>body_{\"id\":\"1111643f0e45db9b\",\"imp\":[{\"id\":\"11215ebbdf47fa65\",\"tagid\":\"/7176/TOI/TOI_Tech/TOI_Tech_BTF_INF_300\",\"banner\":{\"w\":300,\"h\":250,\"format\":[{\"w\":300,\"h\":250},{\"w\":250,\"h\":250}]},\"bidfloor\":0.55,\"bidfloorcur\":\"USD\",\"secure\":1,\"ext\":{\"gpid\":\"/7176/TOI/TOI_Tech/TOI_Tech_BTF_INF_300\",\"tid\":\"52b597d3-6c5c-489e-afdc-88fcfc589ca5\",\"data\":{\"adserver\":{\"name\":\"gam\",\"adslot\":\"/7176/TOI/TOI_Tech/TOI_Tech_BTF_INF_300\"},\"pbadslot\":\"/7176/TOI/TOI_Tech/TOI_Tech_BTF_INF_300\"}}}],\"site\":{\"page\":\"https://timesofindia.indiatimes.com/technology/tech-news/zepto-is-not-an-amazon-or-walmart-but-an-indian-company-with-zepto-ceo-aadit-palicha/articleshow/115540600.cms\",\"ref\":\"https://www.google.com/\",\"publisher\":{\"id\":1,\"domain\":\"timesofindia.indiatimes.com\"},\"domain\":\"timesofindia.indiatimes.com\",\"keywords\":\"zepto vs swiggy,zepto ceo aadit palicha,zepto ceo,Zepto,Aadit Palicha\",\"content\":{\"cat\":[\"IAB90-111\"]}},\"device\":{\"ua\":\"Mozilla/5.0 (Windows NT 10.0; Win64; x64) AppleWebKit/537.36 (KHTML, like Gecko) Chrome/130.0.6723.70 Safari/537.36\",\"dnt\":0,\"language\":\"en\",\"connectiontype\":6,\"w\":1600,\"h\":900,\"ext\":{\"vpw\":1600,\"vph\":765},\"sua\":{\"source\":1,\"platform\":{\"brand\":\"Windows\"},\"browsers\":[{\"brand\":\"Not?A_Brand\",\"version\":[\"99\"]},{\"brand\":\"Chromium\",\"version\":[\"130\"]}],\"mobile\":0}},\"user\":{\"ext\":{\"eids\":[{\"source\":\"pubcid.org\",\"uids\":[{\"id\":\"9b105281-63da-4fc4-a467-f85f19e64465\",\"atype\":1}]}]}},\"at\":1,\"cur\":[\"USD\"],\"regs\":{},\"source\":{\"tid\":\"f3c5f385-a8da-4979-9543-60fa8cde9b42\"},\"ext\":{\"ttdprebid\":{\"ver\":\"TTD-PREBID-2024.07.26\",\"pbjs\":\"9.11.0\",\"keywords\":[\"zepto vs swiggy\",\"zepto ceo aadit palicha\",\"zepto ceo\",\"Zepto\",\"Aadit Palicha\"]}}}</th>\n",
       "      <th>body_{\"id\":\"14d262588001153\",\"imp\":[{\"id\":\"15253226d3262dc\",\"tagid\":\"/7176/TOI/TOI_Tech/TOI_Tech_ATF_728\",\"banner\":{\"w\":980,\"h\":200,\"format\":[{\"w\":980,\"h\":200},{\"w\":970,\"h\":250},{\"w\":728,\"h\":90},{\"w\":750,\"h\":200},{\"w\":930,\"h\":180},{\"w\":950,\"h\":90},{\"w\":980,\"h\":120},{\"w\":970,\"h\":90}]},\"bidfloor\":0.55,\"bidfloorcur\":\"USD\",\"secure\":1,\"ext\":{\"gpid\":\"/7176/TOI/TOI_Tech/TOI_Tech_ATF_728\",\"tid\":\"e026818e-e397-47c7-b424-343238809cb8\",\"data\":{\"adserver\":{\"name\":\"gam\",\"adslot\":\"/7176/TOI/TOI_Tech/TOI_Tech_ATF_728\"},\"pbadslot\":\"/7176/TOI/TOI_Tech/TOI_Tech_ATF_728\"}}},{\"id\":\"16125721ca0e487\",\"tagid\":\"/7176/TOI/TOI_Tech/TOI_Tech_ATF_300\",\"banner\":{\"w\":300,\"h\":250,\"format\":[{\"w\":300,\"h\":250},{\"w\":250,\"h\":250}]},\"bidfloor\":0.55,\"bidfloorcur\":\"USD\",\"secure\":1,\"ext\":{\"gpid\":\"/7176/TOI/TOI_Tech/TOI_Tech_ATF_300\",\"tid\":\"396b7da9-ae0f-431e-a52d-eb370a73433e\",\"data\":{\"adserver\":{\"name\":\"gam\",\"adslot\":\"/7176/TOI/TOI_Tech/TOI_Tech_ATF_300\"},\"pbadslot\":\"/7176/TOI/TOI_Tech/TOI_Tech_ATF_300\"}}}],\"site\":{\"page\":\"https://timesofindia.indiatimes.com/technology/tech-news/zepto-is-not-an-amazon-or-walmart-but-an-indian-company-with-zepto-ceo-aadit-palicha/articleshow/115540600.cms\",\"ref\":\"https://www.google.com/\",\"publisher\":{\"id\":1,\"domain\":\"timesofindia.indiatimes.com\"},\"domain\":\"timesofindia.indiatimes.com\",\"keywords\":\"zepto vs swiggy,zepto ceo aadit palicha,zepto ceo,Zepto,Aadit Palicha\",\"content\":{\"cat\":[\"IAB90-111\"]}},\"device\":{\"ua\":\"Mozilla/5.0 (Windows NT 10.0; Win64; x64) AppleWebKit/537.36 (KHTML, like Gecko) Chrome/130.0.6723.70 Safari/537.36\",\"dnt\":0,\"language\":\"en\",\"connectiontype\":6,\"w\":1600,\"h\":900,\"ext\":{\"vpw\":1600,\"vph\":765},\"sua\":{\"source\":1,\"platform\":{\"brand\":\"Windows\"},\"browsers\":[{\"brand\":\"Not?A_Brand\",\"version\":[\"99\"]},{\"brand\":\"Chromium\",\"version\":[\"130\"]}],\"mobile\":0}},\"user\":{\"ext\":{\"eids\":[{\"source\":\"pubcid.org\",\"uids\":[{\"id\":\"9b105281-63da-4fc4-a467-f85f19e64465\",\"atype\":1}]}]}},\"at\":1,\"cur\":[\"USD\"],\"regs\":{},\"source\":{\"tid\":\"0b5fab06-9083-47ac-aa1d-78b659bd9864\"},\"ext\":{\"ttdprebid\":{\"ver\":\"TTD-PREBID-2024.07.26\",\"pbjs\":\"9.11.0\",\"keywords\":[\"zepto vs swiggy\",\"zepto ceo aadit palicha\",\"zepto ceo\",\"Zepto\",\"Aadit Palicha\"]}}}</th>\n",
       "      <th>body_{\"id\":\"67b7683e1c459d\",\"imp\":[{\"id\":\"68789b82e742add\",\"tagid\":\"/7176/TOI/TOI_Tech/TOI_Tech_MTF_300\",\"banner\":{\"w\":300,\"h\":250,\"format\":[{\"w\":300,\"h\":250},{\"w\":250,\"h\":250}]},\"bidfloor\":0.55,\"bidfloorcur\":\"USD\",\"secure\":1,\"ext\":{\"gpid\":\"/7176/TOI/TOI_Tech/TOI_Tech_MTF_300\",\"tid\":\"79fbf211-dcae-48ab-819f-dcbe912aedac\",\"data\":{\"adserver\":{\"name\":\"gam\",\"adslot\":\"/7176/TOI/TOI_Tech/TOI_Tech_MTF_300\"},\"pbadslot\":\"/7176/TOI/TOI_Tech/TOI_Tech_MTF_300\"}}}],\"site\":{\"page\":\"https://timesofindia.indiatimes.com/technology/tech-news/zepto-is-not-an-amazon-or-walmart-but-an-indian-company-with-zepto-ceo-aadit-palicha/articleshow/115540600.cms\",\"ref\":\"https://www.google.com/\",\"publisher\":{\"id\":1,\"domain\":\"timesofindia.indiatimes.com\"},\"domain\":\"timesofindia.indiatimes.com\",\"keywords\":\"zepto vs swiggy,zepto ceo aadit palicha,zepto ceo,Zepto,Aadit Palicha\",\"content\":{\"cat\":[\"IAB90-111\"]}},\"device\":{\"ua\":\"Mozilla/5.0 (Windows NT 10.0; Win64; x64) AppleWebKit/537.36 (KHTML, like Gecko) Chrome/130.0.6723.70 Safari/537.36\",\"dnt\":0,\"language\":\"en\",\"connectiontype\":6,\"w\":1600,\"h\":900,\"ext\":{\"vpw\":1600,\"vph\":765},\"sua\":{\"source\":1,\"platform\":{\"brand\":\"Windows\"},\"browsers\":[{\"brand\":\"Not?A_Brand\",\"version\":[\"99\"]},{\"brand\":\"Chromium\",\"version\":[\"130\"]}],\"mobile\":0}},\"user\":{\"ext\":{\"eids\":[{\"source\":\"pubcid.org\",\"uids\":[{\"id\":\"9b105281-63da-4fc4-a467-f85f19e64465\",\"atype\":1}]}]}},\"at\":1,\"cur\":[\"USD\"],\"regs\":{},\"source\":{\"tid\":\"f3786e11-392f-44c3-b691-e30655380cdc\"},\"ext\":{\"ttdprebid\":{\"ver\":\"TTD-PREBID-2024.07.26\",\"pbjs\":\"9.11.0\",\"keywords\":[\"zepto vs swiggy\",\"zepto ceo aadit palicha\",\"zepto ceo\",\"Zepto\",\"Aadit Palicha\"]}}}</th>\n",
       "      <th>body_{\"id\":\"917384019b9d987\",\"imp\":[{\"id\":\"92e0e663a16491d\",\"tagid\":\"/7176/TOI/TOI_Tech/TOI_Tech_BTF_300\",\"banner\":{\"w\":300,\"h\":250,\"format\":[{\"w\":300,\"h\":250},{\"w\":250,\"h\":250}]},\"bidfloor\":0.55,\"bidfloorcur\":\"USD\",\"secure\":1,\"ext\":{\"gpid\":\"/7176/TOI/TOI_Tech/TOI_Tech_BTF_300\",\"tid\":\"b24078e8-c05c-4cdc-9320-f4934c0692ef\",\"data\":{\"adserver\":{\"name\":\"gam\",\"adslot\":\"/7176/TOI/TOI_Tech/TOI_Tech_BTF_300\"},\"pbadslot\":\"/7176/TOI/TOI_Tech/TOI_Tech_BTF_300\"}}}],\"site\":{\"page\":\"https://timesofindia.indiatimes.com/technology/tech-news/zepto-is-not-an-amazon-or-walmart-but-an-indian-company-with-zepto-ceo-aadit-palicha/articleshow/115540600.cms\",\"ref\":\"https://www.google.com/\",\"publisher\":{\"id\":1,\"domain\":\"timesofindia.indiatimes.com\"},\"domain\":\"timesofindia.indiatimes.com\",\"keywords\":\"zepto vs swiggy,zepto ceo aadit palicha,zepto ceo,Zepto,Aadit Palicha\",\"content\":{\"cat\":[\"IAB90-111\"]}},\"device\":{\"ua\":\"Mozilla/5.0 (Windows NT 10.0; Win64; x64) AppleWebKit/537.36 (KHTML, like Gecko) Chrome/130.0.6723.70 Safari/537.36\",\"dnt\":0,\"language\":\"en\",\"connectiontype\":6,\"w\":1600,\"h\":900,\"ext\":{\"vpw\":1600,\"vph\":765},\"sua\":{\"source\":1,\"platform\":{\"brand\":\"Windows\"},\"browsers\":[{\"brand\":\"Not?A_Brand\",\"version\":[\"99\"]},{\"brand\":\"Chromium\",\"version\":[\"130\"]}],\"mobile\":0}},\"user\":{\"ext\":{\"eids\":[{\"source\":\"pubcid.org\",\"uids\":[{\"id\":\"9b105281-63da-4fc4-a467-f85f19e64465\",\"atype\":1}]}]}},\"at\":1,\"cur\":[\"USD\"],\"regs\":{},\"source\":{\"tid\":\"844f2d82-14a2-475b-9c5b-a9895cf0c3f4\"},\"ext\":{\"ttdprebid\":{\"ver\":\"TTD-PREBID-2024.07.26\",\"pbjs\":\"9.11.0\",\"keywords\":[\"zepto vs swiggy\",\"zepto ceo aadit palicha\",\"zepto ceo\",\"Zepto\",\"Aadit Palicha\"]}}}</th>\n",
       "      <th>body_{\"cs\":{\"dct\":{\"#0\":\"pageType\",\"#1\":\"Gateway\",\"#2\":\"subPageType\",\"#3\":\"desktop\",\"#4\":\"pageTypeId\",\"#5\":\"resourceData\",\"#6\":\"name\",\"#7\":\"https://m.media-amazon.com/images/I/11EIQ5IGqaL._RC|01e5ncglxyL.css,01lF2n-pPaL.css,519YvOBDG8L.css,31uBZQYbDJL.css,11hEAfyy4tL.css,01qPl4hxayL.css,01pOTCa2wPL.css,413Vvv3GONL.css,11TIuySqr6L.css,01Rw4F+QU6L.css,11vYg+mVuGL.css,01J3raiFJrL.css,01IdKcBuAdL.css,01dRHIoUjnL.css,21lFcV0hmCL.css,01W0RNXC6mL.css,51nYRMITMLL.css,01XPHJk60-L.css,11wvSzGn6tL.css,01ANX9Vx1mL.css,01cvE3JoRWL.css,21qiQ1rOUAL.css,11wazUu-8nL.css,21RWaJb6t+L.css,11yLJpkAxFL.css,216LjtW6ADL.css,01CFUgsA-YL.css,313tC6rl1gL.css,116t+WD27UL.css,11yEzLYDg2L.css,113QjYEJj-L.css,11BdrZWOJpL.css,01r-hR9jMmL.css,01X+Gu6WK9L.css,21ZVss5T32L.css,114W6O7j2oL.css,01LzHhtXxxL.css,21zi3R-XjNL.css,115pt6oW+ZL.css,11hvENnYNUL.css,11Qek6G6pNL.css,01890+Vwk8L.css,01bDiPuBD6L.css,01cbS3UK11L.css,21F85am0yFL.css,016mfgi+D2L.css,01WslS8q5ML.css,21zhgeMzYSL.css,016Sx2kF1+L.css_.css?AUIClients/AmazonUI#not-trident\",\"#8\":\"entryType\",\"#9\":\"resource\",\"#10\":\"startTime\",\"#11\":\"duration\",\"#12\":\"initiatorType\",\"#13\":\"link\",\"#14\":\"nextHopProtocol\",\"#15\":\"workerStart\",\"#16\":\"redirectStart\",\"#17\":\"redirectEnd\",\"#18\":\"fetchStart\",\"#19\":\"domainLookupStart\",\"#20\":\"domainLookupEnd\",\"#21\":\"connectStart\",\"#22\":\"connectEnd\",\"#23\":\"secureConnectionStart\",\"#24\":\"requestStart\",\"#25\":\"responseStart\",\"#26\":\"responseEnd\",\"#27\":\"transferSize\",\"#28\":\"encodedBodySize\",\"#29\":\"decodedBodySize\",\"#30\":\"https://images-eu.ssl-images-amazon.com/images/I/41UUdmm7zEL._RC|71QrWIE9zvL.css,51bNVko77xL.css,21-GKunH78L.css,11pThoX8KIL.css,21Hc1s0-E4L.css,313Ydl5aIRL.css,21DwGGPS1eL.css,41EtvNY2OrL.css,110Nj+wUGYL.css,31K0jc2KvHL.css,01H8CHB5aiL.css,21KQnzhmfTL.css,41yKpEQVJkL.css_.css?AUIClients/NavDesktopUberAsset#desktop.in.878681-T1.1089549-T1.310484-T1.1088933-T1.836079-T1.1102424-T1\",\"#31\":\"https://images-eu.ssl-images-amazon.com/images/I/41945FR1dZL.css?AUIClients/AmazonGatewayAuiAssets&amp;IaVMOKWd#1011660-T1\",\"#32\":\"https://fls-eu.amazon.in/1/batch/1/OP/A21TJRUUN4KGV:259-7406217-6156529:QC01T4R0X1TWXYANAB7B$uedata=s:/rd/uedata?staticb&amp;id=QC01T4R0X1TWXYANAB7B:0\",\"#33\":\"https://m.media-amazon.com/images/G/31/gno/sprites/nav-sprite-global-1x-reorg-privacy._CB541718031_.png\",\"#34\":\"https://m.media-amazon.com/images/I/51Id5Jjpm-L._SX1500_.jpg\",\"#35\":\"https://images-eu.ssl-images-amazon.com/images/G/31/img19/Beauty/GW/desktop/Make-up-CC_desktop_1x._SY304_CB466075850_.jpg\",\"#36\":\"https://images-eu.ssl-images-amazon.com/images/G/31/Gateway/Events/2018/JupiterFallBack/Jupiter_bau_PC_top_card_fashion_1x._SY304_CB484150077_.jpg\",\"#37\":\"https://images-eu.ssl-images-amazon.com/images/G/31/Gateway/Events/2018/JupiterFallBack/Jupiter_bau_PC_top_card_home_1x._SY304_CB484150079_.jpg\",\"#38\":\"https://images-eu.ssl-images-amazon.com/images/G/31/img19/AmazonDevices/neel/March/1X._SY304_CB469330167_.jpg\",\"#39\":\"https://images-eu.ssl-images-amazon.com/images/G/31/Gateway/Events/2018/JupiterFallBack/Jupiter_bau_PC_top_card_groceries_1x._SY304_CB484150076_.jpg\",\"#40\":\"https://images-eu.ssl-images-amazon.com/images/G/31/img20/CEPC/Covid19/V195588257_IN_CEPC_Contingency_Covid_GW_April20_rush_dbqc0.5x_3._SY116_CB433895198_.jpg\",\"#41\":\"https://images-eu.ssl-images-amazon.com/images/G/31/img20/CEPC/Covid19/V195588257_IN_CEPC_Contingency_Covid_GW_April20_rush_dbqc0.5x_4._SY116_CB433895198_.jpg\",\"#42\":\"https://images-eu.ssl-images-amazon.com/images/G/31/img20/CEPC/Covid19/V195588257_IN_CEPC_Contingency_Covid_GW_April20_rush_dbqc0.5x_1._SY116_CB433895198_.jpg\",\"#43\":\"https://images-eu.ssl-images-amazon.com/images/G/31/img20/CEPC/Covid19/V195588257_IN_CEPC_Contingency_Covid_GW_April20_rush_dbqc0.5x_2._SY116_CB433889427_.jpg\",\"#44\":\"https://images-eu.ssl-images-amazon.com/images/G/31/IMG20/Home/BAU/GWPC/XCM_Manual_372x232_1212890_372X232_1_bd034eee_6f06_4e0a_9967_d0e0e5f7f932_jpg_LOWER_QL10_._SY116_CB423376243_.jpg\",\"#45\":\"https://images-eu.ssl-images-amazon.com/images/G/31/IMG20/Home/BAU/GWPC/XCM_Manual_372x232_1212890_372X232_2_64e793dc_221d_4067_8fca_2f0338879977_jpg_LOWER_QL85_._SY116_CB423376243_.jpg\",\"#46\":\"https://images-eu.ssl-images-amazon.com/images/G/31/IMG20/Home/BAU/GWPC/XCM_Manual_372x232_1212890_372X232_3_ccc0f761_ea08_4cfb_9562_6f13e80170d8_jpg_LOWER_QL30_._SY116_CB423376243_.jpg\",\"#47\":\"https://images-eu.ssl-images-amazon.com/images/G/31/IMG20/Home/BAU/GWPC/XCM_Manual_372x232_1212890_372X232_4_bc4e9dc4_a3aa_4aae_93fd_9723dacd805f_jpg_LOWER_QL50_._SY116_CB423376243_.jpg\",\"#48\":\"https://images-eu.ssl-images-amazon.com/images/G/31/img20/AmazonLaunchpad/Gateway/June/dhyana_02_379_304._SY304_CB429464454_.jpg\",\"#49\":\"https://m.media-amazon.com/images/G/31/personalization/ybh/loading-4x-gray._CB485916689_.gif\",\"#50\":\"https://m.media-amazon.com/images/I/61xJcNKKLXL.js?AUIClients/AmazonUIjQuery\",\"#51\":\"script\",\"#52\":\"https://images-eu.ssl-images-amazon.com/images/I/01rGP6HIADL.js?AUIClients/GenericObservableJS\",\"#53\":\"https://images-eu.ssl-images-amazon.com/images/I/11lCLXBMk5L._RC|61YBxGSpjrL.js_.js?AUIClients/AmazonGatewayAuiAssets\",\"#54\":\"https://images-eu.ssl-images-amazon.com/images/I/31PvjKh9oXL.js?AUIClients/AmazonGatewayHerotatorJS\",\"#55\":\"https://m.media-amazon.com/images/G/01/csm/showads.v2.js?category=ad&amp;adstype=-ad-column-&amp;ad_size=-housead-\",\"#56\":\"fetch\",\"#57\":\"https://images-eu.ssl-images-amazon.com/images/I/51V5yVZxXVL._RC|71JSewiYXdL.js,01F+A05ogQL.js,01VfhmbHmKL.js,71BPbNdLqXL.js,41jBieyCvYL.js,01wXnKULArL.js,01+pnQJuQ0L.js,21Un7Tx1UGL.js,4122so6jZwL.js,51HrkAbbpLL.js,31pICZB5M9L.js,11lw6J7z8iL.js,31NSDarX4TL.js,01VYGE8lGhL.js,01tDwkxEoCL.js_.js?AUIClients/NavDesktopUberAsset#desktop.language-en.in.878681-T1.1089549-T1.310484-T1.1043986-T1.836079-T1\",\"#58\":\"https://m.media-amazon.com/images/G/31/javascripts/lib/popover/images/snake._CB485935600_.gif\",\"#59\":\"producerId\",\"#60\":\"schemaId\",\"#61\":\"csm.ResourceTimingHit.2\",\"#62\":\"timestamp\",\"#63\":\"messageId\",\"#64\":\"sessionId\",\"#65\":\"259-7406217-6156529\",\"#66\":\"requestId\",\"#67\":\"QC01T4R0X1TWXYANAB7B\",\"#68\":\"obfuscatedMarketplaceId\",\"#69\":\"A21TJRUUN4KGV\",\"#70\":\"server\",\"#71\":\"www.amazon.in\",\"#72\":\"fmp\",\"#73\":\"vfrd\",\"#74\":\"info\",\"#75\":\"[[737,1034,1050,832,1,null,null,null,null,null,null,null,null,null,null,0,{},[null,null,null,null,null,[null]],[[null]],null,[null],null,null,{\\\"loadTimes\\\":\\\"fx () { nc }\\\",\\\"csi\\\":\\\"fx () { nc }\\\",\\\"app\\\":{\\\"isInstalled\\\":false,\\\"getDetails\\\":\\\"0x6\\\",\\\"getIsInstalled\\\":\\\"0x6\\\",\\\"installState\\\":\\\"0x6\\\",\\\"runningState\\\":\\\"0x6\\\",\\\"InstallState\\\":{\\\"DISABLED\\\":\\\"disabled\\\",\\\"INSTALLED\\\":\\\"installed\\\",\\\"NOT_INSTALLED\\\":\\\"not_installed\\\"},\\\"RunningState\\\":{\\\"CANNOT_RUN\\\":\\\"cannot_run\\\",\\\"READY_TO_RUN\\\":\\\"ready_to_run\\\",\\\"RUNNING\\\":\\\"running\\\"}}},\\\"0x6\\\",\\\"0x6\\\",\\\"0x6\\\",\\\"0x6\\\",\\\"0x6\\\",\\\"0x6\\\",null,null,null,1,null,null,null,null],[852,1600,1600,900,24,24,[0,null]],[\\\"Mozilla\\\",\\\"Netscape\\\",\\\"5.0 (Windows NT 10.0; Win64; x64) AppleWebKit/537.36 (KHTML, like Gecko) Chrome/130.0.6723.70 Safari/537.36\\\",8,null,4,\\\"en-US\\\",10,\\\"Gecko\\\",\\\"20030107\\\",\\\"Google Inc.\\\",\\\"\\\",\\\"Mozilla/5.0 (Windows NT 10.0; Win64; x64) AppleWebKit/537.36 (KHTML, like Gecko) Chrome/130.0.6723.70 Safari/537.36\\\",[\\\"en-US\\\"],\\\"Win32\\\",0,null,{},null,null,{\\\"brands\\\":[{\\\"brand\\\":\\\"Not?A_Brand\\\",\\\"version\\\":\\\"99\\\"},{\\\"brand\\\":\\\"Chromium\\\",\\\"version\\\":\\\"130\\\"}],\\\"mobile\\\":false,\\\"platform\\\":\\\"Windows\\\"}],[null,null,null,null,[null,null,null,null,null,null,null,null,null],null,null],[2,5,[null,null]],[3]]\",\"#76\":\"a9_tq\",\"#77\":\"a9_tq.FraudMetrics.3\",\"#78\":\"[0,1,0,1,0,1]\"}},\"events\":[{\"data\":{\"#0\":\"#1\",\"#2\":\"#3\",\"#4\":\"#3\",\"#5\":[{\"#6\":\"#7\",\"#8\":\"#9\",\"#10\":46861,\"#11\":747,\"#12\":\"#13\",\"#14\":\"h2\",\"#15\":0,\"#16\":0,\"#17\":0,\"#18\":46861,\"#19\":46861,\"#20\":46861,\"#21\":46994,\"#22\":47328,\"#23\":47322,\"#24\":47329,\"#25\":47594,\"#26\":47607,\"#27\":223969,\"#28\":223669,\"#29\":223669},{\"#6\":\"#30\",\"#8\":\"#9\",\"#10\":46866,\"#11\":742,\"#12\":\"#13\",\"#14\":\"h2\",\"#15\":0,\"#16\":0,\"#17\":0,\"#18\":46866,\"#19\":46866,\"#20\":46866,\"#21\":47016,\"#22\":47347,\"#23\":47338,\"#24\":47348,\"#25\":47593,\"#26\":47608,\"#27\":417007,\"#28\":416707,\"#29\":416707},{\"#6\":\"#31\",\"#8\":\"#9\",\"#10\":46866,\"#11\":615,\"#12\":\"#13\",\"#14\":\"h2\",\"#15\":0,\"#16\":0,\"#17\":0,\"#18\":46866,\"#19\":46866,\"#20\":46866,\"#21\":46866,\"#22\":46866,\"#23\":46866,\"#24\":47352,\"#25\":47480,\"#26\":47481,\"#27\":18421,\"#28\":18121,\"#29\":18121},{\"#6\":\"#32\",\"#8\":\"#9\",\"#10\":46866,\"#11\":26612,\"#12\":\"img\",\"#14\":\"\",\"#15\":0,\"#16\":0,\"#17\":0,\"#18\":46866,\"#19\":0,\"#20\":0,\"#21\":0,\"#22\":0,\"#23\":0,\"#24\":0,\"#25\":0,\"#26\":73479,\"#27\":0,\"#28\":0,\"#29\":0},{\"#6\":\"#33\",\"#8\":\"#9\",\"#10\":46867,\"#11\":616,\"#12\":\"img\",\"#14\":\"h2\",\"#15\":0,\"#16\":0,\"#17\":0,\"#18\":46867,\"#19\":46867,\"#20\":46867,\"#21\":46867,\"#22\":46867,\"#23\":46867,\"#24\":47329,\"#25\":47482,\"#26\":47482,\"#27\":21194,\"#28\":20894,\"#29\":20894},{\"#6\":\"#34\",\"#8\":\"#9\",\"#10\":46867,\"#11\":739,\"#12\":\"img\",\"#14\":\"h2\",\"#15\":0,\"#16\":0,\"#17\":0,\"#18\":46867,\"#19\":46867,\"#20\":46867,\"#21\":46867,\"#22\":46867,\"#23\":46867,\"#24\":47329,\"#25\":47604,\"#26\":47606,\"#27\":45324,\"#28\":45024,\"#29\":45024},{\"#6\":\"#35\",\"#8\":\"#9\",\"#10\":46867,\"#11\":885,\"#12\":\"img\",\"#14\":\"h2\",\"#15\":0,\"#16\":0,\"#17\":0,\"#18\":46867,\"#19\":46867,\"#20\":46867,\"#21\":46867,\"#22\":46867,\"#23\":46867,\"#24\":47698,\"#25\":47749,\"#26\":47752,\"#27\":19978,\"#28\":19678,\"#29\":19678},{\"#6\":\"#36\",\"#8\":\"#9\",\"#10\":46868,\"#11\":885,\"#12\":\"img\",\"#14\":\"h2\",\"#15\":0,\"#16\":0,\"#17\":0,\"#18\":46868,\"#19\":46868,\"#20\":46868,\"#21\":46868,\"#22\":46868,\"#23\":46868,\"#24\":47706,\"#25\":47752,\"#26\":47753,\"#27\":16846,\"#28\":16546,\"#29\":16546},{\"#6\":\"#37\",\"#8\":\"#9\",\"#10\":46868,\"#11\":977,\"#12\":\"img\",\"#14\":\"h2\",\"#15\":0,\"#16\":0,\"#17\":0,\"#18\":46868,\"#19\":46868,\"#20\":46868,\"#21\":46868,\"#22\":46868,\"#23\":46868,\"#24\":47819,\"#25\":47842,\"#26\":47845,\"#27\":15628,\"#28\":15328,\"#29\":15328},{\"#6\":\"#38\",\"#8\":\"#9\",\"#10\":46868,\"#11\":982,\"#12\":\"img\",\"#14\":\"h2\",\"#15\":0,\"#16\":0,\"#17\":0,\"#18\":46868,\"#19\":46868,\"#20\":46868,\"#21\":46868,\"#22\":46868,\"#23\":46868,\"#24\":47823,\"#25\":47849,\"#26\":47850,\"#27\":8430,\"#28\":8130,\"#29\":8130},{\"#6\":\"#39\",\"#8\":\"#9\",\"#10\":46869,\"#11\":1037,\"#12\":\"img\",\"#14\":\"h2\",\"#15\":0,\"#16\":0,\"#17\":0,\"#18\":46869,\"#19\":46869,\"#20\":46869,\"#21\":46869,\"#22\":46869,\"#23\":46869,\"#24\":47868,\"#25\":47905,\"#26\":47906,\"#27\":17741,\"#28\":17441,\"#29\":17441},{\"#6\":\"#40\",\"#8\":\"#9\",\"#10\":46869,\"#11\":1048,\"#12\":\"img\",\"#14\":\"h2\",\"#15\":0,\"#16\":0,\"#17\":0,\"#18\":46869,\"#19\":46869,\"#20\":46869,\"#21\":46869,\"#22\":46869,\"#23\":46869,\"#24\":47879,\"#25\":47916,\"#26\":47917,\"#27\":3188,\"#28\":2888,\"#29\":2888},{\"#6\":\"#41\",\"#8\":\"#9\",\"#10\":46869,\"#11\":1298,\"#12\":\"img\",\"#14\":\"h2\",\"#15\":0,\"#16\":0,\"#17\":0,\"#18\":46869,\"#19\":46869,\"#20\":46869,\"#21\":46869,\"#22\":46869,\"#23\":46869,\"#24\":48141,\"#25\":48167,\"#26\":48167,\"#27\":4708,\"#28\":4408,\"#29\":4408},{\"#6\":\"#42\",\"#8\":\"#9\",\"#10\":46869,\"#11\":1298,\"#12\":\"img\",\"#14\":\"h2\",\"#15\":0,\"#16\":0,\"#17\":0,\"#18\":46869,\"#19\":46869,\"#20\":46869,\"#21\":46869,\"#22\":46869,\"#23\":46869,\"#24\":48142,\"#25\":48166,\"#26\":48167,\"#27\":5090,\"#28\":4790,\"#29\":4790},{\"#6\":\"#43\",\"#8\":\"#9\",\"#10\":46869,\"#11\":1450,\"#12\":\"img\",\"#14\":\"h2\",\"#15\":0,\"#16\":0,\"#17\":0,\"#18\":46869,\"#19\":46869,\"#20\":46869,\"#21\":46869,\"#22\":46869,\"#23\":46869,\"#24\":48177,\"#25\":48319,\"#26\":48320,\"#27\":3325,\"#28\":3025,\"#29\":3025},{\"#6\":\"#44\",\"#8\":\"#9\",\"#10\":46870,\"#11\":1450,\"#12\":\"img\",\"#14\":\"h2\",\"#15\":0,\"#16\":0,\"#17\":0,\"#18\":46870,\"#19\":46870,\"#20\":46870,\"#21\":46870,\"#22\":46870,\"#23\":46870,\"#24\":48180,\"#25\":48319,\"#26\":48320,\"#27\":9530,\"#28\":9230,\"#29\":9230},{\"#6\":\"#45\",\"#8\":\"#9\",\"#10\":46870,\"#11\":1591,\"#12\":\"img\",\"#14\":\"h2\",\"#15\":0,\"#16\":0,\"#17\":0,\"#18\":46870,\"#19\":46870,\"#20\":46870,\"#21\":46870,\"#22\":46870,\"#23\":46870,\"#24\":48322,\"#25\":48461,\"#26\":48461,\"#27\":3829,\"#28\":3529,\"#29\":3529},{\"#6\":\"#46\",\"#8\":\"#9\",\"#10\":46870,\"#11\":1592,\"#12\":\"img\",\"#14\":\"h2\",\"#15\":0,\"#16\":0,\"#17\":0,\"#18\":46870,\"#19\":46870,\"#20\":46870,\"#21\":46870,\"#22\":46870,\"#23\":46870,\"#24\":48323,\"#25\":48461,\"#26\":48462,\"#27\":7049,\"#28\":6749,\"#29\":6749},{\"#6\":\"#47\",\"#8\":\"#9\",\"#10\":46870,\"#11\":1711,\"#12\":\"img\",\"#14\":\"h2\",\"#15\":0,\"#16\":0,\"#17\":0,\"#18\":46870,\"#19\":46870,\"#20\":46870,\"#21\":46870,\"#22\":46870,\"#23\":46870,\"#24\":48463,\"#25\":48581,\"#26\":48582,\"#27\":5596,\"#28\":5296,\"#29\":5296},{\"#6\":\"#48\",\"#8\":\"#9\",\"#10\":46870,\"#11\":1712,\"#12\":\"img\",\"#14\":\"h2\",\"#15\":0,\"#16\":0,\"#17\":0,\"#18\":46870,\"#19\":46870,\"#20\":46870,\"#21\":46870,\"#22\":46870,\"#23\":46870,\"#24\":48463,\"#25\":48582,\"#26\":48582,\"#27\":16186,\"#28\":15886,\"#29\":15886},{\"#6\":\"#49\",\"#8\":\"#9\",\"#10\":46871,\"#11\":1765,\"#12\":\"img\",\"#14\":\"h2\",\"#15\":0,\"#16\":0,\"#17\":0,\"#18\":46871,\"#19\":46871,\"#20\":46871,\"#21\":46871,\"#22\":46871,\"#23\":46871,\"#24\":48584,\"#25\":48634,\"#26\":48635,\"#27\":9165,\"#28\":8865,\"#29\":8865},{\"#6\":\"#50\",\"#8\":\"#9\",\"#10\":47720,\"#11\":917,\"#12\":\"#51\",\"#14\":\"h2\",\"#15\":0,\"#16\":0,\"#17\":0,\"#18\":47720,\"#19\":47720,\"#20\":47720,\"#21\":47720,\"#22\":47720,\"#23\":47720,\"#24\":48586,\"#25\":48636,\"#26\":48637,\"#27\":93536,\"#28\":93236,\"#29\":93236},{\"#6\":\"#52\",\"#8\":\"#9\",\"#10\":47808,\"#11\":1247,\"#12\":\"#51\",\"#14\":\"h2\",\"#15\":0,\"#16\":0,\"#17\":0,\"#18\":47808,\"#19\":47808,\"#20\":47808,\"#21\":48645,\"#22\":48996,\"#23\":48971,\"#24\":48998,\"#25\":49047,\"#26\":49055,\"#27\":976,\"#28\":676,\"#29\":676},{\"#6\":\"#53\",\"#8\":\"#9\",\"#10\":47808,\"#11\":1249,\"#12\":\"#51\",\"#14\":\"h2\",\"#15\":0,\"#16\":0,\"#17\":0,\"#18\":47808,\"#19\":47808,\"#20\":47808,\"#21\":47808,\"#22\":47808,\"#23\":47808,\"#24\":48998,\"#25\":49055,\"#26\":49058,\"#27\":69575,\"#28\":69275,\"#29\":69275},{\"#6\":\"#54\",\"#8\":\"#9\",\"#10\":47887,\"#11\":1234,\"#12\":\"#51\",\"#14\":\"h2\",\"#15\":0,\"#16\":0,\"#17\":0,\"#18\":47887,\"#19\":47887,\"#20\":47887,\"#21\":47887,\"#22\":47887,\"#23\":47887,\"#24\":49072,\"#25\":49119,\"#26\":49120,\"#27\":10458,\"#28\":10158,\"#29\":10158},{\"#6\":\"#55\",\"#8\":\"#9\",\"#10\":47921,\"#11\":460,\"#12\":\"#56\",\"#14\":\"h2\",\"#15\":0,\"#16\":0,\"#17\":0,\"#18\":47921,\"#19\":47921,\"#20\":47921,\"#21\":47922,\"#22\":48268,\"#23\":48253,\"#24\":48269,\"#25\":48379,\"#26\":48380,\"#27\":323,\"#28\":23,\"#29\":23},{\"#6\":\"#57\",\"#8\":\"#9\",\"#10\":48086,\"#11\":1132,\"#12\":\"#51\",\"#14\":\"h2\",\"#15\":0,\"#16\":0,\"#17\":0,\"#18\":48086,\"#19\":48086,\"#20\":48086,\"#21\":48086,\"#22\":48086,\"#23\":48086,\"#24\":49086,\"#25\":49212,\"#26\":49218,\"#27\":550708,\"#28\":550408,\"#29\":550408},{\"#6\":\"#58\",\"#8\":\"#9\",\"#10\":59942,\"#11\":26,\"#12\":\"css\",\"#14\":\"h2\",\"#15\":0,\"#16\":0,\"#17\":0,\"#18\":59942,\"#19\":59942,\"#20\":59942,\"#21\":59942,\"#22\":59942,\"#23\":59942,\"#24\":59944,\"#25\":59967,\"#26\":59968,\"#27\":1998,\"#28\":1698,\"#29\":1698}],\"#59\":\"csm\",\"#60\":\"#61\",\"#62\":\"2024-11-22T14:24:29.398Z\",\"#63\":\"QC01T4R0X1TWXYANAB7B-1732285469398-5433743769\",\"#64\":\"#65\",\"#66\":\"#67\",\"#68\":\"#69\"}},{\"data\":{\"#70\":\"#71\",\"#72\":{\"#73\":\"12\",\"#74\":\"#75\"},\"#59\":\"#76\",\"#60\":\"#77\",\"#62\":\"2024-11-22T14:24:33.993Z\",\"#63\":\"QC01T4R0X1TWXYANAB7B-1732285473993-5960892771\",\"#64\":\"#65\",\"#66\":\"#67\",\"#68\":\"#69\"}},{\"data\":{\"#70\":\"#71\",\"#72\":{\"#73\":\"101\",\"#74\":\"#78\"},\"#59\":\"#76\",\"#60\":\"#77\",\"#62\":\"2024-11-22T14:24:33.994Z\",\"#63\":\"QC01T4R0X1TWXYANAB7B-1732285473994-9633287690\",\"#64\":\"#65\",\"#66\":\"#67\",\"#68\":\"#69\"}}]}</th>\n",
       "      <th>...</th>\n",
       "      <th>body_{\"referrer\":\"https://timesofindia.indiatimes.com/technology/tech-news/zepto-is-not-an-amazon-or-walmart-but-an-indian-company-with-zepto-ceo-aadit-palicha/articleshow/115540600.cms\",\"pageReferrer\":\"https://www.google.com/\",\"pageTitle\":\"Zepto CEO Aadit Palicha: Zepto is not an “Amazon or Walmart” but an Indian company with ... - Times of India\",\"pageDescription\":\"TECH NEWS : Zepto, India's fastest-growing quick-commerce startup, has secured $350 million from domestic investors. CEO Aadit Palicha aims to transition Zepto in\",\"networkBandwidth\":\"10\",\"timeToFirstByte\":\"9290\",\"data\":[{\"sizes\":[\"300x250\",\"250x250\"],\"bidId\":\"122aee91e81137c5\",\"bidderRequestId\":\"1216bfd554682f3c\",\"placementId\":182808,\"pageId\":167940,\"adUnitCode\":\"div-gpt-ad-1233713578908-b805e1b5-14a7-4a28-9322-bdab4b0ad08a-115540600-1\",\"transactionId\":\"52b597d3-6c5c-489e-afdc-88fcfc589ca5\",\"gpid\":\"/7176/TOI/TOI_Tech/TOI_Tech_BTF_INF_300\"}],\"deviceWidth\":1600,\"deviceHeight\":900,\"devicePixelRatio\":1,\"screenOrientation\":\"landscape-primary\",\"historyLength\":4,\"viewportHeight\":765,\"viewportWidth\":1583,\"hardwareConcurrency\":4,\"deviceMemory\":8,\"hb_version\":\"9.11.0\",\"publisherFirstPartyViewerId\":\"9b105281-63da-4fc4-a467-f85f19e64465\",\"userAgentClientHints\":{\"source\":1,\"platform\":{\"brand\":\"Windows\"},\"browsers\":[{\"brand\":\"Not?A_Brand\",\"version\":[\"99\"]},{\"brand\":\"Chromium\",\"version\":[\"130\"]}],\"mobile\":0}}</th>\n",
       "      <th>body_{\"referrer\":\"https://timesofindia.indiatimes.com/technology/tech-news/zepto-is-not-an-amazon-or-walmart-but-an-indian-company-with-zepto-ceo-aadit-palicha/articleshow/115540600.cms\",\"pageReferrer\":\"https://www.google.com/\",\"pageTitle\":\"Zepto CEO Aadit Palicha: Zepto is not an “Amazon or Walmart” but an Indian company with ... - Times of India\",\"pageDescription\":\"TECH NEWS : Zepto, India's fastest-growing quick-commerce startup, has secured $350 million from domestic investors. CEO Aadit Palicha aims to transition Zepto in\",\"networkBandwidth\":\"10\",\"timeToFirstByte\":\"9290\",\"data\":[{\"sizes\":[\"300x250\",\"250x250\"],\"bidId\":\"580ce0a9fdc21cf\",\"bidderRequestId\":\"5755110622d55d2\",\"placementId\":182808,\"pageId\":167940,\"adUnitCode\":\"div-gpt-ad-1533900544881-f4e49dbf-371a-46f0-aa22-a1e5fba8d406-115540600-1\",\"transactionId\":\"79fbf211-dcae-48ab-819f-dcbe912aedac\",\"gpid\":\"/7176/TOI/TOI_Tech/TOI_Tech_MTF_300\"}],\"deviceWidth\":1600,\"deviceHeight\":900,\"devicePixelRatio\":1,\"screenOrientation\":\"landscape-primary\",\"historyLength\":4,\"viewportHeight\":765,\"viewportWidth\":1583,\"hardwareConcurrency\":4,\"deviceMemory\":8,\"hb_version\":\"9.11.0\",\"publisherFirstPartyViewerId\":\"9b105281-63da-4fc4-a467-f85f19e64465\",\"userAgentClientHints\":{\"source\":1,\"platform\":{\"brand\":\"Windows\"},\"browsers\":[{\"brand\":\"Not?A_Brand\",\"version\":[\"99\"]},{\"brand\":\"Chromium\",\"version\":[\"130\"]}],\"mobile\":0}}</th>\n",
       "      <th>body_[[1,null,null,null,null,null,null,null,null,null,[null,null,null,null,null,null,\"TE_20241120\",null,[[[\"Not?A_Brand\",\"99\"],[\"Chromium\",\"130\"]],0,\"Windows\",\"\",\"\",\"\",\"\"],[3,1,0,0,0]]],1871,[[\"1732285589724\",null,null,null,null,null,null,\"[\\\"\\\",null,null,null,null,null,null,null,null,null,null,null,null,null,null,\\\"\\\",null,null,null,null,null,null,null,null,null,null,null,null,null,null,null,null,null,null,null,null,null,null,null,null,null,null,null,null,null,null,null,null,null,\\\"en-GB\\\",null,null,null,null,null,null,null,null,null,null,null,null,null,null,null,null,null,null,null,null,null,null,null,null,null,null,null,null,null,null,null,null,null,null,null,null,null,null,null,null,null,null,null,null,null,null,null,null,null,null,null,null,null,null,null,null,null,null,null,null,null,[3,\\\"te\\\",\\\"DA643DAB-7C3C-4AB5-A121-2FBA33D6ACB9\\\"]]\",null,null,3,null,null,null,-19800,null,null,null,null,null,2]],\"1732285589725\"]</th>\n",
       "      <th>single_q</th>\n",
       "      <th>double_q</th>\n",
       "      <th>dashes</th>\n",
       "      <th>braces</th>\n",
       "      <th>spaces</th>\n",
       "      <th>badwords_count</th>\n",
       "      <th>Cluster</th>\n",
       "    </tr>\n",
       "  </thead>\n",
       "  <tbody>\n",
       "    <tr>\n",
       "      <th>0</th>\n",
       "      <td>0.487582</td>\n",
       "      <td>-0.0553</td>\n",
       "      <td>-0.0553</td>\n",
       "      <td>-0.0553</td>\n",
       "      <td>-0.0553</td>\n",
       "      <td>-0.0553</td>\n",
       "      <td>-0.0553</td>\n",
       "      <td>-0.0553</td>\n",
       "      <td>-0.0553</td>\n",
       "      <td>-0.0553</td>\n",
       "      <td>...</td>\n",
       "      <td>-0.0553</td>\n",
       "      <td>-0.0553</td>\n",
       "      <td>-0.0553</td>\n",
       "      <td>-0.111111</td>\n",
       "      <td>-0.140111</td>\n",
       "      <td>-0.055300</td>\n",
       "      <td>-0.242671</td>\n",
       "      <td>-0.228463</td>\n",
       "      <td>-0.442472</td>\n",
       "      <td>Cluster 1</td>\n",
       "    </tr>\n",
       "    <tr>\n",
       "      <th>1</th>\n",
       "      <td>0.487582</td>\n",
       "      <td>-0.0553</td>\n",
       "      <td>-0.0553</td>\n",
       "      <td>-0.0553</td>\n",
       "      <td>-0.0553</td>\n",
       "      <td>-0.0553</td>\n",
       "      <td>-0.0553</td>\n",
       "      <td>-0.0553</td>\n",
       "      <td>-0.0553</td>\n",
       "      <td>-0.0553</td>\n",
       "      <td>...</td>\n",
       "      <td>-0.0553</td>\n",
       "      <td>-0.0553</td>\n",
       "      <td>-0.0553</td>\n",
       "      <td>-0.111111</td>\n",
       "      <td>-0.140111</td>\n",
       "      <td>-0.055300</td>\n",
       "      <td>-0.242671</td>\n",
       "      <td>-0.228463</td>\n",
       "      <td>-0.442472</td>\n",
       "      <td>Cluster 1</td>\n",
       "    </tr>\n",
       "    <tr>\n",
       "      <th>2</th>\n",
       "      <td>0.487582</td>\n",
       "      <td>-0.0553</td>\n",
       "      <td>-0.0553</td>\n",
       "      <td>-0.0553</td>\n",
       "      <td>-0.0553</td>\n",
       "      <td>-0.0553</td>\n",
       "      <td>-0.0553</td>\n",
       "      <td>-0.0553</td>\n",
       "      <td>-0.0553</td>\n",
       "      <td>-0.0553</td>\n",
       "      <td>...</td>\n",
       "      <td>-0.0553</td>\n",
       "      <td>-0.0553</td>\n",
       "      <td>-0.0553</td>\n",
       "      <td>-0.111111</td>\n",
       "      <td>-0.140111</td>\n",
       "      <td>-0.055300</td>\n",
       "      <td>-0.242671</td>\n",
       "      <td>-0.228463</td>\n",
       "      <td>-0.442472</td>\n",
       "      <td>Cluster 1</td>\n",
       "    </tr>\n",
       "    <tr>\n",
       "      <th>3</th>\n",
       "      <td>0.487582</td>\n",
       "      <td>-0.0553</td>\n",
       "      <td>-0.0553</td>\n",
       "      <td>-0.0553</td>\n",
       "      <td>-0.0553</td>\n",
       "      <td>-0.0553</td>\n",
       "      <td>-0.0553</td>\n",
       "      <td>-0.0553</td>\n",
       "      <td>-0.0553</td>\n",
       "      <td>-0.0553</td>\n",
       "      <td>...</td>\n",
       "      <td>-0.0553</td>\n",
       "      <td>-0.0553</td>\n",
       "      <td>-0.0553</td>\n",
       "      <td>-0.111111</td>\n",
       "      <td>-0.140111</td>\n",
       "      <td>-0.055300</td>\n",
       "      <td>-0.242671</td>\n",
       "      <td>-0.228463</td>\n",
       "      <td>-0.442472</td>\n",
       "      <td>Cluster 1</td>\n",
       "    </tr>\n",
       "    <tr>\n",
       "      <th>4</th>\n",
       "      <td>0.487582</td>\n",
       "      <td>-0.0553</td>\n",
       "      <td>-0.0553</td>\n",
       "      <td>-0.0553</td>\n",
       "      <td>-0.0553</td>\n",
       "      <td>-0.0553</td>\n",
       "      <td>-0.0553</td>\n",
       "      <td>-0.0553</td>\n",
       "      <td>-0.0553</td>\n",
       "      <td>-0.0553</td>\n",
       "      <td>...</td>\n",
       "      <td>-0.0553</td>\n",
       "      <td>-0.0553</td>\n",
       "      <td>-0.0553</td>\n",
       "      <td>-0.111111</td>\n",
       "      <td>-0.140111</td>\n",
       "      <td>-0.055300</td>\n",
       "      <td>-0.242671</td>\n",
       "      <td>-0.228463</td>\n",
       "      <td>-0.442472</td>\n",
       "      <td>Cluster 1</td>\n",
       "    </tr>\n",
       "    <tr>\n",
       "      <th>...</th>\n",
       "      <td>...</td>\n",
       "      <td>...</td>\n",
       "      <td>...</td>\n",
       "      <td>...</td>\n",
       "      <td>...</td>\n",
       "      <td>...</td>\n",
       "      <td>...</td>\n",
       "      <td>...</td>\n",
       "      <td>...</td>\n",
       "      <td>...</td>\n",
       "      <td>...</td>\n",
       "      <td>...</td>\n",
       "      <td>...</td>\n",
       "      <td>...</td>\n",
       "      <td>...</td>\n",
       "      <td>...</td>\n",
       "      <td>...</td>\n",
       "      <td>...</td>\n",
       "      <td>...</td>\n",
       "      <td>...</td>\n",
       "      <td>...</td>\n",
       "    </tr>\n",
       "    <tr>\n",
       "      <th>319</th>\n",
       "      <td>-2.050939</td>\n",
       "      <td>-0.0553</td>\n",
       "      <td>-0.0553</td>\n",
       "      <td>-0.0553</td>\n",
       "      <td>-0.0553</td>\n",
       "      <td>-0.0553</td>\n",
       "      <td>-0.0553</td>\n",
       "      <td>-0.0553</td>\n",
       "      <td>-0.0553</td>\n",
       "      <td>-0.0553</td>\n",
       "      <td>...</td>\n",
       "      <td>-0.0553</td>\n",
       "      <td>-0.0553</td>\n",
       "      <td>-0.0553</td>\n",
       "      <td>-0.111111</td>\n",
       "      <td>0.748057</td>\n",
       "      <td>9.013921</td>\n",
       "      <td>4.948370</td>\n",
       "      <td>0.597484</td>\n",
       "      <td>-0.442472</td>\n",
       "      <td>Cluster 1</td>\n",
       "    </tr>\n",
       "    <tr>\n",
       "      <th>320</th>\n",
       "      <td>-2.050939</td>\n",
       "      <td>-0.0553</td>\n",
       "      <td>-0.0553</td>\n",
       "      <td>-0.0553</td>\n",
       "      <td>-0.0553</td>\n",
       "      <td>-0.0553</td>\n",
       "      <td>-0.0553</td>\n",
       "      <td>-0.0553</td>\n",
       "      <td>-0.0553</td>\n",
       "      <td>-0.0553</td>\n",
       "      <td>...</td>\n",
       "      <td>-0.0553</td>\n",
       "      <td>-0.0553</td>\n",
       "      <td>-0.0553</td>\n",
       "      <td>-0.111111</td>\n",
       "      <td>0.748057</td>\n",
       "      <td>9.013921</td>\n",
       "      <td>4.948370</td>\n",
       "      <td>0.597484</td>\n",
       "      <td>-0.442472</td>\n",
       "      <td>Cluster 1</td>\n",
       "    </tr>\n",
       "    <tr>\n",
       "      <th>321</th>\n",
       "      <td>-2.050939</td>\n",
       "      <td>-0.0553</td>\n",
       "      <td>-0.0553</td>\n",
       "      <td>-0.0553</td>\n",
       "      <td>-0.0553</td>\n",
       "      <td>-0.0553</td>\n",
       "      <td>-0.0553</td>\n",
       "      <td>-0.0553</td>\n",
       "      <td>-0.0553</td>\n",
       "      <td>-0.0553</td>\n",
       "      <td>...</td>\n",
       "      <td>-0.0553</td>\n",
       "      <td>-0.0553</td>\n",
       "      <td>-0.0553</td>\n",
       "      <td>-0.111111</td>\n",
       "      <td>0.626251</td>\n",
       "      <td>9.013921</td>\n",
       "      <td>4.948370</td>\n",
       "      <td>0.897829</td>\n",
       "      <td>-0.442472</td>\n",
       "      <td>Cluster 1</td>\n",
       "    </tr>\n",
       "    <tr>\n",
       "      <th>322</th>\n",
       "      <td>0.487582</td>\n",
       "      <td>-0.0553</td>\n",
       "      <td>-0.0553</td>\n",
       "      <td>-0.0553</td>\n",
       "      <td>-0.0553</td>\n",
       "      <td>-0.0553</td>\n",
       "      <td>-0.0553</td>\n",
       "      <td>-0.0553</td>\n",
       "      <td>-0.0553</td>\n",
       "      <td>-0.0553</td>\n",
       "      <td>...</td>\n",
       "      <td>-0.0553</td>\n",
       "      <td>-0.0553</td>\n",
       "      <td>-0.0553</td>\n",
       "      <td>-0.111111</td>\n",
       "      <td>-0.140111</td>\n",
       "      <td>-0.055300</td>\n",
       "      <td>-0.242671</td>\n",
       "      <td>-0.228463</td>\n",
       "      <td>-0.442472</td>\n",
       "      <td>Cluster 1</td>\n",
       "    </tr>\n",
       "    <tr>\n",
       "      <th>323</th>\n",
       "      <td>0.487582</td>\n",
       "      <td>-0.0553</td>\n",
       "      <td>-0.0553</td>\n",
       "      <td>-0.0553</td>\n",
       "      <td>-0.0553</td>\n",
       "      <td>-0.0553</td>\n",
       "      <td>-0.0553</td>\n",
       "      <td>-0.0553</td>\n",
       "      <td>-0.0553</td>\n",
       "      <td>-0.0553</td>\n",
       "      <td>...</td>\n",
       "      <td>-0.0553</td>\n",
       "      <td>-0.0553</td>\n",
       "      <td>-0.0553</td>\n",
       "      <td>-0.111111</td>\n",
       "      <td>-0.140111</td>\n",
       "      <td>-0.055300</td>\n",
       "      <td>-0.242671</td>\n",
       "      <td>-0.228463</td>\n",
       "      <td>-0.442472</td>\n",
       "      <td>Cluster 1</td>\n",
       "    </tr>\n",
       "  </tbody>\n",
       "</table>\n",
       "<p>324 rows × 71 columns</p>\n",
       "</div>"
      ],
      "text/plain": [
       "     body_[1,\"\",1,\"en\",\"co.in\",0,null,0,0,\"\",\"\",1,0,null,89978449,null,[1]]  \\\n",
       "0                                             0.487582                        \n",
       "1                                             0.487582                        \n",
       "2                                             0.487582                        \n",
       "3                                             0.487582                        \n",
       "4                                             0.487582                        \n",
       "..                                                 ...                        \n",
       "319                                          -2.050939                        \n",
       "320                                          -2.050939                        \n",
       "321                                          -2.050939                        \n",
       "322                                           0.487582                        \n",
       "323                                           0.487582                        \n",
       "\n",
       "     body_{\"tags\":[{\"sizes\":[{\"width\":300,\"height\":250},{\"width\":250,\"height\":250}],\"primary_size\":{\"width\":300,\"height\":250},\"ad_types\":[\"banner\"],\"uuid\":\"783358b34eb5fb6\",\"id\":33893102,\"allow_smaller_sizes\":true,\"use_pmt_rule\":false,\"prebid\":true,\"disable_psa\":true,\"reserve\":0.55,\"position\":2,\"supply_type\":\"web\",\"gpid\":\"/7176/TOI/TOI_Tech/TOI_Tech_BTF_300\",\"hb_source\":1}],\"user\":{},\"sdk\":{\"source\":\"pbjs\",\"version\":\"9.11.0\"},\"device\":{\"useragent\":\"Mozilla/5.0 (Windows NT 10.0; Win64; x64) AppleWebKit/537.36 (KHTML, like Gecko) Chrome/130.0.6723.70 Safari/537.36\",\"w\":1600,\"h\":900},\"keywords\":[{\"key\":\"zepto vs swiggy\"},{\"key\":\"zepto ceo aadit palicha\"},{\"key\":\"zepto ceo\"},{\"key\":\"Zepto\"},{\"key\":\"Aadit Palicha\"}],\"referrer_detection\":{\"rd_ref\":\"https://timesofindia.indiatimes.com/technology/tech-news/zepto-is-not-an-amazon-or-walmart-but-an-indian-company-with-zepto-ceo-aadit-palicha/articleshow/115540600.cms\",\"rd_top\":true,\"rd_ifs\":0,\"rd_stk\":\"https://timesofindia.indiatimes.com/technology/tech-news/zepto-is-not-an-amazon-or-walmart-but-an-indian-company-with-zepto-ceo-aadit-palicha/articleshow/115540600.cms\",\"rd_can\":\"https://timesofindia.indiatimes.com/technology/tech-news/zepto-is-not-an-amazon-or-walmart-but-an-indian-company-with-zepto-ceo-aadit-palicha/articleshow/115540600.cms\"},\"eids\":[{\"source\":\"pubcid.org\",\"id\":\"9b105281-63da-4fc4-a467-f85f19e64465\"}]}  \\\n",
       "0                                              -0.0553                                                                                                                                                                                                                                                                                                                                                                                                                                                                                                                                                                                                                                                                                                                                                                                                                                                                                                                                                                                                                                                                                                                                                                                                                                                                                                                                                                                    \n",
       "1                                              -0.0553                                                                                                                                                                                                                                                                                                                                                                                                                                                                                                                                                                                                                                                                                                                                                                                                                                                                                                                                                                                                                                                                                                                                                                                                                                                                                                                                                                                    \n",
       "2                                              -0.0553                                                                                                                                                                                                                                                                                                                                                                                                                                                                                                                                                                                                                                                                                                                                                                                                                                                                                                                                                                                                                                                                                                                                                                                                                                                                                                                                                                                    \n",
       "3                                              -0.0553                                                                                                                                                                                                                                                                                                                                                                                                                                                                                                                                                                                                                                                                                                                                                                                                                                                                                                                                                                                                                                                                                                                                                                                                                                                                                                                                                                                    \n",
       "4                                              -0.0553                                                                                                                                                                                                                                                                                                                                                                                                                                                                                                                                                                                                                                                                                                                                                                                                                                                                                                                                                                                                                                                                                                                                                                                                                                                                                                                                                                                    \n",
       "..                                                 ...                                                                                                                                                                                                                                                                                                                                                                                                                                                                                                                                                                                                                                                                                                                                                                                                                                                                                                                                                                                                                                                                                                                                                                                                                                                                                                                                                                                    \n",
       "319                                            -0.0553                                                                                                                                                                                                                                                                                                                                                                                                                                                                                                                                                                                                                                                                                                                                                                                                                                                                                                                                                                                                                                                                                                                                                                                                                                                                                                                                                                                    \n",
       "320                                            -0.0553                                                                                                                                                                                                                                                                                                                                                                                                                                                                                                                                                                                                                                                                                                                                                                                                                                                                                                                                                                                                                                                                                                                                                                                                                                                                                                                                                                                    \n",
       "321                                            -0.0553                                                                                                                                                                                                                                                                                                                                                                                                                                                                                                                                                                                                                                                                                                                                                                                                                                                                                                                                                                                                                                                                                                                                                                                                                                                                                                                                                                                    \n",
       "322                                            -0.0553                                                                                                                                                                                                                                                                                                                                                                                                                                                                                                                                                                                                                                                                                                                                                                                                                                                                                                                                                                                                                                                                                                                                                                                                                                                                                                                                                                                    \n",
       "323                                            -0.0553                                                                                                                                                                                                                                                                                                                                                                                                                                                                                                                                                                                                                                                                                                                                                                                                                                                                                                                                                                                                                                                                                                                                                                                                                                                                                                                                                                                    \n",
       "\n",
       "     body_{\"tags\":[{\"sizes\":[{\"width\":300,\"height\":250},{\"width\":250,\"height\":250}],\"primary_size\":{\"width\":300,\"height\":250},\"ad_types\":[\"banner\"],\"uuid\":\"529c5055f992868\",\"id\":33893102,\"allow_smaller_sizes\":true,\"use_pmt_rule\":false,\"prebid\":true,\"disable_psa\":true,\"reserve\":0.55,\"position\":2,\"supply_type\":\"web\",\"gpid\":\"/7176/TOI/TOI_Tech/TOI_Tech_MTF_300\",\"hb_source\":1}],\"user\":{},\"sdk\":{\"source\":\"pbjs\",\"version\":\"9.11.0\"},\"device\":{\"useragent\":\"Mozilla/5.0 (Windows NT 10.0; Win64; x64) AppleWebKit/537.36 (KHTML, like Gecko) Chrome/130.0.6723.70 Safari/537.36\",\"w\":1600,\"h\":900},\"keywords\":[{\"key\":\"zepto vs swiggy\"},{\"key\":\"zepto ceo aadit palicha\"},{\"key\":\"zepto ceo\"},{\"key\":\"Zepto\"},{\"key\":\"Aadit Palicha\"}],\"referrer_detection\":{\"rd_ref\":\"https://timesofindia.indiatimes.com/technology/tech-news/zepto-is-not-an-amazon-or-walmart-but-an-indian-company-with-zepto-ceo-aadit-palicha/articleshow/115540600.cms\",\"rd_top\":true,\"rd_ifs\":0,\"rd_stk\":\"https://timesofindia.indiatimes.com/technology/tech-news/zepto-is-not-an-amazon-or-walmart-but-an-indian-company-with-zepto-ceo-aadit-palicha/articleshow/115540600.cms\",\"rd_can\":\"https://timesofindia.indiatimes.com/technology/tech-news/zepto-is-not-an-amazon-or-walmart-but-an-indian-company-with-zepto-ceo-aadit-palicha/articleshow/115540600.cms\"},\"eids\":[{\"source\":\"pubcid.org\",\"id\":\"9b105281-63da-4fc4-a467-f85f19e64465\"}]}  \\\n",
       "0                                              -0.0553                                                                                                                                                                                                                                                                                                                                                                                                                                                                                                                                                                                                                                                                                                                                                                                                                                                                                                                                                                                                                                                                                                                                                                                                                                                                                                                                                                                    \n",
       "1                                              -0.0553                                                                                                                                                                                                                                                                                                                                                                                                                                                                                                                                                                                                                                                                                                                                                                                                                                                                                                                                                                                                                                                                                                                                                                                                                                                                                                                                                                                    \n",
       "2                                              -0.0553                                                                                                                                                                                                                                                                                                                                                                                                                                                                                                                                                                                                                                                                                                                                                                                                                                                                                                                                                                                                                                                                                                                                                                                                                                                                                                                                                                                    \n",
       "3                                              -0.0553                                                                                                                                                                                                                                                                                                                                                                                                                                                                                                                                                                                                                                                                                                                                                                                                                                                                                                                                                                                                                                                                                                                                                                                                                                                                                                                                                                                    \n",
       "4                                              -0.0553                                                                                                                                                                                                                                                                                                                                                                                                                                                                                                                                                                                                                                                                                                                                                                                                                                                                                                                                                                                                                                                                                                                                                                                                                                                                                                                                                                                    \n",
       "..                                                 ...                                                                                                                                                                                                                                                                                                                                                                                                                                                                                                                                                                                                                                                                                                                                                                                                                                                                                                                                                                                                                                                                                                                                                                                                                                                                                                                                                                                    \n",
       "319                                            -0.0553                                                                                                                                                                                                                                                                                                                                                                                                                                                                                                                                                                                                                                                                                                                                                                                                                                                                                                                                                                                                                                                                                                                                                                                                                                                                                                                                                                                    \n",
       "320                                            -0.0553                                                                                                                                                                                                                                                                                                                                                                                                                                                                                                                                                                                                                                                                                                                                                                                                                                                                                                                                                                                                                                                                                                                                                                                                                                                                                                                                                                                    \n",
       "321                                            -0.0553                                                                                                                                                                                                                                                                                                                                                                                                                                                                                                                                                                                                                                                                                                                                                                                                                                                                                                                                                                                                                                                                                                                                                                                                                                                                                                                                                                                    \n",
       "322                                            -0.0553                                                                                                                                                                                                                                                                                                                                                                                                                                                                                                                                                                                                                                                                                                                                                                                                                                                                                                                                                                                                                                                                                                                                                                                                                                                                                                                                                                                    \n",
       "323                                            -0.0553                                                                                                                                                                                                                                                                                                                                                                                                                                                                                                                                                                                                                                                                                                                                                                                                                                                                                                                                                                                                                                                                                                                                                                                                                                                                                                                                                                                    \n",
       "\n",
       "     body_{\"tags\":[{\"sizes\":[{\"width\":300,\"height\":250},{\"width\":250,\"height\":250}],\"primary_size\":{\"width\":300,\"height\":250},\"ad_types\":[\"banner\"],\"uuid\":\"126aa668b6656dae\",\"id\":33893102,\"allow_smaller_sizes\":true,\"use_pmt_rule\":false,\"prebid\":true,\"disable_psa\":true,\"reserve\":0.55,\"position\":2,\"supply_type\":\"web\",\"gpid\":\"/7176/TOI/TOI_Tech/TOI_Tech_BTF_INF_300\",\"hb_source\":1}],\"user\":{},\"sdk\":{\"source\":\"pbjs\",\"version\":\"9.11.0\"},\"device\":{\"useragent\":\"Mozilla/5.0 (Windows NT 10.0; Win64; x64) AppleWebKit/537.36 (KHTML, like Gecko) Chrome/130.0.6723.70 Safari/537.36\",\"w\":1600,\"h\":900},\"keywords\":[{\"key\":\"zepto vs swiggy\"},{\"key\":\"zepto ceo aadit palicha\"},{\"key\":\"zepto ceo\"},{\"key\":\"Zepto\"},{\"key\":\"Aadit Palicha\"}],\"referrer_detection\":{\"rd_ref\":\"https://timesofindia.indiatimes.com/technology/tech-news/zepto-is-not-an-amazon-or-walmart-but-an-indian-company-with-zepto-ceo-aadit-palicha/articleshow/115540600.cms\",\"rd_top\":true,\"rd_ifs\":0,\"rd_stk\":\"https://timesofindia.indiatimes.com/technology/tech-news/zepto-is-not-an-amazon-or-walmart-but-an-indian-company-with-zepto-ceo-aadit-palicha/articleshow/115540600.cms\",\"rd_can\":\"https://timesofindia.indiatimes.com/technology/tech-news/zepto-is-not-an-amazon-or-walmart-but-an-indian-company-with-zepto-ceo-aadit-palicha/articleshow/115540600.cms\"},\"eids\":[{\"source\":\"pubcid.org\",\"id\":\"9b105281-63da-4fc4-a467-f85f19e64465\"}]}  \\\n",
       "0                                              -0.0553                                                                                                                                                                                                                                                                                                                                                                                                                                                                                                                                                                                                                                                                                                                                                                                                                                                                                                                                                                                                                                                                                                                                                                                                                                                                                                                                                                                         \n",
       "1                                              -0.0553                                                                                                                                                                                                                                                                                                                                                                                                                                                                                                                                                                                                                                                                                                                                                                                                                                                                                                                                                                                                                                                                                                                                                                                                                                                                                                                                                                                         \n",
       "2                                              -0.0553                                                                                                                                                                                                                                                                                                                                                                                                                                                                                                                                                                                                                                                                                                                                                                                                                                                                                                                                                                                                                                                                                                                                                                                                                                                                                                                                                                                         \n",
       "3                                              -0.0553                                                                                                                                                                                                                                                                                                                                                                                                                                                                                                                                                                                                                                                                                                                                                                                                                                                                                                                                                                                                                                                                                                                                                                                                                                                                                                                                                                                         \n",
       "4                                              -0.0553                                                                                                                                                                                                                                                                                                                                                                                                                                                                                                                                                                                                                                                                                                                                                                                                                                                                                                                                                                                                                                                                                                                                                                                                                                                                                                                                                                                         \n",
       "..                                                 ...                                                                                                                                                                                                                                                                                                                                                                                                                                                                                                                                                                                                                                                                                                                                                                                                                                                                                                                                                                                                                                                                                                                                                                                                                                                                                                                                                                                         \n",
       "319                                            -0.0553                                                                                                                                                                                                                                                                                                                                                                                                                                                                                                                                                                                                                                                                                                                                                                                                                                                                                                                                                                                                                                                                                                                                                                                                                                                                                                                                                                                         \n",
       "320                                            -0.0553                                                                                                                                                                                                                                                                                                                                                                                                                                                                                                                                                                                                                                                                                                                                                                                                                                                                                                                                                                                                                                                                                                                                                                                                                                                                                                                                                                                         \n",
       "321                                            -0.0553                                                                                                                                                                                                                                                                                                                                                                                                                                                                                                                                                                                                                                                                                                                                                                                                                                                                                                                                                                                                                                                                                                                                                                                                                                                                                                                                                                                         \n",
       "322                                            -0.0553                                                                                                                                                                                                                                                                                                                                                                                                                                                                                                                                                                                                                                                                                                                                                                                                                                                                                                                                                                                                                                                                                                                                                                                                                                                                                                                                                                                         \n",
       "323                                            -0.0553                                                                                                                                                                                                                                                                                                                                                                                                                                                                                                                                                                                                                                                                                                                                                                                                                                                                                                                                                                                                                                                                                                                                                                                                                                                                                                                                                                                         \n",
       "\n",
       "     body_{\"tags\":[{\"sizes\":[{\"width\":980,\"height\":200},{\"width\":970,\"height\":250},{\"width\":728,\"height\":90},{\"width\":750,\"height\":200},{\"width\":930,\"height\":180},{\"width\":950,\"height\":90},{\"width\":980,\"height\":120},{\"width\":970,\"height\":90}],\"primary_size\":{\"width\":980,\"height\":200},\"ad_types\":[\"banner\"],\"uuid\":\"21aff7294cde39b\",\"id\":33893102,\"allow_smaller_sizes\":true,\"use_pmt_rule\":false,\"prebid\":true,\"disable_psa\":true,\"reserve\":0.55,\"position\":1,\"supply_type\":\"web\",\"gpid\":\"/7176/TOI/TOI_Tech/TOI_Tech_ATF_728\",\"hb_source\":1},{\"sizes\":[{\"width\":300,\"height\":250},{\"width\":250,\"height\":250}],\"primary_size\":{\"width\":300,\"height\":250},\"ad_types\":[\"banner\"],\"uuid\":\"22e750dc3680f5c\",\"id\":33893102,\"allow_smaller_sizes\":true,\"use_pmt_rule\":false,\"prebid\":true,\"disable_psa\":true,\"reserve\":0.55,\"position\":1,\"supply_type\":\"web\",\"gpid\":\"/7176/TOI/TOI_Tech/TOI_Tech_ATF_300\",\"hb_source\":1}],\"user\":{},\"sdk\":{\"source\":\"pbjs\",\"version\":\"9.11.0\"},\"device\":{\"useragent\":\"Mozilla/5.0 (Windows NT 10.0; Win64; x64) AppleWebKit/537.36 (KHTML, like Gecko) Chrome/130.0.6723.70 Safari/537.36\",\"w\":1600,\"h\":900},\"keywords\":[{\"key\":\"zepto vs swiggy\"},{\"key\":\"zepto ceo aadit palicha\"},{\"key\":\"zepto ceo\"},{\"key\":\"Zepto\"},{\"key\":\"Aadit Palicha\"}],\"referrer_detection\":{\"rd_ref\":\"https://timesofindia.indiatimes.com/technology/tech-news/zepto-is-not-an-amazon-or-walmart-but-an-indian-company-with-zepto-ceo-aadit-palicha/articleshow/115540600.cms\",\"rd_top\":true,\"rd_ifs\":0,\"rd_stk\":\"https://timesofindia.indiatimes.com/technology/tech-news/zepto-is-not-an-amazon-or-walmart-but-an-indian-company-with-zepto-ceo-aadit-palicha/articleshow/115540600.cms\",\"rd_can\":\"https://timesofindia.indiatimes.com/technology/tech-news/zepto-is-not-an-amazon-or-walmart-but-an-indian-company-with-zepto-ceo-aadit-palicha/articleshow/115540600.cms\"},\"eids\":[{\"source\":\"pubcid.org\",\"id\":\"9b105281-63da-4fc4-a467-f85f19e64465\"}]}  \\\n",
       "0                                              -0.0553                                                                                                                                                                                                                                                                                                                                                                                                                                                                                                                                                                                                                                                                                                                                                                                                                                                                                                                                                                                                                                                                                                                                                                                                                                                                                                                                                                                                                                                                                                                                                                                                                                                                                                                                                                                                                                                                                                                        \n",
       "1                                              -0.0553                                                                                                                                                                                                                                                                                                                                                                                                                                                                                                                                                                                                                                                                                                                                                                                                                                                                                                                                                                                                                                                                                                                                                                                                                                                                                                                                                                                                                                                                                                                                                                                                                                                                                                                                                                                                                                                                                                                        \n",
       "2                                              -0.0553                                                                                                                                                                                                                                                                                                                                                                                                                                                                                                                                                                                                                                                                                                                                                                                                                                                                                                                                                                                                                                                                                                                                                                                                                                                                                                                                                                                                                                                                                                                                                                                                                                                                                                                                                                                                                                                                                                                        \n",
       "3                                              -0.0553                                                                                                                                                                                                                                                                                                                                                                                                                                                                                                                                                                                                                                                                                                                                                                                                                                                                                                                                                                                                                                                                                                                                                                                                                                                                                                                                                                                                                                                                                                                                                                                                                                                                                                                                                                                                                                                                                                                        \n",
       "4                                              -0.0553                                                                                                                                                                                                                                                                                                                                                                                                                                                                                                                                                                                                                                                                                                                                                                                                                                                                                                                                                                                                                                                                                                                                                                                                                                                                                                                                                                                                                                                                                                                                                                                                                                                                                                                                                                                                                                                                                                                        \n",
       "..                                                 ...                                                                                                                                                                                                                                                                                                                                                                                                                                                                                                                                                                                                                                                                                                                                                                                                                                                                                                                                                                                                                                                                                                                                                                                                                                                                                                                                                                                                                                                                                                                                                                                                                                                                                                                                                                                                                                                                                                                        \n",
       "319                                            -0.0553                                                                                                                                                                                                                                                                                                                                                                                                                                                                                                                                                                                                                                                                                                                                                                                                                                                                                                                                                                                                                                                                                                                                                                                                                                                                                                                                                                                                                                                                                                                                                                                                                                                                                                                                                                                                                                                                                                                        \n",
       "320                                            -0.0553                                                                                                                                                                                                                                                                                                                                                                                                                                                                                                                                                                                                                                                                                                                                                                                                                                                                                                                                                                                                                                                                                                                                                                                                                                                                                                                                                                                                                                                                                                                                                                                                                                                                                                                                                                                                                                                                                                                        \n",
       "321                                            -0.0553                                                                                                                                                                                                                                                                                                                                                                                                                                                                                                                                                                                                                                                                                                                                                                                                                                                                                                                                                                                                                                                                                                                                                                                                                                                                                                                                                                                                                                                                                                                                                                                                                                                                                                                                                                                                                                                                                                                        \n",
       "322                                            -0.0553                                                                                                                                                                                                                                                                                                                                                                                                                                                                                                                                                                                                                                                                                                                                                                                                                                                                                                                                                                                                                                                                                                                                                                                                                                                                                                                                                                                                                                                                                                                                                                                                                                                                                                                                                                                                                                                                                                                        \n",
       "323                                            -0.0553                                                                                                                                                                                                                                                                                                                                                                                                                                                                                                                                                                                                                                                                                                                                                                                                                                                                                                                                                                                                                                                                                                                                                                                                                                                                                                                                                                                                                                                                                                                                                                                                                                                                                                                                                                                                                                                                                                                        \n",
       "\n",
       "     body_{\"id\":\"1111643f0e45db9b\",\"imp\":[{\"id\":\"11215ebbdf47fa65\",\"tagid\":\"/7176/TOI/TOI_Tech/TOI_Tech_BTF_INF_300\",\"banner\":{\"w\":300,\"h\":250,\"format\":[{\"w\":300,\"h\":250},{\"w\":250,\"h\":250}]},\"bidfloor\":0.55,\"bidfloorcur\":\"USD\",\"secure\":1,\"ext\":{\"gpid\":\"/7176/TOI/TOI_Tech/TOI_Tech_BTF_INF_300\",\"tid\":\"52b597d3-6c5c-489e-afdc-88fcfc589ca5\",\"data\":{\"adserver\":{\"name\":\"gam\",\"adslot\":\"/7176/TOI/TOI_Tech/TOI_Tech_BTF_INF_300\"},\"pbadslot\":\"/7176/TOI/TOI_Tech/TOI_Tech_BTF_INF_300\"}}}],\"site\":{\"page\":\"https://timesofindia.indiatimes.com/technology/tech-news/zepto-is-not-an-amazon-or-walmart-but-an-indian-company-with-zepto-ceo-aadit-palicha/articleshow/115540600.cms\",\"ref\":\"https://www.google.com/\",\"publisher\":{\"id\":1,\"domain\":\"timesofindia.indiatimes.com\"},\"domain\":\"timesofindia.indiatimes.com\",\"keywords\":\"zepto vs swiggy,zepto ceo aadit palicha,zepto ceo,Zepto,Aadit Palicha\",\"content\":{\"cat\":[\"IAB90-111\"]}},\"device\":{\"ua\":\"Mozilla/5.0 (Windows NT 10.0; Win64; x64) AppleWebKit/537.36 (KHTML, like Gecko) Chrome/130.0.6723.70 Safari/537.36\",\"dnt\":0,\"language\":\"en\",\"connectiontype\":6,\"w\":1600,\"h\":900,\"ext\":{\"vpw\":1600,\"vph\":765},\"sua\":{\"source\":1,\"platform\":{\"brand\":\"Windows\"},\"browsers\":[{\"brand\":\"Not?A_Brand\",\"version\":[\"99\"]},{\"brand\":\"Chromium\",\"version\":[\"130\"]}],\"mobile\":0}},\"user\":{\"ext\":{\"eids\":[{\"source\":\"pubcid.org\",\"uids\":[{\"id\":\"9b105281-63da-4fc4-a467-f85f19e64465\",\"atype\":1}]}]}},\"at\":1,\"cur\":[\"USD\"],\"regs\":{},\"source\":{\"tid\":\"f3c5f385-a8da-4979-9543-60fa8cde9b42\"},\"ext\":{\"ttdprebid\":{\"ver\":\"TTD-PREBID-2024.07.26\",\"pbjs\":\"9.11.0\",\"keywords\":[\"zepto vs swiggy\",\"zepto ceo aadit palicha\",\"zepto ceo\",\"Zepto\",\"Aadit Palicha\"]}}}  \\\n",
       "0                                              -0.0553                                                                                                                                                                                                                                                                                                                                                                                                                                                                                                                                                                                                                                                                                                                                                                                                                                                                                                                                                                                                                                                                                                                                                                                                                                                                                                                                                                                                                                                                                                                                                                                                                                                                  \n",
       "1                                              -0.0553                                                                                                                                                                                                                                                                                                                                                                                                                                                                                                                                                                                                                                                                                                                                                                                                                                                                                                                                                                                                                                                                                                                                                                                                                                                                                                                                                                                                                                                                                                                                                                                                                                                                  \n",
       "2                                              -0.0553                                                                                                                                                                                                                                                                                                                                                                                                                                                                                                                                                                                                                                                                                                                                                                                                                                                                                                                                                                                                                                                                                                                                                                                                                                                                                                                                                                                                                                                                                                                                                                                                                                                                  \n",
       "3                                              -0.0553                                                                                                                                                                                                                                                                                                                                                                                                                                                                                                                                                                                                                                                                                                                                                                                                                                                                                                                                                                                                                                                                                                                                                                                                                                                                                                                                                                                                                                                                                                                                                                                                                                                                  \n",
       "4                                              -0.0553                                                                                                                                                                                                                                                                                                                                                                                                                                                                                                                                                                                                                                                                                                                                                                                                                                                                                                                                                                                                                                                                                                                                                                                                                                                                                                                                                                                                                                                                                                                                                                                                                                                                  \n",
       "..                                                 ...                                                                                                                                                                                                                                                                                                                                                                                                                                                                                                                                                                                                                                                                                                                                                                                                                                                                                                                                                                                                                                                                                                                                                                                                                                                                                                                                                                                                                                                                                                                                                                                                                                                                  \n",
       "319                                            -0.0553                                                                                                                                                                                                                                                                                                                                                                                                                                                                                                                                                                                                                                                                                                                                                                                                                                                                                                                                                                                                                                                                                                                                                                                                                                                                                                                                                                                                                                                                                                                                                                                                                                                                  \n",
       "320                                            -0.0553                                                                                                                                                                                                                                                                                                                                                                                                                                                                                                                                                                                                                                                                                                                                                                                                                                                                                                                                                                                                                                                                                                                                                                                                                                                                                                                                                                                                                                                                                                                                                                                                                                                                  \n",
       "321                                            -0.0553                                                                                                                                                                                                                                                                                                                                                                                                                                                                                                                                                                                                                                                                                                                                                                                                                                                                                                                                                                                                                                                                                                                                                                                                                                                                                                                                                                                                                                                                                                                                                                                                                                                                  \n",
       "322                                            -0.0553                                                                                                                                                                                                                                                                                                                                                                                                                                                                                                                                                                                                                                                                                                                                                                                                                                                                                                                                                                                                                                                                                                                                                                                                                                                                                                                                                                                                                                                                                                                                                                                                                                                                  \n",
       "323                                            -0.0553                                                                                                                                                                                                                                                                                                                                                                                                                                                                                                                                                                                                                                                                                                                                                                                                                                                                                                                                                                                                                                                                                                                                                                                                                                                                                                                                                                                                                                                                                                                                                                                                                                                                  \n",
       "\n",
       "     body_{\"id\":\"14d262588001153\",\"imp\":[{\"id\":\"15253226d3262dc\",\"tagid\":\"/7176/TOI/TOI_Tech/TOI_Tech_ATF_728\",\"banner\":{\"w\":980,\"h\":200,\"format\":[{\"w\":980,\"h\":200},{\"w\":970,\"h\":250},{\"w\":728,\"h\":90},{\"w\":750,\"h\":200},{\"w\":930,\"h\":180},{\"w\":950,\"h\":90},{\"w\":980,\"h\":120},{\"w\":970,\"h\":90}]},\"bidfloor\":0.55,\"bidfloorcur\":\"USD\",\"secure\":1,\"ext\":{\"gpid\":\"/7176/TOI/TOI_Tech/TOI_Tech_ATF_728\",\"tid\":\"e026818e-e397-47c7-b424-343238809cb8\",\"data\":{\"adserver\":{\"name\":\"gam\",\"adslot\":\"/7176/TOI/TOI_Tech/TOI_Tech_ATF_728\"},\"pbadslot\":\"/7176/TOI/TOI_Tech/TOI_Tech_ATF_728\"}}},{\"id\":\"16125721ca0e487\",\"tagid\":\"/7176/TOI/TOI_Tech/TOI_Tech_ATF_300\",\"banner\":{\"w\":300,\"h\":250,\"format\":[{\"w\":300,\"h\":250},{\"w\":250,\"h\":250}]},\"bidfloor\":0.55,\"bidfloorcur\":\"USD\",\"secure\":1,\"ext\":{\"gpid\":\"/7176/TOI/TOI_Tech/TOI_Tech_ATF_300\",\"tid\":\"396b7da9-ae0f-431e-a52d-eb370a73433e\",\"data\":{\"adserver\":{\"name\":\"gam\",\"adslot\":\"/7176/TOI/TOI_Tech/TOI_Tech_ATF_300\"},\"pbadslot\":\"/7176/TOI/TOI_Tech/TOI_Tech_ATF_300\"}}}],\"site\":{\"page\":\"https://timesofindia.indiatimes.com/technology/tech-news/zepto-is-not-an-amazon-or-walmart-but-an-indian-company-with-zepto-ceo-aadit-palicha/articleshow/115540600.cms\",\"ref\":\"https://www.google.com/\",\"publisher\":{\"id\":1,\"domain\":\"timesofindia.indiatimes.com\"},\"domain\":\"timesofindia.indiatimes.com\",\"keywords\":\"zepto vs swiggy,zepto ceo aadit palicha,zepto ceo,Zepto,Aadit Palicha\",\"content\":{\"cat\":[\"IAB90-111\"]}},\"device\":{\"ua\":\"Mozilla/5.0 (Windows NT 10.0; Win64; x64) AppleWebKit/537.36 (KHTML, like Gecko) Chrome/130.0.6723.70 Safari/537.36\",\"dnt\":0,\"language\":\"en\",\"connectiontype\":6,\"w\":1600,\"h\":900,\"ext\":{\"vpw\":1600,\"vph\":765},\"sua\":{\"source\":1,\"platform\":{\"brand\":\"Windows\"},\"browsers\":[{\"brand\":\"Not?A_Brand\",\"version\":[\"99\"]},{\"brand\":\"Chromium\",\"version\":[\"130\"]}],\"mobile\":0}},\"user\":{\"ext\":{\"eids\":[{\"source\":\"pubcid.org\",\"uids\":[{\"id\":\"9b105281-63da-4fc4-a467-f85f19e64465\",\"atype\":1}]}]}},\"at\":1,\"cur\":[\"USD\"],\"regs\":{},\"source\":{\"tid\":\"0b5fab06-9083-47ac-aa1d-78b659bd9864\"},\"ext\":{\"ttdprebid\":{\"ver\":\"TTD-PREBID-2024.07.26\",\"pbjs\":\"9.11.0\",\"keywords\":[\"zepto vs swiggy\",\"zepto ceo aadit palicha\",\"zepto ceo\",\"Zepto\",\"Aadit Palicha\"]}}}  \\\n",
       "0                                              -0.0553                                                                                                                                                                                                                                                                                                                                                                                                                                                                                                                                                                                                                                                                                                                                                                                                                                                                                                                                                                                                                                                                                                                                                                                                                                                                                                                                                                                                                                                                                                                                                                                                                                                                                                                                                                                                                                                                                                                                                                                                                                                                                                                                                                                              \n",
       "1                                              -0.0553                                                                                                                                                                                                                                                                                                                                                                                                                                                                                                                                                                                                                                                                                                                                                                                                                                                                                                                                                                                                                                                                                                                                                                                                                                                                                                                                                                                                                                                                                                                                                                                                                                                                                                                                                                                                                                                                                                                                                                                                                                                                                                                                                                                              \n",
       "2                                              -0.0553                                                                                                                                                                                                                                                                                                                                                                                                                                                                                                                                                                                                                                                                                                                                                                                                                                                                                                                                                                                                                                                                                                                                                                                                                                                                                                                                                                                                                                                                                                                                                                                                                                                                                                                                                                                                                                                                                                                                                                                                                                                                                                                                                                                              \n",
       "3                                              -0.0553                                                                                                                                                                                                                                                                                                                                                                                                                                                                                                                                                                                                                                                                                                                                                                                                                                                                                                                                                                                                                                                                                                                                                                                                                                                                                                                                                                                                                                                                                                                                                                                                                                                                                                                                                                                                                                                                                                                                                                                                                                                                                                                                                                                              \n",
       "4                                              -0.0553                                                                                                                                                                                                                                                                                                                                                                                                                                                                                                                                                                                                                                                                                                                                                                                                                                                                                                                                                                                                                                                                                                                                                                                                                                                                                                                                                                                                                                                                                                                                                                                                                                                                                                                                                                                                                                                                                                                                                                                                                                                                                                                                                                                              \n",
       "..                                                 ...                                                                                                                                                                                                                                                                                                                                                                                                                                                                                                                                                                                                                                                                                                                                                                                                                                                                                                                                                                                                                                                                                                                                                                                                                                                                                                                                                                                                                                                                                                                                                                                                                                                                                                                                                                                                                                                                                                                                                                                                                                                                                                                                                                                              \n",
       "319                                            -0.0553                                                                                                                                                                                                                                                                                                                                                                                                                                                                                                                                                                                                                                                                                                                                                                                                                                                                                                                                                                                                                                                                                                                                                                                                                                                                                                                                                                                                                                                                                                                                                                                                                                                                                                                                                                                                                                                                                                                                                                                                                                                                                                                                                                                              \n",
       "320                                            -0.0553                                                                                                                                                                                                                                                                                                                                                                                                                                                                                                                                                                                                                                                                                                                                                                                                                                                                                                                                                                                                                                                                                                                                                                                                                                                                                                                                                                                                                                                                                                                                                                                                                                                                                                                                                                                                                                                                                                                                                                                                                                                                                                                                                                                              \n",
       "321                                            -0.0553                                                                                                                                                                                                                                                                                                                                                                                                                                                                                                                                                                                                                                                                                                                                                                                                                                                                                                                                                                                                                                                                                                                                                                                                                                                                                                                                                                                                                                                                                                                                                                                                                                                                                                                                                                                                                                                                                                                                                                                                                                                                                                                                                                                              \n",
       "322                                            -0.0553                                                                                                                                                                                                                                                                                                                                                                                                                                                                                                                                                                                                                                                                                                                                                                                                                                                                                                                                                                                                                                                                                                                                                                                                                                                                                                                                                                                                                                                                                                                                                                                                                                                                                                                                                                                                                                                                                                                                                                                                                                                                                                                                                                                              \n",
       "323                                            -0.0553                                                                                                                                                                                                                                                                                                                                                                                                                                                                                                                                                                                                                                                                                                                                                                                                                                                                                                                                                                                                                                                                                                                                                                                                                                                                                                                                                                                                                                                                                                                                                                                                                                                                                                                                                                                                                                                                                                                                                                                                                                                                                                                                                                                              \n",
       "\n",
       "     body_{\"id\":\"67b7683e1c459d\",\"imp\":[{\"id\":\"68789b82e742add\",\"tagid\":\"/7176/TOI/TOI_Tech/TOI_Tech_MTF_300\",\"banner\":{\"w\":300,\"h\":250,\"format\":[{\"w\":300,\"h\":250},{\"w\":250,\"h\":250}]},\"bidfloor\":0.55,\"bidfloorcur\":\"USD\",\"secure\":1,\"ext\":{\"gpid\":\"/7176/TOI/TOI_Tech/TOI_Tech_MTF_300\",\"tid\":\"79fbf211-dcae-48ab-819f-dcbe912aedac\",\"data\":{\"adserver\":{\"name\":\"gam\",\"adslot\":\"/7176/TOI/TOI_Tech/TOI_Tech_MTF_300\"},\"pbadslot\":\"/7176/TOI/TOI_Tech/TOI_Tech_MTF_300\"}}}],\"site\":{\"page\":\"https://timesofindia.indiatimes.com/technology/tech-news/zepto-is-not-an-amazon-or-walmart-but-an-indian-company-with-zepto-ceo-aadit-palicha/articleshow/115540600.cms\",\"ref\":\"https://www.google.com/\",\"publisher\":{\"id\":1,\"domain\":\"timesofindia.indiatimes.com\"},\"domain\":\"timesofindia.indiatimes.com\",\"keywords\":\"zepto vs swiggy,zepto ceo aadit palicha,zepto ceo,Zepto,Aadit Palicha\",\"content\":{\"cat\":[\"IAB90-111\"]}},\"device\":{\"ua\":\"Mozilla/5.0 (Windows NT 10.0; Win64; x64) AppleWebKit/537.36 (KHTML, like Gecko) Chrome/130.0.6723.70 Safari/537.36\",\"dnt\":0,\"language\":\"en\",\"connectiontype\":6,\"w\":1600,\"h\":900,\"ext\":{\"vpw\":1600,\"vph\":765},\"sua\":{\"source\":1,\"platform\":{\"brand\":\"Windows\"},\"browsers\":[{\"brand\":\"Not?A_Brand\",\"version\":[\"99\"]},{\"brand\":\"Chromium\",\"version\":[\"130\"]}],\"mobile\":0}},\"user\":{\"ext\":{\"eids\":[{\"source\":\"pubcid.org\",\"uids\":[{\"id\":\"9b105281-63da-4fc4-a467-f85f19e64465\",\"atype\":1}]}]}},\"at\":1,\"cur\":[\"USD\"],\"regs\":{},\"source\":{\"tid\":\"f3786e11-392f-44c3-b691-e30655380cdc\"},\"ext\":{\"ttdprebid\":{\"ver\":\"TTD-PREBID-2024.07.26\",\"pbjs\":\"9.11.0\",\"keywords\":[\"zepto vs swiggy\",\"zepto ceo aadit palicha\",\"zepto ceo\",\"Zepto\",\"Aadit Palicha\"]}}}  \\\n",
       "0                                              -0.0553                                                                                                                                                                                                                                                                                                                                                                                                                                                                                                                                                                                                                                                                                                                                                                                                                                                                                                                                                                                                                                                                                                                                                                                                                                                                                                                                                                                                                                                                                                                                                                                                                                               \n",
       "1                                              -0.0553                                                                                                                                                                                                                                                                                                                                                                                                                                                                                                                                                                                                                                                                                                                                                                                                                                                                                                                                                                                                                                                                                                                                                                                                                                                                                                                                                                                                                                                                                                                                                                                                                                               \n",
       "2                                              -0.0553                                                                                                                                                                                                                                                                                                                                                                                                                                                                                                                                                                                                                                                                                                                                                                                                                                                                                                                                                                                                                                                                                                                                                                                                                                                                                                                                                                                                                                                                                                                                                                                                                                               \n",
       "3                                              -0.0553                                                                                                                                                                                                                                                                                                                                                                                                                                                                                                                                                                                                                                                                                                                                                                                                                                                                                                                                                                                                                                                                                                                                                                                                                                                                                                                                                                                                                                                                                                                                                                                                                                               \n",
       "4                                              -0.0553                                                                                                                                                                                                                                                                                                                                                                                                                                                                                                                                                                                                                                                                                                                                                                                                                                                                                                                                                                                                                                                                                                                                                                                                                                                                                                                                                                                                                                                                                                                                                                                                                                               \n",
       "..                                                 ...                                                                                                                                                                                                                                                                                                                                                                                                                                                                                                                                                                                                                                                                                                                                                                                                                                                                                                                                                                                                                                                                                                                                                                                                                                                                                                                                                                                                                                                                                                                                                                                                                                               \n",
       "319                                            -0.0553                                                                                                                                                                                                                                                                                                                                                                                                                                                                                                                                                                                                                                                                                                                                                                                                                                                                                                                                                                                                                                                                                                                                                                                                                                                                                                                                                                                                                                                                                                                                                                                                                                               \n",
       "320                                            -0.0553                                                                                                                                                                                                                                                                                                                                                                                                                                                                                                                                                                                                                                                                                                                                                                                                                                                                                                                                                                                                                                                                                                                                                                                                                                                                                                                                                                                                                                                                                                                                                                                                                                               \n",
       "321                                            -0.0553                                                                                                                                                                                                                                                                                                                                                                                                                                                                                                                                                                                                                                                                                                                                                                                                                                                                                                                                                                                                                                                                                                                                                                                                                                                                                                                                                                                                                                                                                                                                                                                                                                               \n",
       "322                                            -0.0553                                                                                                                                                                                                                                                                                                                                                                                                                                                                                                                                                                                                                                                                                                                                                                                                                                                                                                                                                                                                                                                                                                                                                                                                                                                                                                                                                                                                                                                                                                                                                                                                                                               \n",
       "323                                            -0.0553                                                                                                                                                                                                                                                                                                                                                                                                                                                                                                                                                                                                                                                                                                                                                                                                                                                                                                                                                                                                                                                                                                                                                                                                                                                                                                                                                                                                                                                                                                                                                                                                                                               \n",
       "\n",
       "     body_{\"id\":\"917384019b9d987\",\"imp\":[{\"id\":\"92e0e663a16491d\",\"tagid\":\"/7176/TOI/TOI_Tech/TOI_Tech_BTF_300\",\"banner\":{\"w\":300,\"h\":250,\"format\":[{\"w\":300,\"h\":250},{\"w\":250,\"h\":250}]},\"bidfloor\":0.55,\"bidfloorcur\":\"USD\",\"secure\":1,\"ext\":{\"gpid\":\"/7176/TOI/TOI_Tech/TOI_Tech_BTF_300\",\"tid\":\"b24078e8-c05c-4cdc-9320-f4934c0692ef\",\"data\":{\"adserver\":{\"name\":\"gam\",\"adslot\":\"/7176/TOI/TOI_Tech/TOI_Tech_BTF_300\"},\"pbadslot\":\"/7176/TOI/TOI_Tech/TOI_Tech_BTF_300\"}}}],\"site\":{\"page\":\"https://timesofindia.indiatimes.com/technology/tech-news/zepto-is-not-an-amazon-or-walmart-but-an-indian-company-with-zepto-ceo-aadit-palicha/articleshow/115540600.cms\",\"ref\":\"https://www.google.com/\",\"publisher\":{\"id\":1,\"domain\":\"timesofindia.indiatimes.com\"},\"domain\":\"timesofindia.indiatimes.com\",\"keywords\":\"zepto vs swiggy,zepto ceo aadit palicha,zepto ceo,Zepto,Aadit Palicha\",\"content\":{\"cat\":[\"IAB90-111\"]}},\"device\":{\"ua\":\"Mozilla/5.0 (Windows NT 10.0; Win64; x64) AppleWebKit/537.36 (KHTML, like Gecko) Chrome/130.0.6723.70 Safari/537.36\",\"dnt\":0,\"language\":\"en\",\"connectiontype\":6,\"w\":1600,\"h\":900,\"ext\":{\"vpw\":1600,\"vph\":765},\"sua\":{\"source\":1,\"platform\":{\"brand\":\"Windows\"},\"browsers\":[{\"brand\":\"Not?A_Brand\",\"version\":[\"99\"]},{\"brand\":\"Chromium\",\"version\":[\"130\"]}],\"mobile\":0}},\"user\":{\"ext\":{\"eids\":[{\"source\":\"pubcid.org\",\"uids\":[{\"id\":\"9b105281-63da-4fc4-a467-f85f19e64465\",\"atype\":1}]}]}},\"at\":1,\"cur\":[\"USD\"],\"regs\":{},\"source\":{\"tid\":\"844f2d82-14a2-475b-9c5b-a9895cf0c3f4\"},\"ext\":{\"ttdprebid\":{\"ver\":\"TTD-PREBID-2024.07.26\",\"pbjs\":\"9.11.0\",\"keywords\":[\"zepto vs swiggy\",\"zepto ceo aadit palicha\",\"zepto ceo\",\"Zepto\",\"Aadit Palicha\"]}}}  \\\n",
       "0                                              -0.0553                                                                                                                                                                                                                                                                                                                                                                                                                                                                                                                                                                                                                                                                                                                                                                                                                                                                                                                                                                                                                                                                                                                                                                                                                                                                                                                                                                                                                                                                                                                                                                                                                                                \n",
       "1                                              -0.0553                                                                                                                                                                                                                                                                                                                                                                                                                                                                                                                                                                                                                                                                                                                                                                                                                                                                                                                                                                                                                                                                                                                                                                                                                                                                                                                                                                                                                                                                                                                                                                                                                                                \n",
       "2                                              -0.0553                                                                                                                                                                                                                                                                                                                                                                                                                                                                                                                                                                                                                                                                                                                                                                                                                                                                                                                                                                                                                                                                                                                                                                                                                                                                                                                                                                                                                                                                                                                                                                                                                                                \n",
       "3                                              -0.0553                                                                                                                                                                                                                                                                                                                                                                                                                                                                                                                                                                                                                                                                                                                                                                                                                                                                                                                                                                                                                                                                                                                                                                                                                                                                                                                                                                                                                                                                                                                                                                                                                                                \n",
       "4                                              -0.0553                                                                                                                                                                                                                                                                                                                                                                                                                                                                                                                                                                                                                                                                                                                                                                                                                                                                                                                                                                                                                                                                                                                                                                                                                                                                                                                                                                                                                                                                                                                                                                                                                                                \n",
       "..                                                 ...                                                                                                                                                                                                                                                                                                                                                                                                                                                                                                                                                                                                                                                                                                                                                                                                                                                                                                                                                                                                                                                                                                                                                                                                                                                                                                                                                                                                                                                                                                                                                                                                                                                \n",
       "319                                            -0.0553                                                                                                                                                                                                                                                                                                                                                                                                                                                                                                                                                                                                                                                                                                                                                                                                                                                                                                                                                                                                                                                                                                                                                                                                                                                                                                                                                                                                                                                                                                                                                                                                                                                \n",
       "320                                            -0.0553                                                                                                                                                                                                                                                                                                                                                                                                                                                                                                                                                                                                                                                                                                                                                                                                                                                                                                                                                                                                                                                                                                                                                                                                                                                                                                                                                                                                                                                                                                                                                                                                                                                \n",
       "321                                            -0.0553                                                                                                                                                                                                                                                                                                                                                                                                                                                                                                                                                                                                                                                                                                                                                                                                                                                                                                                                                                                                                                                                                                                                                                                                                                                                                                                                                                                                                                                                                                                                                                                                                                                \n",
       "322                                            -0.0553                                                                                                                                                                                                                                                                                                                                                                                                                                                                                                                                                                                                                                                                                                                                                                                                                                                                                                                                                                                                                                                                                                                                                                                                                                                                                                                                                                                                                                                                                                                                                                                                                                                \n",
       "323                                            -0.0553                                                                                                                                                                                                                                                                                                                                                                                                                                                                                                                                                                                                                                                                                                                                                                                                                                                                                                                                                                                                                                                                                                                                                                                                                                                                                                                                                                                                                                                                                                                                                                                                                                                \n",
       "\n",
       "     body_{\"cs\":{\"dct\":{\"#0\":\"pageType\",\"#1\":\"Gateway\",\"#2\":\"subPageType\",\"#3\":\"desktop\",\"#4\":\"pageTypeId\",\"#5\":\"resourceData\",\"#6\":\"name\",\"#7\":\"https://m.media-amazon.com/images/I/11EIQ5IGqaL._RC|01e5ncglxyL.css,01lF2n-pPaL.css,519YvOBDG8L.css,31uBZQYbDJL.css,11hEAfyy4tL.css,01qPl4hxayL.css,01pOTCa2wPL.css,413Vvv3GONL.css,11TIuySqr6L.css,01Rw4F+QU6L.css,11vYg+mVuGL.css,01J3raiFJrL.css,01IdKcBuAdL.css,01dRHIoUjnL.css,21lFcV0hmCL.css,01W0RNXC6mL.css,51nYRMITMLL.css,01XPHJk60-L.css,11wvSzGn6tL.css,01ANX9Vx1mL.css,01cvE3JoRWL.css,21qiQ1rOUAL.css,11wazUu-8nL.css,21RWaJb6t+L.css,11yLJpkAxFL.css,216LjtW6ADL.css,01CFUgsA-YL.css,313tC6rl1gL.css,116t+WD27UL.css,11yEzLYDg2L.css,113QjYEJj-L.css,11BdrZWOJpL.css,01r-hR9jMmL.css,01X+Gu6WK9L.css,21ZVss5T32L.css,114W6O7j2oL.css,01LzHhtXxxL.css,21zi3R-XjNL.css,115pt6oW+ZL.css,11hvENnYNUL.css,11Qek6G6pNL.css,01890+Vwk8L.css,01bDiPuBD6L.css,01cbS3UK11L.css,21F85am0yFL.css,016mfgi+D2L.css,01WslS8q5ML.css,21zhgeMzYSL.css,016Sx2kF1+L.css_.css?AUIClients/AmazonUI#not-trident\",\"#8\":\"entryType\",\"#9\":\"resource\",\"#10\":\"startTime\",\"#11\":\"duration\",\"#12\":\"initiatorType\",\"#13\":\"link\",\"#14\":\"nextHopProtocol\",\"#15\":\"workerStart\",\"#16\":\"redirectStart\",\"#17\":\"redirectEnd\",\"#18\":\"fetchStart\",\"#19\":\"domainLookupStart\",\"#20\":\"domainLookupEnd\",\"#21\":\"connectStart\",\"#22\":\"connectEnd\",\"#23\":\"secureConnectionStart\",\"#24\":\"requestStart\",\"#25\":\"responseStart\",\"#26\":\"responseEnd\",\"#27\":\"transferSize\",\"#28\":\"encodedBodySize\",\"#29\":\"decodedBodySize\",\"#30\":\"https://images-eu.ssl-images-amazon.com/images/I/41UUdmm7zEL._RC|71QrWIE9zvL.css,51bNVko77xL.css,21-GKunH78L.css,11pThoX8KIL.css,21Hc1s0-E4L.css,313Ydl5aIRL.css,21DwGGPS1eL.css,41EtvNY2OrL.css,110Nj+wUGYL.css,31K0jc2KvHL.css,01H8CHB5aiL.css,21KQnzhmfTL.css,41yKpEQVJkL.css_.css?AUIClients/NavDesktopUberAsset#desktop.in.878681-T1.1089549-T1.310484-T1.1088933-T1.836079-T1.1102424-T1\",\"#31\":\"https://images-eu.ssl-images-amazon.com/images/I/41945FR1dZL.css?AUIClients/AmazonGatewayAuiAssets&IaVMOKWd#1011660-T1\",\"#32\":\"https://fls-eu.amazon.in/1/batch/1/OP/A21TJRUUN4KGV:259-7406217-6156529:QC01T4R0X1TWXYANAB7B$uedata=s:/rd/uedata?staticb&id=QC01T4R0X1TWXYANAB7B:0\",\"#33\":\"https://m.media-amazon.com/images/G/31/gno/sprites/nav-sprite-global-1x-reorg-privacy._CB541718031_.png\",\"#34\":\"https://m.media-amazon.com/images/I/51Id5Jjpm-L._SX1500_.jpg\",\"#35\":\"https://images-eu.ssl-images-amazon.com/images/G/31/img19/Beauty/GW/desktop/Make-up-CC_desktop_1x._SY304_CB466075850_.jpg\",\"#36\":\"https://images-eu.ssl-images-amazon.com/images/G/31/Gateway/Events/2018/JupiterFallBack/Jupiter_bau_PC_top_card_fashion_1x._SY304_CB484150077_.jpg\",\"#37\":\"https://images-eu.ssl-images-amazon.com/images/G/31/Gateway/Events/2018/JupiterFallBack/Jupiter_bau_PC_top_card_home_1x._SY304_CB484150079_.jpg\",\"#38\":\"https://images-eu.ssl-images-amazon.com/images/G/31/img19/AmazonDevices/neel/March/1X._SY304_CB469330167_.jpg\",\"#39\":\"https://images-eu.ssl-images-amazon.com/images/G/31/Gateway/Events/2018/JupiterFallBack/Jupiter_bau_PC_top_card_groceries_1x._SY304_CB484150076_.jpg\",\"#40\":\"https://images-eu.ssl-images-amazon.com/images/G/31/img20/CEPC/Covid19/V195588257_IN_CEPC_Contingency_Covid_GW_April20_rush_dbqc0.5x_3._SY116_CB433895198_.jpg\",\"#41\":\"https://images-eu.ssl-images-amazon.com/images/G/31/img20/CEPC/Covid19/V195588257_IN_CEPC_Contingency_Covid_GW_April20_rush_dbqc0.5x_4._SY116_CB433895198_.jpg\",\"#42\":\"https://images-eu.ssl-images-amazon.com/images/G/31/img20/CEPC/Covid19/V195588257_IN_CEPC_Contingency_Covid_GW_April20_rush_dbqc0.5x_1._SY116_CB433895198_.jpg\",\"#43\":\"https://images-eu.ssl-images-amazon.com/images/G/31/img20/CEPC/Covid19/V195588257_IN_CEPC_Contingency_Covid_GW_April20_rush_dbqc0.5x_2._SY116_CB433889427_.jpg\",\"#44\":\"https://images-eu.ssl-images-amazon.com/images/G/31/IMG20/Home/BAU/GWPC/XCM_Manual_372x232_1212890_372X232_1_bd034eee_6f06_4e0a_9967_d0e0e5f7f932_jpg_LOWER_QL10_._SY116_CB423376243_.jpg\",\"#45\":\"https://images-eu.ssl-images-amazon.com/images/G/31/IMG20/Home/BAU/GWPC/XCM_Manual_372x232_1212890_372X232_2_64e793dc_221d_4067_8fca_2f0338879977_jpg_LOWER_QL85_._SY116_CB423376243_.jpg\",\"#46\":\"https://images-eu.ssl-images-amazon.com/images/G/31/IMG20/Home/BAU/GWPC/XCM_Manual_372x232_1212890_372X232_3_ccc0f761_ea08_4cfb_9562_6f13e80170d8_jpg_LOWER_QL30_._SY116_CB423376243_.jpg\",\"#47\":\"https://images-eu.ssl-images-amazon.com/images/G/31/IMG20/Home/BAU/GWPC/XCM_Manual_372x232_1212890_372X232_4_bc4e9dc4_a3aa_4aae_93fd_9723dacd805f_jpg_LOWER_QL50_._SY116_CB423376243_.jpg\",\"#48\":\"https://images-eu.ssl-images-amazon.com/images/G/31/img20/AmazonLaunchpad/Gateway/June/dhyana_02_379_304._SY304_CB429464454_.jpg\",\"#49\":\"https://m.media-amazon.com/images/G/31/personalization/ybh/loading-4x-gray._CB485916689_.gif\",\"#50\":\"https://m.media-amazon.com/images/I/61xJcNKKLXL.js?AUIClients/AmazonUIjQuery\",\"#51\":\"script\",\"#52\":\"https://images-eu.ssl-images-amazon.com/images/I/01rGP6HIADL.js?AUIClients/GenericObservableJS\",\"#53\":\"https://images-eu.ssl-images-amazon.com/images/I/11lCLXBMk5L._RC|61YBxGSpjrL.js_.js?AUIClients/AmazonGatewayAuiAssets\",\"#54\":\"https://images-eu.ssl-images-amazon.com/images/I/31PvjKh9oXL.js?AUIClients/AmazonGatewayHerotatorJS\",\"#55\":\"https://m.media-amazon.com/images/G/01/csm/showads.v2.js?category=ad&adstype=-ad-column-&ad_size=-housead-\",\"#56\":\"fetch\",\"#57\":\"https://images-eu.ssl-images-amazon.com/images/I/51V5yVZxXVL._RC|71JSewiYXdL.js,01F+A05ogQL.js,01VfhmbHmKL.js,71BPbNdLqXL.js,41jBieyCvYL.js,01wXnKULArL.js,01+pnQJuQ0L.js,21Un7Tx1UGL.js,4122so6jZwL.js,51HrkAbbpLL.js,31pICZB5M9L.js,11lw6J7z8iL.js,31NSDarX4TL.js,01VYGE8lGhL.js,01tDwkxEoCL.js_.js?AUIClients/NavDesktopUberAsset#desktop.language-en.in.878681-T1.1089549-T1.310484-T1.1043986-T1.836079-T1\",\"#58\":\"https://m.media-amazon.com/images/G/31/javascripts/lib/popover/images/snake._CB485935600_.gif\",\"#59\":\"producerId\",\"#60\":\"schemaId\",\"#61\":\"csm.ResourceTimingHit.2\",\"#62\":\"timestamp\",\"#63\":\"messageId\",\"#64\":\"sessionId\",\"#65\":\"259-7406217-6156529\",\"#66\":\"requestId\",\"#67\":\"QC01T4R0X1TWXYANAB7B\",\"#68\":\"obfuscatedMarketplaceId\",\"#69\":\"A21TJRUUN4KGV\",\"#70\":\"server\",\"#71\":\"www.amazon.in\",\"#72\":\"fmp\",\"#73\":\"vfrd\",\"#74\":\"info\",\"#75\":\"[[737,1034,1050,832,1,null,null,null,null,null,null,null,null,null,null,0,{},[null,null,null,null,null,[null]],[[null]],null,[null],null,null,{\\\"loadTimes\\\":\\\"fx () { nc }\\\",\\\"csi\\\":\\\"fx () { nc }\\\",\\\"app\\\":{\\\"isInstalled\\\":false,\\\"getDetails\\\":\\\"0x6\\\",\\\"getIsInstalled\\\":\\\"0x6\\\",\\\"installState\\\":\\\"0x6\\\",\\\"runningState\\\":\\\"0x6\\\",\\\"InstallState\\\":{\\\"DISABLED\\\":\\\"disabled\\\",\\\"INSTALLED\\\":\\\"installed\\\",\\\"NOT_INSTALLED\\\":\\\"not_installed\\\"},\\\"RunningState\\\":{\\\"CANNOT_RUN\\\":\\\"cannot_run\\\",\\\"READY_TO_RUN\\\":\\\"ready_to_run\\\",\\\"RUNNING\\\":\\\"running\\\"}}},\\\"0x6\\\",\\\"0x6\\\",\\\"0x6\\\",\\\"0x6\\\",\\\"0x6\\\",\\\"0x6\\\",null,null,null,1,null,null,null,null],[852,1600,1600,900,24,24,[0,null]],[\\\"Mozilla\\\",\\\"Netscape\\\",\\\"5.0 (Windows NT 10.0; Win64; x64) AppleWebKit/537.36 (KHTML, like Gecko) Chrome/130.0.6723.70 Safari/537.36\\\",8,null,4,\\\"en-US\\\",10,\\\"Gecko\\\",\\\"20030107\\\",\\\"Google Inc.\\\",\\\"\\\",\\\"Mozilla/5.0 (Windows NT 10.0; Win64; x64) AppleWebKit/537.36 (KHTML, like Gecko) Chrome/130.0.6723.70 Safari/537.36\\\",[\\\"en-US\\\"],\\\"Win32\\\",0,null,{},null,null,{\\\"brands\\\":[{\\\"brand\\\":\\\"Not?A_Brand\\\",\\\"version\\\":\\\"99\\\"},{\\\"brand\\\":\\\"Chromium\\\",\\\"version\\\":\\\"130\\\"}],\\\"mobile\\\":false,\\\"platform\\\":\\\"Windows\\\"}],[null,null,null,null,[null,null,null,null,null,null,null,null,null],null,null],[2,5,[null,null]],[3]]\",\"#76\":\"a9_tq\",\"#77\":\"a9_tq.FraudMetrics.3\",\"#78\":\"[0,1,0,1,0,1]\"}},\"events\":[{\"data\":{\"#0\":\"#1\",\"#2\":\"#3\",\"#4\":\"#3\",\"#5\":[{\"#6\":\"#7\",\"#8\":\"#9\",\"#10\":46861,\"#11\":747,\"#12\":\"#13\",\"#14\":\"h2\",\"#15\":0,\"#16\":0,\"#17\":0,\"#18\":46861,\"#19\":46861,\"#20\":46861,\"#21\":46994,\"#22\":47328,\"#23\":47322,\"#24\":47329,\"#25\":47594,\"#26\":47607,\"#27\":223969,\"#28\":223669,\"#29\":223669},{\"#6\":\"#30\",\"#8\":\"#9\",\"#10\":46866,\"#11\":742,\"#12\":\"#13\",\"#14\":\"h2\",\"#15\":0,\"#16\":0,\"#17\":0,\"#18\":46866,\"#19\":46866,\"#20\":46866,\"#21\":47016,\"#22\":47347,\"#23\":47338,\"#24\":47348,\"#25\":47593,\"#26\":47608,\"#27\":417007,\"#28\":416707,\"#29\":416707},{\"#6\":\"#31\",\"#8\":\"#9\",\"#10\":46866,\"#11\":615,\"#12\":\"#13\",\"#14\":\"h2\",\"#15\":0,\"#16\":0,\"#17\":0,\"#18\":46866,\"#19\":46866,\"#20\":46866,\"#21\":46866,\"#22\":46866,\"#23\":46866,\"#24\":47352,\"#25\":47480,\"#26\":47481,\"#27\":18421,\"#28\":18121,\"#29\":18121},{\"#6\":\"#32\",\"#8\":\"#9\",\"#10\":46866,\"#11\":26612,\"#12\":\"img\",\"#14\":\"\",\"#15\":0,\"#16\":0,\"#17\":0,\"#18\":46866,\"#19\":0,\"#20\":0,\"#21\":0,\"#22\":0,\"#23\":0,\"#24\":0,\"#25\":0,\"#26\":73479,\"#27\":0,\"#28\":0,\"#29\":0},{\"#6\":\"#33\",\"#8\":\"#9\",\"#10\":46867,\"#11\":616,\"#12\":\"img\",\"#14\":\"h2\",\"#15\":0,\"#16\":0,\"#17\":0,\"#18\":46867,\"#19\":46867,\"#20\":46867,\"#21\":46867,\"#22\":46867,\"#23\":46867,\"#24\":47329,\"#25\":47482,\"#26\":47482,\"#27\":21194,\"#28\":20894,\"#29\":20894},{\"#6\":\"#34\",\"#8\":\"#9\",\"#10\":46867,\"#11\":739,\"#12\":\"img\",\"#14\":\"h2\",\"#15\":0,\"#16\":0,\"#17\":0,\"#18\":46867,\"#19\":46867,\"#20\":46867,\"#21\":46867,\"#22\":46867,\"#23\":46867,\"#24\":47329,\"#25\":47604,\"#26\":47606,\"#27\":45324,\"#28\":45024,\"#29\":45024},{\"#6\":\"#35\",\"#8\":\"#9\",\"#10\":46867,\"#11\":885,\"#12\":\"img\",\"#14\":\"h2\",\"#15\":0,\"#16\":0,\"#17\":0,\"#18\":46867,\"#19\":46867,\"#20\":46867,\"#21\":46867,\"#22\":46867,\"#23\":46867,\"#24\":47698,\"#25\":47749,\"#26\":47752,\"#27\":19978,\"#28\":19678,\"#29\":19678},{\"#6\":\"#36\",\"#8\":\"#9\",\"#10\":46868,\"#11\":885,\"#12\":\"img\",\"#14\":\"h2\",\"#15\":0,\"#16\":0,\"#17\":0,\"#18\":46868,\"#19\":46868,\"#20\":46868,\"#21\":46868,\"#22\":46868,\"#23\":46868,\"#24\":47706,\"#25\":47752,\"#26\":47753,\"#27\":16846,\"#28\":16546,\"#29\":16546},{\"#6\":\"#37\",\"#8\":\"#9\",\"#10\":46868,\"#11\":977,\"#12\":\"img\",\"#14\":\"h2\",\"#15\":0,\"#16\":0,\"#17\":0,\"#18\":46868,\"#19\":46868,\"#20\":46868,\"#21\":46868,\"#22\":46868,\"#23\":46868,\"#24\":47819,\"#25\":47842,\"#26\":47845,\"#27\":15628,\"#28\":15328,\"#29\":15328},{\"#6\":\"#38\",\"#8\":\"#9\",\"#10\":46868,\"#11\":982,\"#12\":\"img\",\"#14\":\"h2\",\"#15\":0,\"#16\":0,\"#17\":0,\"#18\":46868,\"#19\":46868,\"#20\":46868,\"#21\":46868,\"#22\":46868,\"#23\":46868,\"#24\":47823,\"#25\":47849,\"#26\":47850,\"#27\":8430,\"#28\":8130,\"#29\":8130},{\"#6\":\"#39\",\"#8\":\"#9\",\"#10\":46869,\"#11\":1037,\"#12\":\"img\",\"#14\":\"h2\",\"#15\":0,\"#16\":0,\"#17\":0,\"#18\":46869,\"#19\":46869,\"#20\":46869,\"#21\":46869,\"#22\":46869,\"#23\":46869,\"#24\":47868,\"#25\":47905,\"#26\":47906,\"#27\":17741,\"#28\":17441,\"#29\":17441},{\"#6\":\"#40\",\"#8\":\"#9\",\"#10\":46869,\"#11\":1048,\"#12\":\"img\",\"#14\":\"h2\",\"#15\":0,\"#16\":0,\"#17\":0,\"#18\":46869,\"#19\":46869,\"#20\":46869,\"#21\":46869,\"#22\":46869,\"#23\":46869,\"#24\":47879,\"#25\":47916,\"#26\":47917,\"#27\":3188,\"#28\":2888,\"#29\":2888},{\"#6\":\"#41\",\"#8\":\"#9\",\"#10\":46869,\"#11\":1298,\"#12\":\"img\",\"#14\":\"h2\",\"#15\":0,\"#16\":0,\"#17\":0,\"#18\":46869,\"#19\":46869,\"#20\":46869,\"#21\":46869,\"#22\":46869,\"#23\":46869,\"#24\":48141,\"#25\":48167,\"#26\":48167,\"#27\":4708,\"#28\":4408,\"#29\":4408},{\"#6\":\"#42\",\"#8\":\"#9\",\"#10\":46869,\"#11\":1298,\"#12\":\"img\",\"#14\":\"h2\",\"#15\":0,\"#16\":0,\"#17\":0,\"#18\":46869,\"#19\":46869,\"#20\":46869,\"#21\":46869,\"#22\":46869,\"#23\":46869,\"#24\":48142,\"#25\":48166,\"#26\":48167,\"#27\":5090,\"#28\":4790,\"#29\":4790},{\"#6\":\"#43\",\"#8\":\"#9\",\"#10\":46869,\"#11\":1450,\"#12\":\"img\",\"#14\":\"h2\",\"#15\":0,\"#16\":0,\"#17\":0,\"#18\":46869,\"#19\":46869,\"#20\":46869,\"#21\":46869,\"#22\":46869,\"#23\":46869,\"#24\":48177,\"#25\":48319,\"#26\":48320,\"#27\":3325,\"#28\":3025,\"#29\":3025},{\"#6\":\"#44\",\"#8\":\"#9\",\"#10\":46870,\"#11\":1450,\"#12\":\"img\",\"#14\":\"h2\",\"#15\":0,\"#16\":0,\"#17\":0,\"#18\":46870,\"#19\":46870,\"#20\":46870,\"#21\":46870,\"#22\":46870,\"#23\":46870,\"#24\":48180,\"#25\":48319,\"#26\":48320,\"#27\":9530,\"#28\":9230,\"#29\":9230},{\"#6\":\"#45\",\"#8\":\"#9\",\"#10\":46870,\"#11\":1591,\"#12\":\"img\",\"#14\":\"h2\",\"#15\":0,\"#16\":0,\"#17\":0,\"#18\":46870,\"#19\":46870,\"#20\":46870,\"#21\":46870,\"#22\":46870,\"#23\":46870,\"#24\":48322,\"#25\":48461,\"#26\":48461,\"#27\":3829,\"#28\":3529,\"#29\":3529},{\"#6\":\"#46\",\"#8\":\"#9\",\"#10\":46870,\"#11\":1592,\"#12\":\"img\",\"#14\":\"h2\",\"#15\":0,\"#16\":0,\"#17\":0,\"#18\":46870,\"#19\":46870,\"#20\":46870,\"#21\":46870,\"#22\":46870,\"#23\":46870,\"#24\":48323,\"#25\":48461,\"#26\":48462,\"#27\":7049,\"#28\":6749,\"#29\":6749},{\"#6\":\"#47\",\"#8\":\"#9\",\"#10\":46870,\"#11\":1711,\"#12\":\"img\",\"#14\":\"h2\",\"#15\":0,\"#16\":0,\"#17\":0,\"#18\":46870,\"#19\":46870,\"#20\":46870,\"#21\":46870,\"#22\":46870,\"#23\":46870,\"#24\":48463,\"#25\":48581,\"#26\":48582,\"#27\":5596,\"#28\":5296,\"#29\":5296},{\"#6\":\"#48\",\"#8\":\"#9\",\"#10\":46870,\"#11\":1712,\"#12\":\"img\",\"#14\":\"h2\",\"#15\":0,\"#16\":0,\"#17\":0,\"#18\":46870,\"#19\":46870,\"#20\":46870,\"#21\":46870,\"#22\":46870,\"#23\":46870,\"#24\":48463,\"#25\":48582,\"#26\":48582,\"#27\":16186,\"#28\":15886,\"#29\":15886},{\"#6\":\"#49\",\"#8\":\"#9\",\"#10\":46871,\"#11\":1765,\"#12\":\"img\",\"#14\":\"h2\",\"#15\":0,\"#16\":0,\"#17\":0,\"#18\":46871,\"#19\":46871,\"#20\":46871,\"#21\":46871,\"#22\":46871,\"#23\":46871,\"#24\":48584,\"#25\":48634,\"#26\":48635,\"#27\":9165,\"#28\":8865,\"#29\":8865},{\"#6\":\"#50\",\"#8\":\"#9\",\"#10\":47720,\"#11\":917,\"#12\":\"#51\",\"#14\":\"h2\",\"#15\":0,\"#16\":0,\"#17\":0,\"#18\":47720,\"#19\":47720,\"#20\":47720,\"#21\":47720,\"#22\":47720,\"#23\":47720,\"#24\":48586,\"#25\":48636,\"#26\":48637,\"#27\":93536,\"#28\":93236,\"#29\":93236},{\"#6\":\"#52\",\"#8\":\"#9\",\"#10\":47808,\"#11\":1247,\"#12\":\"#51\",\"#14\":\"h2\",\"#15\":0,\"#16\":0,\"#17\":0,\"#18\":47808,\"#19\":47808,\"#20\":47808,\"#21\":48645,\"#22\":48996,\"#23\":48971,\"#24\":48998,\"#25\":49047,\"#26\":49055,\"#27\":976,\"#28\":676,\"#29\":676},{\"#6\":\"#53\",\"#8\":\"#9\",\"#10\":47808,\"#11\":1249,\"#12\":\"#51\",\"#14\":\"h2\",\"#15\":0,\"#16\":0,\"#17\":0,\"#18\":47808,\"#19\":47808,\"#20\":47808,\"#21\":47808,\"#22\":47808,\"#23\":47808,\"#24\":48998,\"#25\":49055,\"#26\":49058,\"#27\":69575,\"#28\":69275,\"#29\":69275},{\"#6\":\"#54\",\"#8\":\"#9\",\"#10\":47887,\"#11\":1234,\"#12\":\"#51\",\"#14\":\"h2\",\"#15\":0,\"#16\":0,\"#17\":0,\"#18\":47887,\"#19\":47887,\"#20\":47887,\"#21\":47887,\"#22\":47887,\"#23\":47887,\"#24\":49072,\"#25\":49119,\"#26\":49120,\"#27\":10458,\"#28\":10158,\"#29\":10158},{\"#6\":\"#55\",\"#8\":\"#9\",\"#10\":47921,\"#11\":460,\"#12\":\"#56\",\"#14\":\"h2\",\"#15\":0,\"#16\":0,\"#17\":0,\"#18\":47921,\"#19\":47921,\"#20\":47921,\"#21\":47922,\"#22\":48268,\"#23\":48253,\"#24\":48269,\"#25\":48379,\"#26\":48380,\"#27\":323,\"#28\":23,\"#29\":23},{\"#6\":\"#57\",\"#8\":\"#9\",\"#10\":48086,\"#11\":1132,\"#12\":\"#51\",\"#14\":\"h2\",\"#15\":0,\"#16\":0,\"#17\":0,\"#18\":48086,\"#19\":48086,\"#20\":48086,\"#21\":48086,\"#22\":48086,\"#23\":48086,\"#24\":49086,\"#25\":49212,\"#26\":49218,\"#27\":550708,\"#28\":550408,\"#29\":550408},{\"#6\":\"#58\",\"#8\":\"#9\",\"#10\":59942,\"#11\":26,\"#12\":\"css\",\"#14\":\"h2\",\"#15\":0,\"#16\":0,\"#17\":0,\"#18\":59942,\"#19\":59942,\"#20\":59942,\"#21\":59942,\"#22\":59942,\"#23\":59942,\"#24\":59944,\"#25\":59967,\"#26\":59968,\"#27\":1998,\"#28\":1698,\"#29\":1698}],\"#59\":\"csm\",\"#60\":\"#61\",\"#62\":\"2024-11-22T14:24:29.398Z\",\"#63\":\"QC01T4R0X1TWXYANAB7B-1732285469398-5433743769\",\"#64\":\"#65\",\"#66\":\"#67\",\"#68\":\"#69\"}},{\"data\":{\"#70\":\"#71\",\"#72\":{\"#73\":\"12\",\"#74\":\"#75\"},\"#59\":\"#76\",\"#60\":\"#77\",\"#62\":\"2024-11-22T14:24:33.993Z\",\"#63\":\"QC01T4R0X1TWXYANAB7B-1732285473993-5960892771\",\"#64\":\"#65\",\"#66\":\"#67\",\"#68\":\"#69\"}},{\"data\":{\"#70\":\"#71\",\"#72\":{\"#73\":\"101\",\"#74\":\"#78\"},\"#59\":\"#76\",\"#60\":\"#77\",\"#62\":\"2024-11-22T14:24:33.994Z\",\"#63\":\"QC01T4R0X1TWXYANAB7B-1732285473994-9633287690\",\"#64\":\"#65\",\"#66\":\"#67\",\"#68\":\"#69\"}}]}  \\\n",
       "0                                              -0.0553                                                                                                                                                                                                                                                                                                                                                                                                                                                                                                                                                                                                                                                                                                                                                                                                                                                                                                                                                                                                                                                                                                                                                                                                                                                                                                                                                                                                                                                                                                                                                                                                                                                                                                                                                                                                                                                                                                                                                                                                                                                                                                                                                                                                                                                                                                                                                                                                                                                                                                                                                                                                                                                                                                                                                                                                                                                                                                                                                                                                                                                                                                                                                                                                                                                                                                                                                                                                                                                                                                                                                                                                                                                                                                                                                                                                                                                                                                                                                                                                                                                                                                                                                                                                                                                                                                                                                                                                                                                                                                                                                                                                                                                                                                                                                                                                                                                                                                                                                                                                                                                                                                                                                                                                                                                                                                                                                                                                                                                                                                                                                                                                                                                                                                                                                                                                                                                                                                                                                                                                                                                                                                                                                                                                                                                                                                                                                                                                                                                                                                                                                                                                                                                                                                                                                                                                                                                                                                                                                                                                                                                                                                                                                                                                                                                                                                                                                                                                                                                                                                                                                                                                                                                                                                                                                                                                                                                                                                                                                                                                                                                                                                                                                                                                                                                                                                                                                                                                                                                                                                                                                                                                                                                                                                                                                                                                                                                                                                                                                                                                                                                                                                                                                                                                                                                                                                                                                                                                                                                                                                                                                                                                                                                                                                                                                                                                                                                                                                                                                                                                                                                                                                                                                                                                                                                                                                                                                                                                                                                                                                                                                                                                                                                                                                                                                                                                                                                                                                                                                                                                                                                                                                                                                                                                                                                                                                                                                                                                                                                                                                                                                                                                                                                                                                                                                                                                                                                                                                                                                                                                                                                                                                                                                                                                                                                                                                                                                                                                                                                                                                                                                                                                                                                                                                                                                                                                                                                                                                                                                                                                                                                                                                                                                                                                                                                                                                                                                                                                                                                                                                                                                                                                                                                                                                                                                                                                                                                                                                                                                                                                                                                                                                                                                                                                                                                                                                                                                                                                                                                                                                                                                                                                                                                                                                                                                                                                                                                                                                                                                                                                                                                                                                                                                                                                \n",
       "1                                              -0.0553                                                                                                                                                                                                                                                                                                                                                                                                                                                                                                                                                                                                                                                                                                                                                                                                                                                                                                                                                                                                                                                                                                                                                                                                                                                                                                                                                                                                                                                                                                                                                                                                                                                                                                                                                                                                                                                                                                                                                                                                                                                                                                                                                                                                                                                                                                                                                                                                                                                                                                                                                                                                                                                                                                                                                                                                                                                                                                                                                                                                                                                                                                                                                                                                                                                                                                                                                                                                                                                                                                                                                                                                                                                                                                                                                                                                                                                                                                                                                                                                                                                                                                                                                                                                                                                                                                                                                                                                                                                                                                                                                                                                                                                                                                                                                                                                                                                                                                                                                                                                                                                                                                                                                                                                                                                                                                                                                                                                                                                                                                                                                                                                                                                                                                                                                                                                                                                                                                                                                                                                                                                                                                                                                                                                                                                                                                                                                                                                                                                                                                                                                                                                                                                                                                                                                                                                                                                                                                                                                                                                                                                                                                                                                                                                                                                                                                                                                                                                                                                                                                                                                                                                                                                                                                                                                                                                                                                                                                                                                                                                                                                                                                                                                                                                                                                                                                                                                                                                                                                                                                                                                                                                                                                                                                                                                                                                                                                                                                                                                                                                                                                                                                                                                                                                                                                                                                                                                                                                                                                                                                                                                                                                                                                                                                                                                                                                                                                                                                                                                                                                                                                                                                                                                                                                                                                                                                                                                                                                                                                                                                                                                                                                                                                                                                                                                                                                                                                                                                                                                                                                                                                                                                                                                                                                                                                                                                                                                                                                                                                                                                                                                                                                                                                                                                                                                                                                                                                                                                                                                                                                                                                                                                                                                                                                                                                                                                                                                                                                                                                                                                                                                                                                                                                                                                                                                                                                                                                                                                                                                                                                                                                                                                                                                                                                                                                                                                                                                                                                                                                                                                                                                                                                                                                                                                                                                                                                                                                                                                                                                                                                                                                                                                                                                                                                                                                                                                                                                                                                                                                                                                                                                                                                                                                                                                                                                                                                                                                                                                                                                                                                                                                                                                                                                                                                \n",
       "2                                              -0.0553                                                                                                                                                                                                                                                                                                                                                                                                                                                                                                                                                                                                                                                                                                                                                                                                                                                                                                                                                                                                                                                                                                                                                                                                                                                                                                                                                                                                                                                                                                                                                                                                                                                                                                                                                                                                                                                                                                                                                                                                                                                                                                                                                                                                                                                                                                                                                                                                                                                                                                                                                                                                                                                                                                                                                                                                                                                                                                                                                                                                                                                                                                                                                                                                                                                                                                                                                                                                                                                                                                                                                                                                                                                                                                                                                                                                                                                                                                                                                                                                                                                                                                                                                                                                                                                                                                                                                                                                                                                                                                                                                                                                                                                                                                                                                                                                                                                                                                                                                                                                                                                                                                                                                                                                                                                                                                                                                                                                                                                                                                                                                                                                                                                                                                                                                                                                                                                                                                                                                                                                                                                                                                                                                                                                                                                                                                                                                                                                                                                                                                                                                                                                                                                                                                                                                                                                                                                                                                                                                                                                                                                                                                                                                                                                                                                                                                                                                                                                                                                                                                                                                                                                                                                                                                                                                                                                                                                                                                                                                                                                                                                                                                                                                                                                                                                                                                                                                                                                                                                                                                                                                                                                                                                                                                                                                                                                                                                                                                                                                                                                                                                                                                                                                                                                                                                                                                                                                                                                                                                                                                                                                                                                                                                                                                                                                                                                                                                                                                                                                                                                                                                                                                                                                                                                                                                                                                                                                                                                                                                                                                                                                                                                                                                                                                                                                                                                                                                                                                                                                                                                                                                                                                                                                                                                                                                                                                                                                                                                                                                                                                                                                                                                                                                                                                                                                                                                                                                                                                                                                                                                                                                                                                                                                                                                                                                                                                                                                                                                                                                                                                                                                                                                                                                                                                                                                                                                                                                                                                                                                                                                                                                                                                                                                                                                                                                                                                                                                                                                                                                                                                                                                                                                                                                                                                                                                                                                                                                                                                                                                                                                                                                                                                                                                                                                                                                                                                                                                                                                                                                                                                                                                                                                                                                                                                                                                                                                                                                                                                                                                                                                                                                                                                                                                                                                \n",
       "3                                              -0.0553                                                                                                                                                                                                                                                                                                                                                                                                                                                                                                                                                                                                                                                                                                                                                                                                                                                                                                                                                                                                                                                                                                                                                                                                                                                                                                                                                                                                                                                                                                                                                                                                                                                                                                                                                                                                                                                                                                                                                                                                                                                                                                                                                                                                                                                                                                                                                                                                                                                                                                                                                                                                                                                                                                                                                                                                                                                                                                                                                                                                                                                                                                                                                                                                                                                                                                                                                                                                                                                                                                                                                                                                                                                                                                                                                                                                                                                                                                                                                                                                                                                                                                                                                                                                                                                                                                                                                                                                                                                                                                                                                                                                                                                                                                                                                                                                                                                                                                                                                                                                                                                                                                                                                                                                                                                                                                                                                                                                                                                                                                                                                                                                                                                                                                                                                                                                                                                                                                                                                                                                                                                                                                                                                                                                                                                                                                                                                                                                                                                                                                                                                                                                                                                                                                                                                                                                                                                                                                                                                                                                                                                                                                                                                                                                                                                                                                                                                                                                                                                                                                                                                                                                                                                                                                                                                                                                                                                                                                                                                                                                                                                                                                                                                                                                                                                                                                                                                                                                                                                                                                                                                                                                                                                                                                                                                                                                                                                                                                                                                                                                                                                                                                                                                                                                                                                                                                                                                                                                                                                                                                                                                                                                                                                                                                                                                                                                                                                                                                                                                                                                                                                                                                                                                                                                                                                                                                                                                                                                                                                                                                                                                                                                                                                                                                                                                                                                                                                                                                                                                                                                                                                                                                                                                                                                                                                                                                                                                                                                                                                                                                                                                                                                                                                                                                                                                                                                                                                                                                                                                                                                                                                                                                                                                                                                                                                                                                                                                                                                                                                                                                                                                                                                                                                                                                                                                                                                                                                                                                                                                                                                                                                                                                                                                                                                                                                                                                                                                                                                                                                                                                                                                                                                                                                                                                                                                                                                                                                                                                                                                                                                                                                                                                                                                                                                                                                                                                                                                                                                                                                                                                                                                                                                                                                                                                                                                                                                                                                                                                                                                                                                                                                                                                                                                                                                \n",
       "4                                              -0.0553                                                                                                                                                                                                                                                                                                                                                                                                                                                                                                                                                                                                                                                                                                                                                                                                                                                                                                                                                                                                                                                                                                                                                                                                                                                                                                                                                                                                                                                                                                                                                                                                                                                                                                                                                                                                                                                                                                                                                                                                                                                                                                                                                                                                                                                                                                                                                                                                                                                                                                                                                                                                                                                                                                                                                                                                                                                                                                                                                                                                                                                                                                                                                                                                                                                                                                                                                                                                                                                                                                                                                                                                                                                                                                                                                                                                                                                                                                                                                                                                                                                                                                                                                                                                                                                                                                                                                                                                                                                                                                                                                                                                                                                                                                                                                                                                                                                                                                                                                                                                                                                                                                                                                                                                                                                                                                                                                                                                                                                                                                                                                                                                                                                                                                                                                                                                                                                                                                                                                                                                                                                                                                                                                                                                                                                                                                                                                                                                                                                                                                                                                                                                                                                                                                                                                                                                                                                                                                                                                                                                                                                                                                                                                                                                                                                                                                                                                                                                                                                                                                                                                                                                                                                                                                                                                                                                                                                                                                                                                                                                                                                                                                                                                                                                                                                                                                                                                                                                                                                                                                                                                                                                                                                                                                                                                                                                                                                                                                                                                                                                                                                                                                                                                                                                                                                                                                                                                                                                                                                                                                                                                                                                                                                                                                                                                                                                                                                                                                                                                                                                                                                                                                                                                                                                                                                                                                                                                                                                                                                                                                                                                                                                                                                                                                                                                                                                                                                                                                                                                                                                                                                                                                                                                                                                                                                                                                                                                                                                                                                                                                                                                                                                                                                                                                                                                                                                                                                                                                                                                                                                                                                                                                                                                                                                                                                                                                                                                                                                                                                                                                                                                                                                                                                                                                                                                                                                                                                                                                                                                                                                                                                                                                                                                                                                                                                                                                                                                                                                                                                                                                                                                                                                                                                                                                                                                                                                                                                                                                                                                                                                                                                                                                                                                                                                                                                                                                                                                                                                                                                                                                                                                                                                                                                                                                                                                                                                                                                                                                                                                                                                                                                                                                                                                                                                \n",
       "..                                                 ...                                                                                                                                                                                                                                                                                                                                                                                                                                                                                                                                                                                                                                                                                                                                                                                                                                                                                                                                                                                                                                                                                                                                                                                                                                                                                                                                                                                                                                                                                                                                                                                                                                                                                                                                                                                                                                                                                                                                                                                                                                                                                                                                                                                                                                                                                                                                                                                                                                                                                                                                                                                                                                                                                                                                                                                                                                                                                                                                                                                                                                                                                                                                                                                                                                                                                                                                                                                                                                                                                                                                                                                                                                                                                                                                                                                                                                                                                                                                                                                                                                                                                                                                                                                                                                                                                                                                                                                                                                                                                                                                                                                                                                                                                                                                                                                                                                                                                                                                                                                                                                                                                                                                                                                                                                                                                                                                                                                                                                                                                                                                                                                                                                                                                                                                                                                                                                                                                                                                                                                                                                                                                                                                                                                                                                                                                                                                                                                                                                                                                                                                                                                                                                                                                                                                                                                                                                                                                                                                                                                                                                                                                                                                                                                                                                                                                                                                                                                                                                                                                                                                                                                                                                                                                                                                                                                                                                                                                                                                                                                                                                                                                                                                                                                                                                                                                                                                                                                                                                                                                                                                                                                                                                                                                                                                                                                                                                                                                                                                                                                                                                                                                                                                                                                                                                                                                                                                                                                                                                                                                                                                                                                                                                                                                                                                                                                                                                                                                                                                                                                                                                                                                                                                                                                                                                                                                                                                                                                                                                                                                                                                                                                                                                                                                                                                                                                                                                                                                                                                                                                                                                                                                                                                                                                                                                                                                                                                                                                                                                                                                                                                                                                                                                                                                                                                                                                                                                                                                                                                                                                                                                                                                                                                                                                                                                                                                                                                                                                                                                                                                                                                                                                                                                                                                                                                                                                                                                                                                                                                                                                                                                                                                                                                                                                                                                                                                                                                                                                                                                                                                                                                                                                                                                                                                                                                                                                                                                                                                                                                                                                                                                                                                                                                                                                                                                                                                                                                                                                                                                                                                                                                                                                                                                                                                                                                                                                                                                                                                                                                                                                                                                                                                                                                                                                                \n",
       "319                                            -0.0553                                                                                                                                                                                                                                                                                                                                                                                                                                                                                                                                                                                                                                                                                                                                                                                                                                                                                                                                                                                                                                                                                                                                                                                                                                                                                                                                                                                                                                                                                                                                                                                                                                                                                                                                                                                                                                                                                                                                                                                                                                                                                                                                                                                                                                                                                                                                                                                                                                                                                                                                                                                                                                                                                                                                                                                                                                                                                                                                                                                                                                                                                                                                                                                                                                                                                                                                                                                                                                                                                                                                                                                                                                                                                                                                                                                                                                                                                                                                                                                                                                                                                                                                                                                                                                                                                                                                                                                                                                                                                                                                                                                                                                                                                                                                                                                                                                                                                                                                                                                                                                                                                                                                                                                                                                                                                                                                                                                                                                                                                                                                                                                                                                                                                                                                                                                                                                                                                                                                                                                                                                                                                                                                                                                                                                                                                                                                                                                                                                                                                                                                                                                                                                                                                                                                                                                                                                                                                                                                                                                                                                                                                                                                                                                                                                                                                                                                                                                                                                                                                                                                                                                                                                                                                                                                                                                                                                                                                                                                                                                                                                                                                                                                                                                                                                                                                                                                                                                                                                                                                                                                                                                                                                                                                                                                                                                                                                                                                                                                                                                                                                                                                                                                                                                                                                                                                                                                                                                                                                                                                                                                                                                                                                                                                                                                                                                                                                                                                                                                                                                                                                                                                                                                                                                                                                                                                                                                                                                                                                                                                                                                                                                                                                                                                                                                                                                                                                                                                                                                                                                                                                                                                                                                                                                                                                                                                                                                                                                                                                                                                                                                                                                                                                                                                                                                                                                                                                                                                                                                                                                                                                                                                                                                                                                                                                                                                                                                                                                                                                                                                                                                                                                                                                                                                                                                                                                                                                                                                                                                                                                                                                                                                                                                                                                                                                                                                                                                                                                                                                                                                                                                                                                                                                                                                                                                                                                                                                                                                                                                                                                                                                                                                                                                                                                                                                                                                                                                                                                                                                                                                                                                                                                                                                                                                                                                                                                                                                                                                                                                                                                                                                                                                                                                                                                                \n",
       "320                                            -0.0553                                                                                                                                                                                                                                                                                                                                                                                                                                                                                                                                                                                                                                                                                                                                                                                                                                                                                                                                                                                                                                                                                                                                                                                                                                                                                                                                                                                                                                                                                                                                                                                                                                                                                                                                                                                                                                                                                                                                                                                                                                                                                                                                                                                                                                                                                                                                                                                                                                                                                                                                                                                                                                                                                                                                                                                                                                                                                                                                                                                                                                                                                                                                                                                                                                                                                                                                                                                                                                                                                                                                                                                                                                                                                                                                                                                                                                                                                                                                                                                                                                                                                                                                                                                                                                                                                                                                                                                                                                                                                                                                                                                                                                                                                                                                                                                                                                                                                                                                                                                                                                                                                                                                                                                                                                                                                                                                                                                                                                                                                                                                                                                                                                                                                                                                                                                                                                                                                                                                                                                                                                                                                                                                                                                                                                                                                                                                                                                                                                                                                                                                                                                                                                                                                                                                                                                                                                                                                                                                                                                                                                                                                                                                                                                                                                                                                                                                                                                                                                                                                                                                                                                                                                                                                                                                                                                                                                                                                                                                                                                                                                                                                                                                                                                                                                                                                                                                                                                                                                                                                                                                                                                                                                                                                                                                                                                                                                                                                                                                                                                                                                                                                                                                                                                                                                                                                                                                                                                                                                                                                                                                                                                                                                                                                                                                                                                                                                                                                                                                                                                                                                                                                                                                                                                                                                                                                                                                                                                                                                                                                                                                                                                                                                                                                                                                                                                                                                                                                                                                                                                                                                                                                                                                                                                                                                                                                                                                                                                                                                                                                                                                                                                                                                                                                                                                                                                                                                                                                                                                                                                                                                                                                                                                                                                                                                                                                                                                                                                                                                                                                                                                                                                                                                                                                                                                                                                                                                                                                                                                                                                                                                                                                                                                                                                                                                                                                                                                                                                                                                                                                                                                                                                                                                                                                                                                                                                                                                                                                                                                                                                                                                                                                                                                                                                                                                                                                                                                                                                                                                                                                                                                                                                                                                                                                                                                                                                                                                                                                                                                                                                                                                                                                                                                                                                                \n",
       "321                                            -0.0553                                                                                                                                                                                                                                                                                                                                                                                                                                                                                                                                                                                                                                                                                                                                                                                                                                                                                                                                                                                                                                                                                                                                                                                                                                                                                                                                                                                                                                                                                                                                                                                                                                                                                                                                                                                                                                                                                                                                                                                                                                                                                                                                                                                                                                                                                                                                                                                                                                                                                                                                                                                                                                                                                                                                                                                                                                                                                                                                                                                                                                                                                                                                                                                                                                                                                                                                                                                                                                                                                                                                                                                                                                                                                                                                                                                                                                                                                                                                                                                                                                                                                                                                                                                                                                                                                                                                                                                                                                                                                                                                                                                                                                                                                                                                                                                                                                                                                                                                                                                                                                                                                                                                                                                                                                                                                                                                                                                                                                                                                                                                                                                                                                                                                                                                                                                                                                                                                                                                                                                                                                                                                                                                                                                                                                                                                                                                                                                                                                                                                                                                                                                                                                                                                                                                                                                                                                                                                                                                                                                                                                                                                                                                                                                                                                                                                                                                                                                                                                                                                                                                                                                                                                                                                                                                                                                                                                                                                                                                                                                                                                                                                                                                                                                                                                                                                                                                                                                                                                                                                                                                                                                                                                                                                                                                                                                                                                                                                                                                                                                                                                                                                                                                                                                                                                                                                                                                                                                                                                                                                                                                                                                                                                                                                                                                                                                                                                                                                                                                                                                                                                                                                                                                                                                                                                                                                                                                                                                                                                                                                                                                                                                                                                                                                                                                                                                                                                                                                                                                                                                                                                                                                                                                                                                                                                                                                                                                                                                                                                                                                                                                                                                                                                                                                                                                                                                                                                                                                                                                                                                                                                                                                                                                                                                                                                                                                                                                                                                                                                                                                                                                                                                                                                                                                                                                                                                                                                                                                                                                                                                                                                                                                                                                                                                                                                                                                                                                                                                                                                                                                                                                                                                                                                                                                                                                                                                                                                                                                                                                                                                                                                                                                                                                                                                                                                                                                                                                                                                                                                                                                                                                                                                                                                                                                                                                                                                                                                                                                                                                                                                                                                                                                                                                                                                                \n",
       "322                                            -0.0553                                                                                                                                                                                                                                                                                                                                                                                                                                                                                                                                                                                                                                                                                                                                                                                                                                                                                                                                                                                                                                                                                                                                                                                                                                                                                                                                                                                                                                                                                                                                                                                                                                                                                                                                                                                                                                                                                                                                                                                                                                                                                                                                                                                                                                                                                                                                                                                                                                                                                                                                                                                                                                                                                                                                                                                                                                                                                                                                                                                                                                                                                                                                                                                                                                                                                                                                                                                                                                                                                                                                                                                                                                                                                                                                                                                                                                                                                                                                                                                                                                                                                                                                                                                                                                                                                                                                                                                                                                                                                                                                                                                                                                                                                                                                                                                                                                                                                                                                                                                                                                                                                                                                                                                                                                                                                                                                                                                                                                                                                                                                                                                                                                                                                                                                                                                                                                                                                                                                                                                                                                                                                                                                                                                                                                                                                                                                                                                                                                                                                                                                                                                                                                                                                                                                                                                                                                                                                                                                                                                                                                                                                                                                                                                                                                                                                                                                                                                                                                                                                                                                                                                                                                                                                                                                                                                                                                                                                                                                                                                                                                                                                                                                                                                                                                                                                                                                                                                                                                                                                                                                                                                                                                                                                                                                                                                                                                                                                                                                                                                                                                                                                                                                                                                                                                                                                                                                                                                                                                                                                                                                                                                                                                                                                                                                                                                                                                                                                                                                                                                                                                                                                                                                                                                                                                                                                                                                                                                                                                                                                                                                                                                                                                                                                                                                                                                                                                                                                                                                                                                                                                                                                                                                                                                                                                                                                                                                                                                                                                                                                                                                                                                                                                                                                                                                                                                                                                                                                                                                                                                                                                                                                                                                                                                                                                                                                                                                                                                                                                                                                                                                                                                                                                                                                                                                                                                                                                                                                                                                                                                                                                                                                                                                                                                                                                                                                                                                                                                                                                                                                                                                                                                                                                                                                                                                                                                                                                                                                                                                                                                                                                                                                                                                                                                                                                                                                                                                                                                                                                                                                                                                                                                                                                                                                                                                                                                                                                                                                                                                                                                                                                                                                                                                                                                                \n",
       "323                                            -0.0553                                                                                                                                                                                                                                                                                                                                                                                                                                                                                                                                                                                                                                                                                                                                                                                                                                                                                                                                                                                                                                                                                                                                                                                                                                                                                                                                                                                                                                                                                                                                                                                                                                                                                                                                                                                                                                                                                                                                                                                                                                                                                                                                                                                                                                                                                                                                                                                                                                                                                                                                                                                                                                                                                                                                                                                                                                                                                                                                                                                                                                                                                                                                                                                                                                                                                                                                                                                                                                                                                                                                                                                                                                                                                                                                                                                                                                                                                                                                                                                                                                                                                                                                                                                                                                                                                                                                                                                                                                                                                                                                                                                                                                                                                                                                                                                                                                                                                                                                                                                                                                                                                                                                                                                                                                                                                                                                                                                                                                                                                                                                                                                                                                                                                                                                                                                                                                                                                                                                                                                                                                                                                                                                                                                                                                                                                                                                                                                                                                                                                                                                                                                                                                                                                                                                                                                                                                                                                                                                                                                                                                                                                                                                                                                                                                                                                                                                                                                                                                                                                                                                                                                                                                                                                                                                                                                                                                                                                                                                                                                                                                                                                                                                                                                                                                                                                                                                                                                                                                                                                                                                                                                                                                                                                                                                                                                                                                                                                                                                                                                                                                                                                                                                                                                                                                                                                                                                                                                                                                                                                                                                                                                                                                                                                                                                                                                                                                                                                                                                                                                                                                                                                                                                                                                                                                                                                                                                                                                                                                                                                                                                                                                                                                                                                                                                                                                                                                                                                                                                                                                                                                                                                                                                                                                                                                                                                                                                                                                                                                                                                                                                                                                                                                                                                                                                                                                                                                                                                                                                                                                                                                                                                                                                                                                                                                                                                                                                                                                                                                                                                                                                                                                                                                                                                                                                                                                                                                                                                                                                                                                                                                                                                                                                                                                                                                                                                                                                                                                                                                                                                                                                                                                                                                                                                                                                                                                                                                                                                                                                                                                                                                                                                                                                                                                                                                                                                                                                                                                                                                                                                                                                                                                                                                                                                                                                                                                                                                                                                                                                                                                                                                                                                                                                                                                                \n",
       "\n",
       "     ...  \\\n",
       "0    ...   \n",
       "1    ...   \n",
       "2    ...   \n",
       "3    ...   \n",
       "4    ...   \n",
       "..   ...   \n",
       "319  ...   \n",
       "320  ...   \n",
       "321  ...   \n",
       "322  ...   \n",
       "323  ...   \n",
       "\n",
       "     body_{\"referrer\":\"https://timesofindia.indiatimes.com/technology/tech-news/zepto-is-not-an-amazon-or-walmart-but-an-indian-company-with-zepto-ceo-aadit-palicha/articleshow/115540600.cms\",\"pageReferrer\":\"https://www.google.com/\",\"pageTitle\":\"Zepto CEO Aadit Palicha: Zepto is not an “Amazon or Walmart” but an Indian company with ... - Times of India\",\"pageDescription\":\"TECH NEWS : Zepto, India's fastest-growing quick-commerce startup, has secured $350 million from domestic investors. CEO Aadit Palicha aims to transition Zepto in\",\"networkBandwidth\":\"10\",\"timeToFirstByte\":\"9290\",\"data\":[{\"sizes\":[\"300x250\",\"250x250\"],\"bidId\":\"122aee91e81137c5\",\"bidderRequestId\":\"1216bfd554682f3c\",\"placementId\":182808,\"pageId\":167940,\"adUnitCode\":\"div-gpt-ad-1233713578908-b805e1b5-14a7-4a28-9322-bdab4b0ad08a-115540600-1\",\"transactionId\":\"52b597d3-6c5c-489e-afdc-88fcfc589ca5\",\"gpid\":\"/7176/TOI/TOI_Tech/TOI_Tech_BTF_INF_300\"}],\"deviceWidth\":1600,\"deviceHeight\":900,\"devicePixelRatio\":1,\"screenOrientation\":\"landscape-primary\",\"historyLength\":4,\"viewportHeight\":765,\"viewportWidth\":1583,\"hardwareConcurrency\":4,\"deviceMemory\":8,\"hb_version\":\"9.11.0\",\"publisherFirstPartyViewerId\":\"9b105281-63da-4fc4-a467-f85f19e64465\",\"userAgentClientHints\":{\"source\":1,\"platform\":{\"brand\":\"Windows\"},\"browsers\":[{\"brand\":\"Not?A_Brand\",\"version\":[\"99\"]},{\"brand\":\"Chromium\",\"version\":[\"130\"]}],\"mobile\":0}}  \\\n",
       "0                                              -0.0553                                                                                                                                                                                                                                                                                                                                                                                                                                                                                                                                                                                                                                                                                                                                                                                                                                                                                                                                                                                                                                                                                                                                                                                                                                                                                                                                                                                      \n",
       "1                                              -0.0553                                                                                                                                                                                                                                                                                                                                                                                                                                                                                                                                                                                                                                                                                                                                                                                                                                                                                                                                                                                                                                                                                                                                                                                                                                                                                                                                                                                      \n",
       "2                                              -0.0553                                                                                                                                                                                                                                                                                                                                                                                                                                                                                                                                                                                                                                                                                                                                                                                                                                                                                                                                                                                                                                                                                                                                                                                                                                                                                                                                                                                      \n",
       "3                                              -0.0553                                                                                                                                                                                                                                                                                                                                                                                                                                                                                                                                                                                                                                                                                                                                                                                                                                                                                                                                                                                                                                                                                                                                                                                                                                                                                                                                                                                      \n",
       "4                                              -0.0553                                                                                                                                                                                                                                                                                                                                                                                                                                                                                                                                                                                                                                                                                                                                                                                                                                                                                                                                                                                                                                                                                                                                                                                                                                                                                                                                                                                      \n",
       "..                                                 ...                                                                                                                                                                                                                                                                                                                                                                                                                                                                                                                                                                                                                                                                                                                                                                                                                                                                                                                                                                                                                                                                                                                                                                                                                                                                                                                                                                                      \n",
       "319                                            -0.0553                                                                                                                                                                                                                                                                                                                                                                                                                                                                                                                                                                                                                                                                                                                                                                                                                                                                                                                                                                                                                                                                                                                                                                                                                                                                                                                                                                                      \n",
       "320                                            -0.0553                                                                                                                                                                                                                                                                                                                                                                                                                                                                                                                                                                                                                                                                                                                                                                                                                                                                                                                                                                                                                                                                                                                                                                                                                                                                                                                                                                                      \n",
       "321                                            -0.0553                                                                                                                                                                                                                                                                                                                                                                                                                                                                                                                                                                                                                                                                                                                                                                                                                                                                                                                                                                                                                                                                                                                                                                                                                                                                                                                                                                                      \n",
       "322                                            -0.0553                                                                                                                                                                                                                                                                                                                                                                                                                                                                                                                                                                                                                                                                                                                                                                                                                                                                                                                                                                                                                                                                                                                                                                                                                                                                                                                                                                                      \n",
       "323                                            -0.0553                                                                                                                                                                                                                                                                                                                                                                                                                                                                                                                                                                                                                                                                                                                                                                                                                                                                                                                                                                                                                                                                                                                                                                                                                                                                                                                                                                                      \n",
       "\n",
       "     body_{\"referrer\":\"https://timesofindia.indiatimes.com/technology/tech-news/zepto-is-not-an-amazon-or-walmart-but-an-indian-company-with-zepto-ceo-aadit-palicha/articleshow/115540600.cms\",\"pageReferrer\":\"https://www.google.com/\",\"pageTitle\":\"Zepto CEO Aadit Palicha: Zepto is not an “Amazon or Walmart” but an Indian company with ... - Times of India\",\"pageDescription\":\"TECH NEWS : Zepto, India's fastest-growing quick-commerce startup, has secured $350 million from domestic investors. CEO Aadit Palicha aims to transition Zepto in\",\"networkBandwidth\":\"10\",\"timeToFirstByte\":\"9290\",\"data\":[{\"sizes\":[\"300x250\",\"250x250\"],\"bidId\":\"580ce0a9fdc21cf\",\"bidderRequestId\":\"5755110622d55d2\",\"placementId\":182808,\"pageId\":167940,\"adUnitCode\":\"div-gpt-ad-1533900544881-f4e49dbf-371a-46f0-aa22-a1e5fba8d406-115540600-1\",\"transactionId\":\"79fbf211-dcae-48ab-819f-dcbe912aedac\",\"gpid\":\"/7176/TOI/TOI_Tech/TOI_Tech_MTF_300\"}],\"deviceWidth\":1600,\"deviceHeight\":900,\"devicePixelRatio\":1,\"screenOrientation\":\"landscape-primary\",\"historyLength\":4,\"viewportHeight\":765,\"viewportWidth\":1583,\"hardwareConcurrency\":4,\"deviceMemory\":8,\"hb_version\":\"9.11.0\",\"publisherFirstPartyViewerId\":\"9b105281-63da-4fc4-a467-f85f19e64465\",\"userAgentClientHints\":{\"source\":1,\"platform\":{\"brand\":\"Windows\"},\"browsers\":[{\"brand\":\"Not?A_Brand\",\"version\":[\"99\"]},{\"brand\":\"Chromium\",\"version\":[\"130\"]}],\"mobile\":0}}  \\\n",
       "0                                              -0.0553                                                                                                                                                                                                                                                                                                                                                                                                                                                                                                                                                                                                                                                                                                                                                                                                                                                                                                                                                                                                                                                                                                                                                                                                                                                                                                                                                                                \n",
       "1                                              -0.0553                                                                                                                                                                                                                                                                                                                                                                                                                                                                                                                                                                                                                                                                                                                                                                                                                                                                                                                                                                                                                                                                                                                                                                                                                                                                                                                                                                                \n",
       "2                                              -0.0553                                                                                                                                                                                                                                                                                                                                                                                                                                                                                                                                                                                                                                                                                                                                                                                                                                                                                                                                                                                                                                                                                                                                                                                                                                                                                                                                                                                \n",
       "3                                              -0.0553                                                                                                                                                                                                                                                                                                                                                                                                                                                                                                                                                                                                                                                                                                                                                                                                                                                                                                                                                                                                                                                                                                                                                                                                                                                                                                                                                                                \n",
       "4                                              -0.0553                                                                                                                                                                                                                                                                                                                                                                                                                                                                                                                                                                                                                                                                                                                                                                                                                                                                                                                                                                                                                                                                                                                                                                                                                                                                                                                                                                                \n",
       "..                                                 ...                                                                                                                                                                                                                                                                                                                                                                                                                                                                                                                                                                                                                                                                                                                                                                                                                                                                                                                                                                                                                                                                                                                                                                                                                                                                                                                                                                                \n",
       "319                                            -0.0553                                                                                                                                                                                                                                                                                                                                                                                                                                                                                                                                                                                                                                                                                                                                                                                                                                                                                                                                                                                                                                                                                                                                                                                                                                                                                                                                                                                \n",
       "320                                            -0.0553                                                                                                                                                                                                                                                                                                                                                                                                                                                                                                                                                                                                                                                                                                                                                                                                                                                                                                                                                                                                                                                                                                                                                                                                                                                                                                                                                                                \n",
       "321                                            -0.0553                                                                                                                                                                                                                                                                                                                                                                                                                                                                                                                                                                                                                                                                                                                                                                                                                                                                                                                                                                                                                                                                                                                                                                                                                                                                                                                                                                                \n",
       "322                                            -0.0553                                                                                                                                                                                                                                                                                                                                                                                                                                                                                                                                                                                                                                                                                                                                                                                                                                                                                                                                                                                                                                                                                                                                                                                                                                                                                                                                                                                \n",
       "323                                            -0.0553                                                                                                                                                                                                                                                                                                                                                                                                                                                                                                                                                                                                                                                                                                                                                                                                                                                                                                                                                                                                                                                                                                                                                                                                                                                                                                                                                                                \n",
       "\n",
       "     body_[[1,null,null,null,null,null,null,null,null,null,[null,null,null,null,null,null,\"TE_20241120\",null,[[[\"Not?A_Brand\",\"99\"],[\"Chromium\",\"130\"]],0,\"Windows\",\"\",\"\",\"\",\"\"],[3,1,0,0,0]]],1871,[[\"1732285589724\",null,null,null,null,null,null,\"[\\\"\\\",null,null,null,null,null,null,null,null,null,null,null,null,null,null,\\\"\\\",null,null,null,null,null,null,null,null,null,null,null,null,null,null,null,null,null,null,null,null,null,null,null,null,null,null,null,null,null,null,null,null,null,\\\"en-GB\\\",null,null,null,null,null,null,null,null,null,null,null,null,null,null,null,null,null,null,null,null,null,null,null,null,null,null,null,null,null,null,null,null,null,null,null,null,null,null,null,null,null,null,null,null,null,null,null,null,null,null,null,null,null,null,null,null,null,null,null,null,null,[3,\\\"te\\\",\\\"DA643DAB-7C3C-4AB5-A121-2FBA33D6ACB9\\\"]]\",null,null,3,null,null,null,-19800,null,null,null,null,null,2]],\"1732285589725\"]  \\\n",
       "0                                              -0.0553                                                                                                                                                                                                                                                                                                                                                                                                                                                                                                                                                                                                                                                                                                                                                                                                                                                                                                                        \n",
       "1                                              -0.0553                                                                                                                                                                                                                                                                                                                                                                                                                                                                                                                                                                                                                                                                                                                                                                                                                                                                                                                        \n",
       "2                                              -0.0553                                                                                                                                                                                                                                                                                                                                                                                                                                                                                                                                                                                                                                                                                                                                                                                                                                                                                                                        \n",
       "3                                              -0.0553                                                                                                                                                                                                                                                                                                                                                                                                                                                                                                                                                                                                                                                                                                                                                                                                                                                                                                                        \n",
       "4                                              -0.0553                                                                                                                                                                                                                                                                                                                                                                                                                                                                                                                                                                                                                                                                                                                                                                                                                                                                                                                        \n",
       "..                                                 ...                                                                                                                                                                                                                                                                                                                                                                                                                                                                                                                                                                                                                                                                                                                                                                                                                                                                                                                        \n",
       "319                                            -0.0553                                                                                                                                                                                                                                                                                                                                                                                                                                                                                                                                                                                                                                                                                                                                                                                                                                                                                                                        \n",
       "320                                            -0.0553                                                                                                                                                                                                                                                                                                                                                                                                                                                                                                                                                                                                                                                                                                                                                                                                                                                                                                                        \n",
       "321                                            -0.0553                                                                                                                                                                                                                                                                                                                                                                                                                                                                                                                                                                                                                                                                                                                                                                                                                                                                                                                        \n",
       "322                                            -0.0553                                                                                                                                                                                                                                                                                                                                                                                                                                                                                                                                                                                                                                                                                                                                                                                                                                                                                                                        \n",
       "323                                            -0.0553                                                                                                                                                                                                                                                                                                                                                                                                                                                                                                                                                                                                                                                                                                                                                                                                                                                                                                                        \n",
       "\n",
       "     single_q  double_q    dashes    braces    spaces  badwords_count  \\\n",
       "0   -0.111111 -0.140111 -0.055300 -0.242671 -0.228463       -0.442472   \n",
       "1   -0.111111 -0.140111 -0.055300 -0.242671 -0.228463       -0.442472   \n",
       "2   -0.111111 -0.140111 -0.055300 -0.242671 -0.228463       -0.442472   \n",
       "3   -0.111111 -0.140111 -0.055300 -0.242671 -0.228463       -0.442472   \n",
       "4   -0.111111 -0.140111 -0.055300 -0.242671 -0.228463       -0.442472   \n",
       "..        ...       ...       ...       ...       ...             ...   \n",
       "319 -0.111111  0.748057  9.013921  4.948370  0.597484       -0.442472   \n",
       "320 -0.111111  0.748057  9.013921  4.948370  0.597484       -0.442472   \n",
       "321 -0.111111  0.626251  9.013921  4.948370  0.897829       -0.442472   \n",
       "322 -0.111111 -0.140111 -0.055300 -0.242671 -0.228463       -0.442472   \n",
       "323 -0.111111 -0.140111 -0.055300 -0.242671 -0.228463       -0.442472   \n",
       "\n",
       "       Cluster  \n",
       "0    Cluster 1  \n",
       "1    Cluster 1  \n",
       "2    Cluster 1  \n",
       "3    Cluster 1  \n",
       "4    Cluster 1  \n",
       "..         ...  \n",
       "319  Cluster 1  \n",
       "320  Cluster 1  \n",
       "321  Cluster 1  \n",
       "322  Cluster 1  \n",
       "323  Cluster 1  \n",
       "\n",
       "[324 rows x 71 columns]"
      ]
     },
     "execution_count": 22,
     "metadata": {},
     "output_type": "execute_result"
    }
   ],
   "source": [
    "test_result = predict_model(kmeans, data = test_http)\n",
    "test_result"
   ]
  },
  {
   "cell_type": "code",
   "execution_count": 23,
   "id": "0baaab6c",
   "metadata": {},
   "outputs": [],
   "source": [
    "test_result.to_csv(r'C:\\Users\\HP\\Desktop\\Web-App-Firewall\\test_result.csv')"
   ]
  }
 ],
 "metadata": {
  "kernelspec": {
   "display_name": "Python 3",
   "language": "python",
   "name": "python3"
  },
  "language_info": {
   "codemirror_mode": {
    "name": "ipython",
    "version": 3
   },
   "file_extension": ".py",
   "mimetype": "text/x-python",
   "name": "python",
   "nbconvert_exporter": "python",
   "pygments_lexer": "ipython3",
   "version": "3.11.5"
  }
 },
 "nbformat": 4,
 "nbformat_minor": 5
}
